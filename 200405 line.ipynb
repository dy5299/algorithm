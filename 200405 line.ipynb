{
 "cells": [
  {
   "cell_type": "markdown",
   "metadata": {},
   "source": [
    "# 1. 괄호"
   ]
  },
  {
   "cell_type": "code",
   "execution_count": 31,
   "metadata": {},
   "outputs": [
    {
     "ename": "IndexError",
     "evalue": "list assignment index out of range",
     "output_type": "error",
     "traceback": [
      "\u001b[1;31m---------------------------------------------------------------------------\u001b[0m",
      "\u001b[1;31mIndexError\u001b[0m                                Traceback (most recent call last)",
      "\u001b[1;32m<ipython-input-31-55de07e3ff41>\u001b[0m in \u001b[0;36m<module>\u001b[1;34m\u001b[0m\n\u001b[0;32m     15\u001b[0m         \u001b[1;32mif\u001b[0m \u001b[0mstr\u001b[0m \u001b[1;32min\u001b[0m \u001b[1;33m(\u001b[0m\u001b[0maset\u001b[0m\u001b[1;33m|\u001b[0m\u001b[0mbset\u001b[0m\u001b[1;33m)\u001b[0m\u001b[1;33m:\u001b[0m\u001b[1;32mreturn\u001b[0m \u001b[1;33m-\u001b[0m\u001b[1;36m1\u001b[0m\u001b[1;33m\u001b[0m\u001b[1;33m\u001b[0m\u001b[0m\n\u001b[0;32m     16\u001b[0m     \u001b[1;32mreturn\u001b[0m \u001b[0manswer\u001b[0m\u001b[1;33m\u001b[0m\u001b[1;33m\u001b[0m\u001b[0m\n\u001b[1;32m---> 17\u001b[1;33m \u001b[0msolution\u001b[0m\u001b[1;33m(\u001b[0m\u001b[1;34m\"if (Count of eggs is 4.) {Buy milk.}\"\u001b[0m\u001b[1;33m)\u001b[0m\u001b[1;33m\u001b[0m\u001b[1;33m\u001b[0m\u001b[0m\n\u001b[0m",
      "\u001b[1;32m<ipython-input-31-55de07e3ff41>\u001b[0m in \u001b[0;36msolution\u001b[1;34m(inputString)\u001b[0m\n\u001b[0;32m      9\u001b[0m                 \u001b[1;32mif\u001b[0m \u001b[0mstr2\u001b[0m \u001b[1;32min\u001b[0m \u001b[0mbset\u001b[0m\u001b[1;33m:\u001b[0m\u001b[1;33m\u001b[0m\u001b[1;33m\u001b[0m\u001b[0m\n\u001b[0;32m     10\u001b[0m                     \u001b[1;32mdel\u001b[0m\u001b[1;33m(\u001b[0m\u001b[0ml\u001b[0m\u001b[1;33m[\u001b[0m\u001b[0midx\u001b[0m\u001b[1;33m]\u001b[0m\u001b[1;33m)\u001b[0m\u001b[1;33m\u001b[0m\u001b[1;33m\u001b[0m\u001b[0m\n\u001b[1;32m---> 11\u001b[1;33m                     \u001b[1;32mdel\u001b[0m\u001b[1;33m(\u001b[0m\u001b[0ml\u001b[0m\u001b[1;33m[\u001b[0m\u001b[0midx\u001b[0m\u001b[1;33m+\u001b[0m\u001b[0midx2\u001b[0m\u001b[1;33m]\u001b[0m\u001b[1;33m)\u001b[0m\u001b[1;33m\u001b[0m\u001b[1;33m\u001b[0m\u001b[0m\n\u001b[0m\u001b[0;32m     12\u001b[0m                     \u001b[0manswer\u001b[0m\u001b[1;33m+=\u001b[0m\u001b[1;36m1\u001b[0m\u001b[1;33m\u001b[0m\u001b[1;33m\u001b[0m\u001b[0m\n\u001b[0;32m     13\u001b[0m     \u001b[0mprint\u001b[0m\u001b[1;33m(\u001b[0m\u001b[0ml\u001b[0m\u001b[1;33m)\u001b[0m\u001b[1;33m\u001b[0m\u001b[1;33m\u001b[0m\u001b[0m\n",
      "\u001b[1;31mIndexError\u001b[0m: list assignment index out of range"
     ]
    }
   ],
   "source": [
    "def solution(inputString):\n",
    "    l=list(inputString)\n",
    "    answer=0\n",
    "    aset=set([\"(\",\"{\",\"[\",\"<\"])\n",
    "    bset=set([\">\",\"]\",\"}\",\")\"])\n",
    "    for idx, str in enumerate(l):\n",
    "        if str in aset:\n",
    "            for idx2, str2 in enumerate(l[idx:]):\n",
    "                if str2 in bset:\n",
    "                    del(l[idx+idx2])\n",
    "                    del(l[idx])\n",
    "                    answer+=1\n",
    "    print(l)\n",
    "    for str in l:\n",
    "        if str in (aset|bset):return -1\n",
    "    return answer\n",
    "solution(\"if (Count of eggs is 4.) {Buy milk.}\")"
   ]
  },
  {
   "cell_type": "code",
   "execution_count": 13,
   "metadata": {},
   "outputs": [
    {
     "name": "stdout",
     "output_type": "stream",
     "text": [
      "['>', '_', '<']\n",
      "0\n"
     ]
    }
   ],
   "source": [
    "inputString=\">_<\"\n",
    "\n",
    "print(l)\n",
    "print(i)"
   ]
  },
  {
   "cell_type": "code",
   "execution_count": 2,
   "metadata": {},
   "outputs": [
    {
     "data": {
      "text/plain": [
       "{'(', '<', '[', '{'}"
      ]
     },
     "execution_count": 2,
     "metadata": {},
     "output_type": "execute_result"
    }
   ],
   "source": [
    "aset=set([\"(\",\"{\",\"[\",\"<\"])\n",
    "bset=set([\">\",\"]\",\"}\",\")\"])\n",
    "aset"
   ]
  },
  {
   "cell_type": "code",
   "execution_count": 7,
   "metadata": {},
   "outputs": [
    {
     "data": {
      "text/plain": [
       "['l', 'i', 'n', 'e', ' ', 'p', 'l', 'u', 's', ']']"
      ]
     },
     "execution_count": 7,
     "metadata": {},
     "output_type": "execute_result"
    }
   ],
   "source": [
    "l=list(inputString)\n",
    "del(l[5])\n",
    "l"
   ]
  },
  {
   "cell_type": "code",
   "execution_count": 20,
   "metadata": {},
   "outputs": [
    {
     "data": {
      "text/plain": [
       "{'(', ')', '<', '>', '[', ']', '{', '}'}"
      ]
     },
     "execution_count": 20,
     "metadata": {},
     "output_type": "execute_result"
    }
   ],
   "source": [
    "(aset|bset)"
   ]
  },
  {
   "cell_type": "code",
   "execution_count": 37,
   "metadata": {},
   "outputs": [
    {
     "data": {
      "text/plain": [
       "-1"
      ]
     },
     "execution_count": 37,
     "metadata": {},
     "output_type": "execute_result"
    }
   ],
   "source": [
    "def solution(inputString):\n",
    "    l=list(inputString)\n",
    "    answer=0\n",
    "    temp=0\n",
    "    \n",
    "    aset=set([\"(\",\"{\",\"[\",\"<\"])\n",
    "    bset=set([\">\",\"]\",\"}\",\")\"])\n",
    "    \n",
    "    for idx, str in enumerate(l):\n",
    "        if str in aset:temp+=1\n",
    "        if str in bset:\n",
    "            temp-=1\n",
    "            answer+=1\n",
    "        if temp<0:return -1\n",
    "    return answer\n",
    "solution(\">_<\")"
   ]
  },
  {
   "cell_type": "markdown",
   "metadata": {},
   "source": [
    "# 4. 잔고"
   ]
  },
  {
   "cell_type": "code",
   "execution_count": 192,
   "metadata": {},
   "outputs": [
    {
     "data": {
      "text/plain": [
       "[['ACCOUNT1', '50'], ['ACCOUNT2', '220'], ['ACCOUNT3', '500']]"
      ]
     },
     "execution_count": 192,
     "metadata": {},
     "output_type": "execute_result"
    }
   ],
   "source": [
    "import pandas as pd\n",
    "import numpy as np\n",
    "\n",
    "def solution(snapshots, transactions):\n",
    "    snap = pd.DataFrame(snapshots, columns=['acc','cash'])\n",
    "    trans = pd.DataFrame(transactions, columns=['id','sw','acc','cash'])\n",
    "    trans=trans.drop_duplicates()\n",
    "    snap['cash'] = snap['cash'].apply(pd.to_numeric)\n",
    "    trans[['cash','id']] = trans[['cash','id']].apply(pd.to_numeric)\n",
    "    \n",
    "    for idx,row in trans.iterrows():\n",
    "        if len(snap.loc[snap['acc']==row['acc']]) > 0:\n",
    "            if row['sw']==\"SAVE\" :\n",
    "                snap.loc[snap['acc']==row['acc'],'cash'] += row['cash']\n",
    "            else:\n",
    "                snap.loc[snap['acc']==row['acc'],'cash'] -= row['cash']\n",
    "        else:\n",
    "            snap.loc[len(snap)] = [  row['acc'], row['cash']  ]\n",
    "    snap=snap.sort_values(by='acc')\n",
    "    snap.cash = snap.cash.astype('str')\n",
    "    answer = snap.values.tolist()\n",
    "    return answer\n",
    "\n",
    "\n",
    "solution([\n",
    "  [\"ACCOUNT1\", \"100\"], \n",
    "  [\"ACCOUNT2\", \"150\"]\n",
    "], [\n",
    "  [\"1\", \"SAVE\", \"ACCOUNT2\", \"100\"],\n",
    "  [\"2\", \"WITHDRAW\", \"ACCOUNT1\", \"50\"], \n",
    "  [\"1\", \"SAVE\", \"ACCOUNT2\", \"100\"], \n",
    "  [\"4\", \"SAVE\", \"ACCOUNT3\", \"500\"], \n",
    "  [\"3\", \"WITHDRAW\", \"ACCOUNT2\", \"30\"]\n",
    "])"
   ]
  },
  {
   "cell_type": "code",
   "execution_count": 176,
   "metadata": {
    "scrolled": true
   },
   "outputs": [
    {
     "name": "stdout",
     "output_type": "stream",
     "text": [
      "        acc  cash\n",
      "0  ACCOUNT1   100\n",
      "1  ACCOUNT2   150\n",
      "   id        sw       acc  cash\n",
      "0   1      SAVE  ACCOUNT2   100\n",
      "1   2  WITHDRAW  ACCOUNT1    50\n",
      "3   4      SAVE  ACCOUNT3   500\n",
      "4   3  WITHDRAW  ACCOUNT2    30\n"
     ]
    }
   ],
   "source": [
    "import pandas as pd\n",
    "\n",
    "\n",
    "snapshots=[\n",
    "  [\"ACCOUNT1\", \"100\"], \n",
    "  [\"ACCOUNT2\", \"150\"]\n",
    "]\n",
    "\n",
    "transactions=[\n",
    "  [\"1\", \"SAVE\", \"ACCOUNT2\", \"100\"],\n",
    "  [\"2\", \"WITHDRAW\", \"ACCOUNT1\", \"50\"], \n",
    "  [\"1\", \"SAVE\", \"ACCOUNT2\", \"100\"], \n",
    "  [\"4\", \"SAVE\", \"ACCOUNT3\", \"500\"], \n",
    "  [\"3\", \"WITHDRAW\", \"ACCOUNT2\", \"30\"]\n",
    "]\n",
    "\n",
    "snap = pd.DataFrame(snapshots, columns=['acc','cash'])\n",
    "trans = pd.DataFrame(transactions, columns=['id','sw','acc','cash'])\n",
    "trans=trans.drop_duplicates()\n",
    "#.sort_values(by=['id'])\n",
    "#snap['cash'] = pd.to_numeric(snap['cash'])\n",
    "#trans['cash'] = pd.to_numeric(trans['cash'])\n",
    "snap['cash'] = snap['cash'].apply(pd.to_numeric)\n",
    "trans[['cash','id']] = trans[['cash','id']].apply(pd.to_numeric)\n",
    "#snapshots['account']\n",
    "\n",
    "print(snap)\n",
    "print(trans)"
   ]
  },
  {
   "cell_type": "code",
   "execution_count": 155,
   "metadata": {},
   "outputs": [
    {
     "data": {
      "text/html": [
       "<div>\n",
       "<style scoped>\n",
       "    .dataframe tbody tr th:only-of-type {\n",
       "        vertical-align: middle;\n",
       "    }\n",
       "\n",
       "    .dataframe tbody tr th {\n",
       "        vertical-align: top;\n",
       "    }\n",
       "\n",
       "    .dataframe thead th {\n",
       "        text-align: right;\n",
       "    }\n",
       "</style>\n",
       "<table border=\"1\" class=\"dataframe\">\n",
       "  <thead>\n",
       "    <tr style=\"text-align: right;\">\n",
       "      <th></th>\n",
       "      <th>cash</th>\n",
       "    </tr>\n",
       "    <tr>\n",
       "      <th>acc</th>\n",
       "      <th></th>\n",
       "    </tr>\n",
       "  </thead>\n",
       "  <tbody>\n",
       "    <tr>\n",
       "      <td>ACCOUNT1</td>\n",
       "      <td>100</td>\n",
       "    </tr>\n",
       "    <tr>\n",
       "      <td>ACCOUNT2</td>\n",
       "      <td>150</td>\n",
       "    </tr>\n",
       "  </tbody>\n",
       "</table>\n",
       "</div>"
      ],
      "text/plain": [
       "          cash\n",
       "acc           \n",
       "ACCOUNT1   100\n",
       "ACCOUNT2   150"
      ]
     },
     "execution_count": 155,
     "metadata": {},
     "output_type": "execute_result"
    }
   ],
   "source": [
    "snap.set_index('acc')"
   ]
  },
  {
   "cell_type": "code",
   "execution_count": 179,
   "metadata": {
    "scrolled": true
   },
   "outputs": [
    {
     "name": "stdout",
     "output_type": "stream",
     "text": [
      "[['ACCOUNT1', -50], ['ACCOUNT2', 360], ['ACCOUNT3', 1500]]\n"
     ]
    }
   ],
   "source": [
    "#SUCCESS\n",
    "for idx,row in trans.iterrows():\n",
    "    if len(snap.loc[snap['acc']==row['acc']]) > 0:\n",
    "        if row['sw']==\"SAVE\" :\n",
    "            snap.loc[snap['acc']==row['acc'],'cash'] += row['cash']\n",
    "        else:\n",
    "            snap.loc[snap['acc']==row['acc'],'cash'] -= row['cash']\n",
    "    else:\n",
    "        snap.loc[len(snap)] = [  row['acc'], row['cash']  ]\n",
    "snap=snap.sort_values(by='acc')\n",
    "snap_list = snap.values.tolist()\n",
    "print(snap_list)"
   ]
  },
  {
   "cell_type": "code",
   "execution_count": 107,
   "metadata": {},
   "outputs": [
    {
     "data": {
      "text/html": [
       "<div>\n",
       "<style scoped>\n",
       "    .dataframe tbody tr th:only-of-type {\n",
       "        vertical-align: middle;\n",
       "    }\n",
       "\n",
       "    .dataframe tbody tr th {\n",
       "        vertical-align: top;\n",
       "    }\n",
       "\n",
       "    .dataframe thead th {\n",
       "        text-align: right;\n",
       "    }\n",
       "</style>\n",
       "<table border=\"1\" class=\"dataframe\">\n",
       "  <thead>\n",
       "    <tr style=\"text-align: right;\">\n",
       "      <th></th>\n",
       "      <th>acc</th>\n",
       "      <th>cash</th>\n",
       "    </tr>\n",
       "  </thead>\n",
       "  <tbody>\n",
       "    <tr>\n",
       "      <td>0</td>\n",
       "      <td>ACCOUNT1</td>\n",
       "      <td>100</td>\n",
       "    </tr>\n",
       "  </tbody>\n",
       "</table>\n",
       "</div>"
      ],
      "text/plain": [
       "        acc  cash\n",
       "0  ACCOUNT1   100"
      ]
     },
     "execution_count": 107,
     "metadata": {},
     "output_type": "execute_result"
    }
   ],
   "source": [
    "snap[snap['acc']==\"ACCOUNT1\"]"
   ]
  },
  {
   "cell_type": "code",
   "execution_count": 117,
   "metadata": {},
   "outputs": [
    {
     "data": {
      "text/plain": [
       "0    100\n",
       "Name: cash, dtype: int64"
      ]
     },
     "execution_count": 117,
     "metadata": {},
     "output_type": "execute_result"
    }
   ],
   "source": [
    "snap[snap['acc']==\"ACCOUNT1\"]['cash']"
   ]
  },
  {
   "cell_type": "code",
   "execution_count": 137,
   "metadata": {},
   "outputs": [
    {
     "name": "stdout",
     "output_type": "stream",
     "text": [
      "0    20\n",
      "Name: cash, dtype: int64\n"
     ]
    }
   ],
   "source": [
    "snap.loc[snap['acc']==\"ACCOUNT1\",'cash'] += 10\n",
    "print(snap.loc[snap['acc']==\"ACCOUNT1\"]['cash'])"
   ]
  },
  {
   "cell_type": "code",
   "execution_count": null,
   "metadata": {},
   "outputs": [],
   "source": [
    "snap['cash'] = snap['cash']."
   ]
  },
  {
   "cell_type": "markdown",
   "metadata": {},
   "source": [
    "# 5. 태그"
   ]
  },
  {
   "cell_type": "code",
   "execution_count": 216,
   "metadata": {},
   "outputs": [
    {
     "name": "stdout",
     "output_type": "stream",
     "text": [
      "['doc1', 'doc2', 'doc4', 'doc3']\n"
     ]
    }
   ],
   "source": [
    "def solution(dataSource, tags):\n",
    "    \n",
    "    new=[[b[0]]+list(set(tags).intersection(b)) for b in dataSource]\n",
    "#    for count, elem in sorted(  (mylist.count(e), e) for e in set(mylist), reverse=True):\n",
    "    new=sorted(new, key=len, reverse=True)\n",
    "    \n",
    "    answer = [n[0] for n in new if len(n)>1]\n",
    "    return answer[:10]\n",
    "print(solution([\n",
    "    [\"doc1\", \"t1\", \"t2\", \"t3\"],\n",
    "    [\"doc2\", \"t0\", \"t2\", \"t3\"],\n",
    "    [\"doc3\", \"t1\", \"t6\", \"t7\"],\n",
    "    [\"doc4\", \"t1\", \"t2\", \"t4\"],\n",
    "    [\"doc5\", \"t6\", \"t100\", \"t8\"]\n",
    "],[\"t1\", \"t2\", \"t3\"]))"
   ]
  },
  {
   "cell_type": "markdown",
   "metadata": {},
   "source": [
    "---"
   ]
  },
  {
   "cell_type": "markdown",
   "metadata": {},
   "source": [
    "# 2. 객관식"
   ]
  },
  {
   "cell_type": "code",
   "execution_count": 1,
   "metadata": {},
   "outputs": [
    {
     "name": "stdout",
     "output_type": "stream",
     "text": [
      "2\n",
      "3\n",
      "6\n",
      "7\n",
      "10\n",
      "11\n",
      "12\n",
      "15\n",
      "16\n",
      "17\n",
      "21\n",
      "22\n",
      "30\n",
      "[[2, 3], [6, 7], [10, 11, 12], [15, 16, 17], [21, 22], [30]]\n"
     ]
    }
   ],
   "source": [
    "#연속된 숫자 뭉치\n",
    "queue = [2,3, 6, 7, 10, 11, 12, 15, 16, 17, 21, 22, 30]\n",
    "\n",
    "packet = []\n",
    "tmp = []\n",
    "v = queue.pop(0)\n",
    "tmp.append(v)\n",
    "print(v)\n",
    "while(len(queue)>0):\n",
    "    vv = queue.pop(0)\n",
    "    print(vv)\n",
    "    if v+1 == vv:\n",
    "        tmp.append(vv)\n",
    "        v = vv\n",
    "    else:\n",
    "        packet.append(tmp)\n",
    "        tmp = []\n",
    "        tmp.append(vv)\n",
    "        v = vv\n",
    "\n",
    "packet.append(tmp)\n",
    "\n",
    "print(packet)"
   ]
  },
  {
   "cell_type": "code",
   "execution_count": 113,
   "metadata": {},
   "outputs": [
    {
     "name": "stdout",
     "output_type": "stream",
     "text": [
      "['5', '3', '5', '3', '3']\n",
      "5 번이 몇개?\n"
     ]
    },
    {
     "data": {
      "text/plain": [
       "2"
      ]
     },
     "execution_count": 113,
     "metadata": {},
     "output_type": "execute_result"
    }
   ],
   "source": [
    "#성공\n",
    "i=4\n",
    "blist=[sheet[i] for sheet in sheets]\n",
    "\n",
    "ans=answer_sheet[i]\n",
    "print(blist)\n",
    "print(max([b for b in blist if b != ans]),'번이 몇개?')\n",
    "blist.count(max([b for b in blist if b != ans]))"
   ]
  },
  {
   "cell_type": "code",
   "execution_count": 117,
   "metadata": {},
   "outputs": [
    {
     "data": {
      "text/plain": [
       "['5', 0, '5', 0, 0]"
      ]
     },
     "execution_count": 117,
     "metadata": {},
     "output_type": "execute_result"
    }
   ],
   "source": [
    "[b if b != ans else 0 for b in blist]"
   ]
  },
  {
   "cell_type": "code",
   "execution_count": 136,
   "metadata": {},
   "outputs": [
    {
     "name": "stdout",
     "output_type": "stream",
     "text": [
      "[[3. 2. 4. 1. 5. 2. 3. 0. 3. 3.]\n",
      " [0. 0. 2. 1. 0. 0. 4. 4. 0. 5.]\n",
      " [3. 2. 4. 3. 5. 2. 3. 0. 3. 3.]\n",
      " [0. 4. 0. 3. 0. 2. 0. 2. 5. 1.]\n",
      " [2. 4. 1. 0. 0. 0. 3. 2. 5. 3.]]\n",
      "8\n"
     ]
    }
   ],
   "source": [
    "# n 구하기까지 성공\n",
    "\n",
    "import numpy as np\n",
    "from collections import Counter\n",
    "\n",
    "answer_sheet = \"4132315142\"\n",
    "sheets = [\"3241523133\",\"4121314445\",\"3243523133\",\"4433325251\",\"2412313253\"]\n",
    "n=nmax=0\n",
    "mrx=np.zeros((len(sheets),len(answer_sheet)))\n",
    "\n",
    "for i in range(len(answer_sheet)):  # i번째 문제\n",
    "    blist=[sheet[i] for sheet in sheets]\n",
    "    mrx[:,i] = [b if b != answer_sheet[i] else 0 for b in blist]\n",
    "    \n",
    "    mode=Counter(mrx[:,i]).most_common()\n",
    "    if mode[0][1] >= 2 and mode[0][0] != 0: n+=1 # 중복되는 오답이 있으면\n",
    "    \n",
    "\n",
    "print(mrx)\n",
    "print(n) # 총 의심문항의 수"
   ]
  },
  {
   "cell_type": "code",
   "execution_count": null,
   "metadata": {},
   "outputs": [],
   "source": [
    "for i in range(len(mrx[0])) : # i번째 문제\n",
    "    for j in range(len(mrx))-[j] : # j번째 사람\n",
    "        mrx[]"
   ]
  },
  {
   "cell_type": "code",
   "execution_count": 145,
   "metadata": {},
   "outputs": [
    {
     "name": "stdout",
     "output_type": "stream",
     "text": [
      "[0, 1, 2]\n"
     ]
    }
   ],
   "source": [
    "print(list(range(3)).remove(1))"
   ]
  },
  {
   "cell_type": "markdown",
   "metadata": {},
   "source": [
    "# 3. 도로"
   ]
  },
  {
   "cell_type": "code",
   "execution_count": null,
   "metadata": {},
   "outputs": [],
   "source": [
    "def solution(road, n):\n",
    "    answer = -1\n",
    "    return answer"
   ]
  },
  {
   "cell_type": "code",
   "execution_count": null,
   "metadata": {},
   "outputs": [],
   "source": [
    "road=\"111011110011111011111100011111\n",
    "n=3\n",
    "m=0\n",
    "\n",
    "for r in road:\n",
    "    if r==0:\n",
    "        r=1\n",
    "        m+=1\n",
    "\n",
    "if m<=n:\n",
    "    result=len(road)\n",
    "    "
   ]
  },
  {
   "cell_type": "code",
   "execution_count": null,
   "metadata": {},
   "outputs": [],
   "source": []
  }
 ],
 "metadata": {
  "kernelspec": {
   "display_name": "Python 3",
   "language": "python",
   "name": "python3"
  },
  "language_info": {
   "codemirror_mode": {
    "name": "ipython",
    "version": 3
   },
   "file_extension": ".py",
   "mimetype": "text/x-python",
   "name": "python",
   "nbconvert_exporter": "python",
   "pygments_lexer": "ipython3",
   "version": "3.6.10"
  }
 },
 "nbformat": 4,
 "nbformat_minor": 2
}
