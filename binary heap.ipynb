{
 "cells": [
  {
   "cell_type": "code",
   "execution_count": 1,
   "metadata": {},
   "outputs": [],
   "source": [
    "class Heap:\n",
    "    def __init__(self, data):\n",
    "        self.heap_array = list()\n",
    "        self.heap_array.append(data)"
   ]
  },
  {
   "cell_type": "code",
   "execution_count": 2,
   "metadata": {},
   "outputs": [
    {
     "data": {
      "text/plain": [
       "[1]"
      ]
     },
     "execution_count": 2,
     "metadata": {},
     "output_type": "execute_result"
    }
   ],
   "source": [
    "heap = Heap(1)\n",
    "heap.heap_array"
   ]
  },
  {
   "cell_type": "markdown",
   "metadata": {},
   "source": [
    "#### 인덱스 번호는 1번부터 시작하도록 변경"
   ]
  },
  {
   "cell_type": "code",
   "execution_count": 7,
   "metadata": {},
   "outputs": [],
   "source": [
    "class Heap:\n",
    "    def __init__(self, data):\n",
    "        self.heap_array = list()\n",
    "        self.heap_array.append(None) # 인덱스 번호는 1번부터\n",
    "        self.heap_array.append(data)\n",
    "\n",
    "    def insert(self, data):\n",
    "        if len(self.heap_array) == 1:\n",
    "            self.heap_array.append(data)\n",
    "            return True\n",
    "        \n",
    "        self.heap_array.append(data)\n",
    "        return True"
   ]
  },
  {
   "cell_type": "markdown",
   "metadata": {},
   "source": [
    "- 힙 클래스 구현3 - insert2\n",
    "    - 삽입한 노드가 부모 노드의 값보다 클 경우, 부모 노드와 삽입한 노드 위치를 바꿈\n",
    "    - 삽입한 노드가 루트 노드가 되거나, 부모 노드보다 값이 작거나 같을 경우까지 반복\n",
    "\n",
    "\n",
    "- 특정 노드의 관련 노드 위치 알아내기\n",
    "    - 부모 노드 인덱스 번호 (parent node's index) = 자식 노드 인덱스 번호 (child node's index) // 2\n",
    "    - 왼쪽 자식 노드 인덱스 번호 (left child node's index) = 부모 노드 인덱스 번호 (parent node's index) * 2\n",
    "    - 오른쪽 자식 노드 인덱스 번호 (right child node's index) = 부모 노드 인덱스 번호 (parent node's index) * 2 + 1"
   ]
  },
  {
   "cell_type": "code",
   "execution_count": 8,
   "metadata": {},
   "outputs": [],
   "source": [
    "    def __init__(self, data):\n",
    "        self.heap_array = list()\n",
    "        self.heap_array.append(None) # 인덱스 번호는 1번부터\n",
    "        self.heap_array.append(data)\n",
    "\n",
    "    def move_up(self, inserted_idx):\n",
    "        if inserted_idx <= 1:\n",
    "            return False\n",
    "        parent_idx = inserted_idx // 2\n",
    "        if self.heap_array[inserted_idx] > self.heap_array[parent_idx]:\n",
    "            return True\n",
    "        else:\n",
    "            return False\n",
    "\n",
    "    def insert(self, data):\n",
    "        if len(self.heap_array) == 1:\n",
    "            self.heap_array.append(data)\n",
    "            return True\n",
    "        \n",
    "        self.heap_array.append(data)\n",
    "        inserted_idx = len(self.heap_array) - 1\n",
    "        \n",
    "        while self.move_up(inserted_idx):\n",
    "            parent_idx = inserted_idx // 2\n",
    "            self.heap_array[inserted_idx], self.heap_array[parent_idx] = self.heap_array[parent_idx], self.heap_array[inserted_idx]\n",
    "            inserted_idx = parent_idx\n",
    "        return True"
   ]
  },
  {
   "cell_type": "code",
   "execution_count": 9,
   "metadata": {},
   "outputs": [
    {
     "data": {
      "text/plain": [
       "[None, 15, 10, 8, 5, 4, 20]"
      ]
     },
     "execution_count": 9,
     "metadata": {},
     "output_type": "execute_result"
    }
   ],
   "source": [
    "heap = Heap(15)\n",
    "heap.insert(10)\n",
    "heap.insert(8)\n",
    "heap.insert(5)\n",
    "heap.insert(4)\n",
    "heap.insert(20)\n",
    "heap.heap_array"
   ]
  },
  {
   "cell_type": "code",
   "execution_count": null,
   "metadata": {},
   "outputs": [],
   "source": []
  }
 ],
 "metadata": {
  "kernelspec": {
   "display_name": "Python 3",
   "language": "python",
   "name": "python3"
  },
  "language_info": {
   "codemirror_mode": {
    "name": "ipython",
    "version": 3
   },
   "file_extension": ".py",
   "mimetype": "text/x-python",
   "name": "python",
   "nbconvert_exporter": "python",
   "pygments_lexer": "ipython3",
   "version": "3.8.3"
  }
 },
 "nbformat": 4,
 "nbformat_minor": 4
}
