{
 "cells": [
  {
   "cell_type": "code",
   "execution_count": 14,
   "metadata": {},
   "outputs": [
    {
     "name": "stdout",
     "output_type": "stream",
     "text": [
      "LRLLLRLLRRL\n"
     ]
    }
   ],
   "source": [
    "numbers = [1, 3, 4, 5, 8, 2, 1, 4, 5, 9, 5]\n",
    "hand = 'right'\n",
    "\n",
    "current_l = '*'\n",
    "current_r = '#'\n",
    "keypad = [['*',7,4,1],[0,8,5,2],['#',9,6,3]]\n",
    "result = []\n",
    "\n",
    "def find(l, elem):\n",
    "    for row, i in enumerate(l):\n",
    "        try:\n",
    "            column = i.index(elem)\n",
    "        except ValueError:\n",
    "            continue\n",
    "        return row, column\n",
    "    return -1\n",
    "\n",
    "def dis(current,target):\n",
    "    current_idx = find(keypad, current)\n",
    "    target_idx  = find(keypad, target)\n",
    "    return abs(current_idx[0]-target_idx[0]) + abs(current_idx[1]-target_idx[1])\n",
    "\n",
    "\n",
    "\n",
    "\n",
    "for num in numbers:\n",
    "    if num in [1,4,7]:\n",
    "        result.append('L')\n",
    "        current_l = num\n",
    "        continue\n",
    "    \n",
    "    elif num in [3,6,9]:\n",
    "        result.append('R')\n",
    "        current_r = num\n",
    "        continue\n",
    "    \n",
    "    else:\n",
    "        if dis(current_l,num) < dis(current_r,num) :\n",
    "            result.append('L')\n",
    "            current_l = num\n",
    "            continue\n",
    "            \n",
    "        elif dis(current_l,num) > dis(current_r,num) :\n",
    "            result.append('R')\n",
    "            current_r = num\n",
    "            continue\n",
    "            \n",
    "        else :\n",
    "            if hand == 'left':\n",
    "                result.append('L')\n",
    "                current_l = num\n",
    "                continue\n",
    "            elif hand == 'right':\n",
    "                result.append('R')\n",
    "                current_r = num\n",
    "                continue\n",
    "result = ''.join(result)\n",
    "print(result)"
   ]
  },
  {
   "cell_type": "code",
   "execution_count": 5,
   "metadata": {},
   "outputs": [
    {
     "data": {
      "text/plain": [
       "7"
      ]
     },
     "execution_count": 5,
     "metadata": {},
     "output_type": "execute_result"
    }
   ],
   "source": [
    "keypad = [['*',7,4,1],[0,8,5,2],['#',9,6,3]]\n",
    "test[0][1]"
   ]
  },
  {
   "cell_type": "code",
   "execution_count": 10,
   "metadata": {},
   "outputs": [
    {
     "data": {
      "text/plain": [
       "(0, 1)"
      ]
     },
     "execution_count": 10,
     "metadata": {},
     "output_type": "execute_result"
    }
   ],
   "source": [
    "find(keypad,7)"
   ]
  },
  {
   "cell_type": "markdown",
   "metadata": {},
   "source": [
    "COMPLETE\n",
    "\n",
    "\n",
    "def solution"
   ]
  },
  {
   "cell_type": "code",
   "execution_count": 3,
   "metadata": {},
   "outputs": [],
   "source": [
    "def find(l, elem):\n",
    "    for row, i in enumerate(l):\n",
    "        try:\n",
    "            column = i.index(elem)\n",
    "        except ValueError:\n",
    "            continue\n",
    "        return row, column\n",
    "    return -1\n",
    "\n",
    "def dis(current,target):\n",
    "    keypad = [['*',7,4,1],[0,8,5,2],['#',9,6,3]]\n",
    "    current_idx = find(keypad, current)\n",
    "    target_idx  = find(keypad, target)\n",
    "    return abs(current_idx[0]-target_idx[0]) + abs(current_idx[1]-target_idx[1])\n",
    "\n",
    "\n",
    "def solution(numbers, hand):\n",
    "    current_l = '*'\n",
    "    current_r = '#'\n",
    "    keypad = [['*',7,4,1],[0,8,5,2],['#',9,6,3]]\n",
    "    result = []\n",
    "\n",
    "\n",
    "    for num in numbers:\n",
    "        if num in [1,4,7]:\n",
    "            result.append('L')\n",
    "            current_l = num\n",
    "            continue\n",
    "\n",
    "        elif num in [3,6,9]:\n",
    "            result.append('R')\n",
    "            current_r = num\n",
    "            continue\n",
    "\n",
    "        else:\n",
    "            if dis(current_l,num) < dis(current_r,num) :\n",
    "                result.append('L')\n",
    "                current_l = num\n",
    "                continue\n",
    "\n",
    "            elif dis(current_l,num) > dis(current_r,num) :\n",
    "                result.append('R')\n",
    "                current_r = num\n",
    "                continue\n",
    "\n",
    "            else :\n",
    "                if hand == 'left':\n",
    "                    result.append('L')\n",
    "                    current_l = num\n",
    "                    continue\n",
    "                elif hand == 'right':\n",
    "                    result.append('R')\n",
    "                    current_r = num\n",
    "                    continue\n",
    "    result = ''.join(result)\n",
    "    return result"
   ]
  },
  {
   "cell_type": "code",
   "execution_count": 4,
   "metadata": {},
   "outputs": [
    {
     "data": {
      "text/plain": [
       "'LRLLLRLLRRL'"
      ]
     },
     "execution_count": 4,
     "metadata": {},
     "output_type": "execute_result"
    }
   ],
   "source": [
    "solution([1, 3, 4, 5, 8, 2, 1, 4, 5, 9, 5], 'right')"
   ]
  },
  {
   "cell_type": "code",
   "execution_count": 17,
   "metadata": {},
   "outputs": [
    {
     "data": {
      "text/plain": [
       "'LRLLRRLLLRR'"
      ]
     },
     "execution_count": 17,
     "metadata": {},
     "output_type": "execute_result"
    }
   ],
   "source": [
    "solution([7, 0, 8, 2, 8, 3, 1, 5, 7, 6, 2], 'left')"
   ]
  },
  {
   "cell_type": "code",
   "execution_count": 18,
   "metadata": {},
   "outputs": [
    {
     "data": {
      "text/plain": [
       "'LLRLLRLLRL'"
      ]
     },
     "execution_count": 18,
     "metadata": {},
     "output_type": "execute_result"
    }
   ],
   "source": [
    "solution([1, 2, 3, 4, 5, 6, 7, 8, 9, 0], 'right')"
   ]
  },
  {
   "cell_type": "code",
   "execution_count": null,
   "metadata": {},
   "outputs": [],
   "source": []
  }
 ],
 "metadata": {
  "kernelspec": {
   "display_name": "Python 3",
   "language": "python",
   "name": "python3"
  },
  "language_info": {
   "codemirror_mode": {
    "name": "ipython",
    "version": 3
   },
   "file_extension": ".py",
   "mimetype": "text/x-python",
   "name": "python",
   "nbconvert_exporter": "python",
   "pygments_lexer": "ipython3",
   "version": "3.6.10"
  }
 },
 "nbformat": 4,
 "nbformat_minor": 4
}
