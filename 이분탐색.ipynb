{
 "cells": [
  {
   "cell_type": "code",
   "execution_count": 1,
   "metadata": {},
   "outputs": [
    {
     "name": "stdout",
     "output_type": "stream",
     "text": [
      "4\n"
     ]
    }
   ],
   "source": [
    "# 정방향\n",
    "target = 25\n",
    "m_list = [30, 94, 27, 92, 21, 37, 25, 47, 25, 53, 98, 19, 32, 32, 7]\n",
    "length = len(m_list)\n",
    "\n",
    "m_list.sort()\n",
    "left=0\n",
    "right=length-1\n",
    "\n",
    "while left<=right:\n",
    "    mid = (left+right)//2\n",
    "    if m_list[mid]==target:\n",
    "        print(mid+1)\n",
    "        break\n",
    "    elif m_list[mid]>target:\n",
    "        right=mid-1\n",
    "    else:\n",
    "        left=mid+1"
   ]
  },
  {
   "cell_type": "code",
   "execution_count": 1,
   "metadata": {},
   "outputs": [],
   "source": [
    "# recursive\n",
    "\n",
    "def binarySearch(array, target, left, right):\n",
    "    middle_idx = (left+right)//2\n",
    "    print(middle_idx)\n",
    "    middle=array[middle_idx]\n",
    "    \n",
    "    if target==middle:\n",
    "        print('answer {}'.format(middle_idx))\n",
    "    elif middle>target:\n",
    "        binarySearch(array, target, left, middle_idx-1)\n",
    "    elif middle<target:\n",
    "        binarySearch(array, target, middle_idx+1, right)\n",
    "    else:\n",
    "        return False"
   ]
  },
  {
   "cell_type": "code",
   "execution_count": 2,
   "metadata": {},
   "outputs": [
    {
     "name": "stdout",
     "output_type": "stream",
     "text": [
      "7\n",
      "3\n",
      "answer 3\n"
     ]
    }
   ],
   "source": [
    "target = 25\n",
    "m_list = [30, 94, 27, 92, 21, 37, 25, 47, 25, 53, 98, 19, 32, 32, 7]\n",
    "length = len(m_list)\n",
    "\n",
    "m_list.sort()\n",
    "left = 0 \n",
    "right = length-1\n",
    "\n",
    "binarySearch(m_list,target,0,right)"
   ]
  },
  {
   "cell_type": "code",
   "execution_count": null,
   "metadata": {},
   "outputs": [],
   "source": []
  }
 ],
 "metadata": {
  "kernelspec": {
   "display_name": "Python 3",
   "language": "python",
   "name": "python3"
  },
  "language_info": {
   "codemirror_mode": {
    "name": "ipython",
    "version": 3
   },
   "file_extension": ".py",
   "mimetype": "text/x-python",
   "name": "python",
   "nbconvert_exporter": "python",
   "pygments_lexer": "ipython3",
   "version": "3.6.10"
  },
  "toc": {
   "base_numbering": 1,
   "nav_menu": {},
   "number_sections": false,
   "sideBar": true,
   "skip_h1_title": false,
   "title_cell": "Table of Contents",
   "title_sidebar": "Contents",
   "toc_cell": false,
   "toc_position": {},
   "toc_section_display": true,
   "toc_window_display": false
  }
 },
 "nbformat": 4,
 "nbformat_minor": 4
}
