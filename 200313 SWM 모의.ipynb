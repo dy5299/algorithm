{
 "cells": [
  {
   "cell_type": "markdown",
   "metadata": {},
   "source": [
    "# SW Maestro Coding Test 모의"
   ]
  },
  {
   "cell_type": "markdown",
   "metadata": {},
   "source": [
    "## 1. 근묵자흑\n"
   ]
  },
  {
   "cell_type": "code",
   "execution_count": 15,
   "metadata": {},
   "outputs": [
    {
     "data": {
      "text/plain": [
       "3"
      ]
     },
     "execution_count": 15,
     "metadata": {},
     "output_type": "execute_result"
    }
   ],
   "source": [
    "n,k=(8,3)\n",
    "arr= list(map(int,'7 3 1 8 4 6 2 5'.split()))\n",
    "\n",
    "arr.index(1)+1"
   ]
  },
  {
   "cell_type": "code",
   "execution_count": 17,
   "metadata": {},
   "outputs": [
    {
     "data": {
      "text/plain": [
       "6"
      ]
     },
     "execution_count": 17,
     "metadata": {},
     "output_type": "execute_result"
    }
   ],
   "source": [
    "len(arr)-arr.index(1)"
   ]
  },
  {
   "cell_type": "code",
   "execution_count": 6,
   "metadata": {},
   "outputs": [
    {
     "data": {
      "text/plain": [
       "8"
      ]
     },
     "execution_count": 6,
     "metadata": {},
     "output_type": "execute_result"
    }
   ],
   "source": [
    "len(arr)"
   ]
  },
  {
   "cell_type": "code",
   "execution_count": 23,
   "metadata": {},
   "outputs": [],
   "source": [
    "n,k=(37,4)\n",
    "arr= list(map(int,'31 36 20 30 1 9 6 13 3 29 11 25 7 8 2 24 34 18 26 15 23 28 37 19 21 4 32 14 16 10 12 27 22 35 5 17 33'.split()))"
   ]
  },
  {
   "cell_type": "code",
   "execution_count": 24,
   "metadata": {
    "scrolled": true
   },
   "outputs": [
    {
     "data": {
      "text/plain": [
       "1"
      ]
     },
     "execution_count": 24,
     "metadata": {},
     "output_type": "execute_result"
    }
   ],
   "source": [
    "(arr.index(1)+1)//(k-1)"
   ]
  },
  {
   "cell_type": "code",
   "execution_count": 25,
   "metadata": {},
   "outputs": [
    {
     "data": {
      "text/plain": [
       "11"
      ]
     },
     "execution_count": 25,
     "metadata": {},
     "output_type": "execute_result"
    }
   ],
   "source": [
    "(len(arr)-arr.index(1))//(k-1)"
   ]
  },
  {
   "cell_type": "code",
   "execution_count": null,
   "metadata": {},
   "outputs": [],
   "source": [
    "testinput='7 3 1 8 4 6 2 5'"
   ]
  },
  {
   "cell_type": "code",
   "execution_count": null,
   "metadata": {},
   "outputs": [],
   "source": [
    "n,k = map(int,input().split())\n",
    "arr= list(map(int,input().split()))\n",
    "a=arr.index(1)\n",
    "out=(a+1)//(k-1) + (len(arr)-a)//(k-1)\n",
    "print(int(out))"
   ]
  },
  {
   "cell_type": "code",
   "execution_count": 30,
   "metadata": {},
   "outputs": [
    {
     "name": "stdout",
     "output_type": "stream",
     "text": [
      "8 3\n",
      "7 3 1 8 4 6 2 5\n",
      "4\n"
     ]
    }
   ],
   "source": [
    "#위에서 조건만 추가한 거\n",
    "#여전히 오답이래 맞는것같은데..?\n",
    "\n",
    "n,k = map(int,input().split())\n",
    "if 2<=n<=10 and 2<=k<=n:\n",
    "    arr= list(map(int,input().split()))\n",
    "    if len(arr)==len(set(arr)):\n",
    "        a=arr.index(1)\n",
    "        out=(a+1)//(k-1) + (len(arr)-a)//(k-1)\n",
    "        print(int(out))"
   ]
  },
  {
   "cell_type": "code",
   "execution_count": null,
   "metadata": {},
   "outputs": [],
   "source": [
    "# 위에서 조건만 추가한 거\n",
    "#여전히 오답이래 맞는것같은데..?\n",
    "\n",
    "n,k = map(int,input().split())\n",
    "if 2<=n<=10 and 2<=k<=n:\n",
    "    arr= list(map(int,input().split()))\n",
    "    if len(arr)==len(set(arr)):\n",
    "        a=arr.index(1)\n",
    "        out=(a+1)//(k-1) + (len(arr)-a)//(k-1)\n",
    "        print(int(out))"
   ]
  },
  {
   "cell_type": "code",
   "execution_count": 62,
   "metadata": {},
   "outputs": [
    {
     "name": "stdout",
     "output_type": "stream",
     "text": [
      "37 4\n",
      "31 36 20 30 1 9 6 13 3 29 11 25 7 8 2 24 34 18 26 15 23 28 37 19 21 4 32 14 16 10 12 27 22 35 5 17 33\n",
      "2\n",
      "11\n",
      "13\n"
     ]
    }
   ],
   "source": [
    "#re\n",
    "import math\n",
    "n,k = map(int,input().split())\n",
    "arr= list(map(int,input().split()))\n",
    "a=arr.index(1)\n",
    "out=math.ceil((a)/(k-1)) + math.ceil((len(arr)-a-1)/(k-1))\n",
    "print(math.ceil((a)/(k-1)))\n",
    "print(math.ceil((len(arr)-a-1)/(k-1)))\n",
    "print(out)"
   ]
  },
  {
   "cell_type": "code",
   "execution_count": 54,
   "metadata": {},
   "outputs": [
    {
     "name": "stdout",
     "output_type": "stream",
     "text": [
      "[31, 1, 1, 1, 1, 1, 1, 1, 3, 29, 11, 25, 7, 8, 2, 24, 34, 18, 26, 15, 23, 28, 37, 19, 21, 4, 32, 14, 16, 10, 12, 27, 22, 35, 5, 17, 33]\n"
     ]
    },
    {
     "data": {
      "text/plain": [
       "1"
      ]
     },
     "execution_count": 54,
     "metadata": {},
     "output_type": "execute_result"
    }
   ],
   "source": [
    "#n,k = map(int,input().split())\n",
    "#arr= list(map(int,input().split()))\n",
    "n,k=map(int,'37 4'.split())\n",
    "arr=list(map(int,'31 36 20 30 1 9 6 13 3 29 11 25 7 8 2 24 34 18 26 15 23 28 37 19 21 4 32 14 16 10 12 27 22 35 5 17 33'.split()))\n",
    "\n",
    "a=arr.index(1)\n",
    "\n",
    "for i in range(a-k+1,a+k):\n",
    "    arr[i]=1\n",
    "\n",
    "print(arr)\n",
    "arr.index(1)"
   ]
  },
  {
   "cell_type": "code",
   "execution_count": 42,
   "metadata": {},
   "outputs": [
    {
     "data": {
      "text/plain": [
       "[7, 3, 1, 8, 4]"
      ]
     },
     "execution_count": 42,
     "metadata": {},
     "output_type": "execute_result"
    }
   ],
   "source": [
    "arr[a-k+1:a+k]"
   ]
  },
  {
   "cell_type": "code",
   "execution_count": 51,
   "metadata": {
    "scrolled": true
   },
   "outputs": [
    {
     "ename": "SyntaxError",
     "evalue": "invalid syntax (<ipython-input-51-ff6c230935ab>, line 1)",
     "output_type": "error",
     "traceback": [
      "\u001b[1;36m  File \u001b[1;32m\"<ipython-input-51-ff6c230935ab>\"\u001b[1;36m, line \u001b[1;32m1\u001b[0m\n\u001b[1;33m    arr[a-k+1:a+k] = [1]*int(2k-1)\u001b[0m\n\u001b[1;37m                              ^\u001b[0m\n\u001b[1;31mSyntaxError\u001b[0m\u001b[1;31m:\u001b[0m invalid syntax\n"
     ]
    }
   ],
   "source": [
    "arr[a-k+1:a+k] = [1]*int(2k-1)"
   ]
  },
  {
   "cell_type": "code",
   "execution_count": 44,
   "metadata": {},
   "outputs": [
    {
     "data": {
      "text/plain": [
       "[1, 1, 1, 1, 1, 6, 2, 5]"
      ]
     },
     "execution_count": 44,
     "metadata": {},
     "output_type": "execute_result"
    }
   ],
   "source": [
    "arr"
   ]
  },
  {
   "cell_type": "code",
   "execution_count": 49,
   "metadata": {},
   "outputs": [
    {
     "data": {
      "text/plain": [
       "int"
      ]
     },
     "execution_count": 49,
     "metadata": {},
     "output_type": "execute_result"
    }
   ],
   "source": [
    "type(k)"
   ]
  },
  {
   "cell_type": "code",
   "execution_count": 64,
   "metadata": {},
   "outputs": [
    {
     "name": "stdout",
     "output_type": "stream",
     "text": [
      "37 4\n",
      "31 36 20 30 1 9 6 13 3 29 11 25 7 8 2 24 34 18 26 15 23 28 37 19 21 4 32 14 16 10 12 27 22 35 5 17 33\n",
      "12\n"
     ]
    }
   ],
   "source": [
    "#'최소횟수'임을 망각함..->정답입니다.\n",
    "import math\n",
    "n,k = map(int,input().split())\n",
    "arr= list(map(int,input().split()))\n",
    "out=math.ceil(  ((len(arr)-1)/(k-1))  )\n",
    "print(out)"
   ]
  },
  {
   "cell_type": "code",
   "execution_count": null,
   "metadata": {},
   "outputs": [],
   "source": []
  }
 ],
 "metadata": {
  "kernelspec": {
   "display_name": "Python 3",
   "language": "python",
   "name": "python3"
  },
  "language_info": {
   "codemirror_mode": {
    "name": "ipython",
    "version": 3
   },
   "file_extension": ".py",
   "mimetype": "text/x-python",
   "name": "python",
   "nbconvert_exporter": "python",
   "pygments_lexer": "ipython3",
   "version": "3.6.9"
  }
 },
 "nbformat": 4,
 "nbformat_minor": 2
}
