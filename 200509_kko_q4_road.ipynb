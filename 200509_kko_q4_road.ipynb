{
 "cells": [
  {
   "cell_type": "code",
   "execution_count": 7,
   "metadata": {
    "scrolled": true
   },
   "outputs": [
    {
     "data": {
      "text/plain": [
       "array([[1., 1., 1., 1., 1.],\n",
       "       [1., 1., 1., 1., 1.],\n",
       "       [1., 1., 1., 1., 1.],\n",
       "       [1., 1., 1., 1., 1.],\n",
       "       [1., 1., 1., 1., 1.]])"
      ]
     },
     "execution_count": 7,
     "metadata": {},
     "output_type": "execute_result"
    }
   ],
   "source": [
    "import numpy as np\n",
    "np.ones((len(board)+1,len(board)+1))"
   ]
  },
  {
   "cell_type": "code",
   "execution_count": 12,
   "metadata": {},
   "outputs": [
    {
     "data": {
      "text/plain": [
       "array([[1., 1., 1., 1., 1.],\n",
       "       [1., 1., 1., 1., 1.],\n",
       "       [1., 1., 1., 1., 1.],\n",
       "       [1., 1., 1., 1., 1.],\n",
       "       [1., 1., 1., 1., 1.]])"
      ]
     },
     "execution_count": 12,
     "metadata": {},
     "output_type": "execute_result"
    }
   ],
   "source": [
    "board_new = np.ones((len(board)+1,len(board)+1))\n",
    "board_new"
   ]
  },
  {
   "cell_type": "code",
   "execution_count": 20,
   "metadata": {
    "scrolled": false
   },
   "outputs": [
    {
     "data": {
      "text/plain": [
       "array([[1., 1., 1., 1.],\n",
       "       [1., 1., 1., 1.],\n",
       "       [1., 1., 1., 1.],\n",
       "       [1., 1., 1., 1.]])"
      ]
     },
     "execution_count": 20,
     "metadata": {},
     "output_type": "execute_result"
    }
   ],
   "source": [
    "board_new[:-1,:-1]"
   ]
  },
  {
   "cell_type": "code",
   "execution_count": 37,
   "metadata": {},
   "outputs": [
    {
     "data": {
      "text/plain": [
       "array([[0., 0., 1., 0., 1.],\n",
       "       [0., 0., 0., 0., 1.],\n",
       "       [0., 1., 0., 1., 1.],\n",
       "       [1., 0., 0., 0., 1.],\n",
       "       [1., 1., 1., 1., 1.]])"
      ]
     },
     "execution_count": 37,
     "metadata": {},
     "output_type": "execute_result"
    }
   ],
   "source": [
    "routes = []  # prestep direction, current position x, y\n",
    "            #route.append()\n",
    "board = np.array([[0,0,1,0],[0,0,0,0],[0,1,0,1],[1,0,0,0]])\n",
    "board_new = np.ones((len(board)+1,len(board)+1))\n",
    "board_new[:-1,:-1] = board\n",
    "board_new\n"
   ]
  },
  {
   "cell_type": "code",
   "execution_count": 1,
   "metadata": {},
   "outputs": [],
   "source": [
    "import pprint\n",
    "pp = pprint.PrettyPrinter( ).pprint"
   ]
  },
  {
   "cell_type": "code",
   "execution_count": 38,
   "metadata": {},
   "outputs": [
    {
     "name": "stdout",
     "output_type": "stream",
     "text": [
      "[[0,\n",
      "  0,\n",
      "  None,\n",
      "  [0, 0, 'down'],\n",
      "  [0, 0, 'right'],\n",
      "  [0, 1, 'down'],\n",
      "  [0, 2, 'down'],\n",
      "  [0, 2, 'right'],\n",
      "  [0, 3, 'down'],\n",
      "  [1, 0, 'down'],\n",
      "  [1, 0, 'right'],\n",
      "  [1, 1, 'right'],\n",
      "  [1, 2, 'down'],\n",
      "  [1, 2, 'right'],\n",
      "  [1, 3, 'down'],\n",
      "  [1, 3, 'right'],\n",
      "  [2, 0, 'down'],\n",
      "  [2, 0, 'right'],\n",
      "  [2, 1, 'down'],\n",
      "  [2, 1, 'right'],\n",
      "  [2, 2, 'down'],\n",
      "  [2, 3, 'down'],\n",
      "  [3, 0, 'right'],\n",
      "  [3, 1, 'right'],\n",
      "  [3, 2, 'right'],\n",
      "  [3, 3, 'down'],\n",
      "  [3, 3, 'right']],\n",
      " [0,\n",
      "  0,\n",
      "  None,\n",
      "  [0, 0, 'down'],\n",
      "  [0, 0, 'right'],\n",
      "  [0, 1, 'down'],\n",
      "  [0, 2, 'down'],\n",
      "  [0, 2, 'right'],\n",
      "  [0, 3, 'down'],\n",
      "  [1, 0, 'down'],\n",
      "  [1, 0, 'right'],\n",
      "  [1, 1, 'right'],\n",
      "  [1, 2, 'down'],\n",
      "  [1, 2, 'right'],\n",
      "  [1, 3, 'down'],\n",
      "  [1, 3, 'right'],\n",
      "  [2, 0, 'down'],\n",
      "  [2, 0, 'right'],\n",
      "  [2, 1, 'down'],\n",
      "  [2, 1, 'right'],\n",
      "  [2, 2, 'down'],\n",
      "  [2, 3, 'down'],\n",
      "  [3, 0, 'right'],\n",
      "  [3, 1, 'right'],\n",
      "  [3, 2, 'right'],\n",
      "  [3, 3, 'down'],\n",
      "  [3, 3, 'right']],\n",
      " [0,\n",
      "  0,\n",
      "  None,\n",
      "  [0, 0, 'down'],\n",
      "  [0, 0, 'right'],\n",
      "  [0, 1, 'down'],\n",
      "  [0, 2, 'down'],\n",
      "  [0, 2, 'right'],\n",
      "  [0, 3, 'down'],\n",
      "  [1, 0, 'down'],\n",
      "  [1, 0, 'right'],\n",
      "  [1, 1, 'right'],\n",
      "  [1, 2, 'down'],\n",
      "  [1, 2, 'right'],\n",
      "  [1, 3, 'down'],\n",
      "  [1, 3, 'right'],\n",
      "  [2, 0, 'down'],\n",
      "  [2, 0, 'right'],\n",
      "  [2, 1, 'down'],\n",
      "  [2, 1, 'right'],\n",
      "  [2, 2, 'down'],\n",
      "  [2, 3, 'down'],\n",
      "  [3, 0, 'right'],\n",
      "  [3, 1, 'right'],\n",
      "  [3, 2, 'right'],\n",
      "  [3, 3, 'down'],\n",
      "  [3, 3, 'right']],\n",
      " [0,\n",
      "  0,\n",
      "  None,\n",
      "  [0, 0, 'down'],\n",
      "  [0, 0, 'right'],\n",
      "  [0, 1, 'down'],\n",
      "  [0, 2, 'down'],\n",
      "  [0, 2, 'right'],\n",
      "  [0, 3, 'down'],\n",
      "  [1, 0, 'down'],\n",
      "  [1, 0, 'right'],\n",
      "  [1, 1, 'right'],\n",
      "  [1, 2, 'down'],\n",
      "  [1, 2, 'right'],\n",
      "  [1, 3, 'down'],\n",
      "  [1, 3, 'right'],\n",
      "  [2, 0, 'down'],\n",
      "  [2, 0, 'right'],\n",
      "  [2, 1, 'down'],\n",
      "  [2, 1, 'right'],\n",
      "  [2, 2, 'down'],\n",
      "  [2, 3, 'down'],\n",
      "  [3, 0, 'right'],\n",
      "  [3, 1, 'right'],\n",
      "  [3, 2, 'right'],\n",
      "  [3, 3, 'down'],\n",
      "  [3, 3, 'right']],\n",
      " [0,\n",
      "  0,\n",
      "  None,\n",
      "  [0, 0, 'down'],\n",
      "  [0, 0, 'right'],\n",
      "  [0, 1, 'down'],\n",
      "  [0, 2, 'down'],\n",
      "  [0, 2, 'right'],\n",
      "  [0, 3, 'down'],\n",
      "  [1, 0, 'down'],\n",
      "  [1, 0, 'right'],\n",
      "  [1, 1, 'right'],\n",
      "  [1, 2, 'down'],\n",
      "  [1, 2, 'right'],\n",
      "  [1, 3, 'down'],\n",
      "  [1, 3, 'right'],\n",
      "  [2, 0, 'down'],\n",
      "  [2, 0, 'right'],\n",
      "  [2, 1, 'down'],\n",
      "  [2, 1, 'right'],\n",
      "  [2, 2, 'down'],\n",
      "  [2, 3, 'down'],\n",
      "  [3, 0, 'right'],\n",
      "  [3, 1, 'right'],\n",
      "  [3, 2, 'right'],\n",
      "  [3, 3, 'down'],\n",
      "  [3, 3, 'right']],\n",
      " [0,\n",
      "  0,\n",
      "  None,\n",
      "  [0, 0, 'down'],\n",
      "  [0, 0, 'right'],\n",
      "  [0, 1, 'down'],\n",
      "  [0, 2, 'down'],\n",
      "  [0, 2, 'right'],\n",
      "  [0, 3, 'down'],\n",
      "  [1, 0, 'down'],\n",
      "  [1, 0, 'right'],\n",
      "  [1, 1, 'right'],\n",
      "  [1, 2, 'down'],\n",
      "  [1, 2, 'right'],\n",
      "  [1, 3, 'down'],\n",
      "  [1, 3, 'right'],\n",
      "  [2, 0, 'down'],\n",
      "  [2, 0, 'right'],\n",
      "  [2, 1, 'down'],\n",
      "  [2, 1, 'right'],\n",
      "  [2, 2, 'down'],\n",
      "  [2, 3, 'down'],\n",
      "  [3, 0, 'right'],\n",
      "  [3, 1, 'right'],\n",
      "  [3, 2, 'right'],\n",
      "  [3, 3, 'down'],\n",
      "  [3, 3, 'right']],\n",
      " [0,\n",
      "  0,\n",
      "  None,\n",
      "  [0, 0, 'down'],\n",
      "  [0, 0, 'right'],\n",
      "  [0, 1, 'down'],\n",
      "  [0, 2, 'down'],\n",
      "  [0, 2, 'right'],\n",
      "  [0, 3, 'down'],\n",
      "  [1, 0, 'down'],\n",
      "  [1, 0, 'right'],\n",
      "  [1, 1, 'right'],\n",
      "  [1, 2, 'down'],\n",
      "  [1, 2, 'right'],\n",
      "  [1, 3, 'down'],\n",
      "  [1, 3, 'right'],\n",
      "  [2, 0, 'down'],\n",
      "  [2, 0, 'right'],\n",
      "  [2, 1, 'down'],\n",
      "  [2, 1, 'right'],\n",
      "  [2, 2, 'down'],\n",
      "  [2, 3, 'down'],\n",
      "  [3, 0, 'right'],\n",
      "  [3, 1, 'right'],\n",
      "  [3, 2, 'right'],\n",
      "  [3, 3, 'down'],\n",
      "  [3, 3, 'right']],\n",
      " [0,\n",
      "  0,\n",
      "  None,\n",
      "  [0, 0, 'down'],\n",
      "  [0, 0, 'right'],\n",
      "  [0, 1, 'down'],\n",
      "  [0, 2, 'down'],\n",
      "  [0, 2, 'right'],\n",
      "  [0, 3, 'down'],\n",
      "  [1, 0, 'down'],\n",
      "  [1, 0, 'right'],\n",
      "  [1, 1, 'right'],\n",
      "  [1, 2, 'down'],\n",
      "  [1, 2, 'right'],\n",
      "  [1, 3, 'down'],\n",
      "  [1, 3, 'right'],\n",
      "  [2, 0, 'down'],\n",
      "  [2, 0, 'right'],\n",
      "  [2, 1, 'down'],\n",
      "  [2, 1, 'right'],\n",
      "  [2, 2, 'down'],\n",
      "  [2, 3, 'down'],\n",
      "  [3, 0, 'right'],\n",
      "  [3, 1, 'right'],\n",
      "  [3, 2, 'right'],\n",
      "  [3, 3, 'down'],\n",
      "  [3, 3, 'right']],\n",
      " [0,\n",
      "  0,\n",
      "  None,\n",
      "  [0, 0, 'down'],\n",
      "  [0, 0, 'right'],\n",
      "  [0, 1, 'down'],\n",
      "  [0, 2, 'down'],\n",
      "  [0, 2, 'right'],\n",
      "  [0, 3, 'down'],\n",
      "  [1, 0, 'down'],\n",
      "  [1, 0, 'right'],\n",
      "  [1, 1, 'right'],\n",
      "  [1, 2, 'down'],\n",
      "  [1, 2, 'right'],\n",
      "  [1, 3, 'down'],\n",
      "  [1, 3, 'right'],\n",
      "  [2, 0, 'down'],\n",
      "  [2, 0, 'right'],\n",
      "  [2, 1, 'down'],\n",
      "  [2, 1, 'right'],\n",
      "  [2, 2, 'down'],\n",
      "  [2, 3, 'down'],\n",
      "  [3, 0, 'right'],\n",
      "  [3, 1, 'right'],\n",
      "  [3, 2, 'right'],\n",
      "  [3, 3, 'down'],\n",
      "  [3, 3, 'right']]]\n"
     ]
    }
   ],
   "source": [
    "# i by j 블록에서 갈 수 있는 모든 경로의 수\n",
    "routes = []  # prestep direction, current position x, y\n",
    "            #route.append()\n",
    "board = np.array([[0,0,1,0],[0,0,0,0],[0,1,0,1],[1,0,0,0]])\n",
    "board_new = np.ones((len(board)+1,len(board)+1))\n",
    "board_new[:-1,:-1] = board\n",
    "\n",
    "\n",
    "def findnext(board, routes,i,j):\n",
    "    if board[i+1,j] == 0 and board[i,j+1] == 1 :\n",
    "        routes[-1].append([i,j,'down'])\n",
    "    elif board[i+1,j] == 1 and board[i,j+1] == 0 :\n",
    "        routes[-1].append([i,j,'right'])\n",
    "    else :    #둘 다 뚫려있으면\n",
    "        routes.append(routes[-1])\n",
    "        routes[-2].append([i,j,'down'])\n",
    "        routes[-1].append([i,j,'right'])\n",
    "    return routes\n",
    "\n",
    "\n",
    "routes.append([0,0,None])\n",
    "size = len(board[0])\n",
    "\n",
    "for i in range(size):\n",
    "    for j in range(size):\n",
    "        routes = findnext(board_new, routes,i,j)\n",
    "\n",
    "pp(routes)"
   ]
  },
  {
   "cell_type": "code",
   "execution_count": 40,
   "metadata": {
    "scrolled": true
   },
   "outputs": [
    {
     "name": "stdout",
     "output_type": "stream",
     "text": [
      "[[0,\n",
      "  0,\n",
      "  None,\n",
      "  [1, 1, 'down'],\n",
      "  [1, 1, 'right'],\n",
      "  [1, 2, 'down'],\n",
      "  [1, 3, 'down'],\n",
      "  [1, 3, 'right'],\n",
      "  [1, 4, 'down'],\n",
      "  [2, 1, 'down'],\n",
      "  [2, 1, 'right'],\n",
      "  [2, 2, 'right'],\n",
      "  [2, 3, 'down'],\n",
      "  [2, 3, 'right'],\n",
      "  [3, 2, 'down'],\n",
      "  [3, 2, 'right'],\n",
      "  [3, 3, 'down'],\n",
      "  [3, 4, 'down'],\n",
      "  [4, 1, 'right'],\n",
      "  [4, 2, 'right'],\n",
      "  [4, 3, 'right']],\n",
      " [0,\n",
      "  0,\n",
      "  None,\n",
      "  [1, 1, 'down'],\n",
      "  [1, 1, 'right'],\n",
      "  [1, 2, 'down'],\n",
      "  [1, 3, 'down'],\n",
      "  [1, 3, 'right'],\n",
      "  [1, 4, 'down'],\n",
      "  [2, 1, 'down'],\n",
      "  [2, 1, 'right'],\n",
      "  [2, 2, 'right'],\n",
      "  [2, 3, 'down'],\n",
      "  [2, 3, 'right'],\n",
      "  [3, 2, 'down'],\n",
      "  [3, 2, 'right'],\n",
      "  [3, 3, 'down'],\n",
      "  [3, 4, 'down'],\n",
      "  [4, 1, 'right'],\n",
      "  [4, 2, 'right'],\n",
      "  [4, 3, 'right']],\n",
      " [0,\n",
      "  0,\n",
      "  None,\n",
      "  [1, 1, 'down'],\n",
      "  [1, 1, 'right'],\n",
      "  [1, 2, 'down'],\n",
      "  [1, 3, 'down'],\n",
      "  [1, 3, 'right'],\n",
      "  [1, 4, 'down'],\n",
      "  [2, 1, 'down'],\n",
      "  [2, 1, 'right'],\n",
      "  [2, 2, 'right'],\n",
      "  [2, 3, 'down'],\n",
      "  [2, 3, 'right'],\n",
      "  [3, 2, 'down'],\n",
      "  [3, 2, 'right'],\n",
      "  [3, 3, 'down'],\n",
      "  [3, 4, 'down'],\n",
      "  [4, 1, 'right'],\n",
      "  [4, 2, 'right'],\n",
      "  [4, 3, 'right']]]\n"
     ]
    }
   ],
   "source": [
    "# i by j 블록에서 갈 수 있는 모든 경로의 수\n",
    "routes = []  # prestep direction, current position x, y\n",
    "            #route.append()\n",
    "board = np.array([[0,0,1,0],[0,0,0,0],[0,1,0,1],[1,0,0,0]])\n",
    "board_new = np.ones((len(board)+1,len(board)+1))\n",
    "board_new[:-1,:-1] = board\n",
    "\n",
    "\n",
    "def findnext(board, routes,i,j):\n",
    "    if board[i+1,j] == 0 and board[i,j+1] == 1 :\n",
    "        routes[-1].append([i+1,j,'down'])\n",
    "        return routes,i+1,j\n",
    "    \n",
    "    elif board[i+1,j] == 1 and board[i,j+1] == 0 :\n",
    "        routes[-1].append([i,j+1,'right'])\n",
    "        return routes,i,j+1\n",
    "    \n",
    "    elif board[i+1,j] == 1 and board[i,j+1] == 1 :\n",
    "        del routes[-1]\n",
    "        return routes,None,None\n",
    "    \n",
    "    else :    #둘 다 뚫려있으면\n",
    "        routes.append(routes[-1])\n",
    "        routes[-2].append([i+1,j,'down'])\n",
    "        routes[-1].append([i,j+1,'right'])\n",
    "        return routes\n",
    "\n",
    "\n",
    "routes.append([0,0,None])\n",
    "size = len(board[0])\n",
    "\n",
    "\n",
    "routes,i,j = findnext(board_new, routes,0,0)    #routes 첫번째\n",
    "for i in range(size):\n",
    "    for j in range(size):\n",
    "        routes,i,j = findnext(board_new, routes,i,j)    #routes 재귀\n",
    "\n",
    "pp(routes)"
   ]
  },
  {
   "cell_type": "code",
   "execution_count": 6,
   "metadata": {},
   "outputs": [
    {
     "data": {
      "text/plain": [
       "4"
      ]
     },
     "execution_count": 6,
     "metadata": {},
     "output_type": "execute_result"
    }
   ],
   "source": [
    "len(board)"
   ]
  },
  {
   "cell_type": "code",
   "execution_count": 4,
   "metadata": {},
   "outputs": [
    {
     "ename": "KeyboardInterrupt",
     "evalue": "",
     "output_type": "error",
     "traceback": [
      "\u001b[1;31m---------------------------------------------------------------------------\u001b[0m",
      "\u001b[1;31mKeyboardInterrupt\u001b[0m                         Traceback (most recent call last)",
      "\u001b[1;32m<ipython-input-4-3927ed30aae6>\u001b[0m in \u001b[0;36m<module>\u001b[1;34m\u001b[0m\n\u001b[0;32m     38\u001b[0m \u001b[1;33m\u001b[0m\u001b[0m\n\u001b[0;32m     39\u001b[0m \u001b[1;32mwhile\u001b[0m \u001b[1;32mTrue\u001b[0m \u001b[1;33m:\u001b[0m\u001b[1;33m\u001b[0m\u001b[1;33m\u001b[0m\u001b[0m\n\u001b[1;32m---> 40\u001b[1;33m     \u001b[1;32mif\u001b[0m \u001b[0mlen\u001b[0m\u001b[1;33m(\u001b[0m\u001b[0mrows_idx\u001b[0m\u001b[1;33m)\u001b[0m \u001b[1;33m==\u001b[0m \u001b[1;36m0\u001b[0m \u001b[1;33m:\u001b[0m \u001b[1;32mcontinue\u001b[0m\u001b[1;33m\u001b[0m\u001b[1;33m\u001b[0m\u001b[0m\n\u001b[0m\u001b[0;32m     41\u001b[0m     \u001b[0mrows_idx\u001b[0m \u001b[1;33m=\u001b[0m \u001b[1;33m[\u001b[0m\u001b[0mx\u001b[0m\u001b[1;33m[\u001b[0m\u001b[1;33m-\u001b[0m\u001b[1;36m1\u001b[0m\u001b[1;33m]\u001b[0m\u001b[1;33m[\u001b[0m\u001b[1;36m0\u001b[0m\u001b[1;33m]\u001b[0m\u001b[1;32mfor\u001b[0m \u001b[0mx\u001b[0m \u001b[1;32min\u001b[0m \u001b[0mroutes\u001b[0m\u001b[1;33m]\u001b[0m\u001b[1;33m\u001b[0m\u001b[1;33m\u001b[0m\u001b[0m\n\u001b[0;32m     42\u001b[0m     \u001b[0mcols_idx\u001b[0m \u001b[1;33m=\u001b[0m \u001b[1;33m[\u001b[0m\u001b[0mx\u001b[0m\u001b[1;33m[\u001b[0m\u001b[1;33m-\u001b[0m\u001b[1;36m1\u001b[0m\u001b[1;33m]\u001b[0m\u001b[1;33m[\u001b[0m\u001b[1;36m1\u001b[0m\u001b[1;33m]\u001b[0m\u001b[1;32mfor\u001b[0m \u001b[0mx\u001b[0m \u001b[1;32min\u001b[0m \u001b[0mroutes\u001b[0m\u001b[1;33m]\u001b[0m\u001b[1;33m\u001b[0m\u001b[1;33m\u001b[0m\u001b[0m\n",
      "\u001b[1;31mKeyboardInterrupt\u001b[0m: "
     ]
    }
   ],
   "source": [
    "import pprint\n",
    "pp = pprint.PrettyPrinter( ).pprint\n",
    "\n",
    "import numpy as np\n",
    "routes = []  # prestep direction, current position x, y\n",
    "            #route.append()\n",
    "board = np.array([[0,0,1,0],[0,0,0,0],[0,1,0,1],[1,0,0,0]])\n",
    "size = len(board)\n",
    "board_new = np.ones((size+1,size+1))\n",
    "board_new[:-1,:-1] = board\n",
    "\n",
    "def findnext(board, routes,i,j):\n",
    "    size = len(board)\n",
    "    if board[i+1,j] == 0 and board[i,j+1] == 1 :\n",
    "        routes[-1].append([i+1,j,'down'])\n",
    "    \n",
    "    elif board[i+1,j] == 1 and board[i,j+1] == 0 :\n",
    "        routes[-1].append([i,j+1,'right'])\n",
    "    \n",
    "    elif board[i+1,j] == 1 and board[i,j+1] == 1 :\n",
    "        if i==size-1 and j==size-1 :\n",
    "            return routes\n",
    "        else :\n",
    "            del routes[-1]\n",
    "    \n",
    "    else :    #둘 다 뚫려있으면\n",
    "        routes[-1].append([i+1,j,'down'])\n",
    "        routes.append(routes[-1][:-1])\n",
    "        routes[-1].append([i,j+1,'right'])\n",
    "    \n",
    "    return routes\n",
    "\n",
    "\n",
    "size = len(board[0])\n",
    "\n",
    "routes.append([[0,0,None]])\n",
    "routes = findnext(board_new, routes,0,0)    #routes 첫번째\n",
    "\n",
    "while True :\n",
    "    if len(rows_idx) == 0 : continue\n",
    "    rows_idx = [x[-1][0]for x in routes]\n",
    "    cols_idx = [x[-1][1]for x in routes]\n",
    "    if sum(rows_idx)/len(rows_idx) >= size-1 and sum(cols_idx)/len(cols_idx) >= size-1 :\n",
    "        break\n",
    "    routes = findnext(board_new, routes, routes[-1][-1][0], routes[-1][-1][1])    #routes 재귀\n",
    "\n",
    "pp(routes)"
   ]
  },
  {
   "cell_type": "code",
   "execution_count": 41,
   "metadata": {
    "scrolled": true
   },
   "outputs": [
    {
     "ename": "SyntaxError",
     "evalue": "unexpected EOF while parsing (<ipython-input-41-22fe496861bc>, line 2)",
     "output_type": "error",
     "traceback": [
      "\u001b[1;36m  File \u001b[1;32m\"<ipython-input-41-22fe496861bc>\"\u001b[1;36m, line \u001b[1;32m2\u001b[0m\n\u001b[1;33m    \u001b[0m\n\u001b[1;37m    ^\u001b[0m\n\u001b[1;31mSyntaxError\u001b[0m\u001b[1;31m:\u001b[0m unexpected EOF while parsing\n"
     ]
    }
   ],
   "source": [
    "findnext(board_new, routes,0,0)\n",
    "\n",
    "    "
   ]
  },
  {
   "cell_type": "code",
   "execution_count": 18,
   "metadata": {},
   "outputs": [
    {
     "data": {
      "text/plain": [
       "[[[0, 0, None], [1, 0, 'down']], [[0, 0, None], [0, 1, 'right']]]"
      ]
     },
     "execution_count": 18,
     "metadata": {},
     "output_type": "execute_result"
    }
   ],
   "source": [
    "#이건 잘 되는데 아래는 안 될까..\n",
    "test = [[[0, 0, None]], [[0, 0, None]]]\n",
    "test[-2].append([1,0,'down'])\n",
    "test[-1].append([0,1,'right'])\n",
    "test"
   ]
  },
  {
   "cell_type": "markdown",
   "metadata": {},
   "source": [
    "## test"
   ]
  },
  {
   "cell_type": "code",
   "execution_count": 3,
   "metadata": {},
   "outputs": [
    {
     "data": {
      "text/plain": [
       "[[[0, 0, None]]]"
      ]
     },
     "execution_count": 3,
     "metadata": {},
     "output_type": "execute_result"
    }
   ],
   "source": [
    "#test= [[[0,0,None]],[[[0,0,None]]]]\n",
    "test=[]\n",
    "test.append([[0, 0, None]])\n",
    "\n",
    "\n",
    "test"
   ]
  },
  {
   "cell_type": "code",
   "execution_count": 4,
   "metadata": {},
   "outputs": [
    {
     "data": {
      "text/plain": [
       "[[[0, 0, None], [1, 0, 'down']]]"
      ]
     },
     "execution_count": 4,
     "metadata": {},
     "output_type": "execute_result"
    }
   ],
   "source": [
    "test[-1].append([1,0,'down'])\n",
    "test"
   ]
  },
  {
   "cell_type": "code",
   "execution_count": 5,
   "metadata": {},
   "outputs": [
    {
     "data": {
      "text/plain": [
       "[[[0, 0, None], [1, 0, 'down']], [[0, 0, None]]]"
      ]
     },
     "execution_count": 5,
     "metadata": {},
     "output_type": "execute_result"
    }
   ],
   "source": [
    "test.append(test[-1][:-1])\n",
    "test"
   ]
  },
  {
   "cell_type": "code",
   "execution_count": 6,
   "metadata": {},
   "outputs": [
    {
     "data": {
      "text/plain": [
       "[[[0, 0, None], [1, 0, 'down']], [[0, 0, None], [0, 1, 'right']]]"
      ]
     },
     "execution_count": 6,
     "metadata": {},
     "output_type": "execute_result"
    }
   ],
   "source": [
    "test[-1].append([0,1,'right'])\n",
    "test"
   ]
  },
  {
   "cell_type": "code",
   "execution_count": 7,
   "metadata": {},
   "outputs": [
    {
     "data": {
      "text/plain": [
       "[[[0, 0, None], [1, 0, 'down']],\n",
       " [[0, 0, None], [0, 1, 'right'], [1, 1, 'second']]]"
      ]
     },
     "execution_count": 7,
     "metadata": {},
     "output_type": "execute_result"
    }
   ],
   "source": [
    "#re\n",
    "test[-1].append([1,1,'second'])\n",
    "test"
   ]
  },
  {
   "cell_type": "code",
   "execution_count": 8,
   "metadata": {},
   "outputs": [
    {
     "data": {
      "text/plain": [
       "[[[0, 0, None], [1, 0, 'down']],\n",
       " [[0, 0, None], [0, 1, 'right'], [1, 1, 'second']],\n",
       " [[0, 0, None], [0, 1, 'right']]]"
      ]
     },
     "execution_count": 8,
     "metadata": {},
     "output_type": "execute_result"
    }
   ],
   "source": [
    "test.append(test[-1][:-1])\n",
    "test"
   ]
  },
  {
   "cell_type": "code",
   "execution_count": 9,
   "metadata": {},
   "outputs": [
    {
     "data": {
      "text/plain": [
       "[[[0, 0, None], [1, 0, 'down']],\n",
       " [[0, 0, None], [0, 1, 'right'], [1, 1, 'second']],\n",
       " [[0, 0, None], [0, 1, 'right'], [0, 1, 'right']]]"
      ]
     },
     "execution_count": 9,
     "metadata": {},
     "output_type": "execute_result"
    }
   ],
   "source": [
    "test[-1].append([0,1,'right'])\n",
    "test"
   ]
  },
  {
   "cell_type": "code",
   "execution_count": 10,
   "metadata": {},
   "outputs": [
    {
     "data": {
      "text/plain": [
       "[1, 1, 0]"
      ]
     },
     "execution_count": 10,
     "metadata": {},
     "output_type": "execute_result"
    }
   ],
   "source": [
    "[x[-1][0]for x in test]"
   ]
  },
  {
   "cell_type": "code",
   "execution_count": 11,
   "metadata": {},
   "outputs": [
    {
     "data": {
      "text/plain": [
       "0.6666666666666666"
      ]
     },
     "execution_count": 11,
     "metadata": {},
     "output_type": "execute_result"
    }
   ],
   "source": [
    "sum([x[-1][0]for x in test])/len([x[-1][0]for x in test])"
   ]
  },
  {
   "cell_type": "code",
   "execution_count": 13,
   "metadata": {},
   "outputs": [
    {
     "data": {
      "text/plain": [
       "[[0, 0, None], [0, 1, 'right'], [0, 1, 'right']]"
      ]
     },
     "execution_count": 13,
     "metadata": {},
     "output_type": "execute_result"
    }
   ],
   "source": [
    "test[-1]"
   ]
  },
  {
   "cell_type": "markdown",
   "metadata": {},
   "source": [
    "### 재귀함수 재정비"
   ]
  },
  {
   "cell_type": "code",
   "execution_count": 14,
   "metadata": {},
   "outputs": [
    {
     "ename": "TypeError",
     "evalue": "'int' object is not subscriptable",
     "output_type": "error",
     "traceback": [
      "\u001b[1;31m---------------------------------------------------------------------------\u001b[0m",
      "\u001b[1;31mTypeError\u001b[0m                                 Traceback (most recent call last)",
      "\u001b[1;32m<ipython-input-14-ca333ad2d5b7>\u001b[0m in \u001b[0;36m<module>\u001b[1;34m\u001b[0m\n\u001b[0;32m     53\u001b[0m \u001b[1;33m\u001b[0m\u001b[0m\n\u001b[0;32m     54\u001b[0m \u001b[1;32mwhile\u001b[0m \u001b[1;32mTrue\u001b[0m \u001b[1;33m:\u001b[0m\u001b[1;33m\u001b[0m\u001b[1;33m\u001b[0m\u001b[0m\n\u001b[1;32m---> 55\u001b[1;33m     \u001b[0mrows_idx\u001b[0m \u001b[1;33m=\u001b[0m \u001b[1;33m[\u001b[0m\u001b[0mx\u001b[0m\u001b[1;33m[\u001b[0m\u001b[1;33m-\u001b[0m\u001b[1;36m1\u001b[0m\u001b[1;33m]\u001b[0m\u001b[1;33m[\u001b[0m\u001b[1;36m0\u001b[0m\u001b[1;33m]\u001b[0m\u001b[1;32mfor\u001b[0m \u001b[0mx\u001b[0m \u001b[1;32min\u001b[0m \u001b[0mroutes\u001b[0m\u001b[1;33m]\u001b[0m\u001b[1;33m\u001b[0m\u001b[1;33m\u001b[0m\u001b[0m\n\u001b[0m\u001b[0;32m     56\u001b[0m     \u001b[0mcols_idx\u001b[0m \u001b[1;33m=\u001b[0m \u001b[1;33m[\u001b[0m\u001b[0mx\u001b[0m\u001b[1;33m[\u001b[0m\u001b[1;33m-\u001b[0m\u001b[1;36m1\u001b[0m\u001b[1;33m]\u001b[0m\u001b[1;33m[\u001b[0m\u001b[1;36m1\u001b[0m\u001b[1;33m]\u001b[0m\u001b[1;32mfor\u001b[0m \u001b[0mx\u001b[0m \u001b[1;32min\u001b[0m \u001b[0mroutes\u001b[0m\u001b[1;33m]\u001b[0m\u001b[1;33m\u001b[0m\u001b[1;33m\u001b[0m\u001b[0m\n\u001b[0;32m     57\u001b[0m     \u001b[1;32mif\u001b[0m \u001b[0msum\u001b[0m\u001b[1;33m(\u001b[0m\u001b[0mrows_idx\u001b[0m\u001b[1;33m)\u001b[0m\u001b[1;33m/\u001b[0m\u001b[0mlen\u001b[0m\u001b[1;33m(\u001b[0m\u001b[0mrows_idx\u001b[0m\u001b[1;33m)\u001b[0m \u001b[1;33m>=\u001b[0m \u001b[0msize\u001b[0m\u001b[1;33m-\u001b[0m\u001b[1;36m1\u001b[0m \u001b[1;32mand\u001b[0m \u001b[0msum\u001b[0m\u001b[1;33m(\u001b[0m\u001b[0mcols_idx\u001b[0m\u001b[1;33m)\u001b[0m\u001b[1;33m/\u001b[0m\u001b[0mlen\u001b[0m\u001b[1;33m(\u001b[0m\u001b[0mcols_idx\u001b[0m\u001b[1;33m)\u001b[0m \u001b[1;33m>=\u001b[0m \u001b[0msize\u001b[0m\u001b[1;33m-\u001b[0m\u001b[1;36m1\u001b[0m \u001b[1;33m:\u001b[0m\u001b[1;33m\u001b[0m\u001b[1;33m\u001b[0m\u001b[0m\n",
      "\u001b[1;32m<ipython-input-14-ca333ad2d5b7>\u001b[0m in \u001b[0;36m<listcomp>\u001b[1;34m(.0)\u001b[0m\n\u001b[0;32m     53\u001b[0m \u001b[1;33m\u001b[0m\u001b[0m\n\u001b[0;32m     54\u001b[0m \u001b[1;32mwhile\u001b[0m \u001b[1;32mTrue\u001b[0m \u001b[1;33m:\u001b[0m\u001b[1;33m\u001b[0m\u001b[1;33m\u001b[0m\u001b[0m\n\u001b[1;32m---> 55\u001b[1;33m     \u001b[0mrows_idx\u001b[0m \u001b[1;33m=\u001b[0m \u001b[1;33m[\u001b[0m\u001b[0mx\u001b[0m\u001b[1;33m[\u001b[0m\u001b[1;33m-\u001b[0m\u001b[1;36m1\u001b[0m\u001b[1;33m]\u001b[0m\u001b[1;33m[\u001b[0m\u001b[1;36m0\u001b[0m\u001b[1;33m]\u001b[0m\u001b[1;32mfor\u001b[0m \u001b[0mx\u001b[0m \u001b[1;32min\u001b[0m \u001b[0mroutes\u001b[0m\u001b[1;33m]\u001b[0m\u001b[1;33m\u001b[0m\u001b[1;33m\u001b[0m\u001b[0m\n\u001b[0m\u001b[0;32m     56\u001b[0m     \u001b[0mcols_idx\u001b[0m \u001b[1;33m=\u001b[0m \u001b[1;33m[\u001b[0m\u001b[0mx\u001b[0m\u001b[1;33m[\u001b[0m\u001b[1;33m-\u001b[0m\u001b[1;36m1\u001b[0m\u001b[1;33m]\u001b[0m\u001b[1;33m[\u001b[0m\u001b[1;36m1\u001b[0m\u001b[1;33m]\u001b[0m\u001b[1;32mfor\u001b[0m \u001b[0mx\u001b[0m \u001b[1;32min\u001b[0m \u001b[0mroutes\u001b[0m\u001b[1;33m]\u001b[0m\u001b[1;33m\u001b[0m\u001b[1;33m\u001b[0m\u001b[0m\n\u001b[0;32m     57\u001b[0m     \u001b[1;32mif\u001b[0m \u001b[0msum\u001b[0m\u001b[1;33m(\u001b[0m\u001b[0mrows_idx\u001b[0m\u001b[1;33m)\u001b[0m\u001b[1;33m/\u001b[0m\u001b[0mlen\u001b[0m\u001b[1;33m(\u001b[0m\u001b[0mrows_idx\u001b[0m\u001b[1;33m)\u001b[0m \u001b[1;33m>=\u001b[0m \u001b[0msize\u001b[0m\u001b[1;33m-\u001b[0m\u001b[1;36m1\u001b[0m \u001b[1;32mand\u001b[0m \u001b[0msum\u001b[0m\u001b[1;33m(\u001b[0m\u001b[0mcols_idx\u001b[0m\u001b[1;33m)\u001b[0m\u001b[1;33m/\u001b[0m\u001b[0mlen\u001b[0m\u001b[1;33m(\u001b[0m\u001b[0mcols_idx\u001b[0m\u001b[1;33m)\u001b[0m \u001b[1;33m>=\u001b[0m \u001b[0msize\u001b[0m\u001b[1;33m-\u001b[0m\u001b[1;36m1\u001b[0m \u001b[1;33m:\u001b[0m\u001b[1;33m\u001b[0m\u001b[1;33m\u001b[0m\u001b[0m\n",
      "\u001b[1;31mTypeError\u001b[0m: 'int' object is not subscriptable"
     ]
    }
   ],
   "source": [
    "import numpy as np\n",
    "routes = []  # prestep direction, current position x, y\n",
    "            #route.append()\n",
    "board = np.array([[0,0,1,0],[0,0,0,0],[0,1,0,1],[1,0,0,0]])\n",
    "size = len(board)\n",
    "board_new = np.ones((size+1,size+1))\n",
    "board_new[:-1,:-1] = board\n",
    "\n",
    "def findnext(board, routes,i,j):\n",
    "    size = len(board)\n",
    "    if board[i+1,j] == 0 and board[i,j+1] == 1 :\n",
    "        routes[-1].append([i+1,j,'down'])\n",
    "        return [[routes, i+1, j]]\n",
    "    \n",
    "    elif board[i+1,j] == 1 and board[i,j+1] == 0 :\n",
    "        routes[-1].append([i,j+1,'right'])\n",
    "        return [[routes, i, j+1]]\n",
    "    \n",
    "    elif board[i+1,j] == 1 and board[i,j+1] == 1 :\n",
    "        if i==size-1 and j==size-1 :\n",
    "            return [[routes, i, j]]\n",
    "        else :\n",
    "            del routes[-1]\n",
    "            return [[routes, i, j]]\n",
    "    \n",
    "    else :    #둘 다 뚫려있으면\n",
    "        routes[-1].append([i+1,j,'down'])\n",
    "        routes.append(routes[-1][:-1])\n",
    "        routes[-1].append([i,j+1,'right'])\n",
    "        return [[routes, i+1, j], [routes, i, j+1]]\n",
    "\n",
    "\n",
    "\n",
    "def routine(board_new, routes):\n",
    "    result_temp = findnext(board_new, routes, routes[-1][0], routes[-1][1])\n",
    "    if len(result_temp) == 1 :\n",
    "        routes = result_temp\n",
    "    else :\n",
    "        routes = result_temp[0]\n",
    "        routine(board_new, routes)\n",
    "        \n",
    "        routes = result_temp[1]\n",
    "        routine(board_new, routes)\n",
    "    return routes\n",
    "\n",
    "\n",
    "\n",
    "\n",
    "size = len(board[0])\n",
    "\n",
    "routes.append([[0,0,None]])\n",
    "routes = findnext(board_new, routes,0,0)    #routes 첫번째\n",
    "\n",
    "while True :\n",
    "    rows_idx = [x[-1][0]for x in routes]\n",
    "    cols_idx = [x[-1][1]for x in routes]\n",
    "    if sum(rows_idx)/len(rows_idx) >= size-1 and sum(cols_idx)/len(cols_idx) >= size-1 :\n",
    "        break\n",
    "    \n",
    "    #routes 재귀\n",
    "    routes = routine(board_new, routes)\n",
    "\n",
    "pp(routes)"
   ]
  },
  {
   "cell_type": "markdown",
   "metadata": {},
   "source": [
    "## all cases 탐색"
   ]
  },
  {
   "cell_type": "code",
   "execution_count": null,
   "metadata": {},
   "outputs": [],
   "source": [
    "import numpy as np\n",
    "routes = []  # prestep direction, current position x, y\n",
    "            #route.append()\n",
    "board = np.array([[0,0,1,0],[0,0,0,0],[0,1,0,1],[1,0,0,0]])\n",
    "size = len(board)\n",
    "board_new = np.ones((size+1,size+1))\n",
    "board_new[:-1,:-1] = board\n",
    "\n",
    "\n",
    "def findnext(board, routes,i,j):\n",
    "    size = len(board)\n",
    "    if board[i+1,j] == 0 and board[i,j+1] == 1 :\n",
    "        routes[-1].append([i+1,j,'down'])\n",
    "        return [[routes, i+1, j]]\n",
    "    \n",
    "    elif board[i+1,j] == 1 and board[i,j+1] == 0 :\n",
    "        routes[-1].append([i,j+1,'right'])\n",
    "        return [[routes, i, j+1]]\n",
    "    \n",
    "    elif board[i+1,j] == 1 and board[i,j+1] == 1 :\n",
    "        if i==size-1 and j==size-1 :\n",
    "            return [[routes, i, j]]\n",
    "        else :\n",
    "            del routes[-1]\n",
    "            return [[routes, i, j]]\n",
    "    \n",
    "    else :    #둘 다 뚫려있으면\n",
    "        routes[-1].append([i+1,j,'down'])\n",
    "        routes.append(routes[-1][:-1])\n",
    "        routes[-1].append([i,j+1,'right'])\n",
    "        return [[routes, i+1, j], [routes, i, j+1]]\n",
    "\n",
    "\n",
    "routes.append([[0,0,None]])\n",
    "routes = findnext(board_new, routes,0,0)    #routes 첫번째\n",
    "\n",
    "for i in range(size):\n",
    "    for j in range(size)\n",
    "\n",
    "    \n",
    "\n",
    "while True :\n",
    "    rows_idx = [x[-1][0]for x in routes]\n",
    "    cols_idx = [x[-1][1]for x in routes]\n",
    "    if len(rows_idx) == 0 or len(cols_idx) == 0 : continue\n",
    "    \n",
    "    if sum(rows_idx)/len(rows_idx) >= size-1 and sum(cols_idx)/len(cols_idx) >= size-1 :\n",
    "        break\n",
    "    \n",
    "    if routes\n",
    "    routes = findnext(board_new, routes, routes[-1][-1][0], routes[-1][-1][1])    #routes 재귀\n",
    "\n",
    "pp(routes)"
   ]
  }
 ],
 "metadata": {
  "kernelspec": {
   "display_name": "Python 3",
   "language": "python",
   "name": "python3"
  },
  "language_info": {
   "codemirror_mode": {
    "name": "ipython",
    "version": 3
   },
   "file_extension": ".py",
   "mimetype": "text/x-python",
   "name": "python",
   "nbconvert_exporter": "python",
   "pygments_lexer": "ipython3",
   "version": "3.6.10"
  }
 },
 "nbformat": 4,
 "nbformat_minor": 4
}
