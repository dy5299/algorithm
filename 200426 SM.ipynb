{
 "cells": [
  {
   "cell_type": "markdown",
   "metadata": {},
   "source": [
    "# 2 최고의 팀"
   ]
  },
  {
   "cell_type": "code",
   "execution_count": 2,
   "metadata": {},
   "outputs": [
    {
     "name": "stdout",
     "output_type": "stream",
     "text": [
      "1 2\n",
      "3 4\n",
      "[[1, 3], [2, 4]]\n"
     ]
    }
   ],
   "source": [
    "n=2\n",
    "able=[[],[]]\n",
    "for _ in range(n):\n",
    "    # ability\n",
    "    x,y=map(int,input().split())\n",
    "    able[0].append(x)\n",
    "    able[1].append(y)\n",
    "print(able)"
   ]
  },
  {
   "cell_type": "code",
   "execution_count": 20,
   "metadata": {},
   "outputs": [
    {
     "name": "stdout",
     "output_type": "stream",
     "text": [
      "no\n",
      "yeah\n",
      "---\n",
      "no\n",
      "yeah [3, 4]\n"
     ]
    }
   ],
   "source": [
    "for abl in able:\n",
    "    if 3 in abl:\n",
    "        print('yeah')\n",
    "    else:\n",
    "        print('no')\n",
    "print('---')\n",
    "i=0\n",
    "while i < len(able):\n",
    "    if 3 in able[i]:\n",
    "        print('yeah',able[i])\n",
    "    else:\n",
    "        print('no')\n",
    "    i+=1"
   ]
  },
  {
   "cell_type": "code",
   "execution_count": 27,
   "metadata": {},
   "outputs": [
    {
     "data": {
      "text/plain": [
       "1"
      ]
     },
     "execution_count": 27,
     "metadata": {},
     "output_type": "execute_result"
    }
   ],
   "source": [
    "aaa=[{1,2,3},{4,5,6}]\n",
    "\n",
    "def isexist(twodim,find):\n",
    "    for idx_i, val_i in enumerate(twodim):\n",
    "        if  find in val_i:\n",
    "            return idx_i\n",
    "    return -1\n",
    "isexist(aaa,4)"
   ]
  },
  {
   "cell_type": "code",
   "execution_count": 32,
   "metadata": {},
   "outputs": [
    {
     "data": {
      "text/plain": [
       "[{1, 2, 3, 4}, {4, 5, 6}]"
      ]
     },
     "execution_count": 32,
     "metadata": {},
     "output_type": "execute_result"
    }
   ],
   "source": [
    "aaa[0].add(4)\n",
    "aaa"
   ]
  },
  {
   "cell_type": "code",
   "execution_count": 45,
   "metadata": {},
   "outputs": [
    {
     "data": {
      "text/plain": [
       "1"
      ]
     },
     "execution_count": 45,
     "metadata": {},
     "output_type": "execute_result"
    }
   ],
   "source": [
    "newset={5,6}\n",
    "twodim=[{2,3,4,5},{7,8,9,10}]\n",
    "isexist(twodim,10)"
   ]
  },
  {
   "cell_type": "code",
   "execution_count": 43,
   "metadata": {},
   "outputs": [
    {
     "name": "stdout",
     "output_type": "stream",
     "text": [
      "2 3 4 5\n",
      "{2, 3, 4, 5}\n"
     ]
    }
   ],
   "source": [
    "printset(map(int,input().split()))"
   ]
  },
  {
   "cell_type": "code",
   "execution_count": null,
   "metadata": {},
   "outputs": [],
   "source": [
    "rel=[{2,3,4,5},{6,7,8,9}]\n",
    "newset={5,10}\n",
    "for newelm in newset:\n",
    "    result_newelm=isexist(rel,newelm)\n",
    "    if result_newelm>0:\n",
    "        rel[result_newelm].add(newelm)"
   ]
  },
  {
   "cell_type": "code",
   "execution_count": 1,
   "metadata": {},
   "outputs": [
    {
     "name": "stdout",
     "output_type": "stream",
     "text": [
      "2 3\n",
      "3 4\n",
      "6 7\n",
      "7 9\n",
      "7 10\n",
      "[{2, 3, 4}, {9, 10, 6, 7}]\n"
     ]
    }
   ],
   "source": [
    "m=5\n",
    "# relationships COMPLETE\n",
    "rel=[]\n",
    "\n",
    "def isexist(twodim,find):\n",
    "    for idx_i, val_i in enumerate(twodim):\n",
    "        if  find in val_i:\n",
    "            return idx_i\n",
    "    return -1\n",
    "\n",
    "for _ in range(m):\n",
    "    w,z=map(int,input().split())\n",
    "    if len(rel)==0 :\n",
    "        rel.append({w,z})\n",
    "    elif len(rel)>0 :\n",
    "        result_w = isexist(rel,w)\n",
    "        result_z = isexist(rel,z)\n",
    "        if result_w>=0 or result_z>=0 :\n",
    "            rel[result_z].add(w)\n",
    "            rel[result_z].add(z)\n",
    "        else:\n",
    "            rel.append({w,z})\n",
    "print(rel)"
   ]
  },
  {
   "cell_type": "code",
   "execution_count": 10,
   "metadata": {},
   "outputs": [
    {
     "name": "stdout",
     "output_type": "stream",
     "text": [
      "8 7\n",
      "17 1\n",
      "1 3\n",
      "8 14\n",
      "18 19\n",
      "19 19\n",
      "2 15\n",
      "17 8\n",
      "11 3\n",
      "1 1\n",
      "4 3\n",
      "4 5\n",
      "3 5\n",
      "1 7\n",
      "1 2\n",
      "3 3\n",
      "[[17, 1, 8, 18, 19, 2, 17, 11], [1, 3, 14, 19, 19, 15, 8, 3]]\n",
      "[{1, 2, 7}, {3, 4, 5}]\n"
     ]
    }
   ],
   "source": [
    "n,m=map(int,input().split())\n",
    "\n",
    "\n",
    "# ability\n",
    "able=[[],[]]\n",
    "for _ in range(n):\n",
    "    x,y=map(int,input().split())\n",
    "    able[0].append(x)\n",
    "    able[1].append(y)\n",
    "\n",
    "\n",
    "# relationships\n",
    "rel=[]\n",
    "\n",
    "def isexist(twodim,find):\n",
    "    for idx_i, val_i in enumerate(twodim):\n",
    "        if  find in val_i:\n",
    "            return idx_i\n",
    "    return -1\n",
    "\n",
    "w,z=map(int,input().split())\n",
    "rel.append(({w,z}))\n",
    "for _ in range(m-1):\n",
    "    w,z=map(int,input().split())\n",
    "    result_w = isexist(rel,w)\n",
    "    result_z = isexist(rel,z)\n",
    "    if result_w>=0:\n",
    "        rel[result_w].add(w)\n",
    "        rel[result_w].add(z)\n",
    "    elif result_z>=0 :\n",
    "        rel[result_z].add(w)\n",
    "        rel[result_z].add(z)\n",
    "    else:\n",
    "        rel.append({w,z})\n",
    "\n",
    "            \n",
    "print(able)\n",
    "print(rel)\n"
   ]
  },
  {
   "cell_type": "code",
   "execution_count": 14,
   "metadata": {},
   "outputs": [
    {
     "name": "stdout",
     "output_type": "stream",
     "text": [
      "1\n",
      "2\n",
      "7\n"
     ]
    }
   ],
   "source": [
    "rel[0]\n",
    "for t in rel[0]:\n",
    "    print(t)"
   ]
  },
  {
   "cell_type": "code",
   "execution_count": 21,
   "metadata": {},
   "outputs": [
    {
     "name": "stdout",
     "output_type": "stream",
     "text": [
      "[1, 8, 11]\n",
      "[3, 14, 3]\n",
      "[18, 19, 2]\n",
      "[19, 19, 15]\n",
      "42\n"
     ]
    }
   ],
   "source": [
    "def teamable(teamset):\n",
    "    xs=[]\n",
    "    ys=[]\n",
    "    for t in teamset:\n",
    "        xs.append(able[0][t])\n",
    "        ys.append(able[1][t])\n",
    "    print(xs)\n",
    "    print(ys)\n",
    "    score = (max(xs)-min(xs) + max(ys)-min(ys)) * 2\n",
    "    return score\n",
    "\n",
    "scores=[]\n",
    "for re in rel:\n",
    "    scores.append(teamable(re))\n",
    "print(max(scores))"
   ]
  },
  {
   "cell_type": "code",
   "execution_count": 5,
   "metadata": {},
   "outputs": [
    {
     "name": "stdout",
     "output_type": "stream",
     "text": [
      "[[17, 1, 8, 18, 19, 2, 17, 11], [1, 3, 14, 19, 19, 15, 8, 3]]\n",
      "[{1}, {1, 2, 3, 4, 5, 7}]\n"
     ]
    },
    {
     "ename": "TypeError",
     "evalue": "'list' object is not callable",
     "output_type": "error",
     "traceback": [
      "\u001b[1;31m---------------------------------------------------------------------------\u001b[0m",
      "\u001b[1;31mTypeError\u001b[0m                                 Traceback (most recent call last)",
      "\u001b[1;32m<ipython-input-5-1e57d9f3b11b>\u001b[0m in \u001b[0;36m<module>\u001b[1;34m\u001b[0m\n\u001b[0;32m      2\u001b[0m \u001b[0mprint\u001b[0m\u001b[1;33m(\u001b[0m\u001b[0mrel\u001b[0m\u001b[1;33m)\u001b[0m\u001b[1;33m\u001b[0m\u001b[1;33m\u001b[0m\u001b[0m\n\u001b[0;32m      3\u001b[0m \u001b[1;32mfor\u001b[0m \u001b[0mre\u001b[0m \u001b[1;32min\u001b[0m \u001b[0mrel\u001b[0m\u001b[1;33m:\u001b[0m\u001b[1;33m\u001b[0m\u001b[1;33m\u001b[0m\u001b[0m\n\u001b[1;32m----> 4\u001b[1;33m     \u001b[0mscores\u001b[0m\u001b[1;33m=\u001b[0m\u001b[0mteamable\u001b[0m\u001b[1;33m(\u001b[0m\u001b[0mlist\u001b[0m\u001b[1;33m(\u001b[0m\u001b[0mre\u001b[0m\u001b[1;33m)\u001b[0m\u001b[1;33m)\u001b[0m\u001b[1;33m\u001b[0m\u001b[1;33m\u001b[0m\u001b[0m\n\u001b[0m\u001b[0;32m      5\u001b[0m \u001b[0mprint\u001b[0m\u001b[1;33m(\u001b[0m\u001b[0mmax\u001b[0m\u001b[1;33m(\u001b[0m\u001b[0mscores\u001b[0m\u001b[1;33m)\u001b[0m\u001b[1;33m)\u001b[0m\u001b[1;33m\u001b[0m\u001b[1;33m\u001b[0m\u001b[0m\n",
      "\u001b[1;32m<ipython-input-3-eace64395e76>\u001b[0m in \u001b[0;36mteamable\u001b[1;34m(teamset)\u001b[0m\n\u001b[0;32m     35\u001b[0m \u001b[1;33m\u001b[0m\u001b[0m\n\u001b[0;32m     36\u001b[0m \u001b[1;32mdef\u001b[0m \u001b[0mteamable\u001b[0m\u001b[1;33m(\u001b[0m\u001b[0mteamset\u001b[0m\u001b[1;33m)\u001b[0m\u001b[1;33m:\u001b[0m\u001b[1;33m\u001b[0m\u001b[1;33m\u001b[0m\u001b[0m\n\u001b[1;32m---> 37\u001b[1;33m     \u001b[1;32mfor\u001b[0m \u001b[0mt\u001b[0m \u001b[1;32min\u001b[0m \u001b[0mteamset\u001b[0m\u001b[1;33m(\u001b[0m\u001b[1;33m)\u001b[0m\u001b[1;33m:\u001b[0m\u001b[1;33m\u001b[0m\u001b[1;33m\u001b[0m\u001b[0m\n\u001b[0m\u001b[0;32m     38\u001b[0m         \u001b[0mxs\u001b[0m \u001b[1;33m=\u001b[0m \u001b[0mable\u001b[0m\u001b[1;33m[\u001b[0m\u001b[1;36m0\u001b[0m\u001b[1;33m]\u001b[0m\u001b[1;33m[\u001b[0m\u001b[0mt\u001b[0m\u001b[1;33m]\u001b[0m\u001b[1;33m\u001b[0m\u001b[1;33m\u001b[0m\u001b[0m\n\u001b[0;32m     39\u001b[0m         \u001b[0mys\u001b[0m \u001b[1;33m=\u001b[0m \u001b[0mable\u001b[0m\u001b[1;33m[\u001b[0m\u001b[1;36m1\u001b[0m\u001b[1;33m]\u001b[0m\u001b[1;33m[\u001b[0m\u001b[0mt\u001b[0m\u001b[1;33m]\u001b[0m\u001b[1;33m\u001b[0m\u001b[1;33m\u001b[0m\u001b[0m\n",
      "\u001b[1;31mTypeError\u001b[0m: 'list' object is not callable"
     ]
    }
   ],
   "source": [
    "\n",
    "for re in rel:\n",
    "    scores=teamable(list(re))\n",
    "print(max(scores))"
   ]
  },
  {
   "cell_type": "code",
   "execution_count": 25,
   "metadata": {
    "scrolled": true
   },
   "outputs": [
    {
     "name": "stdout",
     "output_type": "stream",
     "text": [
      "7 5\n",
      "13 13\n",
      "16 20\n",
      "15 8\n",
      "12 20\n",
      "13 15\n",
      "12 11\n",
      "14 20\n",
      "7 2\n",
      "4 2\n",
      "7 3\n",
      "1 4\n",
      "7 6\n"
     ]
    }
   ],
   "source": [
    "n,m=map(int,input().split())\n",
    "\n",
    "\n",
    "# ability\n",
    "able=[[],[]]\n",
    "for _ in range(n):\n",
    "    x,y=map(int,input().split())\n",
    "    able[0].append(x)\n",
    "    able[1].append(y)\n",
    "\n",
    "\n",
    "# relationships\n",
    "rel=[]\n",
    "\n",
    "def isexist(twodim,find):\n",
    "    for idx_i, val_i in enumerate(twodim):\n",
    "        if  find in val_i:\n",
    "            return idx_i\n",
    "    return -1\n",
    "\n",
    "w,z=map(int,input().split())\n",
    "rel.append({w,z})\n",
    "for _ in range(m-1):\n",
    "    w,z=map(int,input().split())\n",
    "    result_w = isexist(rel,w)\n",
    "    result_z = isexist(rel,z)\n",
    "    if result_w>=0:\n",
    "        rel[result_w].add(w)\n",
    "        rel[result_w].add(z)\n",
    "    elif result_z>=0 :\n",
    "        rel[result_z].add(w)\n",
    "        rel[result_z].add(z)\n",
    "    else:\n",
    "        rel.append({w,z})"
   ]
  },
  {
   "cell_type": "code",
   "execution_count": 28,
   "metadata": {},
   "outputs": [
    {
     "data": {
      "text/plain": [
       "[{1, 2, 3}, {4, 5, 6}]"
      ]
     },
     "execution_count": 28,
     "metadata": {},
     "output_type": "execute_result"
    }
   ],
   "source": [
    "rel=[]\n",
    "rel.append({1,2,3})\n",
    "rel.append({4,5,6})\n",
    "rel"
   ]
  },
  {
   "cell_type": "code",
   "execution_count": 26,
   "metadata": {},
   "outputs": [
    {
     "name": "stdout",
     "output_type": "stream",
     "text": [
      "[{1, 2, 3, 4, 6, 7}]\n"
     ]
    }
   ],
   "source": [
    "print(rel)"
   ]
  },
  {
   "cell_type": "code",
   "execution_count": 22,
   "metadata": {},
   "outputs": [
    {
     "name": "stdout",
     "output_type": "stream",
     "text": [
      "7 5\n",
      "13 13\n",
      "16 20d\n"
     ]
    },
    {
     "ename": "ValueError",
     "evalue": "invalid literal for int() with base 10: '20d'",
     "output_type": "error",
     "traceback": [
      "\u001b[1;31m---------------------------------------------------------------------------\u001b[0m",
      "\u001b[1;31mValueError\u001b[0m                                Traceback (most recent call last)",
      "\u001b[1;32m<ipython-input-22-85eba1472a53>\u001b[0m in \u001b[0;36m<module>\u001b[1;34m\u001b[0m\n\u001b[0;32m      5\u001b[0m \u001b[0mable\u001b[0m\u001b[1;33m=\u001b[0m\u001b[1;33m[\u001b[0m\u001b[1;33m[\u001b[0m\u001b[1;33m]\u001b[0m\u001b[1;33m,\u001b[0m\u001b[1;33m[\u001b[0m\u001b[1;33m]\u001b[0m\u001b[1;33m]\u001b[0m\u001b[1;33m\u001b[0m\u001b[1;33m\u001b[0m\u001b[0m\n\u001b[0;32m      6\u001b[0m \u001b[1;32mfor\u001b[0m \u001b[0m_\u001b[0m \u001b[1;32min\u001b[0m \u001b[0mrange\u001b[0m\u001b[1;33m(\u001b[0m\u001b[0mn\u001b[0m\u001b[1;33m)\u001b[0m\u001b[1;33m:\u001b[0m\u001b[1;33m\u001b[0m\u001b[1;33m\u001b[0m\u001b[0m\n\u001b[1;32m----> 7\u001b[1;33m     \u001b[0mx\u001b[0m\u001b[1;33m,\u001b[0m\u001b[0my\u001b[0m\u001b[1;33m=\u001b[0m\u001b[0mmap\u001b[0m\u001b[1;33m(\u001b[0m\u001b[0mint\u001b[0m\u001b[1;33m,\u001b[0m\u001b[0minput\u001b[0m\u001b[1;33m(\u001b[0m\u001b[1;33m)\u001b[0m\u001b[1;33m.\u001b[0m\u001b[0msplit\u001b[0m\u001b[1;33m(\u001b[0m\u001b[1;33m)\u001b[0m\u001b[1;33m)\u001b[0m\u001b[1;33m\u001b[0m\u001b[1;33m\u001b[0m\u001b[0m\n\u001b[0m\u001b[0;32m      8\u001b[0m     \u001b[0mable\u001b[0m\u001b[1;33m[\u001b[0m\u001b[1;36m0\u001b[0m\u001b[1;33m]\u001b[0m\u001b[1;33m.\u001b[0m\u001b[0mappend\u001b[0m\u001b[1;33m(\u001b[0m\u001b[0mx\u001b[0m\u001b[1;33m)\u001b[0m\u001b[1;33m\u001b[0m\u001b[1;33m\u001b[0m\u001b[0m\n\u001b[0;32m      9\u001b[0m     \u001b[0mable\u001b[0m\u001b[1;33m[\u001b[0m\u001b[1;36m1\u001b[0m\u001b[1;33m]\u001b[0m\u001b[1;33m.\u001b[0m\u001b[0mappend\u001b[0m\u001b[1;33m(\u001b[0m\u001b[0my\u001b[0m\u001b[1;33m)\u001b[0m\u001b[1;33m\u001b[0m\u001b[1;33m\u001b[0m\u001b[0m\n",
      "\u001b[1;31mValueError\u001b[0m: invalid literal for int() with base 10: '20d'"
     ]
    }
   ],
   "source": [
    "def teamable(teamset):\n",
    "    xs=[]\n",
    "    ys=[]\n",
    "    for t in teamset:\n",
    "        xs.append(able[0][t])\n",
    "        ys.append(able[1][t])\n",
    "    score = (max(xs)-min(xs) + max(ys)-min(ys)) * 2\n",
    "    return score\n",
    "\n",
    "scores=[]\n",
    "for re in rel:\n",
    "    scores.append(teamable(re))\n",
    "print(max(scores))"
   ]
  },
  {
   "cell_type": "markdown",
   "metadata": {},
   "source": [
    "# 3. 채널링"
   ]
  },
  {
   "cell_type": "code",
   "execution_count": 29,
   "metadata": {},
   "outputs": [
    {
     "name": "stdout",
     "output_type": "stream",
     "text": [
      "9\n",
      "15 32\n",
      "41 100\n",
      "54 58\n",
      "26 75\n",
      "3 71\n",
      "48 52\n",
      "30 83\n",
      "66 79\n",
      "9 37\n"
     ]
    }
   ],
   "source": [
    "n=int(input())\n",
    "skills=[]\n",
    "for _ in range(n):\n",
    "    s,e=map(int,input().split())\n",
    "    skills.append([s,e])\n"
   ]
  },
  {
   "cell_type": "code",
   "execution_count": 30,
   "metadata": {},
   "outputs": [
    {
     "data": {
      "text/plain": [
       "[[15, 32],\n",
       " [41, 100],\n",
       " [54, 58],\n",
       " [26, 75],\n",
       " [3, 71],\n",
       " [48, 52],\n",
       " [30, 83],\n",
       " [66, 79],\n",
       " [9, 37]]"
      ]
     },
     "execution_count": 30,
     "metadata": {},
     "output_type": "execute_result"
    }
   ],
   "source": [
    "skills"
   ]
  },
  {
   "cell_type": "code",
   "execution_count": 32,
   "metadata": {},
   "outputs": [
    {
     "name": "stdout",
     "output_type": "stream",
     "text": [
      "2\n",
      "3\n",
      "4\n",
      "3\n",
      "0\n",
      "4\n",
      "4\n",
      "4\n",
      "1\n"
     ]
    }
   ],
   "source": [
    "\n",
    "for j in range(len(skills)):\n",
    "    mys,mye = skills[j][0], skills[j][1]\n",
    "    cnt=0\n",
    "    for idx in range(len(skills)):\n",
    "        if skills[idx][0]<mys<skills[idx][1]:\n",
    "            cnt+=1\n",
    "    print(cnt)"
   ]
  },
  {
   "cell_type": "code",
   "execution_count": null,
   "metadata": {},
   "outputs": [],
   "source": [
    "n=int(input())\n",
    "skills=[]\n",
    "for _ in range(n):\n",
    "    s,e=map(int,input().split())\n",
    "    skills.append([s,e])\n",
    "\n",
    "for j in range(len(skills)):\n",
    "    mys,mye = skills[j][0], skills[j][1]\n",
    "    cnt=0\n",
    "    for idx in range(len(skills)):\n",
    "        if skills[idx][0]<mys<skills[idx][1]:\n",
    "            cnt+=1\n",
    "    print(cnt)"
   ]
  },
  {
   "cell_type": "code",
   "execution_count": null,
   "metadata": {},
   "outputs": [],
   "source": []
  }
 ],
 "metadata": {
  "kernelspec": {
   "display_name": "Python 3",
   "language": "python",
   "name": "python3"
  },
  "language_info": {
   "codemirror_mode": {
    "name": "ipython",
    "version": 3
   },
   "file_extension": ".py",
   "mimetype": "text/x-python",
   "name": "python",
   "nbconvert_exporter": "python",
   "pygments_lexer": "ipython3",
   "version": "3.6.10"
  }
 },
 "nbformat": 4,
 "nbformat_minor": 4
}
