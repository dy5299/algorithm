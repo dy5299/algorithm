{
 "cells": [
  {
   "cell_type": "markdown",
   "metadata": {},
   "source": [
    "## input"
   ]
  },
  {
   "cell_type": "code",
   "execution_count": 23,
   "metadata": {},
   "outputs": [],
   "source": [
    "m,n,h=(4,3,2)\n",
    "# n행 m열\n",
    "inp=\"\"\"1 1 1 1\n",
    "1 1 1 1\n",
    "1 1 1 1\n",
    "1 1 1 1\n",
    "-1 -1 -1 -1\n",
    "1 1 1 -1\"\"\"\n",
    "\n",
    "board=[ [list(map(int,i.split())) for i in inp.split(\"\\n\")][hh*n:hh*n+n] for hh in range(h) ]"
   ]
  },
  {
   "cell_type": "code",
   "execution_count": 4,
   "metadata": {
    "scrolled": false
   },
   "outputs": [
    {
     "name": "stdout",
     "output_type": "stream",
     "text": [
      "4 3 2\n",
      "1 1 1 1\n",
      "1 1 1 1\n",
      "1 1 1 1\n",
      "1 1 1 1\n",
      "-1 -1 -1 -1\n",
      "1 1 1 -1\n"
     ]
    }
   ],
   "source": [
    "m,n,h=map(int, input().split())\n",
    "board=[]\n",
    "for _ in range(h):\n",
    "    temp=[]\n",
    "    for _ in range(n):\n",
    "        temp.append(list(map(int, input().split())))\n",
    "    board.append(temp)"
   ]
  },
  {
   "cell_type": "code",
   "execution_count": 4,
   "metadata": {},
   "outputs": [
    {
     "name": "stdout",
     "output_type": "stream",
     "text": [
      "4 3 2\n",
      "1 1 1 1\n",
      "1 1 1 1\n",
      "1 1 1 1\n",
      "1 1 1 1\n",
      "-1 -1 -1 -1\n",
      "1 1 1 -1\n"
     ]
    }
   ],
   "source": [
    "m,n,h=map(int, input().split())\n",
    "board=[[list(map(int, input().split())) for _ in range(n)] for _ in range(h)]"
   ]
  },
  {
   "cell_type": "code",
   "execution_count": 26,
   "metadata": {
    "scrolled": true
   },
   "outputs": [
    {
     "data": {
      "text/plain": [
       "[[[1, 1, 1, 1], [1, 1, 1, 1], [1, 1, 1, 1]],\n",
       " [[1, 1, 1, 1], [-1, -1, -1, -1], [1, 1, 1, -1]]]"
      ]
     },
     "execution_count": 26,
     "metadata": {},
     "output_type": "execute_result"
    }
   ],
   "source": [
    "board"
   ]
  },
  {
   "cell_type": "markdown",
   "metadata": {},
   "source": [
    "## output"
   ]
  },
  {
   "cell_type": "code",
   "execution_count": 34,
   "metadata": {},
   "outputs": [
    {
     "name": "stdout",
     "output_type": "stream",
     "text": [
      "0\n"
     ]
    }
   ],
   "source": [
    "from collections import deque\n",
    "import numpy as np\n",
    "dist=[  [  [0]*m for i in range(n)  ]  for j in range(h)  ]\n",
    "# board: 토마토 처음 상태\n",
    "# dist: 1:ripen. -1:unripen\n",
    "que=deque([])\n",
    "for i in range(h):\n",
    "    for j in range(n):\n",
    "        for k in range(m):\n",
    "            if board[i][j][k]==1:\n",
    "                que.append((i,j,k))\n",
    "    #             dist[i][j][k]=0\n",
    "            elif board[i][j][k]==0:\n",
    "                dist[i][j][k]=-1\n",
    "\n",
    "dx=[1,0,0,-1,0,0]\n",
    "dy=[0,1,0,0,-1,0]\n",
    "dz=[0,0,1,0,0,-1]\n",
    "\n",
    "while que:\n",
    "    x,y,z=que.popleft()\n",
    "    for i in range(6):\n",
    "        nx=x+dx[i]\n",
    "        ny=y+dy[i]\n",
    "        nz=z+dz[i]\n",
    "\n",
    "        if 0<=nx<h and 0<=ny<n and 0<=nz<m and dist[nx][ny][nz]<0:\n",
    "            dist[nx][ny][nz]=dist[x][y][z]+1\n",
    "            que.append((nx,ny,nz))\n",
    "\n",
    "if min(  map(min, dist)  )==-1:\n",
    "    print(-1)\n",
    "else:\n",
    "    ans=np.max(np.array(dist))\n",
    "    print(ans)\n"
   ]
  },
  {
   "cell_type": "code",
   "execution_count": 31,
   "metadata": {},
   "outputs": [
    {
     "name": "stdout",
     "output_type": "stream",
     "text": [
      "(2, 3, 4)\n",
      "(2, 3, 4)\n"
     ]
    }
   ],
   "source": [
    "import numpy as np\n",
    "print(np.array(board).shape)\n",
    "print(np.array(dist).shape)"
   ]
  },
  {
   "cell_type": "markdown",
   "metadata": {},
   "source": [
    "## 정리"
   ]
  },
  {
   "cell_type": "code",
   "execution_count": 51,
   "metadata": {
    "scrolled": false
   },
   "outputs": [
    {
     "name": "stdout",
     "output_type": "stream",
     "text": [
      "5 3 1\n",
      "0 -1 0 0 0\n",
      "-1 -1 0 1 1\n",
      "0 0 0 1 1\n",
      "-1\n"
     ]
    }
   ],
   "source": [
    "import numpy as np\n",
    "from collections import deque\n",
    "\n",
    "def bfs():\n",
    "    dx=[1,0,0,-1,0,0]\n",
    "    dy=[0,1,0,0,-1,0]\n",
    "    dz=[0,0,1,0,0,-1]\n",
    "    \n",
    "    while que:\n",
    "        x,y,z=que.popleft()\n",
    "        for i in range(6):\n",
    "            nx=x+dx[i]\n",
    "            ny=y+dy[i]\n",
    "            nz=z+dz[i]\n",
    "\n",
    "            if 0<=nx<h and 0<=ny<n and 0<=nz<m and dist[nx][ny][nz]<0:\n",
    "                dist[nx][ny][nz]=dist[x][y][z]+1\n",
    "                que.append((nx,ny,nz))\n",
    "\n",
    "def tomato():\n",
    "    m,n,h=map(int, input().split())\n",
    "    board=[[list(map(int, input().split())) for _ in range(n)] for _ in range(h)]\n",
    "\n",
    "    if (np.array(board)==0).sum() == 0:\n",
    "        return 0\n",
    "\n",
    "    dist=[  [  [0]*m for i in range(n)  ]  for j in range(h)  ]\n",
    "    que=deque([])\n",
    "    for i in range(h):\n",
    "        for j in range(n):\n",
    "            for k in range(m):\n",
    "                if board[i][j][k]==1:\n",
    "                    que.append((i,j,k))\n",
    "                elif board[i][j][k]==0:\n",
    "                    dist[i][j][k]=-1\n",
    "\n",
    "\n",
    "\n",
    "    if np.min(np.array(dist))==-1:\n",
    "        return -1\n",
    "    else:\n",
    "        ans=np.max(np.array(dist))\n",
    "        return ans\n",
    "\n",
    "print(tomato())\n"
   ]
  },
  {
   "cell_type": "code",
   "execution_count": 36,
   "metadata": {},
   "outputs": [
    {
     "data": {
      "text/plain": [
       "[[[0, -1, 0, 0, 0], [-1, -1, 0, 1, 1], [0, 0, 0, 1, 1]]]"
      ]
     },
     "execution_count": 36,
     "metadata": {},
     "output_type": "execute_result"
    }
   ],
   "source": [
    "board"
   ]
  },
  {
   "cell_type": "code",
   "execution_count": 37,
   "metadata": {},
   "outputs": [
    {
     "data": {
      "text/plain": [
       "[[[-1, 0, 2, 1, 1], [0, 0, 1, 0, 0], [3, 2, 1, 0, 0]]]"
      ]
     },
     "execution_count": 37,
     "metadata": {},
     "output_type": "execute_result"
    }
   ],
   "source": [
    "dist"
   ]
  },
  {
   "cell_type": "code",
   "execution_count": 38,
   "metadata": {},
   "outputs": [
    {
     "data": {
      "text/plain": [
       "deque([])"
      ]
     },
     "execution_count": 38,
     "metadata": {},
     "output_type": "execute_result"
    }
   ],
   "source": [
    "que"
   ]
  },
  {
   "cell_type": "code",
   "execution_count": null,
   "metadata": {},
   "outputs": [],
   "source": []
  }
 ],
 "metadata": {
  "kernelspec": {
   "display_name": "Python 3",
   "language": "python",
   "name": "python3"
  },
  "language_info": {
   "codemirror_mode": {
    "name": "ipython",
    "version": 3
   },
   "file_extension": ".py",
   "mimetype": "text/x-python",
   "name": "python",
   "nbconvert_exporter": "python",
   "pygments_lexer": "ipython3",
   "version": "3.8.3"
  }
 },
 "nbformat": 4,
 "nbformat_minor": 4
}
