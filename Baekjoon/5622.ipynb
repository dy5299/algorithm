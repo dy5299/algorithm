{
 "cells": [
  {
   "cell_type": "markdown",
   "metadata": {},
   "source": [
    "## 8.8. 다이얼\n",
    "- 문제\n",
    "\n",
    "상근이의 할머니는 아래 그림과 같이 오래된 다이얼 전화기를 사용한다.\n",
    "\n",
    "\n",
    "\n",
    "전화를 걸고 싶은 번호가 있다면, 숫자를 하나를 누른 다음에 금속 핀이 있는 곳 까지 시계방향으로 돌려야 한다. 숫자를 하나 누르면 다이얼이 처음 위치로 돌아가고, 다음 숫자를 누르려면 다이얼을 처음 위치에서 다시 돌려야 한다.\n",
    "\n",
    "숫자 1을 걸려면 총 2초가 필요하다. 1보다 큰 수를 거는데 걸리는 시간은 이보다 더 걸리며, 한 칸 옆에 있는 숫자를 걸기 위해선 1초씩 더 걸린다.\n",
    "\n",
    "상근이의 할머니는 전화 번호를 각 숫자에 해당하는 문자로 외운다. 즉, 어떤 단어를 걸 때, 각 알파벳에 해당하는 숫자를 걸면 된다. 예를 들어, UNUCIC는 868242와 같다.\n",
    "\n",
    "할머니가 외운 단어가 주어졌을 때, 이 전화를 걸기 위해서 필요한 시간을 구하는 프로그램을 작성하시오.\n",
    "\n",
    "- 입력\n",
    "\n",
    "첫째 줄에 알파벳 대문자로 이루어진 단어가 주어진다. 단어는 2글자~15글자로 이루어져 있다.\n",
    "\n",
    "- 출력\n",
    "\n",
    "첫째 줄에 다이얼을 걸기 위해서 필요한 시간을 출력한다."
   ]
  },
  {
   "cell_type": "code",
   "execution_count": 19,
   "metadata": {},
   "outputs": [
    {
     "data": {
      "text/plain": [
       "26"
      ]
     },
     "execution_count": 19,
     "metadata": {},
     "output_type": "execute_result"
    }
   ],
   "source": [
    "d=[]\n",
    "for i in range(3,8):d+=[i]*3\n",
    "d+=[8]*4+[9]*3+[10]*4\n",
    "len(d)"
   ]
  },
  {
   "cell_type": "code",
   "execution_count": 24,
   "metadata": {},
   "outputs": [
    {
     "data": {
      "text/plain": [
       "{'A': 3,\n",
       " 'B': 3,\n",
       " 'C': 3,\n",
       " 'D': 4,\n",
       " 'E': 4,\n",
       " 'F': 4,\n",
       " 'G': 5,\n",
       " 'H': 5,\n",
       " 'I': 5,\n",
       " 'J': 6,\n",
       " 'K': 6,\n",
       " 'L': 6,\n",
       " 'M': 7,\n",
       " 'N': 7,\n",
       " 'O': 7,\n",
       " 'P': 8,\n",
       " 'Q': 8,\n",
       " 'R': 8,\n",
       " 'S': 8,\n",
       " 'T': 9,\n",
       " 'U': 9,\n",
       " 'V': 9,\n",
       " 'W': 10,\n",
       " 'X': 10,\n",
       " 'Y': 10,\n",
       " 'Z': 10}"
      ]
     },
     "execution_count": 24,
     "metadata": {},
     "output_type": "execute_result"
    }
   ],
   "source": [
    "alpha = list(map(chr, range(65, 91)))\n",
    "\n",
    "d=[]\n",
    "for i in range(3,8):d+=[i]*3\n",
    "d+=[8]*4+[9]*3+[10]*4\n",
    "\n",
    "dict(zip(alpha,d))\n",
    "#or\n",
    "{a:b for a,b in zip(alpha,d) }"
   ]
  },
  {
   "cell_type": "code",
   "execution_count": 25,
   "metadata": {},
   "outputs": [
    {
     "data": {
      "text/plain": [
       "8"
      ]
     },
     "execution_count": 25,
     "metadata": {},
     "output_type": "execute_result"
    }
   ],
   "source": [
    "len(splt)"
   ]
  },
  {
   "cell_type": "code",
   "execution_count": 26,
   "metadata": {},
   "outputs": [
    {
     "name": "stdout",
     "output_type": "stream",
     "text": [
      "[2, 2, 2, 3, 3, 3, 4, 4, 4, 5, 5, 5, 6, 6, 6, 7, 7, 7, 7, 8, 8, 8, 9, 9, 9, 9]\n"
     ]
    }
   ],
   "source": [
    "d=[]\n",
    "splt={2:3,3:3,4:3,5:3,6:3,7:4,8:3,9:4}\n",
    "for dial,n in splt.items():\n",
    "    d.extend([dial]*n)\n",
    "print(d)"
   ]
  },
  {
   "cell_type": "code",
   "execution_count": 30,
   "metadata": {},
   "outputs": [
    {
     "name": "stdout",
     "output_type": "stream",
     "text": [
      "[2, 2, 2, 3, 3, 3, 4, 4, 4, 5, 5, 5, 6, 6, 6, 7, 7, 7, 7, 8, 8, 8, 9, 9, 9, 9]\n"
     ]
    }
   ],
   "source": [
    "#위와같음\n",
    "nums=[3,3,3,3,3,4,3,4]\n",
    "d=[]\n",
    "for idx, dial in enumerate(range(2,10)):\n",
    "    d.extend([dial]*nums[idx])\n",
    "print(d)"
   ]
  },
  {
   "cell_type": "code",
   "execution_count": null,
   "metadata": {},
   "outputs": [],
   "source": []
  },
  {
   "cell_type": "code",
   "execution_count": 36,
   "metadata": {},
   "outputs": [
    {
     "name": "stdout",
     "output_type": "stream",
     "text": [
      "U\n",
      "N\n",
      "U\n",
      "C\n",
      "I\n",
      "C\n"
     ]
    }
   ],
   "source": [
    "txt='UNUCIC'\n",
    "for i in txt:\n",
    "    print(i)"
   ]
  },
  {
   "cell_type": "code",
   "execution_count": 37,
   "metadata": {},
   "outputs": [
    {
     "name": "stdout",
     "output_type": "stream",
     "text": [
      "9\n",
      "7\n",
      "9\n",
      "3\n",
      "5\n",
      "3\n"
     ]
    }
   ],
   "source": [
    "#txt=input()\n",
    "txt='UNUCIC'\n",
    "alpha = list(map(chr, range(65, 91)))\n",
    "\n",
    "nums=[3,3,3,3,3,4,3,4]\n",
    "d=[]\n",
    "for idx, dial in enumerate(range(2,10)):\n",
    "    d.extend([dial]*nums[idx])\n",
    "\n",
    "dial=dict(zip(alpha,d))\n",
    "\n",
    "for i in txt:\n",
    "    print(dial[i]+1)"
   ]
  },
  {
   "cell_type": "code",
   "execution_count": 38,
   "metadata": {},
   "outputs": [
    {
     "data": {
      "text/plain": [
       "36"
      ]
     },
     "execution_count": 38,
     "metadata": {},
     "output_type": "execute_result"
    }
   ],
   "source": [
    "sum([dial[i]+1 for i in txt])"
   ]
  },
  {
   "cell_type": "code",
   "execution_count": 42,
   "metadata": {},
   "outputs": [
    {
     "name": "stdout",
     "output_type": "stream",
     "text": [
      "A\n",
      "3\n"
     ]
    }
   ],
   "source": [
    "#5622\n",
    "txt=input()\n",
    "alpha = list(map(chr, range(65, 91)))\n",
    "\n",
    "nums=[3,3,3,3,3,4,3,4]\n",
    "d=[]\n",
    "for idx, dial in enumerate(range(2,10)):\n",
    "    d.extend([dial]*nums[idx])\n",
    "\n",
    "dial=dict(zip(alpha,d))\n",
    "print(sum([dial[i]+1 for i in txt]))"
   ]
  },
  {
   "cell_type": "code",
   "execution_count": null,
   "metadata": {},
   "outputs": [],
   "source": [
    "#short code\n",
    "print(sum(min(ord(c)-64,25)*28//89+3for c in input()))"
   ]
  },
  {
   "cell_type": "code",
   "execution_count": null,
   "metadata": {},
   "outputs": [],
   "source": [
    "#short code\n",
    "#step(3)으로 나눈 몫을 이용하여 (ord(s)-65)//3 +3 으로 앞에서 3개씩 나누어 3,4,... 으로 반환 가능하다.\n",
    "#SVYZ 이유는 앞에서부터 3으로 나눴을 때 한칸씩 밀리는 알파벳들이다.\n",
    "\n",
    "x=input()\n",
    "print(sum((ord(s)-65)//3+3 for s in x)-sum(x.count(s) for s in 'SVYZ'))\n"
   ]
  },
  {
   "cell_type": "code",
   "execution_count": null,
   "metadata": {},
   "outputs": [],
   "source": [
    "#short code\n",
    "print(sum((ord(i)-62-(i in 'SVYZ')-(i=='Z'))//3+2 for i in input()))\n",
    "\n",
    "#re\n",
    "sum()\n",
    "(ord(i)-62-(i in 'SVYZ')-(i=='Z'))//3+2 for i in input()"
   ]
  },
  {
   "cell_type": "code",
   "execution_count": null,
   "metadata": {},
   "outputs": [],
   "source": [
    "ord('A')"
   ]
  }
 ],
 "metadata": {
  "kernelspec": {
   "display_name": "Python 3",
   "language": "python",
   "name": "python3"
  },
  "language_info": {
   "codemirror_mode": {
    "name": "ipython",
    "version": 3
   },
   "file_extension": ".py",
   "mimetype": "text/x-python",
   "name": "python",
   "nbconvert_exporter": "python",
   "pygments_lexer": "ipython3",
   "version": "3.6.10"
  },
  "toc": {
   "base_numbering": 1,
   "nav_menu": {},
   "number_sections": false,
   "sideBar": true,
   "skip_h1_title": false,
   "title_cell": "Table of Contents",
   "title_sidebar": "Contents",
   "toc_cell": false,
   "toc_position": {},
   "toc_section_display": true,
   "toc_window_display": false
  }
 },
 "nbformat": 4,
 "nbformat_minor": 4
}
