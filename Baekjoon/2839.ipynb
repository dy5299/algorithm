{
 "cells": [
  {
   "cell_type": "markdown",
   "metadata": {},
   "source": [
    "## 9.2. 설탕 배달\n",
    "- 문제\n",
    "\n",
    "상근이는 요즘 설탕공장에서 설탕을 배달하고 있다. 상근이는 지금 사탕가게에 설탕을 정확하게 N킬로그램을 배달해야 한다. 설탕공장에서 만드는 설탕은 봉지에 담겨져 있다. 봉지는 3킬로그램 봉지와 5킬로그램 봉지가 있다.\n",
    "\n",
    "상근이는 귀찮기 때문에, 최대한 적은 봉지를 들고 가려고 한다. 예를 들어, 18킬로그램 설탕을 배달해야 할 때, 3킬로그램 봉지 6개를 가져가도 되지만, 5킬로그램 3개와 3킬로그램 1개를 배달하면, 더 적은 개수의 봉지를 배달할 수 있다.\n",
    "\n",
    "상근이가 설탕을 정확하게 N킬로그램 배달해야 할 때, 봉지 몇 개를 가져가면 되는지 그 수를 구하는 프로그램을 작성하시오.\n",
    "\n",
    "- 입력\n",
    "\n",
    "첫째 줄에 N이 주어진다. (3 ≤ N ≤ 5000)\n",
    "\n",
    "- 출력\n",
    "\n",
    "상근이가 배달하는 봉지의 최소 개수를 출력한다. 만약, 정확하게 N킬로그램을 만들 수 없다면 -1을 출력한다."
   ]
  },
  {
   "cell_type": "code",
   "execution_count": 1,
   "metadata": {},
   "outputs": [
    {
     "name": "stdout",
     "output_type": "stream",
     "text": [
      "11\n",
      "3\n"
     ]
    }
   ],
   "source": [
    "#5의 배수는의 일의 자리는 0 or 5, 3의 배수의 일의 자리는 3,6,9,2,5,8,1,4,7,0\n",
    "n=int(input())\n",
    "if n%5 == 0 : out=n//5\n",
    "elif n%5 == 3 : out=n//5+1\n",
    "elif n%5 == 1 : out=n//5-1+2\n",
    "elif n%5 == 2 : out=n//5-2+4\n",
    "elif n%5 == 4 : out=n//5-4+8\n",
    "print(out)"
   ]
  },
  {
   "cell_type": "code",
   "execution_count": 2,
   "metadata": {},
   "outputs": [
    {
     "name": "stdout",
     "output_type": "stream",
     "text": [
      "11\n",
      "3\n"
     ]
    }
   ],
   "source": [
    "#5의 배수는의 일의 자리는 0 or 5, 3의 배수의 일의 자리는 3,6,9,2,5,8,1,4,7,0\n",
    "n=int(input())\n",
    "if n%5 == 0 : out=n//5\n",
    "elif n%5 == 3 : out=n//5+1\n",
    "elif n%5 == 1 : out=n//5-1+2\n",
    "elif n%5 == 2 and n//5>=2 : out=n//5-2+4\n",
    "elif n%5 == 4 and n//5>=1 : out=n//5-1+3\n",
    "else : out = -1\n",
    "print(out)"
   ]
  },
  {
   "cell_type": "code",
   "execution_count": 3,
   "metadata": {},
   "outputs": [
    {
     "name": "stdout",
     "output_type": "stream",
     "text": [
      "0\n",
      "1\n",
      "2\n",
      "3\n",
      "4\n"
     ]
    }
   ],
   "source": [
    "for i in range(5):\n",
    "    print(i)"
   ]
  },
  {
   "cell_type": "code",
   "execution_count": 19,
   "metadata": {},
   "outputs": [
    {
     "name": "stdout",
     "output_type": "stream",
     "text": [
      "11\n",
      "3\n"
     ]
    }
   ],
   "source": [
    "#간소화\n",
    "#2839\n",
    "def sang(n):\n",
    "    arr=[[0,0],[0,1],[2,2],[0,1],[1,2]]\n",
    "    for i in range(5):\n",
    "        if n%5==i and n//5>=arr[i][0]:\n",
    "            return n//5+arr[i][1]\n",
    "    return -1\n",
    "print(sang(int(input())))"
   ]
  },
  {
   "cell_type": "code",
   "execution_count": null,
   "metadata": {},
   "outputs": [],
   "source": [
    "#short oode\n",
    "N=int(input())\n",
    "G=0\n",
    "while N%5!=0:\n",
    "    N-=3\n",
    "    G+=1\n",
    "if N<0:\n",
    "    print(-1)\n",
    "else:\n",
    "    print(G+N//5)"
   ]
  }
 ],
 "metadata": {
  "kernelspec": {
   "display_name": "Python 3",
   "language": "python",
   "name": "python3"
  },
  "language_info": {
   "codemirror_mode": {
    "name": "ipython",
    "version": 3
   },
   "file_extension": ".py",
   "mimetype": "text/x-python",
   "name": "python",
   "nbconvert_exporter": "python",
   "pygments_lexer": "ipython3",
   "version": "3.6.10"
  },
  "toc": {
   "base_numbering": 1,
   "nav_menu": {},
   "number_sections": false,
   "sideBar": true,
   "skip_h1_title": false,
   "title_cell": "Table of Contents",
   "title_sidebar": "Contents",
   "toc_cell": false,
   "toc_position": {},
   "toc_section_display": true,
   "toc_window_display": false
  }
 },
 "nbformat": 4,
 "nbformat_minor": 4
}
