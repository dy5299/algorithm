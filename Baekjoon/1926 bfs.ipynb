{
 "cells": [
  {
   "cell_type": "code",
   "execution_count": 1,
   "metadata": {},
   "outputs": [],
   "source": [
    "n,m=(6,5)\n",
    "# n행 m열\n",
    "inp=\"\"\"1 1 0 1 1\n",
    "0 1 1 0 0\n",
    "0 0 0 0 0\n",
    "1 0 1 1 1\n",
    "0 0 1 1 1\n",
    "0 0 1 1 1\"\"\"\n",
    "\n",
    "pict=[]\n",
    "for i in inp.split(\"\\n\"):\n",
    "    pict.append(list(map(int, i.split())))"
   ]
  },
  {
   "cell_type": "code",
   "execution_count": 2,
   "metadata": {},
   "outputs": [
    {
     "data": {
      "text/plain": [
       "[[1, 1, 0, 1, 1],\n",
       " [0, 1, 1, 0, 0],\n",
       " [0, 0, 0, 0, 0],\n",
       " [1, 0, 1, 1, 1],\n",
       " [0, 0, 1, 1, 1],\n",
       " [0, 0, 1, 1, 1]]"
      ]
     },
     "execution_count": 2,
     "metadata": {},
     "output_type": "execute_result"
    }
   ],
   "source": [
    "pict"
   ]
  },
  {
   "cell_type": "markdown",
   "metadata": {},
   "source": [
    "## myself"
   ]
  },
  {
   "cell_type": "markdown",
   "metadata": {},
   "source": [
    "### 입출력 ver."
   ]
  },
  {
   "cell_type": "code",
   "execution_count": 14,
   "metadata": {},
   "outputs": [
    {
     "name": "stdout",
     "output_type": "stream",
     "text": [
      "6 5\n",
      "1 1 0 1 1\n",
      "0 1 1 0 0\n",
      "0 0 0 0 0\n",
      "1 0 1 1 1\n",
      "0 0 1 1 1\n",
      "0 0 1 1 1\n",
      "4\n",
      "9\n"
     ]
    }
   ],
   "source": [
    "n,m = map(int, input().split())\n",
    "pict=[]\n",
    "for _ in range(n):\n",
    "    pict.append(list(map(int, input().split())))\n",
    "    \n",
    "    \n",
    "from collections import deque\n",
    "\n",
    "def bfs(ix,iy):\n",
    "    size=1\n",
    "    que=deque([(ix,iy)])\n",
    "    \n",
    "    while que:\n",
    "        dx=[1,0,-1,0]\n",
    "        dy=[0,1,0,-1]\n",
    "        x,y=que.pop()  # pop으로 대기열에서 없애기\n",
    "        for i in range(4):\n",
    "            nx=x+dx[i]\n",
    "            ny=y+dy[i]\n",
    "            if 0<=nx<n and 0<=ny<m and (nx,ny) not in visited:   # visited 체크\n",
    "                visited.append((nx,ny))\n",
    "                if pict[nx][ny]==1:\n",
    "                    que.append((nx,ny))\n",
    "                    size+=1\n",
    "    return size\n",
    "\n",
    "\n",
    "visited=[]\n",
    "count=0\n",
    "lst_size=[]\n",
    "\n",
    "for nn in range(n):\n",
    "    for mm in range(m):\n",
    "        if (nn,mm) not in visited:\n",
    "            visited.append((nn,mm))\n",
    "            if pict[nn][mm]==1:\n",
    "                lst_size.append(bfs(nn,mm))\n",
    "                count+=1\n",
    "\n",
    "print(count)\n",
    "print(max(lst_size))"
   ]
  },
  {
   "cell_type": "markdown",
   "metadata": {},
   "source": [
    "### test mode"
   ]
  },
  {
   "cell_type": "code",
   "execution_count": 20,
   "metadata": {},
   "outputs": [
    {
     "name": "stdout",
     "output_type": "stream",
     "text": [
      "4\n",
      "9\n"
     ]
    }
   ],
   "source": [
    "n,m=(6,5)\n",
    "# n행 m열\n",
    "inp=\"\"\"1 1 0 1 1\n",
    "0 1 1 0 0\n",
    "0 0 0 0 0\n",
    "1 0 1 1 1\n",
    "0 0 1 1 1\n",
    "0 0 1 1 1\"\"\"\n",
    "\n",
    "pict=[]\n",
    "for i in inp.split(\"\\n\"):\n",
    "    pict.append(list(map(int, i.split())))\n",
    "    \n",
    "from collections import deque\n",
    "\n",
    "def bfs(ix,iy):\n",
    "    size=1\n",
    "    que=deque([(ix,iy)])\n",
    "    \n",
    "    while que:\n",
    "        dx=[1,0,-1,0]\n",
    "        dy=[0,1,0,-1]\n",
    "        x,y=que.pop()  # pop으로 대기열에서 없애기\n",
    "        for i in range(4):\n",
    "            nx=x+dx[i]\n",
    "            ny=y+dy[i]\n",
    "            if 0<=nx<n and 0<=ny<m and (nx,ny) not in visited:   # visited 체크\n",
    "                visited.append((nx,ny))\n",
    "                if pict[nx][ny]==1:\n",
    "                    que.append((nx,ny))\n",
    "                    size+=1\n",
    "    return size\n",
    "\n",
    "\n",
    "visited=[]\n",
    "count=0\n",
    "lst_size=[]\n",
    "\n",
    "for nn in range(n):\n",
    "    for mm in range(m):\n",
    "        if (nn,mm) not in visited:\n",
    "            visited.append((nn,mm))\n",
    "            if pict[nn][mm]==1:\n",
    "                lst_size.append(bfs(nn,mm))\n",
    "                count+=1\n",
    "\n",
    "print(count)\n",
    "print(max(lst_size))"
   ]
  },
  {
   "cell_type": "code",
   "execution_count": 21,
   "metadata": {},
   "outputs": [
    {
     "data": {
      "text/plain": [
       "[4, 2, 1, 9]"
      ]
     },
     "execution_count": 21,
     "metadata": {},
     "output_type": "execute_result"
    }
   ],
   "source": [
    "lst_size"
   ]
  },
  {
   "cell_type": "markdown",
   "metadata": {},
   "source": [
    "### visited list to dict"
   ]
  },
  {
   "cell_type": "code",
   "execution_count": 1,
   "metadata": {},
   "outputs": [
    {
     "name": "stdout",
     "output_type": "stream",
     "text": [
      "[[0, 0, 0, 0, 0], [0, 0, 0, 0, 0], [0, 0, 0, 0, 0], [0, 0, 0, 0, 0], [0, 0, 0, 0, 0], [0, 0, 0, 0, 0]]\n",
      "[[1, 0, 0, 0, 0], [1, 0, 0, 0, 0], [1, 0, 0, 0, 0], [1, 0, 0, 0, 0], [1, 0, 0, 0, 0], [1, 0, 0, 0, 0]]\n",
      "x y>>> 0 0\n",
      "nx ny>>> 1 0\n",
      "pict[nx][ny]>> 0\n",
      "visited>> [[1, 0, 0, 0, 0], [1, 0, 0, 0, 0], [1, 0, 0, 0, 0], [1, 0, 0, 0, 0], [1, 0, 0, 0, 0], [1, 0, 0, 0, 0]]\n",
      "que deque([])\n",
      "x y>>> 0 0\n",
      "nx ny>>> 0 1\n",
      "pict[nx][ny]>> 1\n",
      "visited>> [[1, 0, 0, 0, 0], [1, 0, 0, 0, 0], [1, 0, 0, 0, 0], [1, 0, 0, 0, 0], [1, 0, 0, 0, 0], [1, 0, 0, 0, 0]]\n",
      "que deque([(0, 1)])\n",
      "x y>>> 0 0\n",
      "nx ny>>> -1 0\n",
      "pict[nx][ny]>> 0\n",
      "visited>> [[1, 1, 0, 0, 0], [1, 1, 0, 0, 0], [1, 1, 0, 0, 0], [1, 1, 0, 0, 0], [1, 1, 0, 0, 0], [1, 1, 0, 0, 0]]\n",
      "que deque([(0, 1)])\n",
      "x y>>> 0 0\n",
      "nx ny>>> 0 -1\n",
      "pict[nx][ny]>> 1\n",
      "visited>> [[1, 1, 0, 0, 0], [1, 1, 0, 0, 0], [1, 1, 0, 0, 0], [1, 1, 0, 0, 0], [1, 1, 0, 0, 0], [1, 1, 0, 0, 0]]\n",
      "que deque([(0, 1)])\n",
      "x y>>> 0 1\n",
      "nx ny>>> 1 1\n",
      "pict[nx][ny]>> 1\n",
      "visited>> [[1, 1, 0, 0, 0], [1, 1, 0, 0, 0], [1, 1, 0, 0, 0], [1, 1, 0, 0, 0], [1, 1, 0, 0, 0], [1, 1, 0, 0, 0]]\n",
      "que deque([])\n",
      "x y>>> 0 1\n",
      "nx ny>>> 0 2\n",
      "pict[nx][ny]>> 0\n",
      "visited>> [[1, 1, 0, 0, 0], [1, 1, 0, 0, 0], [1, 1, 0, 0, 0], [1, 1, 0, 0, 0], [1, 1, 0, 0, 0], [1, 1, 0, 0, 0]]\n",
      "que deque([])\n",
      "x y>>> 0 1\n",
      "nx ny>>> -1 1\n",
      "pict[nx][ny]>> 0\n",
      "visited>> [[1, 1, 1, 0, 0], [1, 1, 1, 0, 0], [1, 1, 1, 0, 0], [1, 1, 1, 0, 0], [1, 1, 1, 0, 0], [1, 1, 1, 0, 0]]\n",
      "que deque([])\n",
      "x y>>> 0 1\n",
      "nx ny>>> 0 0\n",
      "pict[nx][ny]>> 1\n",
      "visited>> [[1, 1, 1, 0, 0], [1, 1, 1, 0, 0], [1, 1, 1, 0, 0], [1, 1, 1, 0, 0], [1, 1, 1, 0, 0], [1, 1, 1, 0, 0]]\n",
      "que deque([])\n",
      "0 0 2\n",
      "[[1, 1, 1, 0, 0], [1, 1, 1, 0, 0], [1, 1, 1, 0, 0], [1, 1, 1, 0, 0], [1, 1, 1, 0, 0], [1, 1, 1, 0, 0]]\n",
      "[[1, 1, 1, 1, 0], [1, 1, 1, 1, 0], [1, 1, 1, 1, 0], [1, 1, 1, 1, 0], [1, 1, 1, 1, 0], [1, 1, 1, 1, 0]]\n",
      "x y>>> 0 3\n",
      "nx ny>>> 1 3\n",
      "pict[nx][ny]>> 0\n",
      "visited>> [[1, 1, 1, 1, 0], [1, 1, 1, 1, 0], [1, 1, 1, 1, 0], [1, 1, 1, 1, 0], [1, 1, 1, 1, 0], [1, 1, 1, 1, 0]]\n",
      "que deque([])\n",
      "x y>>> 0 3\n",
      "nx ny>>> 0 4\n",
      "pict[nx][ny]>> 1\n",
      "visited>> [[1, 1, 1, 1, 0], [1, 1, 1, 1, 0], [1, 1, 1, 1, 0], [1, 1, 1, 1, 0], [1, 1, 1, 1, 0], [1, 1, 1, 1, 0]]\n",
      "que deque([(0, 4)])\n",
      "x y>>> 0 3\n",
      "nx ny>>> -1 3\n",
      "pict[nx][ny]>> 1\n",
      "visited>> [[1, 1, 1, 1, 1], [1, 1, 1, 1, 1], [1, 1, 1, 1, 1], [1, 1, 1, 1, 1], [1, 1, 1, 1, 1], [1, 1, 1, 1, 1]]\n",
      "que deque([(0, 4)])\n",
      "x y>>> 0 3\n",
      "nx ny>>> 0 2\n",
      "pict[nx][ny]>> 0\n",
      "visited>> [[1, 1, 1, 1, 1], [1, 1, 1, 1, 1], [1, 1, 1, 1, 1], [1, 1, 1, 1, 1], [1, 1, 1, 1, 1], [1, 1, 1, 1, 1]]\n",
      "que deque([(0, 4)])\n",
      "x y>>> 0 4\n",
      "nx ny>>> 1 4\n",
      "pict[nx][ny]>> 0\n",
      "visited>> [[1, 1, 1, 1, 1], [1, 1, 1, 1, 1], [1, 1, 1, 1, 1], [1, 1, 1, 1, 1], [1, 1, 1, 1, 1], [1, 1, 1, 1, 1]]\n",
      "que deque([])\n",
      "x y>>> 0 4\n",
      "nx ny>>> 0 5\n"
     ]
    },
    {
     "ename": "IndexError",
     "evalue": "list index out of range",
     "output_type": "error",
     "traceback": [
      "\u001b[1;31m---------------------------------------------------------------------------\u001b[0m",
      "\u001b[1;31mIndexError\u001b[0m                                Traceback (most recent call last)",
      "\u001b[1;32m<ipython-input-1-dc6fdb9eb29b>\u001b[0m in \u001b[0;36m<module>\u001b[1;34m\u001b[0m\n\u001b[0;32m     50\u001b[0m             \u001b[0mprint\u001b[0m\u001b[1;33m(\u001b[0m\u001b[0mvisited\u001b[0m\u001b[1;33m)\u001b[0m\u001b[1;33m\u001b[0m\u001b[1;33m\u001b[0m\u001b[0m\n\u001b[0;32m     51\u001b[0m             \u001b[1;32mif\u001b[0m \u001b[0mpict\u001b[0m\u001b[1;33m[\u001b[0m\u001b[0mnn\u001b[0m\u001b[1;33m]\u001b[0m\u001b[1;33m[\u001b[0m\u001b[0mmm\u001b[0m\u001b[1;33m]\u001b[0m\u001b[1;33m==\u001b[0m\u001b[1;36m1\u001b[0m\u001b[1;33m:\u001b[0m\u001b[1;33m\u001b[0m\u001b[1;33m\u001b[0m\u001b[0m\n\u001b[1;32m---> 52\u001b[1;33m                 \u001b[0mtemp\u001b[0m\u001b[1;33m=\u001b[0m\u001b[0mbfs\u001b[0m\u001b[1;33m(\u001b[0m\u001b[0mnn\u001b[0m\u001b[1;33m,\u001b[0m\u001b[0mmm\u001b[0m\u001b[1;33m)\u001b[0m\u001b[1;33m\u001b[0m\u001b[1;33m\u001b[0m\u001b[0m\n\u001b[0m\u001b[0;32m     53\u001b[0m                 \u001b[0mlst_size\u001b[0m\u001b[1;33m.\u001b[0m\u001b[0mappend\u001b[0m\u001b[1;33m(\u001b[0m\u001b[0mtemp\u001b[0m\u001b[1;33m)\u001b[0m\u001b[1;33m\u001b[0m\u001b[1;33m\u001b[0m\u001b[0m\n\u001b[0;32m     54\u001b[0m                 \u001b[0mprint\u001b[0m\u001b[1;33m(\u001b[0m\u001b[0mnn\u001b[0m\u001b[1;33m,\u001b[0m\u001b[0mmm\u001b[0m\u001b[1;33m,\u001b[0m\u001b[0mtemp\u001b[0m\u001b[1;33m)\u001b[0m\u001b[1;33m\u001b[0m\u001b[1;33m\u001b[0m\u001b[0m\n",
      "\u001b[1;32m<ipython-input-1-dc6fdb9eb29b>\u001b[0m in \u001b[0;36mbfs\u001b[1;34m(ix, iy)\u001b[0m\n\u001b[0;32m     29\u001b[0m             \u001b[0mprint\u001b[0m\u001b[1;33m(\u001b[0m\u001b[1;34m\"x y>>>\"\u001b[0m\u001b[1;33m,\u001b[0m\u001b[0mx\u001b[0m\u001b[1;33m,\u001b[0m\u001b[0my\u001b[0m\u001b[1;33m)\u001b[0m\u001b[1;33m\u001b[0m\u001b[1;33m\u001b[0m\u001b[0m\n\u001b[0;32m     30\u001b[0m             \u001b[0mprint\u001b[0m\u001b[1;33m(\u001b[0m\u001b[1;34m\"nx ny>>>\"\u001b[0m\u001b[1;33m,\u001b[0m\u001b[0mnx\u001b[0m\u001b[1;33m,\u001b[0m\u001b[0mny\u001b[0m\u001b[1;33m)\u001b[0m\u001b[1;33m\u001b[0m\u001b[1;33m\u001b[0m\u001b[0m\n\u001b[1;32m---> 31\u001b[1;33m             \u001b[0mprint\u001b[0m\u001b[1;33m(\u001b[0m\u001b[1;34m\"pict[nx][ny]>>\"\u001b[0m\u001b[1;33m,\u001b[0m\u001b[0mpict\u001b[0m\u001b[1;33m[\u001b[0m\u001b[0mnx\u001b[0m\u001b[1;33m]\u001b[0m\u001b[1;33m[\u001b[0m\u001b[0mny\u001b[0m\u001b[1;33m]\u001b[0m\u001b[1;33m)\u001b[0m\u001b[1;33m\u001b[0m\u001b[1;33m\u001b[0m\u001b[0m\n\u001b[0m\u001b[0;32m     32\u001b[0m             \u001b[0mprint\u001b[0m\u001b[1;33m(\u001b[0m\u001b[1;34m\"visited>>\"\u001b[0m\u001b[1;33m,\u001b[0m \u001b[0mvisited\u001b[0m\u001b[1;33m)\u001b[0m\u001b[1;33m\u001b[0m\u001b[1;33m\u001b[0m\u001b[0m\n\u001b[0;32m     33\u001b[0m             \u001b[1;32mif\u001b[0m \u001b[1;36m0\u001b[0m\u001b[1;33m<=\u001b[0m\u001b[0mnx\u001b[0m\u001b[1;33m<\u001b[0m\u001b[0mn\u001b[0m \u001b[1;32mand\u001b[0m \u001b[1;36m0\u001b[0m\u001b[1;33m<=\u001b[0m\u001b[0mny\u001b[0m\u001b[1;33m<\u001b[0m\u001b[0mm\u001b[0m \u001b[1;32mand\u001b[0m \u001b[0mvisited\u001b[0m\u001b[1;33m[\u001b[0m\u001b[0mnx\u001b[0m\u001b[1;33m]\u001b[0m\u001b[1;33m[\u001b[0m\u001b[0mny\u001b[0m\u001b[1;33m]\u001b[0m\u001b[1;33m==\u001b[0m\u001b[1;36m0\u001b[0m\u001b[1;33m:\u001b[0m   \u001b[1;31m# visited 체크\u001b[0m\u001b[1;33m\u001b[0m\u001b[1;33m\u001b[0m\u001b[0m\n",
      "\u001b[1;31mIndexError\u001b[0m: list index out of range"
     ]
    }
   ],
   "source": [
    "n,m=(6,5)\n",
    "# n행 m열\n",
    "inp=\"\"\"1 1 0 1 1\n",
    "0 1 1 0 0\n",
    "0 0 0 0 0\n",
    "1 0 1 1 1\n",
    "0 0 1 1 1\n",
    "0 0 1 1 1\"\"\"\n",
    "\n",
    "pict=[]\n",
    "for i in inp.split(\"\\n\"):\n",
    "    pict.append(list(map(int, i.split())))\n",
    "    \n",
    "    \n",
    "from collections import deque\n",
    "visited=[  [0]*m  ]*n\n",
    "\n",
    "def bfs(ix,iy):\n",
    "    size=1\n",
    "    que=deque([(ix,iy)])\n",
    "    \n",
    "    while que:\n",
    "        dx=[1,0,-1,0]\n",
    "        dy=[0,1,0,-1]\n",
    "        x,y=que.pop()  # pop으로 대기열에서 없애기\n",
    "        for i in range(4):\n",
    "            nx=x+dx[i]\n",
    "            ny=y+dy[i]\n",
    "            print(\"x y>>>\",x,y)\n",
    "            print(\"nx ny>>>\",nx,ny)\n",
    "            print(\"pict[nx][ny]>>\",pict[nx][ny])\n",
    "            print(\"visited>>\", visited)\n",
    "            if 0<=nx<n and 0<=ny<m and visited[nx][ny]==0:   # visited 체크\n",
    "                visited[nx][ny]=1\n",
    "                if pict[nx][ny]==1:\n",
    "                    que.append((nx,ny))\n",
    "                    size+=1\n",
    "            print(\"que\",que)\n",
    "    return size\n",
    "\n",
    "\n",
    "count=0\n",
    "lst_size=[]\n",
    "\n",
    "for nn in range(n):\n",
    "    for mm in range(m):\n",
    "        if visited[nn][mm]==0:\n",
    "            print(visited)\n",
    "            visited[nn][mm]=1\n",
    "            print(visited)\n",
    "            if pict[nn][mm]==1:\n",
    "                temp=bfs(nn,mm)\n",
    "                lst_size.append(temp)\n",
    "                print(nn,mm,temp)\n",
    "                count+=1\n",
    "\n",
    "print(count)\n",
    "print(max(lst_size))"
   ]
  },
  {
   "cell_type": "code",
   "execution_count": 18,
   "metadata": {},
   "outputs": [
    {
     "data": {
      "text/plain": [
       "[2, 2]"
      ]
     },
     "execution_count": 18,
     "metadata": {},
     "output_type": "execute_result"
    }
   ],
   "source": [
    "lst_size"
   ]
  },
  {
   "cell_type": "code",
   "execution_count": 25,
   "metadata": {},
   "outputs": [
    {
     "data": {
      "text/plain": [
       "[[1, 1, 1, 1, 1],\n",
       " [1, 1, 1, 1, 1],\n",
       " [1, 1, 1, 1, 1],\n",
       " [1, 1, 1, 1, 1],\n",
       " [1, 1, 1, 1, 1],\n",
       " [1, 1, 1, 1, 1]]"
      ]
     },
     "execution_count": 25,
     "metadata": {},
     "output_type": "execute_result"
    }
   ],
   "source": [
    "visited"
   ]
  },
  {
   "cell_type": "code",
   "execution_count": null,
   "metadata": {},
   "outputs": [],
   "source": []
  }
 ],
 "metadata": {
  "kernelspec": {
   "display_name": "Python 3",
   "language": "python",
   "name": "python3"
  },
  "language_info": {
   "codemirror_mode": {
    "name": "ipython",
    "version": 3
   },
   "file_extension": ".py",
   "mimetype": "text/x-python",
   "name": "python",
   "nbconvert_exporter": "python",
   "pygments_lexer": "ipython3",
   "version": "3.8.3"
  },
  "toc": {
   "base_numbering": 1,
   "nav_menu": {},
   "number_sections": false,
   "sideBar": true,
   "skip_h1_title": false,
   "title_cell": "Table of Contents",
   "title_sidebar": "Contents",
   "toc_cell": false,
   "toc_position": {},
   "toc_section_display": true,
   "toc_window_display": false
  }
 },
 "nbformat": 4,
 "nbformat_minor": 4
}
