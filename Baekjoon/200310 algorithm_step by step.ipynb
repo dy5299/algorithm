{
 "cells": [
  {
   "cell_type": "markdown",
   "metadata": {},
   "source": [
    "# 1. 입출력과 사칙연산"
   ]
  },
  {
   "cell_type": "markdown",
   "metadata": {},
   "source": [
    "## 1.4. 개"
   ]
  },
  {
   "cell_type": "code",
   "execution_count": 15,
   "metadata": {
    "scrolled": true
   },
   "outputs": [
    {
     "name": "stdout",
     "output_type": "stream",
     "text": [
      "|\\_/|\n",
      "|q p|   /}\n",
      "( 0 )\"\"\"\\\n",
      "|\"^\"`    |\n",
      "||_/=\\\\__|\n"
     ]
    }
   ],
   "source": [
    "#10172\n",
    "text = \"\"\"|\\_/|\n",
    "|q p|   /}\n",
    "( 0 )\\\"\"\"\\\\\n",
    "|\"^\"`    |\n",
    "||_/=\\\\\\__|\"\"\"\n",
    "print(text)"
   ]
  },
  {
   "cell_type": "markdown",
   "metadata": {},
   "source": [
    "## 1.5. A+B"
   ]
  },
  {
   "cell_type": "code",
   "execution_count": 18,
   "metadata": {},
   "outputs": [
    {
     "name": "stdout",
     "output_type": "stream",
     "text": [
      "3\n"
     ]
    }
   ],
   "source": [
    "#1000\n",
    "a = int(1)\n",
    "b = int(2)\n",
    "print(a+b)"
   ]
  },
  {
   "cell_type": "markdown",
   "metadata": {},
   "source": [
    "### map function"
   ]
  },
  {
   "cell_type": "code",
   "execution_count": 20,
   "metadata": {
    "scrolled": true
   },
   "outputs": [
    {
     "name": "stdout",
     "output_type": "stream",
     "text": [
      "1 2\n",
      "3\n"
     ]
    }
   ],
   "source": [
    "a, b = map(int, input().split())\n",
    "print(a+b)"
   ]
  },
  {
   "cell_type": "code",
   "execution_count": 91,
   "metadata": {},
   "outputs": [
    {
     "name": "stdout",
     "output_type": "stream",
     "text": [
      "1 2\n"
     ]
    },
    {
     "ename": "TypeError",
     "evalue": "int() argument must be a string, a bytes-like object or a number, not 'list'",
     "output_type": "error",
     "traceback": [
      "\u001b[1;31m---------------------------------------------------------------------------\u001b[0m",
      "\u001b[1;31mTypeError\u001b[0m                                 Traceback (most recent call last)",
      "\u001b[1;32m<ipython-input-91-af6c1087fd53>\u001b[0m in \u001b[0;36m<module>\u001b[1;34m\u001b[0m\n\u001b[1;32m----> 1\u001b[1;33m \u001b[0ma\u001b[0m\u001b[1;33m,\u001b[0m \u001b[0mb\u001b[0m \u001b[1;33m=\u001b[0m \u001b[0mint\u001b[0m\u001b[1;33m(\u001b[0m\u001b[0minput\u001b[0m\u001b[1;33m(\u001b[0m\u001b[1;33m)\u001b[0m\u001b[1;33m.\u001b[0m\u001b[0msplit\u001b[0m\u001b[1;33m(\u001b[0m\u001b[1;33m)\u001b[0m\u001b[1;33m)\u001b[0m\u001b[1;33m\u001b[0m\u001b[1;33m\u001b[0m\u001b[0m\n\u001b[0m\u001b[0;32m      2\u001b[0m \u001b[0mprint\u001b[0m\u001b[1;33m(\u001b[0m\u001b[0ma\u001b[0m\u001b[1;33m+\u001b[0m\u001b[0mb\u001b[0m\u001b[1;33m)\u001b[0m\u001b[1;33m\u001b[0m\u001b[1;33m\u001b[0m\u001b[0m\n",
      "\u001b[1;31mTypeError\u001b[0m: int() argument must be a string, a bytes-like object or a number, not 'list'"
     ]
    }
   ],
   "source": [
    "a, b = int(input().split())\n",
    "print(a+b)"
   ]
  },
  {
   "cell_type": "markdown",
   "metadata": {},
   "source": [
    "## 1.9. 사칙연산"
   ]
  },
  {
   "cell_type": "code",
   "execution_count": 33,
   "metadata": {
    "scrolled": true
   },
   "outputs": [
    {
     "name": "stdout",
     "output_type": "stream",
     "text": [
      "7 3\n",
      "10\n",
      "4\n",
      "21\n",
      "2\n",
      "1\n"
     ]
    }
   ],
   "source": [
    "#10869\n",
    "a,b = map(int, input().split())\n",
    "print(\"\"\"{}\n",
    "{}\n",
    "{}\n",
    "{}\n",
    "{}\"\"\".format(a+b,a-b,a*b,a//b,a%b))"
   ]
  },
  {
   "cell_type": "markdown",
   "metadata": {},
   "source": [
    "## 1.10. 나머지\n",
    "(A+B)%C는 (A%C + B%C)%C 와 같을까?\n",
    "\n",
    "(A×B)%C는 (A%C × B%C)%C 와 같을까?\n",
    "\n",
    "세 수 A, B, C가 주어졌을 때, 위의 네 가지 값을 구하는 프로그램을 작성하시오."
   ]
  },
  {
   "cell_type": "code",
   "execution_count": 48,
   "metadata": {
    "scrolled": true
   },
   "outputs": [
    {
     "name": "stdout",
     "output_type": "stream",
     "text": [
      "5 8 4\n",
      "1\n",
      "1\n",
      "0\n",
      "0\n"
     ]
    }
   ],
   "source": [
    "#10430\n",
    "A,B,C = map(int, input().split())\n",
    "print(\"\"\"{}\n",
    "{}\n",
    "{}\n",
    "{}\"\"\".format((A+B)%C, (A%C+B%C)%C, (A*B)%C, (A%C*B%C)%C))"
   ]
  },
  {
   "cell_type": "markdown",
   "metadata": {},
   "source": [
    "## 1.11. 곱셈\n",
    "(세 자리 수) × (세 자리 수)는 다음과 같은 과정을 통하여 이루어진다.\n",
    "\n",
    "\n",
    "(1)과 (2)위치에 들어갈 세 자리 자연수가 주어질 때 (3), (4), (5), (6)위치에 들어갈 값을 구하는 프로그램을 작성하시오.\n",
    "\n",
    "예제 입력  \n",
    "472  \n",
    "385\n",
    "\n",
    "예제 출력  \n",
    "2360  \n",
    "3776  \n",
    "1416  \n",
    "181720"
   ]
  },
  {
   "cell_type": "code",
   "execution_count": 53,
   "metadata": {},
   "outputs": [
    {
     "name": "stdout",
     "output_type": "stream",
     "text": [
      "0 1 2 3 4 5 6 7 8 9 "
     ]
    }
   ],
   "source": [
    "for i in range(10) :\n",
    "    print(i, end=' ')"
   ]
  },
  {
   "cell_type": "code",
   "execution_count": 54,
   "metadata": {},
   "outputs": [
    {
     "name": "stdout",
     "output_type": "stream",
     "text": [
      "0\n",
      "1\n",
      "2\n",
      "3\n",
      "4\n",
      "5\n",
      "6\n",
      "7\n",
      "8\n",
      "9\n"
     ]
    }
   ],
   "source": [
    "for i in range(10) :\n",
    "    print(i)"
   ]
  },
  {
   "cell_type": "code",
   "execution_count": 99,
   "metadata": {},
   "outputs": [
    {
     "name": "stdout",
     "output_type": "stream",
     "text": [
      "1\n",
      "2\n",
      "3\n"
     ]
    }
   ],
   "source": [
    "aa = 12345\n",
    "print(aa % 10**5 // 10**4)\n",
    "print(aa % 10**4 // 10**3)\n",
    "print(aa % 10**3 // 10**2)\n",
    "#a % 10"
   ]
  },
  {
   "cell_type": "code",
   "execution_count": 63,
   "metadata": {},
   "outputs": [
    {
     "name": "stdout",
     "output_type": "stream",
     "text": [
      "472\n"
     ]
    },
    {
     "data": {
      "text/plain": [
       "3"
      ]
     },
     "execution_count": 63,
     "metadata": {},
     "output_type": "execute_result"
    }
   ],
   "source": [
    "a,b = map(int, input().split())\n",
    "10**(len(a)-1)"
   ]
  },
  {
   "cell_type": "code",
   "execution_count": 80,
   "metadata": {},
   "outputs": [
    {
     "name": "stdout",
     "output_type": "stream",
     "text": [
      "[3, 8, 5]\n"
     ]
    }
   ],
   "source": [
    "a = 472\n",
    "b = 385\n",
    "output = []\n",
    "\n",
    "for i in range(len(str(b))):\n",
    "    output.append(int(str(b)[i]))\n",
    "print(output)"
   ]
  },
  {
   "cell_type": "code",
   "execution_count": 84,
   "metadata": {},
   "outputs": [
    {
     "name": "stdout",
     "output_type": "stream",
     "text": [
      "2360\n",
      "3776\n",
      "1416\n",
      "181720\n"
     ]
    }
   ],
   "source": [
    "a = 472\n",
    "b = 385\n",
    "output = []\n",
    "\n",
    "for i in range(len(str(b))):\n",
    "    print(a * int(str(b)[-i-1]))\n",
    "print(a*b)"
   ]
  },
  {
   "cell_type": "code",
   "execution_count": 86,
   "metadata": {},
   "outputs": [
    {
     "name": "stdout",
     "output_type": "stream",
     "text": [
      "472\n"
     ]
    },
    {
     "ename": "ValueError",
     "evalue": "not enough values to unpack (expected 2, got 1)",
     "output_type": "error",
     "traceback": [
      "\u001b[1;31m---------------------------------------------------------------------------\u001b[0m",
      "\u001b[1;31mValueError\u001b[0m                                Traceback (most recent call last)",
      "\u001b[1;32m<ipython-input-86-9fa8b3f08cc4>\u001b[0m in \u001b[0;36m<module>\u001b[1;34m\u001b[0m\n\u001b[1;32m----> 1\u001b[1;33m \u001b[0ma\u001b[0m\u001b[1;33m,\u001b[0m\u001b[0mb\u001b[0m \u001b[1;33m=\u001b[0m \u001b[0mmap\u001b[0m\u001b[1;33m(\u001b[0m\u001b[0mint\u001b[0m\u001b[1;33m,\u001b[0m \u001b[0minput\u001b[0m\u001b[1;33m(\u001b[0m\u001b[1;33m)\u001b[0m\u001b[1;33m.\u001b[0m\u001b[0msplit\u001b[0m\u001b[1;33m(\u001b[0m\u001b[1;33m)\u001b[0m\u001b[1;33m)\u001b[0m\u001b[1;33m\u001b[0m\u001b[1;33m\u001b[0m\u001b[0m\n\u001b[0m",
      "\u001b[1;31mValueError\u001b[0m: not enough values to unpack (expected 2, got 1)"
     ]
    }
   ],
   "source": [
    "a,b = map(int, input().split())"
   ]
  },
  {
   "cell_type": "markdown",
   "metadata": {},
   "source": [
    "### 숫자쪼개기"
   ]
  },
  {
   "cell_type": "code",
   "execution_count": 104,
   "metadata": {},
   "outputs": [],
   "source": [
    "def deci(input):\n",
    "    output = []\n",
    "    totaldigit = len(str(input))\n",
    "    for i in range(totaldigit) :\n",
    "        output1 = input % 10**(totaldigit-i) // 10**(totaldigit-i-1)\n",
    "        output.append(output1)\n",
    "    return output"
   ]
  },
  {
   "cell_type": "code",
   "execution_count": 105,
   "metadata": {
    "scrolled": true
   },
   "outputs": [
    {
     "data": {
      "text/plain": [
       "[1, 2, 3, 4, 5]"
      ]
     },
     "execution_count": 105,
     "metadata": {},
     "output_type": "execute_result"
    }
   ],
   "source": [
    "deci(12345)"
   ]
  },
  {
   "cell_type": "code",
   "execution_count": 111,
   "metadata": {},
   "outputs": [
    {
     "name": "stdout",
     "output_type": "stream",
     "text": [
      "[2360, 3776, 1416]\n",
      "2360\n",
      "37760\n",
      "141600\n"
     ]
    }
   ],
   "source": [
    "a = 472\n",
    "b = 385\n",
    "semiout = []\n",
    "totaldigit = len(str(b))\n",
    "for i in range(totaldigit):\n",
    "    semiout.append(a * digit(b)[-i-1])\n",
    "print(semiout)\n",
    "\n",
    "for i in range(len(semiout)):\n",
    "    print(semiout[i]*10**i)"
   ]
  },
  {
   "cell_type": "code",
   "execution_count": 114,
   "metadata": {},
   "outputs": [
    {
     "data": {
      "text/plain": [
       "181720"
      ]
     },
     "execution_count": 114,
     "metadata": {},
     "output_type": "execute_result"
    }
   ],
   "source": [
    "sum([semiout[i]*10**i for i in range(len(semiout))])"
   ]
  },
  {
   "cell_type": "code",
   "execution_count": 116,
   "metadata": {},
   "outputs": [
    {
     "name": "stdout",
     "output_type": "stream",
     "text": [
      "472 385\n",
      "2360\n",
      "3776\n",
      "1416\n",
      "181720\n"
     ]
    }
   ],
   "source": [
    "a,b = map(int, input().split())\n",
    "def digit(input):\n",
    "    output = []\n",
    "    totaldigit = len(str(input))\n",
    "    for i in range(totaldigit) :\n",
    "        output1 = input % 10**(totaldigit-i) // 10**(totaldigit-i-1)\n",
    "        output.append(output1)\n",
    "    return output\n",
    "\n",
    "semiout = []\n",
    "totaldigit = len(str(b))\n",
    "for i in range(totaldigit):\n",
    "    semiout.append(a * digit(b)[-i-1])\n",
    "    print(semiout[i])\n",
    "print(sum([semiout[i]*10**i for i in range(len(semiout))]))"
   ]
  },
  {
   "cell_type": "code",
   "execution_count": 122,
   "metadata": {},
   "outputs": [
    {
     "name": "stdout",
     "output_type": "stream",
     "text": [
      "472\n",
      "385\n",
      "2360\n",
      "3776\n",
      "1416\n",
      "181720\n"
     ]
    }
   ],
   "source": [
    "#2588\n",
    "a = int(input())\n",
    "b = int(input())\n",
    "def digit(input):\n",
    "    output = []\n",
    "    totaldigit = len(str(input))\n",
    "    for i in range(totaldigit) :\n",
    "        output1 = input % 10**(totaldigit-i) // 10**(totaldigit-i-1)\n",
    "        output.append(output1)\n",
    "    return output\n",
    "\n",
    "semiout = []\n",
    "totaldigit = len(str(b))\n",
    "for i in range(totaldigit):\n",
    "    semiout.append(a * digit(b)[-i-1])\n",
    "    print(semiout[i])\n",
    "print(sum([semiout[i]*10**i for i in range(len(semiout))]))"
   ]
  },
  {
   "cell_type": "markdown",
   "metadata": {},
   "source": [
    "# 2. if문"
   ]
  },
  {
   "cell_type": "markdown",
   "metadata": {},
   "source": [
    "## 2.1. 두 수 비교하기\n",
    "두 정수 A와 B가 주어졌을 때, A와 B를 비교하는 프로그램을 작성하시오.\n",
    "\n",
    "출력\n",
    "\n",
    "첫째 줄에 다음 세 가지 중 하나를 출력한다.\n",
    "\n",
    "A가 B보다 큰 경우에는 '>'를 출력한다.  \n",
    "A가 B보다 작은 경우에는 '<'를 출력한다.  \n",
    "A와 B가 같은 경우에는 '=='를 출력한다.  "
   ]
  },
  {
   "cell_type": "code",
   "execution_count": null,
   "metadata": {},
   "outputs": [],
   "source": [
    "#1330\n",
    "a, b = map(int, input().split())\n",
    "print(\">\") if a>b else (print(\"<\") if a<b else print(\"==\"))"
   ]
  },
  {
   "cell_type": "markdown",
   "metadata": {},
   "source": [
    "## 2.2. 시험 성적"
   ]
  },
  {
   "cell_type": "code",
   "execution_count": 3,
   "metadata": {},
   "outputs": [
    {
     "name": "stdout",
     "output_type": "stream",
     "text": [
      "100\n",
      "A\n"
     ]
    }
   ],
   "source": [
    "#9498\n",
    "score = int(input())\n",
    "if score >= 90 :\n",
    "    print(\"A\")\n",
    "elif score >= 80 :\n",
    "    print(\"B\")\n",
    "elif score >= 70:\n",
    "    print(\"C\")\n",
    "elif score >= 60:\n",
    "    print(\"D\")\n",
    "else :\n",
    "    print(\"F\")"
   ]
  },
  {
   "cell_type": "markdown",
   "metadata": {},
   "source": [
    "## 2.3. 윤년"
   ]
  },
  {
   "cell_type": "code",
   "execution_count": 10,
   "metadata": {},
   "outputs": [
    {
     "name": "stdout",
     "output_type": "stream",
     "text": [
      "2000\n",
      "1\n"
     ]
    }
   ],
   "source": [
    "#2753\n",
    "year = int(input())\n",
    "print(((year%4 == 0 and year%100 != 0) or year%400 == 0)*1)"
   ]
  },
  {
   "cell_type": "markdown",
   "metadata": {},
   "source": [
    "## 2.4. 상근날드\n",
    "상근날드에서 가장 잘 팔리는 메뉴는 세트 메뉴이다. 주문할 때, 자신이 원하는 햄버거와 음료를 하나씩 골라, 세트로 구매하면, 가격의 합계에서 50원을 뺀 가격이 세트 메뉴의 가격이 된다.\n",
    "\n",
    "햄버거는 총 3종류 상덕버거, 중덕버거, 하덕버거가 있고, 음료는 콜라와 사이다 두 종류가 있다.\n",
    "\n",
    "햄버거와 음료의 가격이 주어졌을 때, 가장 싼 세트 메뉴의 가격을 출력하는 프로그램을 작성하시오."
   ]
  },
  {
   "cell_type": "code",
   "execution_count": 2,
   "metadata": {},
   "outputs": [
    {
     "name": "stdout",
     "output_type": "stream",
     "text": [
      "800\n",
      "700\n",
      "900\n",
      "198\n",
      "330\n",
      "848\n"
     ]
    }
   ],
   "source": [
    "burger = []\n",
    "drink = []\n",
    "for i in range(3):\n",
    "    burger.append(int(input()))\n",
    "for i in range(2):\n",
    "    drink.append(int(input()))\n",
    "print(min(burger)+min(drink)-50)"
   ]
  },
  {
   "cell_type": "code",
   "execution_count": 8,
   "metadata": {},
   "outputs": [
    {
     "name": "stdout",
     "output_type": "stream",
     "text": [
      "[800, 700, 900]\n",
      "[198, 330]\n"
     ]
    }
   ],
   "source": [
    "a = [800,700,900,198,330]\n",
    "print(a[:3])\n",
    "print(a[3:])"
   ]
  },
  {
   "cell_type": "code",
   "execution_count": 12,
   "metadata": {
    "scrolled": true
   },
   "outputs": [
    {
     "name": "stdout",
     "output_type": "stream",
     "text": [
      "800\n",
      "700\n",
      "900\n",
      "198\n",
      "330\n",
      "848\n"
     ]
    }
   ],
   "source": [
    "#5543\n",
    "a=[int(input()) for i in range(5)]\n",
    "print(min(a[:3])+min(a[3:])-50)"
   ]
  },
  {
   "cell_type": "code",
   "execution_count": null,
   "metadata": {},
   "outputs": [],
   "source": [
    "#short cording\n",
    "*p,q,r=eval(\"int(input()),\"*5)\n",
    "print(min(p)+min(q,r)-50)"
   ]
  },
  {
   "cell_type": "markdown",
   "metadata": {},
   "source": [
    "## list 원소들 형변환하기"
   ]
  },
  {
   "cell_type": "code",
   "execution_count": 25,
   "metadata": {
    "scrolled": false
   },
   "outputs": [
    {
     "name": "stdout",
     "output_type": "stream",
     "text": [
      "1 2\n",
      "<class 'int'>\n"
     ]
    }
   ],
   "source": [
    "#방법1\n",
    "a = list(map(int, input().split()))\n",
    "print(type(a[0]))"
   ]
  },
  {
   "cell_type": "code",
   "execution_count": 27,
   "metadata": {},
   "outputs": [
    {
     "name": "stdout",
     "output_type": "stream",
     "text": [
      "1 2\n",
      "<class 'int'>\n"
     ]
    }
   ],
   "source": [
    "#방법2\n",
    "b = input().split()\n",
    "b = [int(x) for x in b]\n",
    "print(type(b[0]))"
   ]
  },
  {
   "cell_type": "markdown",
   "metadata": {},
   "source": [
    "## 2.5. 두번째 큰 값 찾기"
   ]
  },
  {
   "cell_type": "markdown",
   "metadata": {},
   "source": [
    "### 중복되지 않게, for 활용"
   ]
  },
  {
   "cell_type": "code",
   "execution_count": 29,
   "metadata": {},
   "outputs": [
    {
     "data": {
      "text/plain": [
       "10"
      ]
     },
     "execution_count": 29,
     "metadata": {},
     "output_type": "execute_result"
    }
   ],
   "source": [
    "def findsecond(arr):\n",
    "    second = first = -float('inf') \n",
    "    \n",
    "    for n in arr:\n",
    "        if n > first:\n",
    "            second = first\n",
    "            first = n\n",
    "        elif second < n < first:\n",
    "            second = n\n",
    "    return second\n",
    "\n",
    "findsecond([30,30,10])"
   ]
  },
  {
   "cell_type": "code",
   "execution_count": 28,
   "metadata": {},
   "outputs": [
    {
     "name": "stdout",
     "output_type": "stream",
     "text": [
      "3 3\n"
     ]
    }
   ],
   "source": [
    "a = b = 3\n",
    "print(a,b)"
   ]
  },
  {
   "cell_type": "markdown",
   "metadata": {},
   "source": [
    "### 중복포함, sorting 활용"
   ]
  },
  {
   "cell_type": "code",
   "execution_count": 26,
   "metadata": {
    "scrolled": true
   },
   "outputs": [
    {
     "data": {
      "text/plain": [
       "30"
      ]
     },
     "execution_count": 26,
     "metadata": {},
     "output_type": "execute_result"
    }
   ],
   "source": [
    "arr = [10,30,30,20]\n",
    "sorted(arr, reverse=True)[1]"
   ]
  },
  {
   "cell_type": "code",
   "execution_count": 27,
   "metadata": {},
   "outputs": [
    {
     "data": {
      "text/plain": [
       "20"
      ]
     },
     "execution_count": 27,
     "metadata": {},
     "output_type": "execute_result"
    }
   ],
   "source": [
    "arr = [10,30,30,20]\n",
    "uniq = set(arr)\n",
    "sorted(uniq, reverse=True)[1]"
   ]
  },
  {
   "cell_type": "code",
   "execution_count": 25,
   "metadata": {},
   "outputs": [
    {
     "name": "stdout",
     "output_type": "stream",
     "text": [
      "30 20 10\n",
      "20\n"
     ]
    }
   ],
   "source": [
    "arr = list(map(int, input().split()))\n",
    "print(sorted(arr, reverse=True)[1])"
   ]
  },
  {
   "cell_type": "code",
   "execution_count": 35,
   "metadata": {},
   "outputs": [
    {
     "name": "stdout",
     "output_type": "stream",
     "text": [
      "30 30 10\n",
      "30\n"
     ]
    }
   ],
   "source": [
    "print(sorted(list(map(int, input().split())))[1])"
   ]
  },
  {
   "cell_type": "markdown",
   "metadata": {},
   "source": [
    "# 3. for문"
   ]
  },
  {
   "cell_type": "markdown",
   "metadata": {},
   "source": [
    "## 3.1. 구구단"
   ]
  },
  {
   "cell_type": "code",
   "execution_count": 40,
   "metadata": {},
   "outputs": [
    {
     "name": "stdout",
     "output_type": "stream",
     "text": [
      "2\n",
      "2 * 1 = 2\n",
      "2 * 2 = 4\n",
      "2 * 3 = 6\n",
      "2 * 4 = 8\n",
      "2 * 5 = 10\n",
      "2 * 6 = 12\n",
      "2 * 7 = 14\n",
      "2 * 8 = 16\n",
      "2 * 9 = 18\n"
     ]
    }
   ],
   "source": [
    "n = int(input())\n",
    "for i in range(9):\n",
    "    print(\"{} * {} = {}\".format(n,i+1,n*(i+1)))"
   ]
  },
  {
   "cell_type": "code",
   "execution_count": 42,
   "metadata": {},
   "outputs": [
    {
     "name": "stdout",
     "output_type": "stream",
     "text": [
      "2\n",
      "2 * 1 = 2\n",
      "2 * 2 = 4\n",
      "2 * 3 = 6\n",
      "2 * 4 = 8\n",
      "2 * 5 = 10\n",
      "2 * 6 = 12\n",
      "2 * 7 = 14\n",
      "2 * 8 = 16\n",
      "2 * 9 = 18\n"
     ]
    },
    {
     "data": {
      "text/plain": [
       "[None, None, None, None, None, None, None, None, None]"
      ]
     },
     "execution_count": 42,
     "metadata": {},
     "output_type": "execute_result"
    }
   ],
   "source": [
    "n = int(input())\n",
    "[print(\"{} * {} = {}\".format(n,i+1,n*(i+1))) for i in range(9)]"
   ]
  },
  {
   "cell_type": "code",
   "execution_count": 43,
   "metadata": {},
   "outputs": [
    {
     "name": "stdout",
     "output_type": "stream",
     "text": [
      "2\n",
      "2 * 1 = 2\n",
      "2 * 2 = 4\n",
      "2 * 3 = 6\n",
      "2 * 4 = 8\n",
      "2 * 5 = 10\n",
      "2 * 6 = 12\n",
      "2 * 7 = 14\n",
      "2 * 8 = 16\n",
      "2 * 9 = 18\n"
     ]
    }
   ],
   "source": [
    "#short cording\n",
    "i=int(input())\n",
    "j=1\n",
    "exec(\"print(i,'*',j,'=',i*j);j+=1;\"*9)"
   ]
  },
  {
   "cell_type": "code",
   "execution_count": 45,
   "metadata": {},
   "outputs": [
    {
     "name": "stdout",
     "output_type": "stream",
     "text": [
      "2\n",
      "2 * 1 = 2\n",
      "2 * 2 = 4\n",
      "2 * 3 = 6\n",
      "2 * 4 = 8\n",
      "2 * 5 = 10\n",
      "2 * 6 = 12\n",
      "2 * 7 = 14\n",
      "2 * 8 = 16\n",
      "2 * 9 = 18\n"
     ]
    },
    {
     "data": {
      "text/plain": [
       "[None, None, None, None, None, None, None, None, None]"
      ]
     },
     "execution_count": 45,
     "metadata": {},
     "output_type": "execute_result"
    }
   ],
   "source": [
    "#2739\n",
    "n = int(input())\n",
    "[print(n,\"*\",i+1,\"=\",n*(i+1)) for i in range(9)]"
   ]
  },
  {
   "cell_type": "markdown",
   "metadata": {},
   "source": [
    "## 3.2. A+B\n",
    "문제\n",
    "\n",
    "두 정수 A와 B를 입력받은 다음, A+B를 출력하는 프로그램을 작성하시오.\n",
    "\n",
    "입력\n",
    "\n",
    "첫째 줄에 테스트 케이스의 개수 T가 주어진다.\n",
    "\n",
    "각 테스트 케이스는 한 줄로 이루어져 있으며, 각 줄에 A와 B가 주어진다. (0 < A, B < 10)\n",
    "\n",
    "출력\n",
    "\n",
    "각 테스트 케이스마다 A+B를 출력한다."
   ]
  },
  {
   "cell_type": "code",
   "execution_count": 47,
   "metadata": {
    "scrolled": true
   },
   "outputs": [
    {
     "name": "stdout",
     "output_type": "stream",
     "text": [
      "2\n",
      "1 1\n",
      "2\n",
      "2 3\n",
      "5\n"
     ]
    }
   ],
   "source": [
    "n=int(input())\n",
    "for i in range(n):\n",
    "    print(sum(list(map(int, input().split()))))"
   ]
  },
  {
   "cell_type": "code",
   "execution_count": 48,
   "metadata": {},
   "outputs": [
    {
     "name": "stdout",
     "output_type": "stream",
     "text": [
      "2\n",
      "2 3\n",
      "5\n",
      "3 4\n",
      "7\n"
     ]
    },
    {
     "data": {
      "text/plain": [
       "[None, None]"
      ]
     },
     "execution_count": 48,
     "metadata": {},
     "output_type": "execute_result"
    }
   ],
   "source": [
    "#10950\n",
    "n=int(input())\n",
    "[print(sum(list(map(int, input().split())))) for i in range(n)]"
   ]
  },
  {
   "cell_type": "code",
   "execution_count": null,
   "metadata": {},
   "outputs": [],
   "source": [
    "#short cording\n",
    "exec('print(eval(\"+\".join(input())));'*int(input()))"
   ]
  },
  {
   "cell_type": "code",
   "execution_count": 59,
   "metadata": {},
   "outputs": [
    {
     "name": "stdout",
     "output_type": "stream",
     "text": [
      "3\n",
      "6\n"
     ]
    }
   ],
   "source": [
    "n = int(input())\n",
    "sum=0\n",
    "for i in range(n):\n",
    "    sum = sum+ i+1\n",
    "print(sum)"
   ]
  },
  {
   "cell_type": "markdown",
   "metadata": {},
   "source": [
    "## 3.3. 합\n",
    "n이 주어졌을 때, 1부터 n까지 합을 구하는 프로그램을 작성하시오."
   ]
  },
  {
   "cell_type": "code",
   "execution_count": 61,
   "metadata": {},
   "outputs": [
    {
     "name": "stdout",
     "output_type": "stream",
     "text": [
      "3\n",
      "6\n"
     ]
    }
   ],
   "source": [
    "#8393\n",
    "n = int(input())\n",
    "print(int(n*(n+1)/2))"
   ]
  },
  {
   "cell_type": "markdown",
   "metadata": {},
   "source": [
    "## 3.4. 빠른 A+B\n",
    "input 대신 sys.stdin.readline을 사용할 수 있다. 단, 이때는 맨 끝의 개행문자까지 같이 입력받기 때문에 문자열을 저장하고 싶을 경우 .rstrip()을 추가로 해 주는 것이 좋다."
   ]
  },
  {
   "cell_type": "code",
   "execution_count": 8,
   "metadata": {
    "scrolled": true
   },
   "outputs": [
    {
     "ename": "ValueError",
     "evalue": "invalid literal for int() with base 10: ''",
     "output_type": "error",
     "traceback": [
      "\u001b[1;31m---------------------------------------------------------------------------\u001b[0m",
      "\u001b[1;31mValueError\u001b[0m                                Traceback (most recent call last)",
      "\u001b[1;32m<ipython-input-8-f228e4f83acb>\u001b[0m in \u001b[0;36m<module>\u001b[1;34m\u001b[0m\n\u001b[0;32m      1\u001b[0m \u001b[1;32mimport\u001b[0m \u001b[0msys\u001b[0m\u001b[1;33m\u001b[0m\u001b[1;33m\u001b[0m\u001b[0m\n\u001b[1;32m----> 2\u001b[1;33m \u001b[0mn\u001b[0m\u001b[1;33m=\u001b[0m\u001b[0mint\u001b[0m\u001b[1;33m(\u001b[0m\u001b[0msys\u001b[0m\u001b[1;33m.\u001b[0m\u001b[0mstdin\u001b[0m\u001b[1;33m.\u001b[0m\u001b[0mreadline\u001b[0m\u001b[1;33m(\u001b[0m\u001b[1;33m)\u001b[0m\u001b[1;33m)\u001b[0m\u001b[1;33m\u001b[0m\u001b[1;33m\u001b[0m\u001b[0m\n\u001b[0m\u001b[0;32m      3\u001b[0m \u001b[1;32mfor\u001b[0m \u001b[0mi\u001b[0m \u001b[1;32min\u001b[0m \u001b[0mrange\u001b[0m\u001b[1;33m(\u001b[0m\u001b[0mn\u001b[0m\u001b[1;33m)\u001b[0m\u001b[1;33m:\u001b[0m\u001b[1;33m\u001b[0m\u001b[1;33m\u001b[0m\u001b[0m\n\u001b[0;32m      4\u001b[0m     \u001b[0ma\u001b[0m\u001b[1;33m,\u001b[0m\u001b[0mb\u001b[0m\u001b[1;33m=\u001b[0m\u001b[0mmap\u001b[0m\u001b[1;33m(\u001b[0m\u001b[0mint\u001b[0m\u001b[1;33m,\u001b[0m\u001b[0msys\u001b[0m\u001b[1;33m.\u001b[0m\u001b[0mstdin\u001b[0m\u001b[1;33m.\u001b[0m\u001b[0mreadline\u001b[0m\u001b[1;33m(\u001b[0m\u001b[1;33m)\u001b[0m\u001b[1;33m.\u001b[0m\u001b[0msplit\u001b[0m\u001b[1;33m(\u001b[0m\u001b[1;33m)\u001b[0m\u001b[1;33m)\u001b[0m\u001b[1;33m\u001b[0m\u001b[1;33m\u001b[0m\u001b[0m\n\u001b[0;32m      5\u001b[0m     \u001b[0mprint\u001b[0m\u001b[1;33m(\u001b[0m\u001b[0ma\u001b[0m\u001b[1;33m+\u001b[0m\u001b[0mb\u001b[0m\u001b[1;33m)\u001b[0m\u001b[1;33m\u001b[0m\u001b[1;33m\u001b[0m\u001b[0m\n",
      "\u001b[1;31mValueError\u001b[0m: invalid literal for int() with base 10: ''"
     ]
    }
   ],
   "source": [
    "#15552\n",
    "#jupyter같은 IDE에서 실행되지 않는다\n",
    "import sys\n",
    "n=int(sys.stdin.readline())\n",
    "for i in range(n):\n",
    "    a,b=map(int,sys.stdin.readline().split())\n",
    "    print(a+b)"
   ]
  },
  {
   "cell_type": "code",
   "execution_count": null,
   "metadata": {},
   "outputs": [],
   "source": [
    "for x in sys.stdin.readline():\n",
    "    print(x)"
   ]
  },
  {
   "cell_type": "markdown",
   "metadata": {},
   "source": [
    "## 3.5. N 찍기\n",
    "자연수 N이 주어졌을 때, 1부터 N까지 한 줄에 하나씩 출력하는 프로그램을 작성하시오."
   ]
  },
  {
   "cell_type": "code",
   "execution_count": 1,
   "metadata": {
    "scrolled": true
   },
   "outputs": [
    {
     "name": "stdout",
     "output_type": "stream",
     "text": [
      "5\n",
      "1\n",
      "2\n",
      "3\n",
      "4\n",
      "5\n"
     ]
    },
    {
     "data": {
      "text/plain": [
       "[None, None, None, None, None]"
      ]
     },
     "execution_count": 1,
     "metadata": {},
     "output_type": "execute_result"
    }
   ],
   "source": [
    "#2741\n",
    "[print(i+1) for i in range(int(input()))]"
   ]
  },
  {
   "cell_type": "markdown",
   "metadata": {},
   "source": [
    "## 3.6. 기찍 N"
   ]
  },
  {
   "cell_type": "code",
   "execution_count": 2,
   "metadata": {},
   "outputs": [
    {
     "name": "stdout",
     "output_type": "stream",
     "text": [
      "5\n",
      "5\n",
      "4\n",
      "3\n",
      "2\n",
      "1\n"
     ]
    },
    {
     "data": {
      "text/plain": [
       "[None, None, None, None, None]"
      ]
     },
     "execution_count": 2,
     "metadata": {},
     "output_type": "execute_result"
    }
   ],
   "source": [
    "#2742\n",
    "n=int(input())\n",
    "[print(n-i) for i in range(n)]"
   ]
  },
  {
   "cell_type": "markdown",
   "metadata": {},
   "source": [
    "## 3.7. A+B - 7\n",
    "두 정수 A와 B를 입력받은 다음, A+B를 출력하는 프로그램을 작성하시오."
   ]
  },
  {
   "cell_type": "code",
   "execution_count": 3,
   "metadata": {
    "scrolled": true
   },
   "outputs": [
    {
     "name": "stdout",
     "output_type": "stream",
     "text": [
      "3\n",
      "1 1\n",
      "Case #1: 2\n",
      "2 3\n",
      "Case #2: 5\n",
      "3 4\n",
      "Case #3: 7\n"
     ]
    },
    {
     "data": {
      "text/plain": [
       "[None, None, None]"
      ]
     },
     "execution_count": 3,
     "metadata": {},
     "output_type": "execute_result"
    }
   ],
   "source": [
    "#11021\n",
    "t = int(input())\n",
    "[print(\"Case #{}: {}\".format(i+1,sum(list(map(int, input().split()))))) for i in range(t)]"
   ]
  },
  {
   "cell_type": "markdown",
   "metadata": {},
   "source": [
    "## 3.8. A+B - 8\n",
    "두 정수 A와 B를 입력받은 다음, A+B를 출력하는 프로그램을 작성하시오."
   ]
  },
  {
   "cell_type": "code",
   "execution_count": 10,
   "metadata": {},
   "outputs": [
    {
     "name": "stdout",
     "output_type": "stream",
     "text": [
      "3\n",
      "1 1\n",
      "Case #1: 1 + 1 = 2\n",
      "2 3\n",
      "Case #2: 2 + 3 = 5\n",
      "3 4\n",
      "Case #3: 3 + 4 = 7\n"
     ]
    }
   ],
   "source": [
    "#11022\n",
    "for i in range(int(input())):\n",
    "    a,b=map(int, input().split())\n",
    "    print(\"Case #{}: {} + {} = {}\".format(i+1,a,b,a+b))"
   ]
  },
  {
   "cell_type": "markdown",
   "metadata": {},
   "source": [
    "## 3.9. 별 찍기 - 1\n",
    "첫째 줄에는 별 1개, 둘째 줄에는 별 2개, N번째 줄에는 별 N개를 찍는 문제"
   ]
  },
  {
   "cell_type": "code",
   "execution_count": 12,
   "metadata": {
    "scrolled": true
   },
   "outputs": [
    {
     "name": "stdout",
     "output_type": "stream",
     "text": [
      "5\n",
      "*\n",
      "**\n",
      "***\n",
      "****\n",
      "*****\n"
     ]
    },
    {
     "data": {
      "text/plain": [
       "[None, None, None, None, None]"
      ]
     },
     "execution_count": 12,
     "metadata": {},
     "output_type": "execute_result"
    }
   ],
   "source": [
    "#2438\n",
    "[print(\"*\"*(i+1)) for i in range(int(input()))]"
   ]
  },
  {
   "cell_type": "markdown",
   "metadata": {},
   "source": [
    "## 3.10. 별 찍기 - 2\n",
    "첫째 줄에는 별 1개, 둘째 줄에는 별 2개, N번째 줄에는 별 N개를 찍는 문제  \n",
    "하지만, 오른쪽을 기준으로 정렬한 별(예제 참고)을 출력하시오."
   ]
  },
  {
   "cell_type": "code",
   "execution_count": 15,
   "metadata": {},
   "outputs": [
    {
     "name": "stdout",
     "output_type": "stream",
     "text": [
      "5\n",
      "    *\n",
      "   **\n",
      "  ***\n",
      " ****\n",
      "*****\n"
     ]
    },
    {
     "data": {
      "text/plain": [
       "[None, None, None, None, None]"
      ]
     },
     "execution_count": 15,
     "metadata": {},
     "output_type": "execute_result"
    }
   ],
   "source": [
    "#2439\n",
    "n=int(input())\n",
    "[print(\"%{}s\".format(n)%(\"*\"*(i+1))) for i in range(n)]"
   ]
  },
  {
   "cell_type": "code",
   "execution_count": 16,
   "metadata": {},
   "outputs": [
    {
     "name": "stdout",
     "output_type": "stream",
     "text": [
      "5\n",
      "    *\n",
      "   **\n",
      "  ***\n",
      " ****\n",
      "*****\n"
     ]
    }
   ],
   "source": [
    "#another source\n",
    "n = int(input())\n",
    "for i in range(1,n+1):\n",
    "    print(\" \"*(n-i) + \"*\"*i)"
   ]
  },
  {
   "cell_type": "markdown",
   "metadata": {},
   "source": [
    "## 3.11. X보다 작은 수\n",
    "정수 N개로 이루어진 수열 A와 정수 X가 주어진다. 이때, A에서 X보다 작은 수를 모두 출력하는 프로그램을 작성하시오."
   ]
  },
  {
   "cell_type": "code",
   "execution_count": 29,
   "metadata": {},
   "outputs": [
    {
     "name": "stdout",
     "output_type": "stream",
     "text": [
      "10 5\n",
      "1 10 4 9 2 3 8 5 7 6\n",
      "1 4 2 3\n"
     ]
    }
   ],
   "source": [
    "#10871\n",
    "n,x=map(int,input().split())\n",
    "arr=list(map(int,input().split()))\n",
    "print(' '.join([str(i) for i in arr if i<x ]))"
   ]
  },
  {
   "cell_type": "markdown",
   "metadata": {},
   "source": [
    "# 4. while문"
   ]
  },
  {
   "cell_type": "markdown",
   "metadata": {},
   "source": [
    "## 4.1. A+B - 5\n",
    "- 문제\n",
    "\n",
    "두 정수 A와 B를 입력받은 다음, A+B를 출력하는 프로그램을 작성하시오.\n",
    "\n",
    "- 입력\n",
    "\n",
    "입력은 여러 개의 테스트 케이스로 이루어져 있다.\n",
    "\n",
    "각 테스트 케이스는 한 줄로 이루어져 있으며, 각 줄에 A와 B가 주어진다. (0 < A, B < 10)\n",
    "\n",
    "입력의 마지막에는 0 두 개가 들어온다.\n",
    "\n",
    "- 출력\n",
    "\n",
    "각 테스트 케이스마다 A+B를 출력한다."
   ]
  },
  {
   "cell_type": "code",
   "execution_count": 1,
   "metadata": {},
   "outputs": [
    {
     "name": "stdout",
     "output_type": "stream",
     "text": [
      "1 1\n",
      "2\n",
      "0 0\n"
     ]
    }
   ],
   "source": [
    "#10952\n",
    "while True:\n",
    "    a,b=map(int,input().split())\n",
    "    if a+b>0:\n",
    "        print(a+b)\n",
    "    else:\n",
    "        break"
   ]
  },
  {
   "cell_type": "markdown",
   "metadata": {},
   "source": [
    "## 4.2. A+B - 4\n",
    "- 문제\n",
    "\n",
    "두 정수 A와 B를 입력받은 다음, A+B를 출력하는 프로그램을 작성하시오.\n",
    "\n",
    "- 입력\n",
    "\n",
    "입력은 여러 개의 테스트 케이스로 이루어져 있다.\n",
    "\n",
    "각 테스트 케이스는 한 줄로 이루어져 있으며, 각 줄에 A와 B가 주어진다. (0 < A, B < 10)\n",
    "\n",
    "- 출력\n",
    "\n",
    "각 테스트 케이스마다 A+B를 출력한다."
   ]
  },
  {
   "cell_type": "code",
   "execution_count": 6,
   "metadata": {},
   "outputs": [
    {
     "name": "stdout",
     "output_type": "stream",
     "text": [
      "1 1\n",
      "2\n",
      "2 3\n",
      "5\n",
      "\n"
     ]
    }
   ],
   "source": [
    "while True:\n",
    "    txt=input()\n",
    "    if txt=='':\n",
    "        break\n",
    "    else:\n",
    "        a,b=map(int,txt.split())\n",
    "        print(a+b)"
   ]
  },
  {
   "cell_type": "code",
   "execution_count": 3,
   "metadata": {},
   "outputs": [
    {
     "name": "stdout",
     "output_type": "stream",
     "text": [
      "\n",
      "yes\n"
     ]
    }
   ],
   "source": [
    "if input()=='':\n",
    "    print('yes')\n",
    "else:\n",
    "    print('no')"
   ]
  },
  {
   "cell_type": "code",
   "execution_count": null,
   "metadata": {},
   "outputs": [],
   "source": [
    "#10951\n",
    "while True:\n",
    "    try:\n",
    "        a,b=map(int,input().split())\n",
    "        print(a+b)\n",
    "    except:\n",
    "        break"
   ]
  },
  {
   "cell_type": "markdown",
   "metadata": {},
   "source": [
    "## 4.3. 더하기 사이클\n",
    "- 문제\n",
    "\n",
    "0보다 크거나 같고, 99보다 작거나 같은 정수가 주어질 때 다음과 같은 연산을 할 수 있다. 먼저 주어진 수가 10보다 작다면 앞에 0을 붙여 두 자리 수로 만들고, 각 자리의 숫자를 더한다. 그 다음, 주어진 수의 가장 오른쪽 자리 수와 앞에서 구한 합의 가장 오른쪽 자리 수를 이어 붙이면 새로운 수를 만들 수 있다. 다음 예를 보자.\n",
    "\n",
    "26부터 시작한다. 2+6 = 8이다. 새로운 수는 68이다. 6+8 = 14이다. 새로운 수는 84이다. 8+4 = 12이다. 새로운 수는 42이다. 4+2 = 6이다. 새로운 수는 26이다.\n",
    "\n",
    "위의 예는 4번만에 원래 수로 돌아올 수 있다. 따라서 26의 사이클의 길이는 4이다.\n",
    "\n",
    "N이 주어졌을 때, N의 사이클의 길이를 구하는 프로그램을 작성하시오.\n",
    "\n",
    "- 입력\n",
    "\n",
    "첫째 줄에 N이 주어진다. N은 0보다 크거나 같고, 99보다 작거나 같은 정수이다.\n",
    "\n",
    "- 출력\n",
    "\n",
    "첫째 줄에 N의 사이클 길이를 출력한다."
   ]
  },
  {
   "cell_type": "code",
   "execution_count": 13,
   "metadata": {
    "scrolled": true
   },
   "outputs": [
    {
     "name": "stdout",
     "output_type": "stream",
     "text": [
      "55\n"
     ]
    },
    {
     "ename": "KeyboardInterrupt",
     "evalue": "",
     "output_type": "error",
     "traceback": [
      "\u001b[1;31m---------------------------------------------------------------------------\u001b[0m",
      "\u001b[1;31mKeyboardInterrupt\u001b[0m                         Traceback (most recent call last)",
      "\u001b[1;32m<ipython-input-13-ad7faf2c0207>\u001b[0m in \u001b[0;36m<module>\u001b[1;34m\u001b[0m\n\u001b[0;32m      7\u001b[0m     \u001b[1;32melse\u001b[0m\u001b[1;33m:\u001b[0m\u001b[1;33m\u001b[0m\u001b[1;33m\u001b[0m\u001b[0m\n\u001b[0;32m      8\u001b[0m         \u001b[0ma\u001b[0m\u001b[1;33m=\u001b[0m\u001b[1;33m(\u001b[0m\u001b[0mn\u001b[0m\u001b[1;33m//\u001b[0m\u001b[1;36m10\u001b[0m\u001b[1;33m)\u001b[0m\u001b[1;33m\u001b[0m\u001b[1;33m\u001b[0m\u001b[0m\n\u001b[1;32m----> 9\u001b[1;33m         \u001b[0mb\u001b[0m\u001b[1;33m=\u001b[0m\u001b[1;33m(\u001b[0m\u001b[0mn\u001b[0m\u001b[1;33m%\u001b[0m\u001b[1;36m10\u001b[0m\u001b[1;33m)\u001b[0m\u001b[1;33m\u001b[0m\u001b[1;33m\u001b[0m\u001b[0m\n\u001b[0m\u001b[0;32m     10\u001b[0m         \u001b[0mn\u001b[0m\u001b[1;33m=\u001b[0m\u001b[0mb\u001b[0m\u001b[1;33m*\u001b[0m\u001b[1;36m10\u001b[0m\u001b[1;33m+\u001b[0m\u001b[1;33m(\u001b[0m\u001b[1;33m(\u001b[0m\u001b[0ma\u001b[0m\u001b[1;33m+\u001b[0m\u001b[0mb\u001b[0m\u001b[1;33m)\u001b[0m\u001b[1;33m%\u001b[0m\u001b[1;36m10\u001b[0m\u001b[1;33m)\u001b[0m\u001b[1;33m\u001b[0m\u001b[1;33m\u001b[0m\u001b[0m\n\u001b[0;32m     11\u001b[0m         \u001b[0mi\u001b[0m \u001b[1;33m+=\u001b[0m \u001b[1;36m1\u001b[0m\u001b[1;33m\u001b[0m\u001b[1;33m\u001b[0m\u001b[0m\n",
      "\u001b[1;31mKeyboardInterrupt\u001b[0m: "
     ]
    }
   ],
   "source": [
    "m=n=int(input())\n",
    "i=0\n",
    "while True:\n",
    "    if n<10:\n",
    "        n=n*10\n",
    "        continue\n",
    "    else:\n",
    "        a=(n//10)\n",
    "        b=(n%10)\n",
    "        n=b*10+((a+b)%10)\n",
    "        i += 1\n",
    "        if n==m:\n",
    "            break\n",
    "print(i)"
   ]
  },
  {
   "cell_type": "code",
   "execution_count": 20,
   "metadata": {},
   "outputs": [
    {
     "name": "stdout",
     "output_type": "stream",
     "text": [
      "5 0\n",
      "5\n",
      "5\n"
     ]
    }
   ],
   "source": [
    "n=50\n",
    "a=n//10\n",
    "b=n%10\n",
    "print(a,b)\n",
    "print(((a+b)%10))\n",
    "print(b*10+((a+b)%10))"
   ]
  },
  {
   "cell_type": "code",
   "execution_count": 21,
   "metadata": {},
   "outputs": [
    {
     "name": "stdout",
     "output_type": "stream",
     "text": [
      "55\n",
      "3\n"
     ]
    }
   ],
   "source": [
    "#1110\n",
    "m=n=int(input())\n",
    "i=0\n",
    "while True:\n",
    "    a=(n//10)\n",
    "    b=(n%10)\n",
    "    n=b*10+((a+b)%10)\n",
    "    i += 1\n",
    "    if n==m:\n",
    "        break\n",
    "print(i)"
   ]
  },
  {
   "cell_type": "markdown",
   "metadata": {},
   "source": [
    "# 5. 실습\n",
    "추후수정"
   ]
  },
  {
   "cell_type": "markdown",
   "metadata": {},
   "source": [
    "# 6. 1차원 배열"
   ]
  },
  {
   "cell_type": "markdown",
   "metadata": {},
   "source": [
    "## 6.1. 최소, 최대"
   ]
  },
  {
   "cell_type": "code",
   "execution_count": 33,
   "metadata": {},
   "outputs": [
    {
     "name": "stdout",
     "output_type": "stream",
     "text": [
      "5\n",
      "20 10 35 30 7\n",
      "7 35\n"
     ]
    }
   ],
   "source": [
    "#10818\n",
    "n=int(input())\n",
    "a=list(map(int,input().split()))\n",
    "if len(a)==n:print(min(a),max(a))"
   ]
  },
  {
   "cell_type": "markdown",
   "metadata": {},
   "source": [
    "## 6.2. 최댓값\n",
    "9개의 서로 다른 자연수가 주어질 때, 이들 중 최댓값을 찾고 그 최댓값이 몇 번째 수인지를 구하는 프로그램을 작성하시오."
   ]
  },
  {
   "cell_type": "code",
   "execution_count": 39,
   "metadata": {
    "scrolled": false
   },
   "outputs": [
    {
     "name": "stdout",
     "output_type": "stream",
     "text": [
      "1\n",
      "2\n",
      "3\n",
      "4\n",
      "5\n",
      "6\n",
      "7\n",
      "8\n",
      "9\n",
      "[1, 2, 3, 4, 5, 6, 7, 8, 9]\n"
     ]
    }
   ],
   "source": [
    "arr=[]\n",
    "[arr.append(int(input())) for i in range(9)]\n",
    "print(arr)"
   ]
  },
  {
   "cell_type": "code",
   "execution_count": 41,
   "metadata": {},
   "outputs": [
    {
     "name": "stdout",
     "output_type": "stream",
     "text": [
      "3\n",
      "29\n",
      "38\n",
      "12\n",
      "57\n",
      "74\n",
      "40\n",
      "85\n",
      "61\n",
      "85\n",
      "8\n"
     ]
    }
   ],
   "source": [
    "#2562\n",
    "arr=[]\n",
    "[arr.append(int(input())) for i in range(9)]\n",
    "print(max(arr))\n",
    "print(arr.index(max(arr))+1)"
   ]
  },
  {
   "cell_type": "markdown",
   "metadata": {},
   "source": [
    "## 6.3. 숫자의 개수\n",
    "- 문제\n",
    "\n",
    "세 개의 자연수 A, B, C가 주어질 때 A×B×C를 계산한 결과에 0부터 9까지 각각의 숫자가 몇 번씩 쓰였는지를 구하는 프로그램을 작성하시오.\n",
    "\n",
    "예를 들어 A = 150, B = 266, C = 427 이라면 \n",
    "\n",
    "A × B × C = 150 × 266 × 427 = 17037300 이 되고, \n",
    "\n",
    "계산한 결과 17037300 에는 0이 3번, 1이 1번, 3이 2번, 7이 2번 쓰였다.\n",
    "\n",
    "- 입력\n",
    "\n",
    "첫째 줄에 A, 둘째 줄에 B, 셋째 줄에 C가 주어진다. A, B, C는 모두 100보다 같거나 크고, 1,000보다 작은 자연수이다.\n",
    "\n",
    "- 출력\n",
    "\n",
    "첫째 줄에는 A×B×C의 결과에 0 이 몇 번 쓰였는지 출력한다. 마찬가지로 둘째 줄부터 열 번째 줄까지 A×B×C의 결과에 1부터 9까지의 숫자가 각각 몇 번 쓰였는지 차례로 한 줄에 하나씩 출력한다."
   ]
  },
  {
   "cell_type": "code",
   "execution_count": 2,
   "metadata": {},
   "outputs": [
    {
     "name": "stdout",
     "output_type": "stream",
     "text": [
      "0\n",
      "1\n",
      "2\n",
      "3\n",
      "4\n",
      "5\n",
      "6\n",
      "7\n",
      "8\n",
      "9\n"
     ]
    }
   ],
   "source": [
    "for i in range(10):\n",
    "    print(i)"
   ]
  },
  {
   "cell_type": "code",
   "execution_count": 13,
   "metadata": {},
   "outputs": [
    {
     "name": "stdout",
     "output_type": "stream",
     "text": [
      "[0, 1, 2, 3, 4, 5, 6, 7, 8, 9]\n"
     ]
    }
   ],
   "source": [
    "out=[0]*10\n",
    "for i in range(10):\n",
    "    out[i]=i\n",
    "print(out)"
   ]
  },
  {
   "cell_type": "code",
   "execution_count": 24,
   "metadata": {},
   "outputs": [
    {
     "name": "stdout",
     "output_type": "stream",
     "text": [
      "3\n",
      "1\n",
      "0\n",
      "2\n",
      "0\n",
      "0\n",
      "0\n",
      "2\n",
      "0\n",
      "0\n"
     ]
    }
   ],
   "source": [
    "a=150\n",
    "b=266\n",
    "c=427\n",
    "d=str(a*b*c)\n",
    "out=[0]*10\n",
    "for i in range(10):\n",
    "    for j in range(len(d)):\n",
    "        if i==int(d[j]):\n",
    "            out[i]+=1\n",
    "    print(out[i])"
   ]
  },
  {
   "cell_type": "code",
   "execution_count": 21,
   "metadata": {},
   "outputs": [
    {
     "name": "stdout",
     "output_type": "stream",
     "text": [
      "17037300\n",
      "1\n"
     ]
    }
   ],
   "source": [
    "a=150\n",
    "b=266\n",
    "c=427\n",
    "d=str(a*b*c)\n",
    "print(d)\n",
    "print(d[0])"
   ]
  },
  {
   "cell_type": "code",
   "execution_count": 25,
   "metadata": {
    "scrolled": true
   },
   "outputs": [
    {
     "name": "stdout",
     "output_type": "stream",
     "text": [
      "150\n",
      "266\n",
      "427\n",
      "3\n",
      "1\n",
      "0\n",
      "2\n",
      "0\n",
      "0\n",
      "0\n",
      "2\n",
      "0\n",
      "0\n"
     ]
    }
   ],
   "source": [
    "a=int(input())\n",
    "b=int(input())\n",
    "c=int(input())\n",
    "d=str(a*b*c)\n",
    "out=[0]*10\n",
    "for i in range(10):\n",
    "    for j in range(len(d)):\n",
    "        if i==int(d[j]):\n",
    "            out[i]+=1\n",
    "    print(out[i])"
   ]
  },
  {
   "cell_type": "code",
   "execution_count": 26,
   "metadata": {},
   "outputs": [
    {
     "name": "stdout",
     "output_type": "stream",
     "text": [
      "150\n",
      "266\n",
      "427\n",
      "3\n",
      "1\n",
      "0\n",
      "2\n",
      "0\n",
      "0\n",
      "0\n",
      "2\n",
      "0\n",
      "0\n"
     ]
    }
   ],
   "source": [
    "#2577\n",
    "d=str(int(input())*int(input())*int(input()))\n",
    "out=[0]*10\n",
    "for i in range(10):\n",
    "    for j in range(len(d)):\n",
    "        if i==int(d[j]):\n",
    "            out[i]+=1\n",
    "    print(out[i])"
   ]
  },
  {
   "cell_type": "markdown",
   "metadata": {},
   "source": [
    "### count"
   ]
  },
  {
   "cell_type": "code",
   "execution_count": null,
   "metadata": {},
   "outputs": [],
   "source": [
    "#another code\n",
    "total=1\n",
    "for i in range(3):\n",
    "    total = total*int(input())\n",
    "\n",
    "for i in range(0,10):\n",
    "    print(str(total).count(str(i)))"
   ]
  },
  {
   "cell_type": "code",
   "execution_count": 30,
   "metadata": {},
   "outputs": [
    {
     "name": "stdout",
     "output_type": "stream",
     "text": [
      "150\n",
      "266\n",
      "427\n",
      "3\n",
      "1\n",
      "0\n",
      "2\n",
      "0\n",
      "0\n",
      "0\n",
      "2\n",
      "0\n",
      "0\n"
     ]
    }
   ],
   "source": [
    "d=str(int(input())*int(input())*int(input()))\n",
    "for i in range(10):\n",
    "    print(  d.count(str(i))  )"
   ]
  },
  {
   "cell_type": "code",
   "execution_count": 29,
   "metadata": {},
   "outputs": [
    {
     "data": {
      "text/plain": [
       "3"
      ]
     },
     "execution_count": 29,
     "metadata": {},
     "output_type": "execute_result"
    }
   ],
   "source": [
    "d.count(\"0\")"
   ]
  },
  {
   "cell_type": "markdown",
   "metadata": {},
   "source": [
    "## 6.4. 나머지\n",
    "두 자연수 A와 B가 있을 때, A%B는 A를 B로 나눈 나머지 이다.\n",
    "\n",
    "수 10개를 입력받은 뒤, 이를 42로 나눈 나머지를 구한다. 그 다음 서로 다른 값이 몇 개 있는지 출력하는 프로그램을 작성하시오."
   ]
  },
  {
   "cell_type": "code",
   "execution_count": 33,
   "metadata": {},
   "outputs": [
    {
     "name": "stdout",
     "output_type": "stream",
     "text": [
      "39\n",
      "40\n",
      "41\n",
      "42\n",
      "43\n",
      "44\n",
      "82\n",
      "83\n",
      "84\n",
      "85\n",
      "6\n"
     ]
    }
   ],
   "source": [
    "#3052\n",
    "arr=[]\n",
    "for i in range(10):\n",
    "    arr.append(int(input())%42)\n",
    "print(len(set(arr)))"
   ]
  },
  {
   "cell_type": "markdown",
   "metadata": {},
   "source": [
    "## 6.5. 평균\n",
    "자기 점수 중에 최댓값을 골랐다. 이 값을 M이라고 한다. 그리고 나서 모든 점수를 점수/M*100으로 고쳤다.\n",
    "\n",
    "성적을 위의 방법대로 새로 계산했을 때, 새로운 평균을 구하는 프로그램을 작성하시오."
   ]
  },
  {
   "cell_type": "code",
   "execution_count": 40,
   "metadata": {},
   "outputs": [
    {
     "name": "stdout",
     "output_type": "stream",
     "text": [
      "3\n",
      "10 20 30\n",
      "66.66666666666667\n"
     ]
    }
   ],
   "source": [
    "#1546\n",
    "n=int(input())\n",
    "s=list(map(int,input().split()))\n",
    "m=max(s)\n",
    "for i in range(n):\n",
    "    s[i]=s[i]/m*100\n",
    "print(sum(s)/n)"
   ]
  },
  {
   "cell_type": "code",
   "execution_count": 51,
   "metadata": {},
   "outputs": [
    {
     "name": "stdout",
     "output_type": "stream",
     "text": [
      "3\n",
      "10 20 30\n",
      "66.66666666666667\n"
     ]
    }
   ],
   "source": [
    "#short coding\n",
    "n=int(input())\n",
    "s=list(map(int,input().split()))\n",
    "print((sum(s)*100)/(n*max(s)))"
   ]
  },
  {
   "cell_type": "markdown",
   "metadata": {},
   "source": [
    "## 6.6. OX퀴즈\n",
    "- 문제\n",
    "\n",
    "\"OOXXOXXOOO\"와 같은 OX퀴즈의 결과가 있다. O는 문제를 맞은 것이고, X는 문제를 틀린 것이다. 문제를 맞은 경우 그 문제의 점수는 그 문제까지 연속된 O의 개수가 된다. 예를 들어, 10번 문제의 점수는 3이 된다.\n",
    "\n",
    "\"OOXXOXXOOO\"의 점수는 1+2+0+0+1+0+0+1+2+3 = 10점이다.\n",
    "\n",
    "OX퀴즈의 결과가 주어졌을 때, 점수를 구하는 프로그램을 작성하시오.\n",
    "\n",
    "- 입력\n",
    "\n",
    "첫째 줄에 테스트 케이스의 개수가 주어진다. 각 테스트 케이스는 한 줄로 이루어져 있고, 길이가 0보다 크고 80보다 작은 문자열이 주어진다. 문자열은 O와 X만으로 이루어져 있다.\n",
    "\n",
    "- 출력\n",
    "\n",
    "각 테스트 케이스마다 점수를 출력한다."
   ]
  },
  {
   "cell_type": "code",
   "execution_count": 48,
   "metadata": {},
   "outputs": [
    {
     "name": "stdout",
     "output_type": "stream",
     "text": [
      "10\n"
     ]
    }
   ],
   "source": [
    "txt=\"OOXXOXXOOO\"\n",
    "score=n=0\n",
    "for j in txt:\n",
    "    if j=='O':\n",
    "        n+=1\n",
    "        score+=n\n",
    "    else:\n",
    "        n=0\n",
    "print(score)"
   ]
  },
  {
   "cell_type": "code",
   "execution_count": 49,
   "metadata": {},
   "outputs": [
    {
     "name": "stdout",
     "output_type": "stream",
     "text": [
      "5\n",
      "OOXXOXXOOO\n",
      "10\n",
      "OOXXOOXXOO\n",
      "9\n",
      "OXOXOXOXOXOXOX\n",
      "7\n",
      "OOOOOOOOOO\n",
      "55\n",
      "OOOOXOOOOXOOOOX\n",
      "30\n"
     ]
    }
   ],
   "source": [
    "#8958\n",
    "n=int(input())\n",
    "for i in range(n):\n",
    "    txt=input()\n",
    "    score=n=0\n",
    "    for j in txt:\n",
    "        if j=='O':\n",
    "            n+=1\n",
    "            score+=n\n",
    "        else:\n",
    "            n=0\n",
    "    print(score)"
   ]
  },
  {
   "cell_type": "markdown",
   "metadata": {},
   "source": [
    "## 6.7. 평균은 넘겠지\n",
    "- 입력\n",
    "\n",
    "첫째 줄에는 테스트 케이스의 개수 C가 주어진다.\n",
    "\n",
    "둘째 줄부터 각 테스트 케이스마다 학생의 수 N(1 ≤ N ≤ 1000, N은 정수)이 첫 수로 주어지고, 이어서 N명의 점수가 주어진다. 점수는 0보다 크거나 같고, 100보다 작거나 같은 정수이다.\n",
    "\n",
    "- 출력\n",
    "\n",
    "각 케이스마다 한 줄씩 평균을 넘는 학생들의 비율을 반올림하여 소수점 셋째 자리까지 출력한다."
   ]
  },
  {
   "cell_type": "markdown",
   "metadata": {},
   "source": [
    "### formatting"
   ]
  },
  {
   "cell_type": "code",
   "execution_count": 29,
   "metadata": {},
   "outputs": [
    {
     "name": "stdout",
     "output_type": "stream",
     "text": [
      "정수\n",
      "00040\n",
      "00040\n",
      "40000\n",
      "   40\n",
      "   40\n",
      "40   \n",
      "실수\n",
      "40.000\n",
      "40.000\n",
      "40.000\n",
      "40.000\n"
     ]
    }
   ],
   "source": [
    "prob=40.0\n",
    "print('정수')\n",
    "print(\"{0:05d}\".format(int(prob)))\n",
    "print(\"{0:>05d}\".format(int(prob)))\n",
    "print(\"{0:<05d}\".format(int(prob)))\n",
    "print(\"{0:5d}\".format(int(prob)))\n",
    "print(\"{0:>5d}\".format(int(prob)))\n",
    "print(\"{0:<5d}\".format(int(prob)))\n",
    "print('실수')\n",
    "print(\"%.3f\"%prob)\n",
    "print(\"{0:.3f}\".format(prob))\n",
    "print(\"{0:.3f}\".format(prob))\n",
    "print(f\"{prob:.3f}\")"
   ]
  },
  {
   "cell_type": "code",
   "execution_count": 31,
   "metadata": {
    "scrolled": true
   },
   "outputs": [
    {
     "name": "stdout",
     "output_type": "stream",
     "text": [
      "5\n",
      "[50, 50, 70, 80, 100]\n",
      "70.0\n",
      "40.000%\n"
     ]
    }
   ],
   "source": [
    "n,*scores=list(map(int,\"5 50 50 70 80 100\".split()))\n",
    "print(n)\n",
    "print(scores)\n",
    "avg=sum(scores)/n\n",
    "print(avg)\n",
    "\n",
    "temp=0\n",
    "for score in scores:\n",
    "    if score>avg:\n",
    "        temp+=1\n",
    "prob=temp/n*100\n",
    "print(f\"{prob:.3f}%\")"
   ]
  },
  {
   "cell_type": "code",
   "execution_count": 32,
   "metadata": {
    "scrolled": false
   },
   "outputs": [
    {
     "name": "stdout",
     "output_type": "stream",
     "text": [
      "5\n",
      "5 50 50 70 80 100\n",
      "40.000%\n",
      "7 100 95 90 80 70 60 50\n",
      "57.143%\n",
      "3 70 90 80\n",
      "33.333%\n",
      "3 70 90 81\n",
      "66.667%\n",
      "9 100 99 98 97 96 95 94 93 91\n",
      "55.556%\n"
     ]
    }
   ],
   "source": [
    "#4344\n",
    "c=int(input())\n",
    "for i in range(c):\n",
    "    n,*scores=list(map(int,input().split()))\n",
    "    avg=sum(scores)/n\n",
    "    temp=0\n",
    "    for score in scores:\n",
    "        if score>avg:\n",
    "            temp+=1\n",
    "    prob=temp/n*100\n",
    "    print(f\"{prob:.3f}%\")"
   ]
  },
  {
   "cell_type": "code",
   "execution_count": null,
   "metadata": {},
   "outputs": [],
   "source": [
    "#another code\n",
    "C = int(input())\n",
    "\n",
    "for i in range(C):\n",
    "    I = list(map(int, input().split()))\n",
    "    S = sum(I[1:]) / I[0]\n",
    "    print (\"%.3f%%\" % (len(list(filter(lambda x : x > S, I[1:]))) * 100 / I[0]))"
   ]
  },
  {
   "cell_type": "markdown",
   "metadata": {},
   "source": [
    "(200311)"
   ]
  },
  {
   "cell_type": "markdown",
   "metadata": {},
   "source": [
    "# 7. 함수"
   ]
  },
  {
   "cell_type": "markdown",
   "metadata": {},
   "source": [
    "## 7.1. 정수 N개의 합\n",
    "정수 n개가 주어졌을 때, n개의 합을 구하는 함수를 작성하시오.\n",
    "\n",
    "작성해야 하는 함수는 다음과 같다.\n",
    "\n",
    "def solve(a: list) -> int\n",
    "\n",
    "- a: 합을 구해야 하는 정수 n개가 저장되어 있는 리스트 (0 ≤ a[i] ≤ 1,000,000, 1 ≤ n ≤ 3,000,000)\n",
    "\n",
    "- 리턴값: a에 포함되어 있는 정수 n개의 합 (정수)"
   ]
  },
  {
   "cell_type": "code",
   "execution_count": 1,
   "metadata": {},
   "outputs": [
    {
     "data": {
      "text/plain": [
       "6"
      ]
     },
     "execution_count": 1,
     "metadata": {},
     "output_type": "execute_result"
    }
   ],
   "source": [
    "def solve(a:list):\n",
    "    return int(sum(a))\n",
    "solve([1,2,3])"
   ]
  },
  {
   "cell_type": "code",
   "execution_count": 2,
   "metadata": {},
   "outputs": [
    {
     "data": {
      "text/plain": [
       "6"
      ]
     },
     "execution_count": 2,
     "metadata": {},
     "output_type": "execute_result"
    }
   ],
   "source": [
    "#15596\n",
    "def solve(a):\n",
    "    return int(sum(a))\n",
    "solve([1,2,3])"
   ]
  },
  {
   "cell_type": "markdown",
   "metadata": {},
   "source": [
    "## 7.2. 셀프 넘버\n",
    "- 문제\n",
    "\n",
    "셀프 넘버는 1949년 인도 수학자 D.R. Kaprekar가 이름 붙였다. 양의 정수 n에 대해서 d(n)을 n과 n의 각 자리수를 더하는 함수라고 정의하자. 예를 들어, d(75) = 75+7+5 = 87이다.\n",
    "\n",
    "양의 정수 n이 주어졌을 때, 이 수를 시작해서 n, d(n), d(d(n)), d(d(d(n))), ...과 같은 무한 수열을 만들 수 있다. \n",
    "\n",
    "예를 들어, 33으로 시작한다면 다음 수는 33 + 3 + 3 = 39이고, 그 다음 수는 39 + 3 + 9 = 51, 다음 수는 51 + 5 + 1 = 57이다. 이런식으로 다음과 같은 수열을 만들 수 있다.\n",
    "\n",
    "33, 39, 51, 57, 69, 84, 96, 111, 114, 120, 123, 129, 141, ...\n",
    "\n",
    "n을 d(n)의 생성자라고 한다. 위의 수열에서 33은 39의 생성자이고, 39는 51의 생성자, 51은 57의 생성자이다. 생성자가 한 개보다 많은 경우도 있다. 예를 들어, 101은 생성자가 2개(91과 100) 있다. \n",
    "\n",
    "생성자가 없는 숫자를 셀프 넘버라고 한다. 100보다 작은 셀프 넘버는 총 13개가 있다. 1, 3, 5, 7, 9, 20, 31, 42, 53, 64, 75, 86, 97\n",
    "\n",
    "10000보다 작거나 같은 셀프 넘버를 한 줄에 하나씩 출력하는 프로그램을 작성하시오.\n",
    "\n",
    "- 입력  \n",
    "입력은 없다.\n",
    "\n",
    "- 출력\n",
    "\n",
    "10,000보다 작거나 같은 셀프 넘버를 한 줄에 하나씩 증가하는 순서로 출력한다."
   ]
  },
  {
   "cell_type": "code",
   "execution_count": 6,
   "metadata": {},
   "outputs": [
    {
     "data": {
      "text/plain": [
       "28"
      ]
     },
     "execution_count": 6,
     "metadata": {},
     "output_type": "execute_result"
    }
   ],
   "source": [
    "n=23\n",
    "n+sum(map(int,list(str(n))))"
   ]
  },
  {
   "cell_type": "code",
   "execution_count": 8,
   "metadata": {},
   "outputs": [
    {
     "data": {
      "text/plain": [
       "2"
      ]
     },
     "execution_count": 8,
     "metadata": {},
     "output_type": "execute_result"
    }
   ],
   "source": [
    "def sn(n):\n",
    "    return n+sum(map(int,list(str(n))))\n",
    "\n",
    "sn(1)"
   ]
  },
  {
   "cell_type": "code",
   "execution_count": 27,
   "metadata": {},
   "outputs": [
    {
     "data": {
      "text/plain": [
       "2"
      ]
     },
     "execution_count": 27,
     "metadata": {},
     "output_type": "execute_result"
    }
   ],
   "source": [
    "#시간제한 1초에 부적합.\n",
    "def invsn(n):\n",
    "    for i in range((n-1)):\n",
    "        temp=sum(map(int,list(str(i+1))))\n",
    "        if n-(i+1)-temp==0:\n",
    "            return i+1\n",
    "        else:\n",
    "            continue\n",
    "    return ''\n",
    "invsn(4)"
   ]
  },
  {
   "cell_type": "code",
   "execution_count": 31,
   "metadata": {},
   "outputs": [],
   "source": [
    "for i in range(1,1):\n",
    "    print(i)"
   ]
  },
  {
   "cell_type": "code",
   "execution_count": 30,
   "metadata": {},
   "outputs": [
    {
     "name": "stdout",
     "output_type": "stream",
     "text": [
      "1\n"
     ]
    }
   ],
   "source": [
    "for i in range(1,2):\n",
    "    print(i)"
   ]
  },
  {
   "cell_type": "code",
   "execution_count": 16,
   "metadata": {},
   "outputs": [
    {
     "name": "stdout",
     "output_type": "stream",
     "text": [
      "1\n",
      "2\n",
      "3\n",
      "5\n",
      "7\n",
      "9\n",
      "11\n",
      "20\n",
      "31\n",
      "42\n",
      "53\n",
      "64\n",
      "75\n",
      "86\n",
      "97\n",
      "108\n",
      "110\n",
      "121\n",
      "132\n",
      "143\n",
      "154\n",
      "165\n",
      "176\n",
      "187\n",
      "198\n",
      "209\n",
      "211\n",
      "222\n",
      "233\n",
      "244\n",
      "255\n",
      "266\n",
      "277\n",
      "288\n",
      "299\n",
      "310\n",
      "312\n",
      "323\n",
      "334\n",
      "345\n",
      "356\n",
      "367\n",
      "378\n",
      "389\n",
      "400\n",
      "411\n",
      "413\n",
      "424\n",
      "435\n",
      "446\n",
      "457\n",
      "468\n",
      "479\n",
      "490\n",
      "501\n",
      "512\n",
      "514\n",
      "525\n",
      "536\n",
      "547\n",
      "558\n",
      "569\n",
      "580\n",
      "591\n",
      "602\n",
      "613\n",
      "615\n",
      "626\n",
      "637\n",
      "648\n",
      "659\n",
      "670\n",
      "681\n",
      "692\n",
      "703\n",
      "714\n",
      "716\n",
      "727\n",
      "738\n",
      "749\n",
      "760\n",
      "771\n",
      "782\n",
      "793\n",
      "804\n",
      "815\n",
      "817\n",
      "828\n",
      "839\n",
      "850\n",
      "861\n",
      "872\n",
      "883\n",
      "894\n",
      "905\n",
      "916\n",
      "918\n",
      "929\n",
      "940\n",
      "951\n",
      "962\n",
      "973\n",
      "984\n",
      "995\n",
      "1006\n",
      "1021\n",
      "1032\n",
      "1043\n",
      "1054\n",
      "1065\n",
      "1076\n",
      "1087\n",
      "1098\n",
      "1109\n",
      "1111\n",
      "1122\n",
      "1133\n",
      "1144\n",
      "1155\n",
      "1166\n",
      "1177\n",
      "1188\n",
      "1199\n",
      "1210\n",
      "1212\n",
      "1223\n",
      "1234\n",
      "1245\n",
      "1256\n",
      "1267\n",
      "1278\n",
      "1289\n",
      "1300\n",
      "1311\n",
      "1313\n",
      "1324\n",
      "1335\n",
      "1346\n",
      "1357\n",
      "1368\n",
      "1379\n",
      "1390\n",
      "1401\n",
      "1412\n",
      "1414\n",
      "1425\n",
      "1436\n",
      "1447\n",
      "1458\n",
      "1469\n",
      "1480\n",
      "1491\n",
      "1502\n",
      "1513\n",
      "1515\n",
      "1526\n",
      "1537\n",
      "1548\n",
      "1559\n",
      "1570\n",
      "1581\n",
      "1592\n",
      "1603\n",
      "1614\n",
      "1616\n",
      "1627\n",
      "1638\n",
      "1649\n",
      "1660\n",
      "1671\n",
      "1682\n",
      "1693\n",
      "1704\n",
      "1715\n",
      "1717\n",
      "1728\n",
      "1739\n",
      "1750\n",
      "1761\n",
      "1772\n",
      "1783\n",
      "1794\n",
      "1805\n",
      "1816\n",
      "1818\n",
      "1829\n",
      "1840\n",
      "1851\n",
      "1862\n",
      "1873\n",
      "1884\n",
      "1895\n",
      "1906\n",
      "1917\n",
      "1919\n",
      "1930\n",
      "1941\n",
      "1952\n",
      "1963\n",
      "1974\n",
      "1985\n",
      "1996\n",
      "2007\n",
      "2022\n",
      "2033\n",
      "2044\n",
      "2055\n",
      "2066\n",
      "2077\n",
      "2088\n",
      "2099\n",
      "2110\n",
      "2112\n",
      "2123\n",
      "2134\n",
      "2145\n",
      "2156\n",
      "2167\n",
      "2178\n",
      "2189\n",
      "2200\n",
      "2211\n",
      "2213\n",
      "2224\n",
      "2235\n",
      "2246\n",
      "2257\n",
      "2268\n",
      "2279\n",
      "2290\n",
      "2301\n",
      "2312\n",
      "2314\n",
      "2325\n",
      "2336\n",
      "2347\n",
      "2358\n",
      "2369\n",
      "2380\n",
      "2391\n",
      "2402\n",
      "2413\n",
      "2415\n",
      "2426\n",
      "2437\n",
      "2448\n",
      "2459\n",
      "2470\n",
      "2481\n",
      "2492\n",
      "2503\n",
      "2514\n",
      "2516\n",
      "2527\n",
      "2538\n",
      "2549\n",
      "2560\n",
      "2571\n",
      "2582\n",
      "2593\n",
      "2604\n",
      "2615\n",
      "2617\n",
      "2628\n",
      "2639\n",
      "2650\n",
      "2661\n",
      "2672\n",
      "2683\n",
      "2694\n",
      "2705\n",
      "2716\n",
      "2718\n",
      "2729\n",
      "2740\n",
      "2751\n",
      "2762\n",
      "2773\n",
      "2784\n",
      "2795\n",
      "2806\n",
      "2817\n",
      "2819\n",
      "2830\n",
      "2841\n",
      "2852\n",
      "2863\n",
      "2874\n",
      "2885\n",
      "2896\n",
      "2907\n",
      "2918\n",
      "2920\n",
      "2931\n",
      "2942\n",
      "2953\n",
      "2964\n",
      "2975\n",
      "2986\n",
      "2997\n",
      "3008\n",
      "3023\n",
      "3034\n",
      "3045\n",
      "3056\n",
      "3067\n",
      "3078\n",
      "3089\n",
      "3100\n",
      "3111\n",
      "3113\n",
      "3124\n",
      "3135\n",
      "3146\n",
      "3157\n",
      "3168\n",
      "3179\n",
      "3190\n",
      "3201\n",
      "3212\n",
      "3214\n",
      "3225\n",
      "3236\n",
      "3247\n",
      "3258\n",
      "3269\n",
      "3280\n",
      "3291\n",
      "3302\n",
      "3313\n",
      "3315\n",
      "3326\n",
      "3337\n",
      "3348\n",
      "3359\n",
      "3370\n",
      "3381\n",
      "3392\n",
      "3403\n",
      "3414\n",
      "3416\n",
      "3427\n",
      "3438\n",
      "3449\n",
      "3460\n",
      "3471\n",
      "3482\n",
      "3493\n",
      "3504\n",
      "3515\n",
      "3517\n",
      "3528\n",
      "3539\n",
      "3550\n",
      "3561\n",
      "3572\n",
      "3583\n",
      "3594\n",
      "3605\n",
      "3616\n",
      "3618\n",
      "3629\n",
      "3640\n",
      "3651\n",
      "3662\n",
      "3673\n",
      "3684\n",
      "3695\n",
      "3706\n",
      "3717\n",
      "3719\n",
      "3730\n",
      "3741\n",
      "3752\n",
      "3763\n",
      "3774\n",
      "3785\n",
      "3796\n",
      "3807\n",
      "3818\n",
      "3820\n",
      "3831\n",
      "3842\n",
      "3853\n",
      "3864\n",
      "3875\n",
      "3886\n",
      "3897\n",
      "3908\n",
      "3919\n",
      "3921\n",
      "3932\n",
      "3943\n",
      "3954\n",
      "3965\n",
      "3976\n",
      "3987\n",
      "3998\n",
      "4009\n",
      "4024\n",
      "4035\n",
      "4046\n",
      "4057\n",
      "4068\n",
      "4079\n",
      "4090\n",
      "4101\n",
      "4112\n",
      "4114\n",
      "4125\n",
      "4136\n",
      "4147\n",
      "4158\n",
      "4169\n",
      "4180\n",
      "4191\n",
      "4202\n",
      "4213\n",
      "4215\n",
      "4226\n",
      "4237\n",
      "4248\n",
      "4259\n",
      "4270\n",
      "4281\n",
      "4292\n",
      "4303\n",
      "4314\n",
      "4316\n",
      "4327\n",
      "4338\n",
      "4349\n",
      "4360\n",
      "4371\n",
      "4382\n",
      "4393\n",
      "4404\n",
      "4415\n",
      "4417\n",
      "4428\n",
      "4439\n",
      "4450\n",
      "4461\n",
      "4472\n",
      "4483\n",
      "4494\n",
      "4505\n",
      "4516\n",
      "4518\n",
      "4529\n",
      "4540\n",
      "4551\n",
      "4562\n",
      "4573\n",
      "4584\n",
      "4595\n",
      "4606\n",
      "4617\n",
      "4619\n",
      "4630\n",
      "4641\n",
      "4652\n",
      "4663\n",
      "4674\n",
      "4685\n",
      "4696\n",
      "4707\n",
      "4718\n",
      "4720\n",
      "4731\n",
      "4742\n",
      "4753\n",
      "4764\n",
      "4775\n",
      "4786\n",
      "4797\n",
      "4808\n",
      "4819\n",
      "4821\n",
      "4832\n",
      "4843\n",
      "4854\n",
      "4865\n",
      "4876\n",
      "4887\n",
      "4898\n",
      "4909\n",
      "4920\n",
      "4922\n",
      "4933\n",
      "4944\n",
      "4955\n",
      "4966\n",
      "4977\n",
      "4988\n",
      "4999\n",
      "5010\n",
      "5025\n",
      "5036\n",
      "5047\n",
      "5058\n",
      "5069\n",
      "5080\n",
      "5091\n",
      "5102\n",
      "5113\n",
      "5115\n",
      "5126\n",
      "5137\n",
      "5148\n",
      "5159\n",
      "5170\n",
      "5181\n",
      "5192\n",
      "5203\n",
      "5214\n",
      "5216\n",
      "5227\n",
      "5238\n",
      "5249\n",
      "5260\n",
      "5271\n",
      "5282\n",
      "5293\n",
      "5304\n",
      "5315\n",
      "5317\n",
      "5328\n",
      "5339\n",
      "5350\n",
      "5361\n",
      "5372\n",
      "5383\n",
      "5394\n",
      "5405\n",
      "5416\n",
      "5418\n",
      "5429\n",
      "5440\n",
      "5451\n",
      "5462\n",
      "5473\n",
      "5484\n",
      "5495\n",
      "5506\n",
      "5517\n",
      "5519\n",
      "5530\n",
      "5541\n",
      "5552\n",
      "5563\n",
      "5574\n",
      "5585\n",
      "5596\n",
      "5607\n",
      "5618\n",
      "5620\n",
      "5631\n",
      "5642\n",
      "5653\n",
      "5664\n",
      "5675\n",
      "5686\n",
      "5697\n",
      "5708\n",
      "5719\n",
      "5721\n",
      "5732\n",
      "5743\n",
      "5754\n",
      "5765\n",
      "5776\n",
      "5787\n",
      "5798\n",
      "5809\n",
      "5820\n",
      "5822\n",
      "5833\n",
      "5844\n",
      "5855\n",
      "5866\n",
      "5877\n",
      "5888\n",
      "5899\n",
      "5910\n",
      "5921\n",
      "5923\n",
      "5934\n",
      "5945\n",
      "5956\n",
      "5967\n",
      "5978\n",
      "5989\n",
      "6000\n",
      "6011\n",
      "6026\n",
      "6037\n",
      "6048\n",
      "6059\n",
      "6070\n",
      "6081\n",
      "6092\n",
      "6103\n",
      "6114\n",
      "6116\n",
      "6127\n",
      "6138\n",
      "6149\n",
      "6160\n",
      "6171\n",
      "6182\n",
      "6193\n",
      "6204\n",
      "6215\n",
      "6217\n",
      "6228\n",
      "6239\n",
      "6250\n",
      "6261\n",
      "6272\n",
      "6283\n",
      "6294\n",
      "6305\n",
      "6316\n",
      "6318\n",
      "6329\n",
      "6340\n",
      "6351\n",
      "6362\n",
      "6373\n",
      "6384\n",
      "6395\n",
      "6406\n",
      "6417\n",
      "6419\n",
      "6430\n",
      "6441\n",
      "6452\n",
      "6463\n",
      "6474\n",
      "6485\n",
      "6496\n",
      "6507\n",
      "6518\n",
      "6520\n",
      "6531\n",
      "6542\n",
      "6553\n",
      "6564\n",
      "6575\n",
      "6586\n",
      "6597\n",
      "6608\n",
      "6619\n",
      "6621\n",
      "6632\n",
      "6643\n",
      "6654\n",
      "6665\n",
      "6676\n",
      "6687\n",
      "6698\n",
      "6709\n",
      "6720\n",
      "6722\n",
      "6733\n",
      "6744\n",
      "6755\n",
      "6766\n",
      "6777\n",
      "6788\n",
      "6799\n",
      "6810\n",
      "6821\n",
      "6823\n",
      "6834\n",
      "6845\n",
      "6856\n",
      "6867\n",
      "6878\n",
      "6889\n",
      "6900\n",
      "6911\n",
      "6922\n",
      "6924\n",
      "6935\n",
      "6946\n",
      "6957\n",
      "6968\n",
      "6979\n",
      "6990\n",
      "7001\n",
      "7012\n",
      "7027\n",
      "7038\n",
      "7049\n",
      "7060\n",
      "7071\n",
      "7082\n",
      "7093\n",
      "7104\n",
      "7115\n",
      "7117\n",
      "7128\n",
      "7139\n",
      "7150\n",
      "7161\n",
      "7172\n",
      "7183\n",
      "7194\n",
      "7205\n",
      "7216\n",
      "7218\n",
      "7229\n",
      "7240\n",
      "7251\n",
      "7262\n",
      "7273\n",
      "7284\n",
      "7295\n",
      "7306\n",
      "7317\n",
      "7319\n",
      "7330\n",
      "7341\n",
      "7352\n",
      "7363\n",
      "7374\n",
      "7385\n",
      "7396\n",
      "7407\n",
      "7418\n",
      "7420\n",
      "7431\n",
      "7442\n",
      "7453\n",
      "7464\n",
      "7475\n",
      "7486\n",
      "7497\n",
      "7508\n",
      "7519\n",
      "7521\n",
      "7532\n",
      "7543\n",
      "7554\n",
      "7565\n",
      "7576\n",
      "7587\n",
      "7598\n",
      "7609\n",
      "7620\n",
      "7622\n",
      "7633\n",
      "7644\n",
      "7655\n",
      "7666\n",
      "7677\n",
      "7688\n",
      "7699\n",
      "7710\n",
      "7721\n",
      "7723\n",
      "7734\n",
      "7745\n",
      "7756\n",
      "7767\n",
      "7778\n",
      "7789\n",
      "7800\n",
      "7811\n",
      "7822\n",
      "7824\n",
      "7835\n",
      "7846\n",
      "7857\n",
      "7868\n",
      "7879\n",
      "7890\n",
      "7901\n",
      "7912\n",
      "7923\n",
      "7925\n",
      "7936\n",
      "7947\n",
      "7958\n",
      "7969\n",
      "7980\n",
      "7991\n",
      "8002\n",
      "8013\n",
      "8028\n",
      "8039\n",
      "8050\n",
      "8061\n",
      "8072\n",
      "8083\n",
      "8094\n",
      "8105\n",
      "8116\n",
      "8118\n",
      "8129\n",
      "8140\n",
      "8151\n",
      "8162\n",
      "8173\n",
      "8184\n",
      "8195\n",
      "8206\n",
      "8217\n",
      "8219\n",
      "8230\n",
      "8241\n",
      "8252\n",
      "8263\n",
      "8274\n",
      "8285\n",
      "8296\n",
      "8307\n",
      "8318\n",
      "8320\n",
      "8331\n",
      "8342\n",
      "8353\n",
      "8364\n",
      "8375\n",
      "8386\n",
      "8397\n",
      "8408\n",
      "8419\n",
      "8421\n",
      "8432\n",
      "8443\n",
      "8454\n",
      "8465\n",
      "8476\n",
      "8487\n",
      "8498\n",
      "8509\n",
      "8520\n",
      "8522\n",
      "8533\n",
      "8544\n",
      "8555\n",
      "8566\n",
      "8577\n",
      "8588\n",
      "8599\n",
      "8610\n",
      "8621\n",
      "8623\n",
      "8634\n",
      "8645\n",
      "8656\n",
      "8667\n",
      "8678\n",
      "8689\n",
      "8700\n",
      "8711\n",
      "8722\n",
      "8724\n",
      "8735\n",
      "8746\n",
      "8757\n",
      "8768\n",
      "8779\n",
      "8790\n",
      "8801\n",
      "8812\n",
      "8823\n",
      "8825\n",
      "8836\n",
      "8847\n",
      "8858\n",
      "8869\n",
      "8880\n",
      "8891\n",
      "8902\n",
      "8913\n",
      "8924\n",
      "8926\n",
      "8937\n",
      "8948\n",
      "8959\n",
      "8970\n",
      "8981\n",
      "8992\n",
      "9003\n",
      "9014\n",
      "9029\n",
      "9040\n",
      "9051\n",
      "9062\n",
      "9073\n",
      "9084\n",
      "9095\n",
      "9106\n",
      "9117\n",
      "9119\n",
      "9130\n",
      "9141\n",
      "9152\n",
      "9163\n",
      "9174\n",
      "9185\n",
      "9196\n",
      "9207\n",
      "9218\n",
      "9220\n",
      "9231\n",
      "9242\n",
      "9253\n",
      "9264\n",
      "9275\n",
      "9286\n",
      "9297\n",
      "9308\n",
      "9319\n",
      "9321\n",
      "9332\n",
      "9343\n",
      "9354\n",
      "9365\n",
      "9376\n",
      "9387\n",
      "9398\n",
      "9409\n",
      "9420\n",
      "9422\n",
      "9433\n",
      "9444\n",
      "9455\n",
      "9466\n",
      "9477\n",
      "9488\n",
      "9499\n",
      "9510\n",
      "9521\n",
      "9523\n",
      "9534\n",
      "9545\n",
      "9556\n",
      "9567\n",
      "9578\n",
      "9589\n",
      "9600\n",
      "9611\n",
      "9622\n",
      "9624\n",
      "9635\n",
      "9646\n",
      "9657\n",
      "9668\n",
      "9679\n",
      "9690\n",
      "9701\n",
      "9712\n",
      "9723\n",
      "9725\n",
      "9736\n",
      "9747\n",
      "9758\n",
      "9769\n",
      "9780\n",
      "9791\n",
      "9802\n",
      "9813\n",
      "9824\n",
      "9826\n",
      "9837\n",
      "9848\n",
      "9859\n",
      "9870\n",
      "9881\n",
      "9892\n",
      "9903\n",
      "9914\n",
      "9925\n",
      "9927\n",
      "9938\n",
      "9949\n",
      "9960\n",
      "9971\n",
      "9982\n",
      "9993\n"
     ]
    }
   ],
   "source": [
    "for i in range(1,10000):\n",
    "    if invsn(i)=='':\n",
    "        print(i)\n",
    "    else:\n",
    "        continue"
   ]
  },
  {
   "cell_type": "code",
   "execution_count": 42,
   "metadata": {},
   "outputs": [
    {
     "name": "stdout",
     "output_type": "stream",
     "text": [
      "1\n",
      "3\n",
      "5\n",
      "7\n",
      "9\n",
      "20\n",
      "31\n",
      "42\n",
      "53\n",
      "64\n",
      "75\n",
      "86\n",
      "97\n",
      "108\n",
      "110\n",
      "121\n",
      "132\n",
      "143\n",
      "154\n",
      "165\n",
      "176\n",
      "187\n",
      "198\n",
      "209\n",
      "211\n",
      "222\n",
      "233\n",
      "244\n",
      "255\n",
      "266\n",
      "277\n",
      "288\n",
      "299\n",
      "310\n",
      "312\n",
      "323\n",
      "334\n",
      "345\n",
      "356\n",
      "367\n",
      "378\n",
      "389\n",
      "400\n",
      "411\n",
      "413\n",
      "424\n",
      "435\n",
      "446\n",
      "457\n",
      "468\n",
      "479\n",
      "490\n",
      "501\n",
      "512\n",
      "514\n",
      "525\n",
      "536\n",
      "547\n",
      "558\n",
      "569\n",
      "580\n",
      "591\n",
      "602\n",
      "613\n",
      "615\n",
      "626\n",
      "637\n",
      "648\n",
      "659\n",
      "670\n",
      "681\n",
      "692\n",
      "703\n",
      "714\n",
      "716\n",
      "727\n",
      "738\n",
      "749\n",
      "760\n",
      "771\n",
      "782\n",
      "793\n",
      "804\n",
      "815\n",
      "817\n",
      "828\n",
      "839\n",
      "850\n",
      "861\n",
      "872\n",
      "883\n",
      "894\n",
      "905\n",
      "916\n",
      "918\n",
      "929\n",
      "940\n",
      "951\n",
      "962\n",
      "973\n",
      "984\n",
      "995\n",
      "1006\n",
      "1021\n",
      "1032\n",
      "1043\n",
      "1054\n",
      "1065\n",
      "1076\n",
      "1087\n",
      "1098\n",
      "1109\n",
      "1111\n",
      "1122\n",
      "1133\n",
      "1144\n",
      "1155\n",
      "1166\n",
      "1177\n",
      "1188\n",
      "1199\n",
      "1210\n",
      "1212\n",
      "1223\n",
      "1234\n",
      "1245\n",
      "1256\n",
      "1267\n",
      "1278\n",
      "1289\n",
      "1300\n",
      "1311\n",
      "1313\n",
      "1324\n",
      "1335\n",
      "1346\n",
      "1357\n",
      "1368\n",
      "1379\n",
      "1390\n",
      "1401\n",
      "1412\n",
      "1414\n",
      "1425\n",
      "1436\n",
      "1447\n",
      "1458\n",
      "1469\n",
      "1480\n",
      "1491\n",
      "1502\n",
      "1513\n",
      "1515\n",
      "1526\n",
      "1537\n",
      "1548\n",
      "1559\n",
      "1570\n",
      "1581\n",
      "1592\n",
      "1603\n",
      "1614\n",
      "1616\n",
      "1627\n",
      "1638\n",
      "1649\n",
      "1660\n",
      "1671\n",
      "1682\n",
      "1693\n",
      "1704\n",
      "1715\n",
      "1717\n",
      "1728\n",
      "1739\n",
      "1750\n",
      "1761\n",
      "1772\n",
      "1783\n",
      "1794\n",
      "1805\n",
      "1816\n",
      "1818\n",
      "1829\n",
      "1840\n",
      "1851\n",
      "1862\n",
      "1873\n",
      "1884\n",
      "1895\n",
      "1906\n",
      "1917\n",
      "1919\n",
      "1930\n",
      "1941\n",
      "1952\n",
      "1963\n",
      "1974\n",
      "1985\n",
      "1996\n",
      "2007\n",
      "2022\n",
      "2033\n",
      "2044\n",
      "2055\n",
      "2066\n",
      "2077\n",
      "2088\n",
      "2099\n",
      "2110\n",
      "2112\n",
      "2123\n",
      "2134\n",
      "2145\n",
      "2156\n",
      "2167\n",
      "2178\n",
      "2189\n",
      "2200\n",
      "2211\n",
      "2213\n",
      "2224\n",
      "2235\n",
      "2246\n",
      "2257\n",
      "2268\n",
      "2279\n",
      "2290\n",
      "2301\n",
      "2312\n",
      "2314\n",
      "2325\n",
      "2336\n",
      "2347\n",
      "2358\n",
      "2369\n",
      "2380\n",
      "2391\n",
      "2402\n",
      "2413\n",
      "2415\n",
      "2426\n",
      "2437\n",
      "2448\n",
      "2459\n",
      "2470\n",
      "2481\n",
      "2492\n",
      "2503\n",
      "2514\n",
      "2516\n",
      "2527\n",
      "2538\n",
      "2549\n",
      "2560\n",
      "2571\n",
      "2582\n",
      "2593\n",
      "2604\n",
      "2615\n",
      "2617\n",
      "2628\n",
      "2639\n",
      "2650\n",
      "2661\n",
      "2672\n",
      "2683\n",
      "2694\n",
      "2705\n",
      "2716\n",
      "2718\n",
      "2729\n",
      "2740\n",
      "2751\n",
      "2762\n",
      "2773\n",
      "2784\n",
      "2795\n",
      "2806\n",
      "2817\n",
      "2819\n",
      "2830\n",
      "2841\n",
      "2852\n",
      "2863\n",
      "2874\n",
      "2885\n",
      "2896\n",
      "2907\n",
      "2918\n",
      "2920\n",
      "2931\n",
      "2942\n",
      "2953\n",
      "2964\n",
      "2975\n",
      "2986\n",
      "2997\n",
      "3008\n",
      "3023\n",
      "3034\n",
      "3045\n",
      "3056\n",
      "3067\n",
      "3078\n",
      "3089\n",
      "3100\n",
      "3111\n",
      "3113\n",
      "3124\n",
      "3135\n",
      "3146\n",
      "3157\n",
      "3168\n",
      "3179\n",
      "3190\n",
      "3201\n",
      "3212\n",
      "3214\n",
      "3225\n",
      "3236\n",
      "3247\n",
      "3258\n",
      "3269\n",
      "3280\n",
      "3291\n",
      "3302\n",
      "3313\n",
      "3315\n",
      "3326\n",
      "3337\n",
      "3348\n",
      "3359\n",
      "3370\n",
      "3381\n",
      "3392\n",
      "3403\n",
      "3414\n",
      "3416\n",
      "3427\n",
      "3438\n",
      "3449\n",
      "3460\n",
      "3471\n",
      "3482\n",
      "3493\n",
      "3504\n",
      "3515\n",
      "3517\n",
      "3528\n",
      "3539\n",
      "3550\n",
      "3561\n",
      "3572\n",
      "3583\n",
      "3594\n",
      "3605\n",
      "3616\n",
      "3618\n",
      "3629\n",
      "3640\n",
      "3651\n",
      "3662\n",
      "3673\n",
      "3684\n",
      "3695\n",
      "3706\n",
      "3717\n",
      "3719\n",
      "3730\n",
      "3741\n",
      "3752\n",
      "3763\n",
      "3774\n",
      "3785\n",
      "3796\n",
      "3807\n",
      "3818\n",
      "3820\n",
      "3831\n",
      "3842\n",
      "3853\n",
      "3864\n",
      "3875\n",
      "3886\n",
      "3897\n",
      "3908\n",
      "3919\n",
      "3921\n",
      "3932\n",
      "3943\n",
      "3954\n",
      "3965\n",
      "3976\n",
      "3987\n",
      "3998\n",
      "4009\n",
      "4024\n",
      "4035\n",
      "4046\n",
      "4057\n",
      "4068\n",
      "4079\n",
      "4090\n",
      "4101\n",
      "4112\n",
      "4114\n",
      "4125\n",
      "4136\n",
      "4147\n",
      "4158\n",
      "4169\n",
      "4180\n",
      "4191\n",
      "4202\n",
      "4213\n",
      "4215\n",
      "4226\n",
      "4237\n",
      "4248\n",
      "4259\n",
      "4270\n",
      "4281\n",
      "4292\n",
      "4303\n",
      "4314\n",
      "4316\n",
      "4327\n",
      "4338\n",
      "4349\n",
      "4360\n",
      "4371\n",
      "4382\n",
      "4393\n",
      "4404\n",
      "4415\n",
      "4417\n",
      "4428\n",
      "4439\n",
      "4450\n",
      "4461\n",
      "4472\n",
      "4483\n",
      "4494\n",
      "4505\n",
      "4516\n",
      "4518\n",
      "4529\n",
      "4540\n",
      "4551\n",
      "4562\n",
      "4573\n",
      "4584\n",
      "4595\n",
      "4606\n",
      "4617\n",
      "4619\n",
      "4630\n",
      "4641\n",
      "4652\n",
      "4663\n",
      "4674\n",
      "4685\n",
      "4696\n",
      "4707\n",
      "4718\n",
      "4720\n",
      "4731\n",
      "4742\n",
      "4753\n",
      "4764\n",
      "4775\n",
      "4786\n",
      "4797\n",
      "4808\n",
      "4819\n",
      "4821\n",
      "4832\n",
      "4843\n",
      "4854\n",
      "4865\n",
      "4876\n",
      "4887\n",
      "4898\n",
      "4909\n",
      "4920\n",
      "4922\n",
      "4933\n",
      "4944\n",
      "4955\n",
      "4966\n",
      "4977\n",
      "4988\n",
      "4999\n",
      "5010\n",
      "5025\n",
      "5036\n",
      "5047\n",
      "5058\n",
      "5069\n",
      "5080\n",
      "5091\n",
      "5102\n",
      "5113\n",
      "5115\n",
      "5126\n",
      "5137\n",
      "5148\n",
      "5159\n",
      "5170\n",
      "5181\n",
      "5192\n",
      "5203\n",
      "5214\n",
      "5216\n",
      "5227\n",
      "5238\n",
      "5249\n",
      "5260\n",
      "5271\n",
      "5282\n",
      "5293\n",
      "5304\n",
      "5315\n",
      "5317\n",
      "5328\n",
      "5339\n",
      "5350\n",
      "5361\n",
      "5372\n",
      "5383\n",
      "5394\n",
      "5405\n",
      "5416\n",
      "5418\n",
      "5429\n",
      "5440\n",
      "5451\n",
      "5462\n",
      "5473\n",
      "5484\n",
      "5495\n",
      "5506\n",
      "5517\n",
      "5519\n",
      "5530\n",
      "5541\n",
      "5552\n",
      "5563\n",
      "5574\n",
      "5585\n",
      "5596\n",
      "5607\n",
      "5618\n",
      "5620\n",
      "5631\n",
      "5642\n",
      "5653\n",
      "5664\n",
      "5675\n",
      "5686\n",
      "5697\n",
      "5708\n",
      "5719\n",
      "5721\n",
      "5732\n",
      "5743\n",
      "5754\n",
      "5765\n",
      "5776\n",
      "5787\n",
      "5798\n",
      "5809\n",
      "5820\n",
      "5822\n",
      "5833\n",
      "5844\n",
      "5855\n",
      "5866\n",
      "5877\n",
      "5888\n",
      "5899\n",
      "5910\n",
      "5921\n",
      "5923\n",
      "5934\n",
      "5945\n",
      "5956\n",
      "5967\n",
      "5978\n",
      "5989\n",
      "6000\n",
      "6011\n",
      "6026\n",
      "6037\n",
      "6048\n",
      "6059\n",
      "6070\n",
      "6081\n",
      "6092\n",
      "6103\n",
      "6114\n",
      "6116\n",
      "6127\n",
      "6138\n",
      "6149\n",
      "6160\n",
      "6171\n",
      "6182\n",
      "6193\n",
      "6204\n",
      "6215\n",
      "6217\n",
      "6228\n",
      "6239\n",
      "6250\n",
      "6261\n",
      "6272\n",
      "6283\n",
      "6294\n",
      "6305\n",
      "6316\n",
      "6318\n",
      "6329\n",
      "6340\n",
      "6351\n",
      "6362\n",
      "6373\n",
      "6384\n",
      "6395\n",
      "6406\n",
      "6417\n",
      "6419\n",
      "6430\n",
      "6441\n",
      "6452\n",
      "6463\n",
      "6474\n",
      "6485\n",
      "6496\n",
      "6507\n",
      "6518\n",
      "6520\n",
      "6531\n",
      "6542\n",
      "6553\n",
      "6564\n",
      "6575\n",
      "6586\n",
      "6597\n",
      "6608\n",
      "6619\n",
      "6621\n",
      "6632\n",
      "6643\n",
      "6654\n",
      "6665\n",
      "6676\n",
      "6687\n",
      "6698\n",
      "6709\n",
      "6720\n",
      "6722\n",
      "6733\n",
      "6744\n",
      "6755\n",
      "6766\n",
      "6777\n",
      "6788\n",
      "6799\n",
      "6810\n",
      "6821\n",
      "6823\n",
      "6834\n",
      "6845\n",
      "6856\n",
      "6867\n",
      "6878\n",
      "6889\n",
      "6900\n",
      "6911\n",
      "6922\n",
      "6924\n",
      "6935\n",
      "6946\n",
      "6957\n",
      "6968\n",
      "6979\n",
      "6990\n",
      "7001\n",
      "7012\n",
      "7027\n",
      "7038\n",
      "7049\n",
      "7060\n",
      "7071\n",
      "7082\n",
      "7093\n",
      "7104\n",
      "7115\n",
      "7117\n",
      "7128\n",
      "7139\n",
      "7150\n",
      "7161\n",
      "7172\n",
      "7183\n",
      "7194\n",
      "7205\n",
      "7216\n",
      "7218\n",
      "7229\n",
      "7240\n",
      "7251\n",
      "7262\n",
      "7273\n",
      "7284\n",
      "7295\n",
      "7306\n",
      "7317\n",
      "7319\n",
      "7330\n",
      "7341\n",
      "7352\n",
      "7363\n",
      "7374\n",
      "7385\n",
      "7396\n",
      "7407\n",
      "7418\n",
      "7420\n",
      "7431\n",
      "7442\n",
      "7453\n",
      "7464\n",
      "7475\n",
      "7486\n",
      "7497\n",
      "7508\n",
      "7519\n",
      "7521\n",
      "7532\n",
      "7543\n",
      "7554\n",
      "7565\n",
      "7576\n",
      "7587\n",
      "7598\n",
      "7609\n",
      "7620\n",
      "7622\n",
      "7633\n",
      "7644\n",
      "7655\n",
      "7666\n",
      "7677\n",
      "7688\n",
      "7699\n",
      "7710\n",
      "7721\n",
      "7723\n",
      "7734\n",
      "7745\n",
      "7756\n",
      "7767\n",
      "7778\n",
      "7789\n",
      "7800\n",
      "7811\n",
      "7822\n",
      "7824\n",
      "7835\n",
      "7846\n",
      "7857\n",
      "7868\n",
      "7879\n",
      "7890\n",
      "7901\n",
      "7912\n",
      "7923\n",
      "7925\n",
      "7936\n",
      "7947\n",
      "7958\n",
      "7969\n",
      "7980\n",
      "7991\n",
      "8002\n",
      "8013\n",
      "8028\n",
      "8039\n",
      "8050\n",
      "8061\n",
      "8072\n",
      "8083\n",
      "8094\n",
      "8105\n",
      "8116\n",
      "8118\n",
      "8129\n",
      "8140\n",
      "8151\n",
      "8162\n",
      "8173\n",
      "8184\n",
      "8195\n",
      "8206\n",
      "8217\n",
      "8219\n",
      "8230\n",
      "8241\n",
      "8252\n",
      "8263\n",
      "8274\n",
      "8285\n",
      "8296\n",
      "8307\n",
      "8318\n",
      "8320\n",
      "8331\n",
      "8342\n",
      "8353\n",
      "8364\n",
      "8375\n",
      "8386\n",
      "8397\n",
      "8408\n",
      "8419\n",
      "8421\n",
      "8432\n",
      "8443\n",
      "8454\n",
      "8465\n",
      "8476\n",
      "8487\n",
      "8498\n",
      "8509\n",
      "8520\n",
      "8522\n",
      "8533\n",
      "8544\n",
      "8555\n",
      "8566\n",
      "8577\n",
      "8588\n",
      "8599\n",
      "8610\n",
      "8621\n",
      "8623\n",
      "8634\n",
      "8645\n",
      "8656\n",
      "8667\n",
      "8678\n",
      "8689\n",
      "8700\n",
      "8711\n",
      "8722\n",
      "8724\n",
      "8735\n",
      "8746\n",
      "8757\n",
      "8768\n",
      "8779\n",
      "8790\n",
      "8801\n",
      "8812\n",
      "8823\n",
      "8825\n",
      "8836\n",
      "8847\n",
      "8858\n",
      "8869\n",
      "8880\n",
      "8891\n",
      "8902\n",
      "8913\n",
      "8924\n",
      "8926\n",
      "8937\n",
      "8948\n",
      "8959\n",
      "8970\n",
      "8981\n",
      "8992\n",
      "9003\n",
      "9014\n",
      "9029\n",
      "9040\n",
      "9051\n",
      "9062\n",
      "9073\n",
      "9084\n",
      "9095\n",
      "9106\n",
      "9117\n",
      "9119\n",
      "9130\n",
      "9141\n",
      "9152\n",
      "9163\n",
      "9174\n",
      "9185\n",
      "9196\n",
      "9207\n",
      "9218\n",
      "9220\n",
      "9231\n",
      "9242\n",
      "9253\n",
      "9264\n",
      "9275\n",
      "9286\n",
      "9297\n",
      "9308\n",
      "9319\n",
      "9321\n",
      "9332\n",
      "9343\n",
      "9354\n",
      "9365\n",
      "9376\n",
      "9387\n",
      "9398\n",
      "9409\n",
      "9420\n",
      "9422\n",
      "9433\n",
      "9444\n",
      "9455\n",
      "9466\n",
      "9477\n",
      "9488\n",
      "9499\n",
      "9510\n",
      "9521\n",
      "9523\n",
      "9534\n",
      "9545\n",
      "9556\n",
      "9567\n",
      "9578\n",
      "9589\n",
      "9600\n",
      "9611\n",
      "9622\n",
      "9624\n",
      "9635\n",
      "9646\n",
      "9657\n",
      "9668\n",
      "9679\n",
      "9690\n",
      "9701\n",
      "9712\n",
      "9723\n",
      "9725\n",
      "9736\n",
      "9747\n",
      "9758\n",
      "9769\n",
      "9780\n",
      "9791\n",
      "9802\n",
      "9813\n",
      "9824\n",
      "9826\n",
      "9837\n",
      "9848\n",
      "9859\n",
      "9870\n",
      "9881\n",
      "9892\n",
      "9903\n",
      "9914\n",
      "9925\n",
      "9927\n",
      "9938\n",
      "9949\n",
      "9960\n",
      "9971\n",
      "9982\n",
      "9993\n"
     ]
    }
   ],
   "source": [
    "#4673\n",
    "#for 범위를 줄였다\n",
    "def invsn(n):\n",
    "    dgt=len(str(n))\n",
    "    if n==1:\n",
    "        return ''\n",
    "    elif n<19:\n",
    "        ran=1\n",
    "    else:\n",
    "        ran=n-dgt*9\n",
    "\n",
    "    for i in range(ran,n):\n",
    "        temp=sum(map(int,list(str(i))))\n",
    "        if n-i-temp==0:\n",
    "            return i\n",
    "        else:\n",
    "            continue\n",
    "    return ''\n",
    "\n",
    "for i in range(1,10000):\n",
    "    if invsn(i)=='':\n",
    "        print(i)\n",
    "    else:\n",
    "        continue"
   ]
  },
  {
   "cell_type": "code",
   "execution_count": null,
   "metadata": {},
   "outputs": [],
   "source": [
    "#another code\n",
    "#for문을 한번만 돌리니 빠르지.\n",
    "#경험적으로 selfnum 아닌 숫자들을 제외하는 방식\n",
    "#집합 사용\n",
    "\n",
    "number_set = set(range(1, 10001))\n",
    "dnumber_set= set()\n",
    "\n",
    "for i in range(1, 10001):\n",
    "    for j in str(i):\n",
    "        i += int(j)\n",
    "    dnumber_set.add(i)\n",
    "\n",
    "self_number_set = number_set - dnumber_set\n",
    "\n",
    "for i in sorted(self_number_set):\n",
    "    print(i)"
   ]
  },
  {
   "cell_type": "code",
   "execution_count": null,
   "metadata": {},
   "outputs": [],
   "source": [
    "#short code\n",
    "r=range(9999);print(*sorted({*r}-{n+sum(map(int,str(n)))for n in r}))\n",
    "\n",
    "#short code 풀어쓰면\n",
    "#경험적으로 selfnum 아닌 숫자들을 제외하는 방식\n",
    "r=range(9999)\n",
    "print(  *sorted(  {*r}-{n+sum(map(int,str(n)))for n in r}  )  )"
   ]
  },
  {
   "cell_type": "code",
   "execution_count": null,
   "metadata": {},
   "outputs": [],
   "source": [
    "#another code\n",
    "#집합 사용\n",
    "#함수 인수가 set이고 set에 추가하는 방식이 특이.\n",
    "\n",
    "from sys import stdin\n",
    "\n",
    "def d(n, memo):\n",
    "    if n > 10000:\n",
    "        return\n",
    "    else:\n",
    "        A = list(map(int, str(n)))\n",
    "        memo.add(n + sum(A))\n",
    "        return\n",
    "        \n",
    "memo = set()\n",
    "for i in range(1, 10001):\n",
    "    d(i, memo)\n",
    "\n",
    "for i in range(1, 10001):\n",
    "    if i in memo:\n",
    "        continue\n",
    "    else:\n",
    "        print(i)"
   ]
  },
  {
   "cell_type": "markdown",
   "metadata": {},
   "source": [
    "## 7.3. 한수\n",
    "- 문제\n",
    "\n",
    "어떤 양의 정수 X의 각 자리가 등차수열을 이룬다면, 그 수를 한수라고 한다. 등차수열은 연속된 두 개의 수의 차이가 일정한 수열을 말한다. N이 주어졌을 때, 1보다 크거나 같고, N보다 작거나 같은 한수의 개수를 출력하는 프로그램을 작성하시오.\n",
    "\n",
    "- 입력\n",
    "\n",
    "첫째 줄에 1,000보다 작거나 같은 자연수 N이 주어진다.\n",
    "\n",
    "- 출력\n",
    "\n",
    "첫째 줄에 1보다 크거나 같고, N보다 작거나 같은 한수의 개수를 출력한다."
   ]
  },
  {
   "cell_type": "code",
   "execution_count": 44,
   "metadata": {},
   "outputs": [
    {
     "name": "stdout",
     "output_type": "stream",
     "text": [
      "1\n",
      "-1\n"
     ]
    }
   ],
   "source": [
    "def ari(n):\n",
    "    lst=map(int,list(str(n)))\n",
    "    num=0\n",
    "    for i in range(len(lst)-1):\n",
    "        step=lst[i]-lst[i-1]\n",
    "        \n",
    "        print(i-1)\n",
    "ari(20)"
   ]
  },
  {
   "cell_type": "code",
   "execution_count": 64,
   "metadata": {},
   "outputs": [
    {
     "name": "stdout",
     "output_type": "stream",
     "text": [
      "100\n"
     ]
    }
   ],
   "source": [
    "n=110\n",
    "lst=list(map(int,str(n)))\n",
    "\n",
    "out=0\n",
    "\n",
    "\n",
    "def ari(n):\n",
    "    if n<100:\n",
    "        return True\n",
    "    else:\n",
    "        out=99\n",
    "        dis=lst[0]-lst[1]\n",
    "        for i in range(len(str(n))-2):\n",
    "            dis2=lst[i+1]-lst[i+2]\n",
    "            if dis==dis2:\n",
    "                continue\n",
    "            else:\n",
    "                return False\n",
    "        return True\n",
    "\n",
    "    \n",
    "print(out)"
   ]
  },
  {
   "cell_type": "code",
   "execution_count": 13,
   "metadata": {},
   "outputs": [
    {
     "data": {
      "text/plain": [
       "False"
      ]
     },
     "execution_count": 13,
     "metadata": {},
     "output_type": "execute_result"
    }
   ],
   "source": [
    "def ari(n):\n",
    "    lst=list(map(int,str(n)))\n",
    "    if n<100:\n",
    "        return True\n",
    "    else:\n",
    "        dis=lst[0]-lst[1]\n",
    "        for i in range(len(str(n))-2):\n",
    "            dis2=lst[i+1]-lst[i+2]\n",
    "            if dis==dis2:\n",
    "                continue\n",
    "            else:\n",
    "                return False\n",
    "        return True\n",
    "ari(100)"
   ]
  },
  {
   "cell_type": "code",
   "execution_count": 14,
   "metadata": {},
   "outputs": [
    {
     "name": "stdout",
     "output_type": "stream",
     "text": [
      "110\n",
      "99\n",
      "99\n"
     ]
    }
   ],
   "source": [
    "n=int(input())\n",
    "print([ari(i+1) for i in range(n)].count(1))\n",
    "print(sum([ari(i+1) for i in range(n)]*1))"
   ]
  },
  {
   "cell_type": "code",
   "execution_count": 15,
   "metadata": {
    "scrolled": true
   },
   "outputs": [
    {
     "name": "stdout",
     "output_type": "stream",
     "text": [
      "110\n",
      "[True, True, True, True, True, True, True, True, True, True, True, True, True, True, True, True, True, True, True, True, True, True, True, True, True, True, True, True, True, True, True, True, True, True, True, True, True, True, True, True, True, True, True, True, True, True, True, True, True, True, True, True, True, True, True, True, True, True, True, True, True, True, True, True, True, True, True, True, True, True, True, True, True, True, True, True, True, True, True, True, True, True, True, True, True, True, True, True, True, True, True, True, True, True, True, True, True, True, True, False, False, False, False, False, False, False, False, False, False, False]\n"
     ]
    }
   ],
   "source": [
    "n=int(input())\n",
    "print([ari(i+1) for i in range(n)])"
   ]
  },
  {
   "cell_type": "code",
   "execution_count": 20,
   "metadata": {},
   "outputs": [
    {
     "name": "stdout",
     "output_type": "stream",
     "text": [
      "1000\n",
      "144\n"
     ]
    }
   ],
   "source": [
    "#제출용 정리\n",
    "#1065\n",
    "def ari(n):\n",
    "    lst=list(map(int,str(n)))\n",
    "    if n<100:\n",
    "        return True\n",
    "    else:\n",
    "        dis=lst[0]-lst[1]\n",
    "        for i in range(len(str(n))-2):\n",
    "            dis2=lst[i+1]-lst[i+2]\n",
    "            if dis==dis2:\n",
    "                continue\n",
    "            else:\n",
    "                return False\n",
    "        return True\n",
    "n=int(input())\n",
    "print([ari(i+1) for i in range(n)].count(1))"
   ]
  },
  {
   "cell_type": "code",
   "execution_count": null,
   "metadata": {},
   "outputs": [],
   "source": [
    "#another code\n",
    "#set의 중복비허용 속성을 이용하여 등차수열 판별\n",
    "\n",
    "n = int(input())\n",
    "\n",
    "i = 0\n",
    "for x in range(1, n + 1):\n",
    "    n = str(x)\n",
    "    list = []\n",
    "    for y in range(len(n) - 1):\n",
    "        list.append(int(n[y + 1]) - int(n[y]))\n",
    "\n",
    "    ans = set(list)\n",
    "    if len(ans) == 1 or len(ans) == 0:\n",
    "        i += 1\n",
    "print(i)"
   ]
  },
  {
   "cell_type": "code",
   "execution_count": null,
   "metadata": {},
   "outputs": [],
   "source": [
    "#another code\n",
    "#100으로 나눈 몫과 나머지를 이용하여 등차수열임을 판별\n",
    "\n",
    "num = 0 \n",
    "def isHansu(x):\n",
    "    global num\n",
    "    if x//100 - x%100//10 is x%100//10 - x%10:\n",
    "        num += 1\n",
    "N = int(input())\n",
    "for i in range(1, N+1):\n",
    "    if i < 100:\n",
    "        num += 1\n",
    "    else:\n",
    "        isHansu(i)\n",
    "print(num)"
   ]
  },
  {
   "cell_type": "code",
   "execution_count": 23,
   "metadata": {},
   "outputs": [
    {
     "data": {
      "text/plain": [
       "[1, 2, 3, 4, 5, 6]"
      ]
     },
     "execution_count": 23,
     "metadata": {},
     "output_type": "execute_result"
    }
   ],
   "source": [
    "n=123456\n",
    "list(map(int,str(n)))"
   ]
  },
  {
   "cell_type": "markdown",
   "metadata": {},
   "source": [
    "# 8. 문자열"
   ]
  },
  {
   "cell_type": "markdown",
   "metadata": {},
   "source": [
    "## 8.1. 아스키 코드\n",
    "알파벳 소문자, 대문자, 숫자 0-9중 하나가 주어졌을 때, 주어진 글자의 아스키 코드값을 출력하는 프로그램을 작성하시오."
   ]
  },
  {
   "cell_type": "code",
   "execution_count": 44,
   "metadata": {},
   "outputs": [
    {
     "data": {
      "text/plain": [
       "53"
      ]
     },
     "execution_count": 44,
     "metadata": {},
     "output_type": "execute_result"
    }
   ],
   "source": [
    "ord('5')"
   ]
  },
  {
   "cell_type": "code",
   "execution_count": 36,
   "metadata": {},
   "outputs": [
    {
     "data": {
      "text/plain": [
       "65"
      ]
     },
     "execution_count": 36,
     "metadata": {},
     "output_type": "execute_result"
    }
   ],
   "source": [
    "ord('A')"
   ]
  },
  {
   "cell_type": "code",
   "execution_count": 42,
   "metadata": {},
   "outputs": [
    {
     "name": "stdout",
     "output_type": "stream",
     "text": [
      "2\n",
      "<class 'int'>\n",
      "\u0002\n"
     ]
    }
   ],
   "source": [
    "a='2';print(a)\n",
    "a=int(a);print(type(a))\n",
    "a=chr(a);print(a)"
   ]
  },
  {
   "cell_type": "code",
   "execution_count": 46,
   "metadata": {
    "scrolled": true
   },
   "outputs": [
    {
     "name": "stdout",
     "output_type": "stream",
     "text": [
      "z\n",
      "122\n"
     ]
    }
   ],
   "source": [
    "#11654\n",
    "print(ord(input()))"
   ]
  },
  {
   "cell_type": "markdown",
   "metadata": {},
   "source": [
    "## 8.2. 숫자의 합\n",
    "- 문제\n",
    "\n",
    "N개의 숫자가 공백 없이 쓰여있다. 이 숫자를 모두 합해서 출력하는 프로그램을 작성하시오.\n",
    "\n",
    "- 입력\n",
    "\n",
    "첫째 줄에 숫자의 개수 N (1 ≤ N ≤ 100)이 주어진다. 둘째 줄에 숫자 N개가 공백없이 주어진다.\n",
    "\n",
    "- 출력\n",
    "\n",
    "입력으로 주어진 숫자 N개의 합을 출력한다."
   ]
  },
  {
   "cell_type": "code",
   "execution_count": 47,
   "metadata": {},
   "outputs": [
    {
     "name": "stdout",
     "output_type": "stream",
     "text": [
      "5\n",
      "54321\n",
      "15\n"
     ]
    }
   ],
   "source": [
    "#11720\n",
    "n=input()\n",
    "num=input()\n",
    "print(sum(list(map(int,str(num)))))"
   ]
  },
  {
   "cell_type": "markdown",
   "metadata": {},
   "source": [
    "## 8.3. 알파벳 찾기\n",
    "- 문제\n",
    "\n",
    "알파벳 소문자로만 이루어진 단어 S가 주어진다. 각각의 알파벳에 대해서, 단어에 포함되어 있는 경우에는 처음 등장하는 위치를, 포함되어 있지 않은 경우에는 -1을 출력하는 프로그램을 작성하시오.\n",
    "\n",
    "- 입력\n",
    "\n",
    "첫째 줄에 단어 S가 주어진다. 단어의 길이는 100을 넘지 않으며, 알파벳 소문자로만 이루어져 있다.\n",
    "\n",
    "- 출력\n",
    "\n",
    "각각의 알파벳에 대해서, a가 처음 등장하는 위치, b가 처음 등장하는 위치, ... z가 처음 등장하는 위치를 공백으로 구분해서 출력한다.\n",
    "\n",
    "만약, 어떤 알파벳이 단어에 포함되어 있지 않다면 -1을 출력한다. 단어의 첫 번째 글자는 0번째 위치이고, 두 번째 글자는 1번째 위치이다."
   ]
  },
  {
   "cell_type": "code",
   "execution_count": 50,
   "metadata": {},
   "outputs": [
    {
     "name": "stdout",
     "output_type": "stream",
     "text": [
      "a\n",
      "b\n",
      "c\n",
      "d\n",
      "e\n",
      "f\n",
      "g\n",
      "h\n",
      "i\n",
      "j\n",
      "k\n",
      "l\n",
      "m\n",
      "n\n",
      "o\n",
      "p\n",
      "q\n",
      "r\n",
      "s\n",
      "t\n",
      "u\n",
      "v\n",
      "w\n",
      "x\n",
      "y\n",
      "z\n"
     ]
    }
   ],
   "source": [
    "for i in range(ord('a'), ord('z')+1):\n",
    "    print(chr(i))"
   ]
  },
  {
   "cell_type": "code",
   "execution_count": 52,
   "metadata": {
    "scrolled": true
   },
   "outputs": [
    {
     "name": "stdout",
     "output_type": "stream",
     "text": [
      "baekjoon\n",
      "1 0 -1 -1 2 -1 -1 -1 -1 4 3 -1 -1 7 5 -1 -1 -1 -1 -1 -1 -1 -1 -1 -1 -1 "
     ]
    },
    {
     "data": {
      "text/plain": [
       "[None,\n",
       " None,\n",
       " None,\n",
       " None,\n",
       " None,\n",
       " None,\n",
       " None,\n",
       " None,\n",
       " None,\n",
       " None,\n",
       " None,\n",
       " None,\n",
       " None,\n",
       " None,\n",
       " None,\n",
       " None,\n",
       " None,\n",
       " None,\n",
       " None,\n",
       " None,\n",
       " None,\n",
       " None,\n",
       " None,\n",
       " None,\n",
       " None,\n",
       " None]"
      ]
     },
     "execution_count": 52,
     "metadata": {},
     "output_type": "execute_result"
    }
   ],
   "source": [
    "#10809\n",
    "s=input()\n",
    "[print(s.find(chr(i)), end=' ') for i in range(ord('a'), ord('z')+1)]"
   ]
  },
  {
   "cell_type": "code",
   "execution_count": 53,
   "metadata": {},
   "outputs": [
    {
     "name": "stdout",
     "output_type": "stream",
     "text": [
      "baekjoon\n",
      "1 0 -1 -1 2 -1 -1 -1 -1 4 3 -1 -1 7 5 -1 -1 -1 -1 -1 -1 -1 -1 -1 -1 -1\n"
     ]
    }
   ],
   "source": [
    "#short code\n",
    "print(*map(input().find,map(chr,range(97,123))))"
   ]
  },
  {
   "cell_type": "markdown",
   "metadata": {},
   "source": [
    "### 리스트 한 줄에 출력하기"
   ]
  },
  {
   "cell_type": "code",
   "execution_count": 4,
   "metadata": {},
   "outputs": [
    {
     "name": "stdout",
     "output_type": "stream",
     "text": [
      "1 2 3 4 5 6 7 8 9 "
     ]
    }
   ],
   "source": [
    "lst = [1,2,3,4,5,6,7,8,9]\n",
    "for i in range(len(lst)):\n",
    "    print(lst[i], end=' ')"
   ]
  },
  {
   "cell_type": "code",
   "execution_count": 2,
   "metadata": {},
   "outputs": [
    {
     "ename": "TypeError",
     "evalue": "sequence item 0: expected str instance, int found",
     "output_type": "error",
     "traceback": [
      "\u001b[1;31m---------------------------------------------------------------------------\u001b[0m",
      "\u001b[1;31mTypeError\u001b[0m                                 Traceback (most recent call last)",
      "\u001b[1;32m<ipython-input-2-c895fcfc82b6>\u001b[0m in \u001b[0;36m<module>\u001b[1;34m\u001b[0m\n\u001b[1;32m----> 1\u001b[1;33m \u001b[0mprint\u001b[0m\u001b[1;33m(\u001b[0m\u001b[1;34m' '\u001b[0m\u001b[1;33m.\u001b[0m\u001b[0mjoin\u001b[0m\u001b[1;33m(\u001b[0m\u001b[0mlst\u001b[0m\u001b[1;33m)\u001b[0m\u001b[1;33m)\u001b[0m\u001b[1;33m\u001b[0m\u001b[1;33m\u001b[0m\u001b[0m\n\u001b[0m",
      "\u001b[1;31mTypeError\u001b[0m: sequence item 0: expected str instance, int found"
     ]
    }
   ],
   "source": [
    "print(' '.join(lst))"
   ]
  },
  {
   "cell_type": "code",
   "execution_count": 5,
   "metadata": {},
   "outputs": [
    {
     "name": "stdout",
     "output_type": "stream",
     "text": [
      "H E L L O\n"
     ]
    }
   ],
   "source": [
    "lst = ['H','E','L','L','O']\n",
    "print(' '.join(lst))"
   ]
  },
  {
   "cell_type": "markdown",
   "metadata": {},
   "source": [
    "(200312)"
   ]
  },
  {
   "cell_type": "markdown",
   "metadata": {},
   "source": [
    "## 8.4. 문자열 반복\n",
    "- 문제\n",
    "\n",
    "문자열 S를 입력받은 후에, 각 문자를 R번 반복해 새 문자열 P를 만든 후 출력하는 프로그램을 작성하시오. 즉, 첫 번째 문자를 R번 반복하고, 두 번째 문자를 R번 반복하는 식으로 P를 만들면 된다. S에는 QR Code \"alphanumeric\" 문자만 들어있다.\n",
    "\n",
    "QR Code \"alphanumeric\" 문자는 0123456789ABCDEFGHIJKLMNOPQRSTUVWXYZ\\$%*+-./: 이다.\n",
    "\n",
    "- 입력\n",
    "\n",
    "첫째 줄에 테스트 케이스의 개수 T(1 ≤ T ≤ 1,000)가 주어진다. 각 테스트 케이스는 반복 횟수 R(1 ≤ R ≤ 8), 문자열 S가 공백으로 구분되어 주어진다. S의 길이는 적어도 1이며, 20글자를 넘지 않는다. \n",
    "\n",
    "- 출력\n",
    "\n",
    "각 테스트 케이스에 대해 P를 출력한다."
   ]
  },
  {
   "cell_type": "markdown",
   "metadata": {},
   "source": [
    "문자열 https://doorbw.tistory.com/54\n",
    "string a to z https://stackoverflow.com/questions/3190122/python-how-to-print-range-a-z\n",
    "list 한줄에 출력 https://m.blog.naver.com/PostView.nhn?blogId=complusblog&logNo=221158629508&proxyReferer=https%3A%2F%2Fwww.google.com%2F"
   ]
  },
  {
   "cell_type": "code",
   "execution_count": 6,
   "metadata": {},
   "outputs": [
    {
     "name": "stdout",
     "output_type": "stream",
     "text": [
      "2\n",
      "3 ABC\n",
      "A B C A B C A B C\n",
      "5 /HTP\n",
      "/ H T P / H T P / H T P / H T P / H T P\n"
     ]
    }
   ],
   "source": [
    "t=int(input())\n",
    "for i in range(t):\n",
    "    r,s=input().split()\n",
    "    r=int(r)\n",
    "    print(*s*r)"
   ]
  },
  {
   "cell_type": "code",
   "execution_count": 16,
   "metadata": {},
   "outputs": [
    {
     "name": "stdout",
     "output_type": "stream",
     "text": [
      "['AAA', 'BBB', 'CCC']\n"
     ]
    }
   ],
   "source": [
    "s='ABC'\n",
    "print([i*3 for i in s])"
   ]
  },
  {
   "cell_type": "code",
   "execution_count": 5,
   "metadata": {},
   "outputs": [
    {
     "name": "stdout",
     "output_type": "stream",
     "text": [
      "2\n",
      "3 ABC\n",
      "AAABBBCCC\n",
      "5 /HTP\n",
      "/////HHHHHTTTTTPPPPP\n"
     ]
    }
   ],
   "source": [
    "#2675\n",
    "for i in range(int(input())):\n",
    "    r,s=input().split()\n",
    "    r=int(r)\n",
    "    print(''.join([i*r for i in s]))"
   ]
  },
  {
   "cell_type": "markdown",
   "metadata": {},
   "source": [
    "## 8.5. 단어 공부\n",
    "- 문제\n",
    "\n",
    "알파벳 대소문자로 된 단어가 주어지면, 이 단어에서 가장 많이 사용된 알파벳이 무엇인지 알아내는 프로그램을 작성하시오. 단, 대문자와 소문자를 구분하지 않는다.\n",
    "\n",
    "- 입력\n",
    "\n",
    "첫째 줄에 알파벳 대소문자로 이루어진 단어가 주어진다. 주어지는 단어의 길이는 1,000,000을 넘지 않는다.\n",
    "\n",
    "- 출력\n",
    "\n",
    "첫째 줄에 이 단어에서 가장 많이 사용된 알파벳을 대문자로 출력한다. 단, 가장 많이 사용된 알파벳이 여러 개 존재하는 경우에는 ?를 출력한다."
   ]
  },
  {
   "cell_type": "code",
   "execution_count": null,
   "metadata": {},
   "outputs": [],
   "source": [
    "txt=input().upper()\n",
    "[txt.count(chr(i)) for i in range(ord('a'), ord('z')+1)]"
   ]
  },
  {
   "cell_type": "code",
   "execution_count": 7,
   "metadata": {},
   "outputs": [
    {
     "data": {
      "text/plain": [
       "'ABD'"
      ]
     },
     "execution_count": 7,
     "metadata": {},
     "output_type": "execute_result"
    }
   ],
   "source": [
    "'abD'.upper()"
   ]
  },
  {
   "cell_type": "code",
   "execution_count": 21,
   "metadata": {},
   "outputs": [
    {
     "name": "stdout",
     "output_type": "stream",
     "text": [
      "MISSISSIPI\n"
     ]
    },
    {
     "data": {
      "text/plain": [
       "[4, 4, 1, 1]"
      ]
     },
     "execution_count": 21,
     "metadata": {},
     "output_type": "execute_result"
    }
   ],
   "source": [
    "txt=list(input().upper())\n",
    "[txt.count(i) for i in set(txt)]"
   ]
  },
  {
   "cell_type": "code",
   "execution_count": 25,
   "metadata": {
    "scrolled": true
   },
   "outputs": [
    {
     "name": "stdout",
     "output_type": "stream",
     "text": [
      "MISSISSIPI\n",
      "{'S', 'I', 'M', 'P'}\n",
      "[4, 4, 1, 1]\n"
     ]
    }
   ],
   "source": [
    "txt=('Mississipi'.upper())\n",
    "print(txt)\n",
    "print(set(txt))\n",
    "print([txt.count(i) for i in set(txt)])"
   ]
  },
  {
   "cell_type": "code",
   "execution_count": 24,
   "metadata": {},
   "outputs": [
    {
     "data": {
      "text/plain": [
       "{'I', 'M', 'P', 'S'}"
      ]
     },
     "execution_count": 24,
     "metadata": {},
     "output_type": "execute_result"
    }
   ],
   "source": [
    "txt=('Mississipi'.upper())\n",
    "set(txt)"
   ]
  },
  {
   "cell_type": "code",
   "execution_count": 26,
   "metadata": {},
   "outputs": [
    {
     "data": {
      "text/plain": [
       "'S'"
      ]
     },
     "execution_count": 26,
     "metadata": {},
     "output_type": "execute_result"
    }
   ],
   "source": [
    "max(set(txt))"
   ]
  },
  {
   "cell_type": "code",
   "execution_count": 41,
   "metadata": {},
   "outputs": [
    {
     "name": "stdout",
     "output_type": "stream",
     "text": [
      "[0, 0, 0, 0, 0, 0, 0, 0, 4, 0, 0, 0, 1, 0, 0, 1, 0, 0, 4, 0, 0, 0, 0, 0, 0, 0]\n",
      "4\n"
     ]
    }
   ],
   "source": [
    "txt=('Mississipi'.upper())\n",
    "cnt=[txt.count(chr(i)) for i in range(ord('A'), ord('Z')+1)]\n",
    "print(cnt)\n",
    "print(max(cnt))\n"
   ]
  },
  {
   "cell_type": "code",
   "execution_count": 48,
   "metadata": {
    "scrolled": true
   },
   "outputs": [
    {
     "ename": "SyntaxError",
     "evalue": "invalid syntax (<ipython-input-48-bcbe1a093b19>, line 1)",
     "output_type": "error",
     "traceback": [
      "\u001b[1;36m  File \u001b[1;32m\"<ipython-input-48-bcbe1a093b19>\"\u001b[1;36m, line \u001b[1;32m1\u001b[0m\n\u001b[1;33m    [ord('A'):ord('Z')]\u001b[0m\n\u001b[1;37m             ^\u001b[0m\n\u001b[1;31mSyntaxError\u001b[0m\u001b[1;31m:\u001b[0m invalid syntax\n"
     ]
    }
   ],
   "source": [
    "[ord('A'):ord('Z')]"
   ]
  },
  {
   "cell_type": "code",
   "execution_count": 52,
   "metadata": {},
   "outputs": [
    {
     "data": {
      "text/plain": [
       "[1, 2]"
      ]
     },
     "execution_count": 52,
     "metadata": {},
     "output_type": "execute_result"
    }
   ],
   "source": [
    "list(range(1,3))"
   ]
  },
  {
   "cell_type": "code",
   "execution_count": 54,
   "metadata": {
    "scrolled": true
   },
   "outputs": [
    {
     "data": {
      "text/plain": [
       "['A',\n",
       " 'B',\n",
       " 'C',\n",
       " 'D',\n",
       " 'E',\n",
       " 'F',\n",
       " 'G',\n",
       " 'H',\n",
       " 'I',\n",
       " 'J',\n",
       " 'K',\n",
       " 'L',\n",
       " 'M',\n",
       " 'N',\n",
       " 'O',\n",
       " 'P',\n",
       " 'Q',\n",
       " 'R',\n",
       " 'S',\n",
       " 'T',\n",
       " 'U',\n",
       " 'V',\n",
       " 'W',\n",
       " 'X',\n",
       " 'Y',\n",
       " 'Z']"
      ]
     },
     "execution_count": 54,
     "metadata": {},
     "output_type": "execute_result"
    }
   ],
   "source": [
    "alpha=list(map(chr,list(range(ord('A'),ord('Z')+1))))\n",
    "alpha"
   ]
  },
  {
   "cell_type": "code",
   "execution_count": 56,
   "metadata": {},
   "outputs": [
    {
     "data": {
      "text/plain": [
       "[0, 0, 0, 0, 0, 0, 0, 0, 4, 0, 0, 0, 1, 0, 0, 1, 0, 0, 4, 0, 0, 0, 0, 0, 0, 0]"
      ]
     },
     "execution_count": 56,
     "metadata": {},
     "output_type": "execute_result"
    }
   ],
   "source": [
    "cnt=[txt.count(i) for i in alpha]\n",
    "cnt"
   ]
  },
  {
   "cell_type": "code",
   "execution_count": 61,
   "metadata": {},
   "outputs": [
    {
     "name": "stdout",
     "output_type": "stream",
     "text": [
      "I\n"
     ]
    }
   ],
   "source": [
    "txt='Mississipi'.upper()\n",
    "alpha=list(map(chr,list(range(ord('A'),ord('Z')+1))))\n",
    "cnt=[txt.count(i) for i in alpha]\n",
    "maxcnt=max(cnt)\n",
    "\n",
    "print(alpha[cnt.index(maxcnt)])"
   ]
  },
  {
   "cell_type": "code",
   "execution_count": 3,
   "metadata": {},
   "outputs": [
    {
     "name": "stdout",
     "output_type": "stream",
     "text": [
      "baaa\n",
      "A\n"
     ]
    }
   ],
   "source": [
    "#1157\n",
    "#464ms\n",
    "txt=list(input().upper())\n",
    "alpha=list(map(chr,list(range(ord('A'),ord('Z')+1))))\n",
    "cnt=[txt.count(i) for i in alpha]\n",
    "maxcnt=max(cnt)\n",
    "if cnt.count(maxcnt)>1:\n",
    "    print('?')\n",
    "else:\n",
    "    print(alpha[cnt.index(maxcnt)])"
   ]
  },
  {
   "cell_type": "code",
   "execution_count": null,
   "metadata": {},
   "outputs": [],
   "source": [
    "#another code\n",
    "#88ms. 알고리즘은 똑같은데 ord때문에 더 걸린듯\n",
    "a = input()\n",
    "a = a.upper()\n",
    "b = []\n",
    "\n",
    "alpha = list(map(chr, range(65, 91)))\n",
    "\n",
    "for i in range(26):\n",
    "    b.append(a.count(alpha[i]))\n",
    "\n",
    "if b.count(max(b)) == 1:\n",
    "    print(alpha[b.index(max(b))])\n",
    "else:\n",
    "    print('?')"
   ]
  },
  {
   "cell_type": "markdown",
   "metadata": {},
   "source": [
    "## 8.6. 단어의 개수\n",
    "- 문제\n",
    "\n",
    "영어 대소문자와 띄어쓰기만으로 이루어진 문자열이 주어진다. 이 문자열에는 몇 개의 단어가 있을까? 이를 구하는 프로그램을 작성하시오. 단, 한 단어가 여러 번 등장하면 등장한 횟수만큼 모두 세어야 한다.\n",
    "\n",
    "- 입력\n",
    "\n",
    "첫 줄에 영어 대소문자와 띄어쓰기로 이루어진 문자열이 주어진다. 이 문자열의 길이는 1,000,000을 넘지 않는다. 단어는 띄어쓰기 한 개로 구분되며, 공백이 연속해서 나오는 경우는 없다. 또한 문자열의 앞과 뒤에는 공백이 있을 수도 있다.\n",
    "\n",
    "- 출력\n",
    "\n",
    "첫째 줄에 단어의 개수를 출력한다."
   ]
  },
  {
   "cell_type": "code",
   "execution_count": 6,
   "metadata": {
    "scrolled": true
   },
   "outputs": [
    {
     "name": "stdout",
     "output_type": "stream",
     "text": [
      "Teullinika Teullyeotzi \n",
      "2\n"
     ]
    }
   ],
   "source": [
    "#1152\n",
    "print(len(input().split()))"
   ]
  },
  {
   "cell_type": "markdown",
   "metadata": {},
   "source": [
    "## 8.7. 상수\n",
    "- 문제\n",
    "\n",
    "상근이의 동생 상수는 수학을 정말 못한다. 상수는 숫자를 읽는데 문제가 있다. 이렇게 수학을 못하는 상수를 위해서 상근이는 수의 크기를 비교하는 문제를 내주었다. 상근이는 세 자리 수 두 개를 칠판에 써주었다. 그 다음에 크기가 큰 수를 말해보라고 했다.\n",
    "\n",
    "상수는 수를 다른 사람과 다르게 거꾸로 읽는다. 예를 들어, 734와 893을 칠판에 적었다면, 상수는 이 수를 437과 398로 읽는다. 따라서, 상수는 두 수중 큰 수인 437을 큰 수라고 말할 것이다.\n",
    "\n",
    "두 수가 주어졌을 때, 상수의 대답을 출력하는 프로그램을 작성하시오.\n",
    "\n",
    "- 입력\n",
    "\n",
    "첫째 줄에 상근이가 칠판에 적은 두 수 A와 B가 주어진다. 두 수는 같지 않은 세 자리 수이며, 0이 포함되어 있지 않다.\n",
    "\n",
    "- 출력\n",
    "\n",
    "첫째 줄에 상수의 대답을 출력한다."
   ]
  },
  {
   "cell_type": "code",
   "execution_count": 18,
   "metadata": {},
   "outputs": [
    {
     "name": "stdout",
     "output_type": "stream",
     "text": [
      "734 893\n",
      "437\n"
     ]
    }
   ],
   "source": [
    "#2908\n",
    "def rvs(n):\n",
    "    return int(''.join(reversed(list(str(n)))))\n",
    "txt=input().split()\n",
    "print(max(map(rvs,txt)))"
   ]
  },
  {
   "cell_type": "code",
   "execution_count": 19,
   "metadata": {},
   "outputs": [
    {
     "name": "stdout",
     "output_type": "stream",
     "text": [
      "734 893\n",
      "437\n"
     ]
    }
   ],
   "source": [
    "#short coding\n",
    "print(max(input()[::-1].split()))"
   ]
  },
  {
   "cell_type": "markdown",
   "metadata": {},
   "source": [
    "## 8.8. 다이얼\n",
    "- 문제\n",
    "\n",
    "상근이의 할머니는 아래 그림과 같이 오래된 다이얼 전화기를 사용한다.\n",
    "\n",
    "\n",
    "\n",
    "전화를 걸고 싶은 번호가 있다면, 숫자를 하나를 누른 다음에 금속 핀이 있는 곳 까지 시계방향으로 돌려야 한다. 숫자를 하나 누르면 다이얼이 처음 위치로 돌아가고, 다음 숫자를 누르려면 다이얼을 처음 위치에서 다시 돌려야 한다.\n",
    "\n",
    "숫자 1을 걸려면 총 2초가 필요하다. 1보다 큰 수를 거는데 걸리는 시간은 이보다 더 걸리며, 한 칸 옆에 있는 숫자를 걸기 위해선 1초씩 더 걸린다.\n",
    "\n",
    "상근이의 할머니는 전화 번호를 각 숫자에 해당하는 문자로 외운다. 즉, 어떤 단어를 걸 때, 각 알파벳에 해당하는 숫자를 걸면 된다. 예를 들어, UNUCIC는 868242와 같다.\n",
    "\n",
    "할머니가 외운 단어가 주어졌을 때, 이 전화를 걸기 위해서 필요한 시간을 구하는 프로그램을 작성하시오.\n",
    "\n",
    "- 입력\n",
    "\n",
    "첫째 줄에 알파벳 대문자로 이루어진 단어가 주어진다. 단어는 2글자~15글자로 이루어져 있다.\n",
    "\n",
    "- 출력\n",
    "\n",
    "첫째 줄에 다이얼을 걸기 위해서 필요한 시간을 출력한다."
   ]
  },
  {
   "cell_type": "code",
   "execution_count": 36,
   "metadata": {},
   "outputs": [
    {
     "data": {
      "text/plain": [
       "26"
      ]
     },
     "execution_count": 36,
     "metadata": {},
     "output_type": "execute_result"
    }
   ],
   "source": [
    "d=[]\n",
    "for i in range(3,8):d+=[i]*3\n",
    "d+=[8]*4+[9]*3+[10]*4\n",
    "len(d)"
   ]
  },
  {
   "cell_type": "code",
   "execution_count": 39,
   "metadata": {
    "scrolled": true
   },
   "outputs": [
    {
     "data": {
      "text/plain": [
       "{'A': 3,\n",
       " 'B': 3,\n",
       " 'C': 3,\n",
       " 'D': 4,\n",
       " 'E': 4,\n",
       " 'F': 4,\n",
       " 'G': 5,\n",
       " 'H': 5,\n",
       " 'I': 5,\n",
       " 'J': 6,\n",
       " 'K': 6,\n",
       " 'L': 6,\n",
       " 'M': 7,\n",
       " 'N': 7,\n",
       " 'O': 7,\n",
       " 'P': 8,\n",
       " 'Q': 8,\n",
       " 'R': 8,\n",
       " 'S': 8,\n",
       " 'T': 9,\n",
       " 'U': 9,\n",
       " 'V': 9,\n",
       " 'W': 10,\n",
       " 'X': 10,\n",
       " 'Y': 10,\n",
       " 'Z': 10}"
      ]
     },
     "execution_count": 39,
     "metadata": {},
     "output_type": "execute_result"
    }
   ],
   "source": [
    "alpha = list(map(chr, range(65, 91)))\n",
    "\n",
    "d=[]\n",
    "for i in range(3,8):d+=[i]*3\n",
    "d+=[8]*4+[9]*3+[10]*4\n",
    "\n",
    "dict(zip(alpha,d))\n",
    "#or\n",
    "{a:b for a,b in zip(alpha,d) }"
   ]
  },
  {
   "cell_type": "code",
   "execution_count": 44,
   "metadata": {},
   "outputs": [
    {
     "data": {
      "text/plain": [
       "8"
      ]
     },
     "execution_count": 44,
     "metadata": {},
     "output_type": "execute_result"
    }
   ],
   "source": [
    "len(splt)"
   ]
  },
  {
   "cell_type": "code",
   "execution_count": 53,
   "metadata": {},
   "outputs": [
    {
     "name": "stdout",
     "output_type": "stream",
     "text": [
      "[2, 2, 2, 3, 3, 3, 4, 4, 4, 5, 5, 5, 6, 6, 6, 7, 7, 7, 7, 8, 8, 8, 9, 9, 9, 9]\n"
     ]
    }
   ],
   "source": [
    "d=[]\n",
    "splt={2:3,3:3,4:3,5:3,6:3,7:4,8:3,9:4}\n",
    "for dial,n in splt.items():\n",
    "    d.extend([dial]*n)\n",
    "print(d)"
   ]
  },
  {
   "cell_type": "code",
   "execution_count": 54,
   "metadata": {},
   "outputs": [
    {
     "name": "stdout",
     "output_type": "stream",
     "text": [
      "[2, 2, 2, 3, 3, 3, 4, 4, 4, 5, 5, 5, 6, 6, 6, 7, 7, 7, 7, 8, 8, 8, 9, 9, 9, 9]\n"
     ]
    }
   ],
   "source": [
    "#위와같음\n",
    "nums=[3,3,3,3,3,4,3,4]\n",
    "d=[]\n",
    "for idx, dial in enumerate(range(2,10)):\n",
    "    d.extend([dial]*nums[idx])\n",
    "print(d)"
   ]
  },
  {
   "cell_type": "code",
   "execution_count": null,
   "metadata": {},
   "outputs": [],
   "source": []
  },
  {
   "cell_type": "code",
   "execution_count": 41,
   "metadata": {},
   "outputs": [
    {
     "name": "stdout",
     "output_type": "stream",
     "text": [
      "U\n",
      "N\n",
      "U\n",
      "C\n",
      "I\n",
      "C\n"
     ]
    }
   ],
   "source": [
    "txt='UNUCIC'\n",
    "for i in txt:\n",
    "    print(i)"
   ]
  },
  {
   "cell_type": "code",
   "execution_count": 57,
   "metadata": {},
   "outputs": [
    {
     "name": "stdout",
     "output_type": "stream",
     "text": [
      "9\n",
      "7\n",
      "9\n",
      "3\n",
      "5\n",
      "3\n"
     ]
    }
   ],
   "source": [
    "#txt=input()\n",
    "txt='UNUCIC'\n",
    "alpha = list(map(chr, range(65, 91)))\n",
    "\n",
    "nums=[3,3,3,3,3,4,3,4]\n",
    "d=[]\n",
    "for idx, dial in enumerate(range(2,10)):\n",
    "    d.extend([dial]*nums[idx])\n",
    "\n",
    "dial=dict(zip(alpha,d))\n",
    "\n",
    "for i in txt:\n",
    "    print(dial[i]+1)"
   ]
  },
  {
   "cell_type": "code",
   "execution_count": 58,
   "metadata": {},
   "outputs": [
    {
     "data": {
      "text/plain": [
       "36"
      ]
     },
     "execution_count": 58,
     "metadata": {},
     "output_type": "execute_result"
    }
   ],
   "source": [
    "sum([dial[i]+1 for i in txt])"
   ]
  },
  {
   "cell_type": "code",
   "execution_count": 59,
   "metadata": {
    "scrolled": true
   },
   "outputs": [
    {
     "name": "stdout",
     "output_type": "stream",
     "text": [
      "UNUCIC\n",
      "36\n"
     ]
    }
   ],
   "source": [
    "#제출용\n",
    "#5622\n",
    "txt=input()\n",
    "alpha = list(map(chr, range(65, 91)))\n",
    "\n",
    "nums=[3,3,3,3,3,4,3,4]\n",
    "d=[]\n",
    "for idx, dial in enumerate(range(2,10)):\n",
    "    d.extend([dial]*nums[idx])\n",
    "\n",
    "dial=dict(zip(alpha,d))\n",
    "print(sum([dial[i]+1 for i in txt]))"
   ]
  },
  {
   "cell_type": "code",
   "execution_count": null,
   "metadata": {},
   "outputs": [],
   "source": [
    "#short code\n",
    "print(sum(min(ord(c)-64,25)*28//89+3for c in input()))"
   ]
  },
  {
   "cell_type": "code",
   "execution_count": null,
   "metadata": {},
   "outputs": [],
   "source": [
    "#short code\n",
    "#step(3)으로 나눈 몫을 이용하여 (ord(s)-65)//3 +3 으로 앞에서 3개씩 나누어 3,4,... 으로 반환 가능하다.\n",
    "#SVYZ 이유는 앞에서부터 3으로 나눴을 때 한칸씩 밀리는 알파벳들이다.\n",
    "\n",
    "x=input()\n",
    "print(sum((ord(s)-65)//3+3 for s in x)-sum(x.count(s) for s in 'SVYZ'))\n"
   ]
  },
  {
   "cell_type": "code",
   "execution_count": null,
   "metadata": {},
   "outputs": [],
   "source": [
    "#short code\n",
    "print(sum((ord(i)-62-(i in 'SVYZ')-(i=='Z'))//3+2 for i in input()))\n",
    "\n",
    "#re\n",
    "sum()\n",
    "(ord(i)-62-(i in 'SVYZ')-(i=='Z'))//3+2 for i in input()"
   ]
  },
  {
   "cell_type": "code",
   "execution_count": 61,
   "metadata": {},
   "outputs": [
    {
     "data": {
      "text/plain": [
       "65"
      ]
     },
     "execution_count": 61,
     "metadata": {},
     "output_type": "execute_result"
    }
   ],
   "source": [
    "ord('A')"
   ]
  },
  {
   "cell_type": "markdown",
   "metadata": {},
   "source": [
    "## 8.9 크로아티아 알파벳\n",
    "- 문제\n",
    "\n",
    "예전에는 운영체제에서 크로아티아 알파벳을 입력할 수가 없었다. 따라서, 다음과 같이 크로아티아 알파벳을 변경해서 입력했다.\n",
    "\n",
    "크로아티아 알파벳\t변경\n",
    "č\tc=\n",
    "ć\tc-\n",
    "dž\tdz=\n",
    "đ\td-\n",
    "lj\tlj\n",
    "nj\tnj\n",
    "š\ts=\n",
    "ž\tz=\n",
    "예를 들어, ljes=njak은 크로아티아 알파벳 6개(lj, e, š, nj, a, k)로 이루어져 있다. 단어가 주어졌을 때, 몇 개의 크로아티아 알파벳으로 이루어져 있는지 출력한다.\n",
    "\n",
    "dž는 무조건 하나의 알파벳으로 쓰이고, d와 ž가 분리된 것으로 보지 않는다. lj와 nj도 마찬가지이다. 위 목록에 없는 알파벳은 한 글자씩 센다.\n",
    "\n",
    "- 입력\n",
    "\n",
    "첫째 줄에 최대 100글자의 단어가 주어진다. 알파벳 소문자와 '-', '='로만 이루어져 있다.\n",
    "\n",
    "단어는 크로아티아 알파벳으로 이루어져 있다. 문제 설명의 표에 나와있는 알파벳은 변경된 형태로 입력된다.\n",
    "\n",
    "- 출력\n",
    "\n",
    "입력으로 주어진 단어가 몇 개의 크로아티아 알파벳으로 이루어져 있는지 출력한다."
   ]
  },
  {
   "cell_type": "code",
   "execution_count": 65,
   "metadata": {},
   "outputs": [
    {
     "ename": "AttributeError",
     "evalue": "'str' object has no attribute 'remove'",
     "output_type": "error",
     "traceback": [
      "\u001b[1;31m---------------------------------------------------------------------------\u001b[0m",
      "\u001b[1;31mAttributeError\u001b[0m                            Traceback (most recent call last)",
      "\u001b[1;32m<ipython-input-65-974784d9c921>\u001b[0m in \u001b[0;36m<module>\u001b[1;34m\u001b[0m\n\u001b[0;32m      1\u001b[0m \u001b[0mtxt\u001b[0m\u001b[1;33m=\u001b[0m\u001b[1;34m\"ljes=njak\"\u001b[0m\u001b[1;33m\u001b[0m\u001b[1;33m\u001b[0m\u001b[0m\n\u001b[1;32m----> 2\u001b[1;33m \u001b[0mtxt\u001b[0m\u001b[1;33m.\u001b[0m\u001b[0mremove\u001b[0m\u001b[1;33m(\u001b[0m\u001b[1;34m\"s=\"\u001b[0m\u001b[1;33m)\u001b[0m\u001b[1;33m\u001b[0m\u001b[1;33m\u001b[0m\u001b[0m\n\u001b[0m",
      "\u001b[1;31mAttributeError\u001b[0m: 'str' object has no attribute 'remove'"
     ]
    }
   ],
   "source": [
    "txt=\"ljes=njak\"\n",
    "txt.remove(\"s=\")"
   ]
  },
  {
   "cell_type": "code",
   "execution_count": null,
   "metadata": {},
   "outputs": [],
   "source": [
    "[č]\n",
    "dic={ord():''}\n",
    "new=txt.translate(dic)"
   ]
  },
  {
   "cell_type": "code",
   "execution_count": 74,
   "metadata": {},
   "outputs": [
    {
     "name": "stdout",
     "output_type": "stream",
     "text": [
      "1\n"
     ]
    }
   ],
   "source": [
    "txt='ljes=njak'\n",
    "cro=['c=','c-','dz=','d-','lj','nj','s=','z=']\n",
    "i=0\n",
    "if txt.count(cro[6])>0:\n",
    "    new=txt.replace(alpha,'')\n",
    "    i+=1\n",
    "    print(i)"
   ]
  },
  {
   "cell_type": "code",
   "execution_count": 94,
   "metadata": {},
   "outputs": [
    {
     "name": "stdout",
     "output_type": "stream",
     "text": [
      "0\n",
      "0\n",
      "0\n",
      "0\n",
      "1\n",
      "1\n",
      "1\n",
      "0\n",
      "eak\n"
     ]
    }
   ],
   "source": [
    "txt='ljes=njak'\n",
    "new=txt\n",
    "cro=['c=','c-','dz=','d-','lj','nj','s=','z=']\n",
    "for alpha in cro:\n",
    "    \n",
    "    print(new.count(alpha))\n",
    "    new=new.replace(alpha,'')\n",
    "print(new)"
   ]
  },
  {
   "cell_type": "code",
   "execution_count": 95,
   "metadata": {},
   "outputs": [
    {
     "name": "stdout",
     "output_type": "stream",
     "text": [
      "nljj\n",
      "lj nj\n",
      "nj \n",
      "txt길이 0\n",
      "2\n",
      "2\n"
     ]
    }
   ],
   "source": [
    "#실패. 제거하는 방식은 nljj에서 lj 제거하면 nj가 또 해당되어서..\n",
    "txt=input()\n",
    "cro=['c=','c-','dz=','d-','lj','nj','s=','z=']\n",
    "i=0\n",
    "for c in cro:\n",
    "    if txt.count(c)>0:\n",
    "        txt=txt.replace(c,'')\n",
    "        print(c,txt)\n",
    "        i+=1\n",
    "print('txt길이',len(txt))\n",
    "print(i)\n",
    "print(len(txt)+i)"
   ]
  },
  {
   "cell_type": "code",
   "execution_count": 99,
   "metadata": {},
   "outputs": [
    {
     "name": "stdout",
     "output_type": "stream",
     "text": [
      "nljj\n"
     ]
    }
   ],
   "source": [
    "txt=input()\n",
    "cro=['c=','c-','dz=','d-','lj','nj','s=','z=']\n",
    "i=0\n",
    "txtlst=[]\n",
    "for t in txt:\n",
    "    if t in cro:\n",
    "        #txtlst.append(c)\n",
    "        print(c)\n",
    "        print(t)"
   ]
  },
  {
   "cell_type": "code",
   "execution_count": 3,
   "metadata": {},
   "outputs": [
    {
     "name": "stdout",
     "output_type": "stream",
     "text": [
      "nljj\n"
     ]
    },
    {
     "data": {
      "text/plain": [
       "[0, 0, 0, 0, 1, 0, 0, 0]"
      ]
     },
     "execution_count": 3,
     "metadata": {},
     "output_type": "execute_result"
    }
   ],
   "source": [
    "txt=input()\n",
    "cro=['c=','c-','dz=','d-','lj','nj','s=','z=']\n",
    "cnt=[]\n",
    "rest=''\n",
    "for c in cro:\n",
    "    cnt.append(txt.count(c))\n",
    "cnt"
   ]
  },
  {
   "cell_type": "code",
   "execution_count": 10,
   "metadata": {},
   "outputs": [
    {
     "name": "stdout",
     "output_type": "stream",
     "text": [
      "ljes=njak\n",
      "5\n"
     ]
    }
   ],
   "source": [
    "txt=input()\n",
    "cro=['c=','c-','dz=','d-','lj','nj','s=','z=']\n",
    "i=0\n",
    "for c in cro:\n",
    "    if txt.count(c)>0:\n",
    "        i+=txt.count(c)\n",
    "        txt=txt.replace(c,' ')\n",
    "print(len(txt.split())+i)"
   ]
  },
  {
   "cell_type": "code",
   "execution_count": 19,
   "metadata": {},
   "outputs": [
    {
     "name": "stdout",
     "output_type": "stream",
     "text": [
      "c=c=\n",
      "2\n"
     ]
    }
   ],
   "source": [
    "#2941\n",
    "txt=input()\n",
    "cro=['c=','c-','dz=','d-','lj','nj','s=','z=']\n",
    "i=0\n",
    "for c in cro:\n",
    "    if txt.count(c)>0:\n",
    "        i+=txt.count(c)\n",
    "        txt=txt.replace(c,' ')\n",
    "print(len(txt.replace(' ',''))+i)"
   ]
  },
  {
   "cell_type": "code",
   "execution_count": 20,
   "metadata": {},
   "outputs": [
    {
     "name": "stdout",
     "output_type": "stream",
     "text": [
      "c=c=\n",
      "2\n"
     ]
    }
   ],
   "source": [
    "#another code\n",
    "text = input()\n",
    "\n",
    "croatia = ['c=','c-','dz=','d-','lj','nj','s=','z=']\n",
    "\n",
    "for word in croatia:\n",
    "    text = text.replace(word,'*')\n",
    "print(len(text))"
   ]
  },
  {
   "cell_type": "markdown",
   "metadata": {},
   "source": [
    "## 8.10. 그룹 단어 체커\n",
    "- 문제\n",
    "\n",
    "그룹 단어란 단어에 존재하는 모든 문자에 대해서, 각 문자가 연속해서 나타나는 경우만을 말한다. 예를 들면, ccazzzzbb는 c, a, z, b가 모두 연속해서 나타나고, kin도 k, i, n이 연속해서 나타나기 때문에 그룹 단어이지만, aabbbccb는 b가 떨어져서 나타나기 때문에 그룹 단어가 아니다.\n",
    "\n",
    "단어 N개를 입력으로 받아 그룹 단어의 개수를 출력하는 프로그램을 작성하시오.\n",
    "\n",
    "- 입력\n",
    "\n",
    "첫째 줄에 단어의 개수 N이 들어온다. N은 100보다 작거나 같은 자연수이다. 둘째 줄부터 N개의 줄에 단어가 들어온다. 단어는 알파벳 소문자로만 되어있고 중복되지 않으며, 길이는 최대 100이다.\n",
    "\n",
    "- 출력\n",
    "\n",
    "첫째 줄에 그룹 단어의 개수를 출력한다."
   ]
  },
  {
   "cell_type": "code",
   "execution_count": 30,
   "metadata": {},
   "outputs": [
    {
     "data": {
      "text/plain": [
       "'ab'"
      ]
     },
     "execution_count": 30,
     "metadata": {},
     "output_type": "execute_result"
    }
   ],
   "source": [
    "new='a'\n",
    "''.join([new,'b'])"
   ]
  },
  {
   "cell_type": "code",
   "execution_count": 38,
   "metadata": {},
   "outputs": [
    {
     "name": "stdout",
     "output_type": "stream",
     "text": [
      "{1, 2} 2\n"
     ]
    }
   ],
   "source": [
    "txtset={1}\n",
    "txtset.add(2)\n",
    "print(txtset,len(txtset))"
   ]
  },
  {
   "cell_type": "code",
   "execution_count": 45,
   "metadata": {},
   "outputs": [
    {
     "name": "stdout",
     "output_type": "stream",
     "text": [
      "c\n"
     ]
    },
    {
     "data": {
      "text/plain": [
       "False"
      ]
     },
     "execution_count": 45,
     "metadata": {},
     "output_type": "execute_result"
    }
   ],
   "source": [
    "def isGrword(txt):\n",
    "    txtset=set({})\n",
    "    for idx,w in enumerate(txt):\n",
    "        before=len(txtset)\n",
    "        txtset.add(w)\n",
    "        \n",
    "        print(txt[idx-1])\n",
    "        \n",
    "        if before==len(txtset) :\n",
    "            continue\n",
    "        else:\n",
    "            return False\n",
    "    return True\n",
    "isGrword('abbbbcccc')"
   ]
  },
  {
   "cell_type": "code",
   "execution_count": 47,
   "metadata": {},
   "outputs": [
    {
     "name": "stdout",
     "output_type": "stream",
     "text": [
      "a\n",
      "b\n",
      "b\n",
      "b\n",
      "c\n",
      "c\n",
      "c\n",
      "c\n",
      "c\n"
     ]
    }
   ],
   "source": [
    "txt='abbbccccc'\n",
    "\n",
    "for idx,w in enumerate(txt):\n",
    "    print(txt[idx])"
   ]
  },
  {
   "cell_type": "code",
   "execution_count": 62,
   "metadata": {},
   "outputs": [
    {
     "name": "stdout",
     "output_type": "stream",
     "text": [
      "4\n",
      "aba\n",
      "abab\n",
      "abcabc\n",
      "a\n",
      "1\n"
     ]
    }
   ],
   "source": [
    "#solution1. 조잡하다\n",
    "def isGrword(txt):\n",
    "    txtset=set({txt[0]})\n",
    "    for idx,w in enumerate(txt):\n",
    "        if idx==0:\n",
    "            continue\n",
    "        else:\n",
    "            before=len(txtset)\n",
    "            txtset.add(w)\n",
    "            if before==len(txtset) and txt[idx-1]!=w:\n",
    "                return False\n",
    "            else:\n",
    "                continue\n",
    "    return True\n",
    "t=int(input())\n",
    "i=0\n",
    "for a in range(t):\n",
    "    if isGrword(input())==1:\n",
    "        i+=1\n",
    "print(i)"
   ]
  },
  {
   "cell_type": "code",
   "execution_count": 60,
   "metadata": {},
   "outputs": [
    {
     "data": {
      "text/plain": [
       "False"
      ]
     },
     "execution_count": 60,
     "metadata": {},
     "output_type": "execute_result"
    }
   ],
   "source": [
    "isGrword('abcabc')"
   ]
  },
  {
   "cell_type": "code",
   "execution_count": 80,
   "metadata": {},
   "outputs": [
    {
     "data": {
      "text/plain": [
       "{'a', 'h', 'p', 'y'}"
      ]
     },
     "execution_count": 80,
     "metadata": {},
     "output_type": "execute_result"
    }
   ],
   "source": [
    "zipword('happyhh')\n",
    "set(zipword('happyhh'))"
   ]
  },
  {
   "cell_type": "code",
   "execution_count": 79,
   "metadata": {
    "scrolled": true
   },
   "outputs": [
    {
     "name": "stdout",
     "output_type": "stream",
     "text": [
      "4\n",
      "aba\n",
      "abab\n",
      "abcabc\n",
      "1\n",
      "1\n"
     ]
    }
   ],
   "source": [
    "#sol2. 뭔가더깔끔\n",
    "#1316\n",
    "def zipword(txt):\n",
    "    \n",
    "    for idx,w in enumerate(txt):\n",
    "        if idx==0:\n",
    "            before=w\n",
    "            continue\n",
    "        else:\n",
    "            if before==w:\n",
    "                txt=txt.replace(w*2,w)\n",
    "            before=w\n",
    "    return txt\n",
    "\n",
    "t=int(input())\n",
    "i=0\n",
    "\n",
    "for a in range(t):\n",
    "    temp=zipword(input())\n",
    "    if len(temp)==len(set(temp)):\n",
    "        i+=1\n",
    "print(i)"
   ]
  },
  {
   "cell_type": "code",
   "execution_count": null,
   "metadata": {},
   "outputs": [],
   "source": [
    "#another code\n",
    "count = 0\n",
    "\n",
    "for _ in range(int(input())) :\n",
    "    cur = [i for i in input()]\n",
    "    cri = len(set(cur))\n",
    "    temp = 0\n",
    "    for x in range(len(cur)-1, 0, -1) :\n",
    "        if cur[x-1] != cur [x] : \n",
    "            temp +=1\n",
    "    if temp == cri-1 :\n",
    "        count += 1\n",
    "        \n",
    "print (count)"
   ]
  },
  {
   "cell_type": "code",
   "execution_count": null,
   "metadata": {},
   "outputs": [],
   "source": [
    "#short code\n",
    "b=0\n",
    "for i in range(int(input())):\n",
    "    a = input()\n",
    "    if list(a)  == sorted(a,key=a.find):\n",
    "        b+=1\n",
    "print(b)"
   ]
  },
  {
   "cell_type": "markdown",
   "metadata": {},
   "source": [
    "(200314)"
   ]
  },
  {
   "cell_type": "markdown",
   "metadata": {},
   "source": [
    "# 9. 수학1"
   ]
  },
  {
   "cell_type": "markdown",
   "metadata": {},
   "source": [
    "# 9.1. 손익분기점\n",
    "- 문제\n",
    "\n",
    "월드전자는 노트북을 제조하고 판매하는 회사이다. 노트북 판매 대수에 상관없이 매년 임대료, 재산세, 보험료, 급여 등 A만원의 고정 비용이 들며, 한 대의 노트북을 생산하는 데에는 재료비와 인건비 등 총 B만원의 가변 비용이 든다고 한다.\n",
    "\n",
    "예를 들어 A=1,000, B=70이라고 하자. 이 경우 노트북을 한 대 생산하는 데는 총 1,070만원이 들며, 열 대 생산하는 데는 총 1,700만원이 든다.\n",
    "\n",
    "노트북 가격이 C만원으로 책정되었다고 한다. 일반적으로 생산 대수를 늘려 가다 보면 어느 순간 총 수입(판매비용)이 총 비용(=고정비용+가변비용)보다 많아지게 된다. 최초로 총 수입이 총 비용보다 많아져 이익이 발생하는 지점을 손익분기점(BREAK-EVEN POINT)이라고 한다.\n",
    "\n",
    "A, B, C가 주어졌을 때, 손익분기점을 구하는 프로그램을 작성하시오.\n",
    "\n",
    "- 입력\n",
    "\n",
    "첫째 줄에 A, B, C가 빈 칸을 사이에 두고 순서대로 주어진다. A, B, C는 21억 이하의 자연수이다.\n",
    "\n",
    "- 출력\n",
    "\n",
    "첫 번째 줄에 손익분기점 즉 최초로 이익이 발생하는 판매량을 출력한다. 손익분기점이 존재하지 않으면 -1을 출력한다."
   ]
  },
  {
   "cell_type": "code",
   "execution_count": 1,
   "metadata": {},
   "outputs": [
    {
     "name": "stdout",
     "output_type": "stream",
     "text": [
      "10\n",
      "11\n",
      "11\n"
     ]
    }
   ],
   "source": [
    "# a+b*n < c*n\n",
    "# a/(c-b) < n\n",
    "import math\n",
    "def breakpt(a,b,c):\n",
    "    if c-b>0:\n",
    "        n=a/(c-b)\n",
    "        m = math.ceil(n)\n",
    "        if m==n :\n",
    "            return(m+1)\n",
    "        else :\n",
    "            return(m)\n",
    "    else:\n",
    "        return -1\n",
    "\n",
    "print(breakpt(999,70,170))\n",
    "print(breakpt(1000,70,170))\n",
    "print(breakpt(1001,70,170))"
   ]
  },
  {
   "cell_type": "code",
   "execution_count": 16,
   "metadata": {},
   "outputs": [
    {
     "data": {
      "text/plain": [
       "(1, 2)"
      ]
     },
     "execution_count": 16,
     "metadata": {},
     "output_type": "execute_result"
    }
   ],
   "source": [
    "tuple((1,2))"
   ]
  },
  {
   "cell_type": "code",
   "execution_count": null,
   "metadata": {},
   "outputs": [],
   "source": [
    "#1712\n",
    "import math\n",
    "def breakpt(a,b,c):\n",
    "    if c-b>0:\n",
    "        n=a/(c-b)\n",
    "        m = math.ceil(n)\n",
    "        if m==n :\n",
    "            return(m+1)\n",
    "        else :\n",
    "            return(m)\n",
    "    else:\n",
    "        return -1\n",
    "\n",
    "a,b,c=map(int,input().split())\n",
    "print(breakpt(a,b,c))"
   ]
  },
  {
   "cell_type": "code",
   "execution_count": null,
   "metadata": {},
   "outputs": [],
   "source": [
    "#another code\n",
    "a, b, c = map(int, input().split())\n",
    "\n",
    "sell = 0\n",
    "\n",
    "if b >= c:\n",
    "    print(-1)\n",
    "else:\n",
    "    print(a // (c-b) + 1)"
   ]
  },
  {
   "cell_type": "code",
   "execution_count": null,
   "metadata": {},
   "outputs": [],
   "source": [
    "#another code 로 내거 재제출\n",
    "a,b,c=map(int,input().split())\n",
    "if c-b>0:\n",
    "    print(a // (c-b) + 1)\n",
    "else:\n",
    "    print(-1)"
   ]
  },
  {
   "cell_type": "code",
   "execution_count": null,
   "metadata": {},
   "outputs": [],
   "source": [
    "#shot code\n",
    "(a,b,c)=map(int,input().split(' '))\n",
    "print(a//(c-b)+1 if b<c else -1)"
   ]
  },
  {
   "cell_type": "markdown",
   "metadata": {},
   "source": [
    "## 9.2. 설탕 배달\n",
    "- 문제\n",
    "\n",
    "상근이는 요즘 설탕공장에서 설탕을 배달하고 있다. 상근이는 지금 사탕가게에 설탕을 정확하게 N킬로그램을 배달해야 한다. 설탕공장에서 만드는 설탕은 봉지에 담겨져 있다. 봉지는 3킬로그램 봉지와 5킬로그램 봉지가 있다.\n",
    "\n",
    "상근이는 귀찮기 때문에, 최대한 적은 봉지를 들고 가려고 한다. 예를 들어, 18킬로그램 설탕을 배달해야 할 때, 3킬로그램 봉지 6개를 가져가도 되지만, 5킬로그램 3개와 3킬로그램 1개를 배달하면, 더 적은 개수의 봉지를 배달할 수 있다.\n",
    "\n",
    "상근이가 설탕을 정확하게 N킬로그램 배달해야 할 때, 봉지 몇 개를 가져가면 되는지 그 수를 구하는 프로그램을 작성하시오.\n",
    "\n",
    "- 입력\n",
    "\n",
    "첫째 줄에 N이 주어진다. (3 ≤ N ≤ 5000)\n",
    "\n",
    "- 출력\n",
    "\n",
    "상근이가 배달하는 봉지의 최소 개수를 출력한다. 만약, 정확하게 N킬로그램을 만들 수 없다면 -1을 출력한다."
   ]
  },
  {
   "cell_type": "code",
   "execution_count": null,
   "metadata": {},
   "outputs": [],
   "source": [
    "#5의 배수는의 일의 자리는 0 or 5, 3의 배수의 일의 자리는 3,6,9,2,5,8,1,4,7,0\n",
    "n=int(input())\n",
    "if n%5 == 0 : out=n//5\n",
    "elif n%5 == 3 : out=n//5+1\n",
    "elif n%5 == 1 : out=n//5-1+2\n",
    "elif n%5 == 2 : out=n//5-2+4\n",
    "elif n%5 == 4 : out=n//5-4+8\n",
    "print(out)"
   ]
  },
  {
   "cell_type": "code",
   "execution_count": 10,
   "metadata": {},
   "outputs": [
    {
     "name": "stdout",
     "output_type": "stream",
     "text": [
      "11\n",
      "3\n"
     ]
    }
   ],
   "source": [
    "#5의 배수는의 일의 자리는 0 or 5, 3의 배수의 일의 자리는 3,6,9,2,5,8,1,4,7,0\n",
    "n=int(input())\n",
    "if n%5 == 0 : out=n//5\n",
    "elif n%5 == 3 : out=n//5+1\n",
    "elif n%5 == 1 : out=n//5-1+2\n",
    "elif n%5 == 2 and n//5>=2 : out=n//5-2+4\n",
    "elif n%5 == 4 and n//5>=1 : out=n//5-1+3\n",
    "else : out = -1\n",
    "print(out)"
   ]
  },
  {
   "cell_type": "code",
   "execution_count": 11,
   "metadata": {},
   "outputs": [
    {
     "name": "stdout",
     "output_type": "stream",
     "text": [
      "0\n",
      "1\n",
      "2\n",
      "3\n",
      "4\n"
     ]
    }
   ],
   "source": [
    "for i in range(5):\n",
    "    print(i)"
   ]
  },
  {
   "cell_type": "code",
   "execution_count": 21,
   "metadata": {},
   "outputs": [
    {
     "name": "stdout",
     "output_type": "stream",
     "text": [
      "11\n",
      "3\n"
     ]
    }
   ],
   "source": [
    "#간소화\n",
    "#2839\n",
    "def sang(n):\n",
    "    arr=[[0,0],[0,1],[2,2],[0,1],[1,2]]\n",
    "    for i in range(5):\n",
    "        if n%5==i and n//5>=arr[i][0]:\n",
    "            return n//5+arr[i][1]\n",
    "    return -1\n",
    "print(sang(int(input())))"
   ]
  },
  {
   "cell_type": "code",
   "execution_count": null,
   "metadata": {},
   "outputs": [],
   "source": [
    "#short oode\n",
    "N=int(input())\n",
    "G=0\n",
    "while N%5!=0:\n",
    "    N-=3\n",
    "    G+=1\n",
    "if N<0:\n",
    "    print(-1)\n",
    "else:\n",
    "    print(G+N//5)"
   ]
  },
  {
   "cell_type": "markdown",
   "metadata": {},
   "source": [
    "## 9.3. 벌집\n",
    "- 문제\n",
    "\n",
    "위의 그림과 같이 육각형으로 이루어진 벌집이 있다. 그림에서 보는 바와 같이 중앙의 방 1부터 시작해서 이웃하는 방에 돌아가면서 1씩 증가하는 번호를 주소로 매길 수 있다. 숫자 N이 주어졌을 때, 벌집의 중앙 1에서 N번 방까지 최소 개수의 방을 지나서 갈 때 몇 개의 방을 지나가는지(시작과 끝을 포함하여)를 계산하는 프로그램을 작성하시오. 예를 들면, 13까지는 3개, 58까지는 5개를 지난다.\n",
    "\n",
    "- 입력\n",
    "\n",
    "첫째 줄에 N(1 ≤ N ≤ 1,000,000,000)이 주어진다.\n",
    "\n",
    "- 출력\n",
    "\n",
    "입력으로 주어진 방까지 최소 개수의 방을 지나서 갈 때 몇 개의 방을 지나는지 출력한다."
   ]
  },
  {
   "cell_type": "code",
   "execution_count": 25,
   "metadata": {},
   "outputs": [
    {
     "name": "stdout",
     "output_type": "stream",
     "text": [
      "3\n"
     ]
    }
   ],
   "source": [
    "#1,2,8,20,38, ...수열.\n",
    "#a_1=1, a_n=3(n-2)(n-1)\n",
    "m=13\n",
    "def dis(m):\n",
    "    n=0\n",
    "    while True:\n",
    "        n+=1\n",
    "        if 3*(n-1)*(n-2)+1<=m<3*(n)*(n-1)+1:\n",
    "            return n\n",
    "print(dis(13))"
   ]
  },
  {
   "cell_type": "code",
   "execution_count": 28,
   "metadata": {},
   "outputs": [
    {
     "name": "stdout",
     "output_type": "stream",
     "text": [
      "58\n",
      "5\n"
     ]
    }
   ],
   "source": [
    "#위는 n=1,2 고려 안해서 틀린듯\n",
    "def dis(m):\n",
    "    n=0\n",
    "    if n==1:return 1\n",
    "    while True:\n",
    "        n+=1\n",
    "        if 3*(n)*(n-1)+1<=m<3*(n+1)*(n)+1:\n",
    "            return n+1\n",
    "print(dis(int(input())))"
   ]
  },
  {
   "cell_type": "code",
   "execution_count": 32,
   "metadata": {},
   "outputs": [
    {
     "name": "stdout",
     "output_type": "stream",
     "text": [
      "58\n",
      "5\n"
     ]
    }
   ],
   "source": [
    "#처음거 살려보자\n",
    "#처음거 범위쪽을 +1로해서 틀렸네 +2가 맞음\n",
    "#2292\n",
    "#64ms 195B\n",
    "def dis(m):\n",
    "    if m==1:return 1\n",
    "    elif m>=2:\n",
    "        n=2\n",
    "        while True:\n",
    "            if 3*(n-1)*(n-2)+2<=m<3*(n)*(n-1)+2:\n",
    "                return n\n",
    "            n+=1\n",
    "print(dis(int(input())))"
   ]
  },
  {
   "cell_type": "markdown",
   "metadata": {},
   "source": [
    "### 수열\n",
    "ai는 i번째 그룹의 마지막 원소이다."
   ]
  },
  {
   "cell_type": "code",
   "execution_count": 36,
   "metadata": {},
   "outputs": [
    {
     "name": "stdout",
     "output_type": "stream",
     "text": [
      "1\n",
      "1\n"
     ]
    }
   ],
   "source": [
    "#another code\n",
    "#s는 수열의 값, c는 수열의 index\n",
    "ai,i,n=1,1,int(input())\n",
    "while ai<n:\n",
    "    ai += 6*i\n",
    "    i+=1\n",
    "print(i)"
   ]
  },
  {
   "cell_type": "code",
   "execution_count": 35,
   "metadata": {},
   "outputs": [
    {
     "name": "stdout",
     "output_type": "stream",
     "text": [
      "13\n",
      "3\n"
     ]
    }
   ],
   "source": [
    "#short code\n",
    "print(int((  int(input())/3-.1  )**.5+1.5))"
   ]
  },
  {
   "cell_type": "markdown",
   "metadata": {},
   "source": [
    "## 9.4. 분수찾기\n",
    "- 문제\n",
    "\n",
    "무한히 큰 배열에 다음과 같이 분수들이 적혀있다.\n",
    "\n",
    "| 1/1  | 1/2  | 1/3  | 1/4  | 1/5  | …    |\n",
    "| ---- | ---- | ---- | ---- | ---- | ---- |\n",
    "| 2/1  | 2/2  | 2/3  | 2/4  | …    | …    |\n",
    "| 3/1  | 3/2  | 3/3  | …    | …    | …    |\n",
    "| 4/1  | 4/2  | …    | …    | …    | …    |\n",
    "| 5/1  | …    | …    | …    | …    | …    |\n",
    "| …    | …    | …    | …    | …    | …    |\n",
    "\n",
    "이와 같이 나열된 분수들을 1/1 -> 1/2 -> 2/1 -> 3/1 -> 2/2 -> … 과 같은 지그재그 순서로 차례대로 1번, 2번, 3번, 4번, 5번, … 분수라고 하자.\n",
    "\n",
    "X가 주어졌을 때, X번째 분수를 구하는 프로그램을 작성하시오.\n",
    "\n",
    "- 입력\n",
    "\n",
    "첫째 줄에 X(1 ≤ X ≤ 10,000,000)가 주어진다.\n",
    "\n",
    "- 출력\n",
    "\n",
    "첫째 줄에 분수를 출력한다."
   ]
  },
  {
   "cell_type": "code",
   "execution_count": 45,
   "metadata": {},
   "outputs": [
    {
     "name": "stdout",
     "output_type": "stream",
     "text": [
      "14\n",
      "2 / 4\n"
     ]
    }
   ],
   "source": [
    "#while에서 ai,i가 한 칸 더 앞서버려.\n",
    "i,ai,x=1,1,int(input())\n",
    "while ai<x:\n",
    "    ai+=i\n",
    "    i+=1\n",
    "\n",
    "j1=x-ai+1\n",
    "j2=i-j1+1\n",
    "if i%2==0:\n",
    "    print(j1,'/',j2)\n",
    "else:\n",
    "    print(j2,'/',j1)"
   ]
  },
  {
   "cell_type": "code",
   "execution_count": 42,
   "metadata": {},
   "outputs": [
    {
     "name": "stdout",
     "output_type": "stream",
     "text": [
      "11\n",
      "15 5\n"
     ]
    }
   ],
   "source": [
    "i,ai,x=1,1,int(input())\n",
    "while ai<x:\n",
    "    ai+=i+1\n",
    "    i+=1\n",
    "print(ai,i)"
   ]
  },
  {
   "cell_type": "code",
   "execution_count": null,
   "metadata": {},
   "outputs": [],
   "source": [
    "#해결함\n",
    "#1193\n",
    "i,ai,x=1,1,int(input())\n",
    "while ai<x:\n",
    "    ai+=i+1\n",
    "    i+=1\n",
    "\n",
    "j1=ai-x+1  #i번째 그룹 내에서 뒤에서 j1번째 원소\n",
    "j2=i-j1+1\n",
    "if i%2==0:\n",
    "    print(j2,'/',j1)\n",
    "else:\n",
    "    print(j1,'/',j2)"
   ]
  },
  {
   "cell_type": "code",
   "execution_count": 54,
   "metadata": {},
   "outputs": [
    {
     "name": "stdout",
     "output_type": "stream",
     "text": [
      "14\n",
      "2/4\n"
     ]
    }
   ],
   "source": [
    "#좀 더 shortify\n",
    "i,a,x=1,1,int(input())\n",
    "while a<x:a+=i+1;i+=1\n",
    "z=[a-x+1,i-(a-x)]\n",
    "print(z[(i+1)%2],'/',z[i%2],sep='')\n",
    "#or\n",
    "print(f\"\")"
   ]
  },
  {
   "cell_type": "code",
   "execution_count": 56,
   "metadata": {},
   "outputs": [
    {
     "name": "stdout",
     "output_type": "stream",
     "text": [
      "14\n",
      "2/4\n"
     ]
    }
   ],
   "source": [
    "#short code\n",
    "i,a,x=1,1,int(input())\n",
    "while a<x:a+=i+1;i+=1\n",
    "z=[a-x+1,i-(a-x)][i%2]\n",
    "print(f\"{i-z+1}/{z}\")"
   ]
  },
  {
   "cell_type": "markdown",
   "metadata": {},
   "source": [
    "## 9.5. 달팽이는 올라가고 싶다\n",
    "- 문제\n",
    "\n",
    "땅 위에 달팽이가 있다. 이 달팽이는 높이가 V미터인 나무 막대를 올라갈 것이다.\n",
    "\n",
    "달팽이는 낮에 A미터 올라갈 수 있다. 하지만, 밤에 잠을 자는 동안 B미터 미끄러진다. 또, 정상에 올라간 후에는 미끄러지지 않는다.\n",
    "\n",
    "달팽이가 나무 막대를 모두 올라가려면, 며칠이 걸리는지 구하는 프로그램을 작성하시오.\n",
    "\n",
    "- 입력\n",
    "\n",
    "첫째 줄에 세 정수 A, B, V가 공백으로 구분되어서 주어진다. (1 ≤ B < A ≤ V ≤ 1,000,000,000)\n",
    "\n",
    "- 출력\n",
    "\n",
    "첫째 줄에 달팽이가 나무 막대를 모두 올라가는데 며칠이 걸리는지 출력한다."
   ]
  },
  {
   "cell_type": "code",
   "execution_count": 58,
   "metadata": {},
   "outputs": [
    {
     "name": "stdout",
     "output_type": "stream",
     "text": [
      "2 1 5\n",
      "4\n"
     ]
    }
   ],
   "source": [
    "#시간초과\n",
    "a,b,v=map(int,input().split())\n",
    "x,d=a,1\n",
    "while x<v:x-=b;x+=a;d+=1\n",
    "print(d)"
   ]
  },
  {
   "cell_type": "code",
   "execution_count": 60,
   "metadata": {},
   "outputs": [
    {
     "name": "stdout",
     "output_type": "stream",
     "text": [
      "3 1 2\n",
      "0\n"
     ]
    }
   ],
   "source": [
    "#설명: 목표값(v)을 초과한 값을 초기값으로(d,x) 잡고, 거꾸로 계산한다.\n",
    "a,b,v=map(int,input().split())\n",
    "#(a-b)*(v//(a-b)) 이랑 (v-v%(a-b)) 이랑 같다\n",
    "d=v//(a-b)+1\n",
    "x=(a-b)*d\n",
    "#a가 중요하다. 거꾸로 갈 때 +b-a+b-a+...인데, a로 끝나면 day가 ?이어야 함.\n",
    "while x>=v:\n",
    "    x+=b\n",
    "    x-=a\n",
    "    d-=1\n",
    "print(d)\n",
    "#잠시만, 이것도 아닌듯.. a,b,v가 아주 큰 수이고 a-b은 작으면? 시간초과."
   ]
  },
  {
   "cell_type": "code",
   "execution_count": 3,
   "metadata": {},
   "outputs": [
    {
     "name": "stdout",
     "output_type": "stream",
     "text": [
      "2 1 5\n",
      "4\n"
     ]
    }
   ],
   "source": [
    "#a로만 먼저 올라가고 b를 날짜맞춰 계산한 뒤 위과정 하면 되겠네\n",
    "#시간초과\n",
    "a,b,v=map(int,input().split())\n",
    "d=v//a\n",
    "x=(a-b)*d+a\n",
    "d+=1\n",
    "while x<v:x-=b;x+=a;d+=1\n",
    "print(d)"
   ]
  },
  {
   "cell_type": "code",
   "execution_count": 40,
   "metadata": {},
   "outputs": [
    {
     "name": "stdout",
     "output_type": "stream",
     "text": [
      "2 1 5\n",
      "4\n"
     ]
    }
   ],
   "source": [
    "#초기값 a한번 설정, 후에 -b+a 반복\n",
    "#2869\n",
    "import math\n",
    "a,b,v=map(int,input().split())\n",
    "x=a;d=1\n",
    "if a<v:\n",
    "    d+=math.ceil((v-x)/(a-b))\n",
    "print(d)"
   ]
  },
  {
   "cell_type": "code",
   "execution_count": null,
   "metadata": {},
   "outputs": [],
   "source": [
    "#short code\n",
    "a,b,v=map(int,input().split())\n",
    "print(1-(a-v)//(a-b))"
   ]
  },
  {
   "cell_type": "markdown",
   "metadata": {},
   "source": [
    "(200315)"
   ]
  },
  {
   "cell_type": "markdown",
   "metadata": {},
   "source": [
    "## 9.6. ACM 호텔\n",
    "- 문제\n",
    "\n",
    "ACM 호텔 매니저 지우는 손님이 도착하는 대로 빈 방을 배정하고 있다. 고객 설문조사에 따르면 손님들은 호텔 정문으로부터 걸어서 가장 짧은 거리에 있는 방을 선호한다고 한다. 여러분은 지우를 도와 줄 프로그램을 작성하고자 한다. 즉 설문조사 결과 대로 호텔 정문으로부터 걷는 거리가 가장 짧도록 방을 배정하는 프로그램을 작성하고자 한다.\n",
    "\n",
    "문제를 단순화하기 위해서 호텔은 직사각형 모양이라고 가정하자. 각 층에 W 개의 방이 있는 H 층 건물이라고 가정하자 (1 ≤ H, W ≤ 99). 그리고 엘리베이터는 가장 왼쪽에 있다고 가정하자(그림 1 참고). 이런 형태의 호텔을 H × W 형태 호텔이라고 부른다. 호텔 정문은 일층 엘리베이터 바로 앞에 있는데, 정문에서 엘리베이터까지의 거리는 무시한다. 또 모든 인접한 두 방 사이의 거리는 같은 거리(거리 1)라고 가정하고 호텔의 정면 쪽에만 방이 있다고 가정한다.\n",
    "\n",
    "![img](https://www.acmicpc.net/upload/images2/elevator.png)\n",
    "\n",
    "그림 1. H = 6 이고 W = 12 인 H × W 호텔을 간략하게 나타낸 그림\n",
    "\n",
    "방 번호는 YXX 나 YYXX 형태인데 여기서 Y 나 YY 는 층 수를 나타내고 XX 는 엘리베이터에서부터 세었을 때의 번호를 나타낸다. 즉, 그림 1 에서 빗금으로 표시한 방은 305 호가 된다.\n",
    "\n",
    "손님은 엘리베이터를 타고 이동하는 거리는 신경 쓰지 않는다. 다만 걷는 거리가 같을 때에는 아래층의 방을 더 선호한다. 예를 들면 102 호 방보다는 301 호 방을 더 선호하는데, 102 호는 거리 2 만큼 걸어야 하지만 301 호는 거리 1 만큼만 걸으면 되기 때문이다. 같은 이유로 102 호보다 2101 호를 더 선호한다.\n",
    "\n",
    "여러분이 작성할 프로그램은 초기에 모든 방이 비어있다고 가정하에 이 정책에 따라 N 번째로 도착한 손님에게 배정될 방 번호를 계산하는 프로그램이다. 첫 번째 손님은 101 호, 두 번째 손님은 201 호 등과 같이 배정한다. 그림 1 의 경우를 예로 들면, H = 6이므로 10 번째 손님은 402 호에 배정해야 한다.\n",
    "\n",
    "- 입력\n",
    "\n",
    "프로그램은 표준 입력에서 입력 데이터를 받는다. 프로그램의 입력은 T 개의 테스트 데이터로 이루어져 있는데 T 는 입력의 맨 첫 줄에 주어진다. 각 테스트 데이터는 한 행으로서 H, W, N, 세 정수를 포함하고 있으며 각각 호텔의 층 수, 각 층의 방 수, 몇 번째 손님인지를 나타낸다(1 ≤ H, W ≤ 99, 1 ≤ N ≤ H × W). \n",
    "\n",
    "- 출력\n",
    "\n",
    "프로그램은 표준 출력에 출력한다. 각 테스트 데이터마다 정확히 한 행을 출력하는데, 내용은 N 번째 손님에게 배정되어야 하는 방 번호를 출력한다."
   ]
  },
  {
   "cell_type": "code",
   "execution_count": 1,
   "metadata": {},
   "outputs": [
    {
     "name": "stdout",
     "output_type": "stream",
     "text": [
      "2\n",
      "6 12 10\n",
      "402\n",
      "30 50 72\n",
      "1203\n"
     ]
    }
   ],
   "source": [
    "#왜 틀리지\n",
    "for _ in range(int(input())):\n",
    "    h,w,n=map(int,input().split())\n",
    "    print(f\"{n%h}{(n//h+1):02d}\")"
   ]
  },
  {
   "cell_type": "code",
   "execution_count": 2,
   "metadata": {},
   "outputs": [
    {
     "name": "stdout",
     "output_type": "stream",
     "text": [
      "1\n",
      "6 12 10\n",
      "402\n"
     ]
    }
   ],
   "source": [
    "for _ in range(int(input())):\n",
    "    h,w,n=map(int,input().split())\n",
    "    print(int(f\"{n%h}{(n//h+1):02d}\"))"
   ]
  },
  {
   "cell_type": "code",
   "execution_count": 3,
   "metadata": {},
   "outputs": [
    {
     "name": "stdout",
     "output_type": "stream",
     "text": [
      "1\n",
      "6 12 10\n",
      "402\n"
     ]
    }
   ],
   "source": [
    "for _ in range(int(input())):\n",
    "    h,w,n=map(int,input().split())\n",
    "    print(\"{0}{1:02d}\".format(n%h,n//h+1))"
   ]
  },
  {
   "cell_type": "code",
   "execution_count": 9,
   "metadata": {},
   "outputs": [
    {
     "name": "stdout",
     "output_type": "stream",
     "text": [
      "1\n",
      "6 12 6\n",
      "601\n"
     ]
    }
   ],
   "source": [
    "for _ in range(int(input())):\n",
    "    h,w,n=map(int,input().split())\n",
    "    print(int(f\"{n%h}{(n//h+1):02d}\"))"
   ]
  },
  {
   "cell_type": "code",
   "execution_count": 25,
   "metadata": {},
   "outputs": [
    {
     "data": {
      "text/plain": [
       "[6, 1, 2, 3, 4, 5]"
      ]
     },
     "execution_count": 25,
     "metadata": {},
     "output_type": "execute_result"
    }
   ],
   "source": [
    "[6]+list(range(1,6))"
   ]
  },
  {
   "cell_type": "code",
   "execution_count": 29,
   "metadata": {},
   "outputs": [
    {
     "name": "stdout",
     "output_type": "stream",
     "text": [
      "101\n",
      "201\n",
      "301\n",
      "401\n",
      "501\n",
      "601\n",
      "102\n",
      "202\n",
      "603\n"
     ]
    }
   ],
   "source": [
    "def hotel(h,w,n):\n",
    "    x=([h]+list(range(1,h)))[n%h]\n",
    "    y=int((n-.1)//h)+1  #6의배수 몫 하나 줄이기 위해\n",
    "    return int(f\"{x}{y:02d}\")\n",
    "print(hotel(6,12,1))\n",
    "print(hotel(6,12,2))\n",
    "print(hotel(6,12,3))\n",
    "print(hotel(6,12,4))\n",
    "print(hotel(6,12,5))\n",
    "print(hotel(6,12,6))\n",
    "print(hotel(6,12,7))\n",
    "print(hotel(6,12,8))\n",
    "print(hotel(6,12,18))"
   ]
  },
  {
   "cell_type": "code",
   "execution_count": 32,
   "metadata": {},
   "outputs": [
    {
     "name": "stdout",
     "output_type": "stream",
     "text": [
      "2\n",
      "6 12 10\n",
      "402\n",
      "30 50 72\n",
      "1203\n"
     ]
    }
   ],
   "source": [
    "#10250\n",
    "#shortify\n",
    "for _ in range(int(input())):\n",
    "    h,w,n=map(int,input().split())\n",
    "    print(int(f\"{([h]+list(range(1,h)))[n%h]}{int((n-.1)//h)+1:02d}\"))"
   ]
  },
  {
   "cell_type": "code",
   "execution_count": null,
   "metadata": {},
   "outputs": [],
   "source": [
    "#another code 그냥 주먹구구식같아\n",
    "trial=int(input(''))\n",
    "i=0\n",
    "while i<trial:\n",
    "    i+=1\n",
    "    H,W,N=map(int,input('').split(' '))\n",
    "    d=N//H+1\n",
    "    e=N%H\n",
    "    if e==0:\n",
    "        e=H\n",
    "        d-=1\n",
    "    if len(str(d))==1:\n",
    "        d='0'+str(d)\n",
    "    print('{0}{1}'.format(str(e),d))"
   ]
  },
  {
   "cell_type": "code",
   "execution_count": null,
   "metadata": {},
   "outputs": [],
   "source": [
    "#short code\n",
    "#`~` : The bitwise inversion of x is defined as -(x+1).\n",
    "#\n",
    "exec('h,w,n=map(int,input().split());print(~-n//h+~-n%h*100+101);'*int(input()))\n",
    "#exec 풀면\n",
    "for _ in range(int(input()))::\n",
    "        h,w,n=map(int,input().split())\n",
    "        print(~-n//h + ~-n%h*100 + 101);"
   ]
  },
  {
   "cell_type": "code",
   "execution_count": null,
   "metadata": {},
   "outputs": [],
   "source": [
    "#short code\n",
    "for _ in range(int(input())):\n",
    "    a,_,b=map(int,input().split())\n",
    "    print(f'{~-b%a+1}{~-b//a+1:02}')"
   ]
  },
  {
   "cell_type": "code",
   "execution_count": 35,
   "metadata": {},
   "outputs": [
    {
     "data": {
      "text/plain": [
       "1"
      ]
     },
     "execution_count": 35,
     "metadata": {},
     "output_type": "execute_result"
    }
   ],
   "source": [
    "~-11//6"
   ]
  },
  {
   "cell_type": "code",
   "execution_count": 36,
   "metadata": {},
   "outputs": [
    {
     "data": {
      "text/plain": [
       "-7"
      ]
     },
     "execution_count": 36,
     "metadata": {},
     "output_type": "execute_result"
    }
   ],
   "source": [
    "~6"
   ]
  },
  {
   "cell_type": "code",
   "execution_count": 41,
   "metadata": {},
   "outputs": [
    {
     "data": {
      "text/plain": [
       "5"
      ]
     },
     "execution_count": 41,
     "metadata": {},
     "output_type": "execute_result"
    }
   ],
   "source": [
    "~-6"
   ]
  },
  {
   "cell_type": "code",
   "execution_count": 42,
   "metadata": {},
   "outputs": [
    {
     "data": {
      "text/plain": [
       "-1"
      ]
     },
     "execution_count": 42,
     "metadata": {},
     "output_type": "execute_result"
    }
   ],
   "source": [
    "~-0"
   ]
  },
  {
   "cell_type": "code",
   "execution_count": 44,
   "metadata": {},
   "outputs": [
    {
     "data": {
      "text/plain": [
       "0"
      ]
     },
     "execution_count": 44,
     "metadata": {},
     "output_type": "execute_result"
    }
   ],
   "source": [
    "~-1"
   ]
  },
  {
   "cell_type": "code",
   "execution_count": 45,
   "metadata": {},
   "outputs": [
    {
     "data": {
      "text/plain": [
       "1"
      ]
     },
     "execution_count": 45,
     "metadata": {},
     "output_type": "execute_result"
    }
   ],
   "source": [
    "~-2"
   ]
  },
  {
   "cell_type": "code",
   "execution_count": 46,
   "metadata": {},
   "outputs": [
    {
     "data": {
      "text/plain": [
       "2"
      ]
     },
     "execution_count": 46,
     "metadata": {},
     "output_type": "execute_result"
    }
   ],
   "source": [
    "~-3"
   ]
  },
  {
   "cell_type": "code",
   "execution_count": 47,
   "metadata": {},
   "outputs": [
    {
     "data": {
      "text/plain": [
       "3"
      ]
     },
     "execution_count": 47,
     "metadata": {},
     "output_type": "execute_result"
    }
   ],
   "source": [
    "~-4"
   ]
  },
  {
   "cell_type": "code",
   "execution_count": 48,
   "metadata": {},
   "outputs": [
    {
     "data": {
      "text/plain": [
       "4"
      ]
     },
     "execution_count": 48,
     "metadata": {},
     "output_type": "execute_result"
    }
   ],
   "source": [
    "~-5"
   ]
  },
  {
   "cell_type": "markdown",
   "metadata": {},
   "source": [
    "## 9.6. 부녀회장이 될테야\n",
    "- 문제\n",
    "\n",
    "평소 반상회에 참석하는 것을 좋아하는 주희는 이번 기회에 부녀회장이 되고 싶어 각 층의 사람들을 불러 모아 반상회를 주최하려고 한다.\n",
    "\n",
    "이 아파트에 거주를 하려면 조건이 있는데, “a층의 b호에 살려면 자신의 아래(a-1)층의 1호부터 b호까지 사람들의 수의 합만큼 사람들을 데려와 살아야 한다” 는 계약 조항을 꼭 지키고 들어와야 한다.\n",
    "\n",
    "아파트에 비어있는 집은 없고 모든 거주민들이 이 계약 조건을 지키고 왔다고 가정했을 때, 주어지는 양의 정수 k와 n에 대해 k층에 n호에는 몇 명이 살고 있는지 출력하라. 단, 아파트에는 0층부터 있고 각층에는 1호부터 있으며, 0층의 i호에는 i명이 산다.\n",
    "\n",
    "- 입력\n",
    "\n",
    "첫 번째 줄에 Test case의 수 T가 주어진다. 그리고 각각의 케이스마다 입력으로 첫 번째 줄에 정수 k, 두 번째 줄에 정수 n이 주어진다. (1 <= k <= 14, 1 <= n <= 14)\n",
    "\n",
    "- 출력\n",
    "\n",
    "각각의 Test case에 대해서 해당 집에 거주민 수를 출력하라."
   ]
  },
  {
   "cell_type": "code",
   "execution_count": 53,
   "metadata": {
    "scrolled": true
   },
   "outputs": [
    {
     "name": "stdout",
     "output_type": "stream",
     "text": [
      "1\n",
      "2\n",
      "3\n",
      "1 2 3\n"
     ]
    }
   ],
   "source": [
    "for _ in range(int(input())):\n",
    "    k,n=[int(input()) for _ in range(2)]\n",
    "print(t,k,n)"
   ]
  },
  {
   "cell_type": "code",
   "execution_count": 2,
   "metadata": {},
   "outputs": [
    {
     "ename": "IndexError",
     "evalue": "list index out of range",
     "output_type": "error",
     "traceback": [
      "\u001b[1;31m---------------------------------------------------------------------------\u001b[0m",
      "\u001b[1;31mIndexError\u001b[0m                                Traceback (most recent call last)",
      "\u001b[1;32m<ipython-input-2-af236adeb5cb>\u001b[0m in \u001b[0;36m<module>\u001b[1;34m\u001b[0m\n\u001b[0;32m     12\u001b[0m \u001b[1;33m\u001b[0m\u001b[0m\n\u001b[0;32m     13\u001b[0m \u001b[1;33m\u001b[0m\u001b[0m\n\u001b[1;32m---> 14\u001b[1;33m \u001b[0mprint\u001b[0m\u001b[1;33m(\u001b[0m\u001b[0mtabl\u001b[0m\u001b[1;33m(\u001b[0m\u001b[1;33m)\u001b[0m\u001b[1;33m)\u001b[0m\u001b[1;33m\u001b[0m\u001b[1;33m\u001b[0m\u001b[0m\n\u001b[0m",
      "\u001b[1;32m<ipython-input-2-af236adeb5cb>\u001b[0m in \u001b[0;36mtabl\u001b[1;34m()\u001b[0m\n\u001b[0;32m      8\u001b[0m             \u001b[0mtemp\u001b[0m\u001b[1;33m=\u001b[0m\u001b[1;33m[\u001b[0m\u001b[1;33m]\u001b[0m\u001b[1;33m\u001b[0m\u001b[1;33m\u001b[0m\u001b[0m\n\u001b[0;32m      9\u001b[0m             \u001b[0mtemp\u001b[0m\u001b[1;33m.\u001b[0m\u001b[0mappend\u001b[0m\u001b[1;33m(\u001b[0m\u001b[0msum\u001b[0m\u001b[1;33m(\u001b[0m\u001b[0mf\u001b[0m\u001b[1;33m[\u001b[0m\u001b[0mk\u001b[0m\u001b[1;33m-\u001b[0m\u001b[1;36m1\u001b[0m\u001b[1;33m]\u001b[0m\u001b[1;33m[\u001b[0m\u001b[1;33m:\u001b[0m\u001b[0mn\u001b[0m\u001b[1;33m]\u001b[0m\u001b[1;33m)\u001b[0m\u001b[1;33m)\u001b[0m\u001b[1;33m\u001b[0m\u001b[1;33m\u001b[0m\u001b[0m\n\u001b[1;32m---> 10\u001b[1;33m         \u001b[0mf\u001b[0m\u001b[1;33m[\u001b[0m\u001b[0mk\u001b[0m\u001b[1;33m]\u001b[0m\u001b[1;33m.\u001b[0m\u001b[0mappend\u001b[0m\u001b[1;33m(\u001b[0m\u001b[0mtemp\u001b[0m\u001b[1;33m)\u001b[0m\u001b[1;33m\u001b[0m\u001b[1;33m\u001b[0m\u001b[0m\n\u001b[0m\u001b[0;32m     11\u001b[0m     \u001b[1;32mreturn\u001b[0m \u001b[0mf\u001b[0m\u001b[1;33m\u001b[0m\u001b[1;33m\u001b[0m\u001b[0m\n\u001b[0;32m     12\u001b[0m \u001b[1;33m\u001b[0m\u001b[0m\n",
      "\u001b[1;31mIndexError\u001b[0m: list index out of range"
     ]
    }
   ],
   "source": [
    "#for _ in range(int(input())):\n",
    "def tabl():\n",
    "#    k,n=[int(input()) for _ in range(2)]\n",
    "    f=[[]*14]\n",
    "    f[0]=[i for i in range(1,14)]\n",
    "    for k in range(1,14):\n",
    "        for n in range(1,14):\n",
    "            temp=[]\n",
    "            temp.append(sum(f[k-1][:n]))\n",
    "        f[k].append(temp)\n",
    "    return f\n",
    "    \n",
    "\n",
    "print(tabl())"
   ]
  },
  {
   "cell_type": "code",
   "execution_count": 5,
   "metadata": {},
   "outputs": [
    {
     "name": "stdout",
     "output_type": "stream",
     "text": [
      "[[7, 7, 7, 7, 7, 7, 7, 7, 7, 7, 7, 7, 7, 7]]\n"
     ]
    }
   ],
   "source": [
    "print([[7]*14])"
   ]
  },
  {
   "cell_type": "code",
   "execution_count": null,
   "metadata": {},
   "outputs": [],
   "source": [
    "f=np.zeros((14,14))\n",
    "f[0,:]=[i for i in range(1,14)]"
   ]
  },
  {
   "cell_type": "code",
   "execution_count": 46,
   "metadata": {},
   "outputs": [
    {
     "data": {
      "text/plain": [
       "3.0"
      ]
     },
     "execution_count": 46,
     "metadata": {},
     "output_type": "execute_result"
    }
   ],
   "source": [
    "f=np.zeros((14,13))\n",
    "f[0,:]=[i+1 for i in range(13)]\n",
    "f[:,0]=1\n",
    "sum(f[0][0:2])\n"
   ]
  },
  {
   "cell_type": "code",
   "execution_count": 50,
   "metadata": {
    "scrolled": true
   },
   "outputs": [
    {
     "name": "stdout",
     "output_type": "stream",
     "text": [
      "[[ 1.  2.  3.]\n",
      " [ 1.  3.  6.]\n",
      " [ 1.  4. 10.]]\n"
     ]
    }
   ],
   "source": [
    "#table 전체를 만드는 것. 그러나 시간계산 오래걸림.\n",
    "import numpy as np\n",
    "def tabl(n,m):\n",
    "    f=np.zeros((n+1,m))\n",
    "    f[0,:]=[i+1 for i in range(m)]\n",
    "    f[:,0]=1\n",
    "    for i in range(1,n+1):\n",
    "        for j in range(1,m):\n",
    "            f[i,j]=int(sum(f[i-1][0:j+1]))\n",
    "    \n",
    "    return f  #np.sort(f,axis=0)[::-1]\n",
    "print(tabl(2,3))"
   ]
  },
  {
   "cell_type": "code",
   "execution_count": 56,
   "metadata": {},
   "outputs": [
    {
     "name": "stdout",
     "output_type": "stream",
     "text": [
      "2\n",
      "1\n",
      "3\n",
      "6\n",
      "2\n",
      "3\n",
      "10\n"
     ]
    }
   ],
   "source": [
    "#런타임 에러\n",
    "#2775\n",
    "import numpy as np\n",
    "def tabl(n,m):\n",
    "    f=np.zeros((n+1,m))\n",
    "    f[0,:]=[i+1 for i in range(m)]\n",
    "    f[:,0]=1\n",
    "    for i in range(1,n+1):\n",
    "        for j in range(1,m):\n",
    "            f[i,j]=int(sum(f[i-1][0:j+1]))\n",
    "    return int(f[n,m-1])\n",
    "\n",
    "for _ in range(int(input())):\n",
    "    k=int(input())\n",
    "    n=int(input())\n",
    "    print(tabl(k,n))"
   ]
  },
  {
   "cell_type": "code",
   "execution_count": 57,
   "metadata": {},
   "outputs": [
    {
     "data": {
      "text/plain": [
       "126"
      ]
     },
     "execution_count": 57,
     "metadata": {},
     "output_type": "execute_result"
    }
   ],
   "source": [
    "tabl(4,5)"
   ]
  },
  {
   "cell_type": "markdown",
   "metadata": {},
   "source": [
    "## 9.7. Fly me to the Alpha Centauri\n",
    "- 문제\n",
    "\n",
    "우현이는 어린 시절, 지구 외의 다른 행성에서도 인류들이 살아갈 수 있는 미래가 오리라 믿었다. 그리고 그가 지구라는 세상에 발을 내려 놓은 지 23년이 지난 지금, 세계 최연소 ASNA 우주 비행사가 되어 새로운 세계에 발을 내려 놓는 영광의 순간을 기다리고 있다.\n",
    "\n",
    "그가 탑승하게 될 우주선은 Alpha Centauri라는 새로운 인류의 보금자리를 개척하기 위한 대규모 생활 유지 시스템을 탑재하고 있기 때문에, 그 크기와 질량이 엄청난 이유로 최신기술력을 총 동원하여 개발한 공간이동 장치를 탑재하였다. 하지만 이 공간이동 장치는 이동 거리를 급격하게 늘릴 경우 기계에 심각한 결함이 발생하는 단점이 있어서, 이전 작동시기에 k광년을 이동하였을 때는 k-1 , k 혹은 k+1 광년만을 다시 이동할 수 있다. 예를 들어, 이 장치를 처음 작동시킬 경우 -1 , 0 , 1 광년을 이론상 이동할 수 있으나 사실상 음수 혹은 0 거리만큼의 이동은 의미가 없으므로 1 광년을 이동할 수 있으며, 그 다음에는 0 , 1 , 2 광년을 이동할 수 있는 것이다. ( 여기서 다시 2광년을 이동한다면 다음 시기엔 1, 2, 3 광년을 이동할 수 있다. )\n",
    "\n",
    "![img](https://www.acmicpc.net/upload/201003/rlaehdgur.JPG)\n",
    "\n",
    "김우현은 공간이동 장치 작동시의 에너지 소모가 크다는 점을 잘 알고 있기 때문에 x지점에서 y지점을 향해 최소한의 작동 횟수로 이동하려 한다. 하지만 y지점에 도착해서도 공간 이동장치의 안전성을 위하여 y지점에 도착하기 바로 직전의 이동거리는 반드시 1광년으로 하려 한다.\n",
    "\n",
    "김우현을 위해 x지점부터 정확히 y지점으로 이동하는데 필요한 공간 이동 장치 작동 횟수의 최솟값을 구하는 프로그램을 작성하라.\n",
    "\n",
    "- 입력\n",
    "\n",
    "입력의 첫 줄에는 테스트케이스의 개수 T가 주어진다. 각각의 테스트 케이스에 대해 현재 위치 x 와 목표 위치 y 가 정수로 주어지며, x는 항상 y보다 작은 값을 갖는다. ( 0 ≤ x < y < 231)\n",
    "\n",
    "- 출력\n",
    "\n",
    "각 테스트 케이스에 대해 x지점으로부터 y지점까지 정확히 도달하는데 필요한 최소한의 공간이동 장치 작동 회수를 출력한다."
   ]
  },
  {
   "cell_type": "markdown",
   "metadata": {},
   "source": [
    "(나)\n",
    "패턴 분석함. 범위별 minimum value는 다음과 같다.\n",
    "- ? < distance <= n^2까지   min=2(n-1)+1\n",
    "- n^2 < distance <= n(n+1), min=2n\n",
    "- 2n < distance <= (n+1)^2, min=2n+1\n",
    "\n",
    "이를 코드로 짜면 다음과 같다.\n",
    "\n",
    "if n^2 < distance <=n(n+1) : min=2n  \n",
    "if n(n+1) < distance <= (n+1)^2 : min=2n+1"
   ]
  },
  {
   "cell_type": "code",
   "execution_count": 65,
   "metadata": {},
   "outputs": [
    {
     "data": {
      "text/plain": [
       "2"
      ]
     },
     "execution_count": 65,
     "metadata": {},
     "output_type": "execute_result"
    }
   ],
   "source": [
    "import math\n",
    "n=math.floor(math.sqrt(4-.1))\n",
    "n+1"
   ]
  },
  {
   "cell_type": "code",
   "execution_count": 78,
   "metadata": {},
   "outputs": [
    {
     "name": "stdout",
     "output_type": "stream",
     "text": [
      "3\n",
      "0 3\n",
      "3\n",
      "1 5\n",
      "3\n",
      "45 50\n",
      "4\n"
     ]
    }
   ],
   "source": [
    "#1011\n",
    "#72ms\n",
    "import math\n",
    "def fly(d1,d2):\n",
    "    d=d2-d1\n",
    "    n=math.floor(math.sqrt(d-.1))\n",
    "    if d>n*(n+1):out=2*n+1\n",
    "    else:out=2*n\n",
    "    return out\n",
    "for _ in range(int(input())):\n",
    "    d1,d2=map(int,input().split())\n",
    "    print(fly(d1,d2))"
   ]
  },
  {
   "cell_type": "code",
   "execution_count": null,
   "metadata": {},
   "outputs": [],
   "source": [
    "#another code 56ms\n",
    "#1011\n",
    "import sys\n",
    "import math\n",
    "input = sys.stdin.readline\n",
    "for _ in range(int(input())):\n",
    "    a, b = map(int, input().split())\n",
    "    print(math.ceil(2*(b-a)**(0.5)-1))"
   ]
  },
  {
   "cell_type": "code",
   "execution_count": null,
   "metadata": {},
   "outputs": [],
   "source": []
  }
 ],
 "metadata": {
  "kernelspec": {
   "display_name": "Python 3",
   "language": "python",
   "name": "python3"
  },
  "language_info": {
   "codemirror_mode": {
    "name": "ipython",
    "version": 3
   },
   "file_extension": ".py",
   "mimetype": "text/x-python",
   "name": "python",
   "nbconvert_exporter": "python",
   "pygments_lexer": "ipython3",
   "version": "3.6.9"
  }
 },
 "nbformat": 4,
 "nbformat_minor": 2
}
