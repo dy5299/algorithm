{
 "cells": [
  {
   "cell_type": "markdown",
   "metadata": {},
   "source": [
    "## 9.4. 분수찾기\n",
    "- 문제\n",
    "\n",
    "무한히 큰 배열에 다음과 같이 분수들이 적혀있다.\n",
    "\n",
    "| 1/1  | 1/2  | 1/3  | 1/4  | 1/5  | …    |\n",
    "| ---- | ---- | ---- | ---- | ---- | ---- |\n",
    "| 2/1  | 2/2  | 2/3  | 2/4  | …    | …    |\n",
    "| 3/1  | 3/2  | 3/3  | …    | …    | …    |\n",
    "| 4/1  | 4/2  | …    | …    | …    | …    |\n",
    "| 5/1  | …    | …    | …    | …    | …    |\n",
    "| …    | …    | …    | …    | …    | …    |\n",
    "\n",
    "이와 같이 나열된 분수들을 1/1 -> 1/2 -> 2/1 -> 3/1 -> 2/2 -> … 과 같은 지그재그 순서로 차례대로 1번, 2번, 3번, 4번, 5번, … 분수라고 하자.\n",
    "\n",
    "X가 주어졌을 때, X번째 분수를 구하는 프로그램을 작성하시오.\n",
    "\n",
    "- 입력\n",
    "\n",
    "첫째 줄에 X(1 ≤ X ≤ 10,000,000)가 주어진다.\n",
    "\n",
    "- 출력\n",
    "\n",
    "첫째 줄에 분수를 출력한다."
   ]
  },
  {
   "cell_type": "code",
   "execution_count": 1,
   "metadata": {},
   "outputs": [
    {
     "name": "stdout",
     "output_type": "stream",
     "text": [
      "14\n",
      "-1 / 8\n"
     ]
    }
   ],
   "source": [
    "#while에서 ai,i가 한 칸 더 앞서버려.\n",
    "i,ai,x=1,1,int(input())\n",
    "while ai<x:\n",
    "    ai+=i\n",
    "    i+=1\n",
    "\n",
    "j1=x-ai+1\n",
    "j2=i-j1+1\n",
    "if i%2==0:\n",
    "    print(j1,'/',j2)\n",
    "else:\n",
    "    print(j2,'/',j1)"
   ]
  },
  {
   "cell_type": "code",
   "execution_count": 2,
   "metadata": {},
   "outputs": [
    {
     "name": "stdout",
     "output_type": "stream",
     "text": [
      "11\n",
      "15 5\n"
     ]
    }
   ],
   "source": [
    "i,ai,x=1,1,int(input())\n",
    "while ai<x:\n",
    "    ai+=i+1\n",
    "    i+=1\n",
    "print(ai,i)"
   ]
  },
  {
   "cell_type": "code",
   "execution_count": 5,
   "metadata": {},
   "outputs": [
    {
     "name": "stdout",
     "output_type": "stream",
     "text": [
      "14\n",
      "2 / 4\n"
     ]
    }
   ],
   "source": [
    "#해결함\n",
    "#1193\n",
    "i,ai,x=1,1,int(input())\n",
    "while ai<x:\n",
    "    ai+=i+1\n",
    "    i+=1\n",
    "\n",
    "j1=ai-x+1  #i번째 그룹 내에서 뒤에서 j1번째 원소\n",
    "j2=i-j1+1\n",
    "if i%2==0:\n",
    "    print(j2,'/',j1)\n",
    "else:\n",
    "    print(j1,'/',j2)"
   ]
  },
  {
   "cell_type": "code",
   "execution_count": 4,
   "metadata": {},
   "outputs": [
    {
     "name": "stdout",
     "output_type": "stream",
     "text": [
      "14\n",
      "2/4\n",
      "\n"
     ]
    }
   ],
   "source": [
    "#좀 더 shortify\n",
    "i,a,x=1,1,int(input())\n",
    "while a<x:a+=i+1;i+=1\n",
    "z=[a-x+1,i-(a-x)]\n",
    "print(z[(i+1)%2],'/',z[i%2],sep='')\n",
    "#or\n",
    "print(f\"\")"
   ]
  },
  {
   "cell_type": "code",
   "execution_count": 6,
   "metadata": {},
   "outputs": [
    {
     "name": "stdout",
     "output_type": "stream",
     "text": [
      "14\n",
      "2/4\n"
     ]
    }
   ],
   "source": [
    "#short code\n",
    "i,a,x=1,1,int(input())\n",
    "while a<x:a+=i+1;i+=1\n",
    "z=[a-x+1,i-(a-x)][i%2]\n",
    "print(f\"{i-z+1}/{z}\")"
   ]
  },
  {
   "cell_type": "code",
   "execution_count": null,
   "metadata": {},
   "outputs": [],
   "source": []
  }
 ],
 "metadata": {
  "kernelspec": {
   "display_name": "Python 3",
   "language": "python",
   "name": "python3"
  },
  "language_info": {
   "codemirror_mode": {
    "name": "ipython",
    "version": 3
   },
   "file_extension": ".py",
   "mimetype": "text/x-python",
   "name": "python",
   "nbconvert_exporter": "python",
   "pygments_lexer": "ipython3",
   "version": "3.6.10"
  },
  "toc": {
   "base_numbering": 1,
   "nav_menu": {},
   "number_sections": false,
   "sideBar": true,
   "skip_h1_title": false,
   "title_cell": "Table of Contents",
   "title_sidebar": "Contents",
   "toc_cell": false,
   "toc_position": {},
   "toc_section_display": true,
   "toc_window_display": false
  }
 },
 "nbformat": 4,
 "nbformat_minor": 4
}
