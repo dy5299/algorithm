{
 "cells": [
  {
   "cell_type": "markdown",
   "metadata": {},
   "source": [
    "### 입력"
   ]
  },
  {
   "cell_type": "code",
   "execution_count": 9,
   "metadata": {},
   "outputs": [],
   "source": [
    "m,n=(6,4)\n",
    "# n행 m열\n",
    "inp=\"\"\"0 0 0 0 0 0\n",
    "0 0 0 0 0 0\n",
    "0 0 0 0 0 0\n",
    "0 0 0 0 0 1\"\"\"\n",
    "\n",
    "board=[]\n",
    "for i in inp.split(\"\\n\"):\n",
    "    board.append(list(map(int, i.split())))"
   ]
  },
  {
   "cell_type": "code",
   "execution_count": 12,
   "metadata": {},
   "outputs": [],
   "source": [
    "m,n=(6,4)\n",
    "# n행 m열\n",
    "inp=\"\"\"0 -1 0 0 0 0\n",
    "-1 0 0 0 0 0\n",
    "0 0 0 0 0 0\n",
    "0 0 0 0 0 1\"\"\"\n",
    "\n",
    "board=[]\n",
    "for i in inp.split(\"\\n\"):\n",
    "    board.append(list(map(int, i.split())))"
   ]
  },
  {
   "cell_type": "code",
   "execution_count": 14,
   "metadata": {},
   "outputs": [],
   "source": [
    "m,n=(6,4)\n",
    "# n행 m열\n",
    "inp=\"\"\"1 -1 0 0 0 0\n",
    "0 -1 0 0 0 0\n",
    "0 0 0 0 -1 0\n",
    "0 0 0 0 -1 1\"\"\"\n",
    "\n",
    "board=[]\n",
    "for i in inp.split(\"\\n\"):\n",
    "    board.append(list(map(int, i.split())))"
   ]
  },
  {
   "cell_type": "code",
   "execution_count": null,
   "metadata": {},
   "outputs": [],
   "source": [
    "m,n=map(int, input().split())\n",
    "board=[]\n",
    "for _ in range(n):\n",
    "    board.append(list(map(int, input().split())))"
   ]
  },
  {
   "cell_type": "markdown",
   "metadata": {},
   "source": [
    "### 출력"
   ]
  },
  {
   "cell_type": "code",
   "execution_count": 15,
   "metadata": {},
   "outputs": [
    {
     "name": "stdout",
     "output_type": "stream",
     "text": [
      "6\n"
     ]
    }
   ],
   "source": [
    "from collections import deque\n",
    "dist=[[0]*m for i in range(n)]\n",
    "\n",
    "# board: 토마토 처음 상태\n",
    "# dist: 익은 상태. 안 익었으면 -1\n",
    "que=deque([])\n",
    "for i in range(n):\n",
    "    for j in range(m):\n",
    "        if board[i][j]==1:   # ripen\n",
    "            que.append((i,j))  # 시작점을 queue에 추가\n",
    "#             dist[i][j]=0      # 기본 0값이라서 안 건드려도 됨\n",
    "        elif board[i][j]==0:    # unripen\n",
    "            dist[i][j]=-1\n",
    "\n",
    "dx=[1,0,-1,0]\n",
    "dy=[0,1,0,-1]\n",
    "\n",
    "while que:\n",
    "    x,y=que.popleft()\n",
    "    for i in range(4):\n",
    "        nx=x+dx[i]\n",
    "        ny=y+dy[i]\n",
    "\n",
    "        if 0<=nx<n and 0<=ny<m and dist[nx][ny]<0:    # unripen\n",
    "            dist[nx][ny]=dist[x][y]+1\n",
    "            que.append((nx,ny))\n",
    "\n",
    "if min(  map(min, dist)  )==-1:    # unripen 남아있으면\n",
    "    print(-1)\n",
    "else:\n",
    "    ans=max(  map(max, dist)  )\n",
    "    print(ans)\n"
   ]
  },
  {
   "cell_type": "code",
   "execution_count": null,
   "metadata": {},
   "outputs": [],
   "source": []
  }
 ],
 "metadata": {
  "kernelspec": {
   "display_name": "Python 3",
   "language": "python",
   "name": "python3"
  },
  "language_info": {
   "codemirror_mode": {
    "name": "ipython",
    "version": 3
   },
   "file_extension": ".py",
   "mimetype": "text/x-python",
   "name": "python",
   "nbconvert_exporter": "python",
   "pygments_lexer": "ipython3",
   "version": "3.8.3"
  }
 },
 "nbformat": 4,
 "nbformat_minor": 4
}
