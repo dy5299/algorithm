{
 "cells": [
  {
   "cell_type": "markdown",
   "metadata": {},
   "source": [
    "## 9.5. 달팽이는 올라가고 싶다\n",
    "- 문제\n",
    "\n",
    "땅 위에 달팽이가 있다. 이 달팽이는 높이가 V미터인 나무 막대를 올라갈 것이다.\n",
    "\n",
    "달팽이는 낮에 A미터 올라갈 수 있다. 하지만, 밤에 잠을 자는 동안 B미터 미끄러진다. 또, 정상에 올라간 후에는 미끄러지지 않는다.\n",
    "\n",
    "달팽이가 나무 막대를 모두 올라가려면, 며칠이 걸리는지 구하는 프로그램을 작성하시오.\n",
    "\n",
    "- 입력\n",
    "\n",
    "첫째 줄에 세 정수 A, B, V가 공백으로 구분되어서 주어진다. (1 ≤ B < A ≤ V ≤ 1,000,000,000)\n",
    "\n",
    "- 출력\n",
    "\n",
    "첫째 줄에 달팽이가 나무 막대를 모두 올라가는데 며칠이 걸리는지 출력한다."
   ]
  },
  {
   "cell_type": "code",
   "execution_count": 3,
   "metadata": {},
   "outputs": [
    {
     "name": "stdout",
     "output_type": "stream",
     "text": [
      "2 1 5\n",
      "4\n"
     ]
    }
   ],
   "source": [
    "#시간초과\n",
    "a,b,v=map(int,input().split())\n",
    "x,d=a,1\n",
    "while x<v:x-=b;x+=a;d+=1\n",
    "print(d)"
   ]
  },
  {
   "cell_type": "code",
   "execution_count": 5,
   "metadata": {},
   "outputs": [
    {
     "name": "stdout",
     "output_type": "stream",
     "text": [
      "3 1 2\n",
      "0\n"
     ]
    }
   ],
   "source": [
    "#설명: 목표값(v)을 초과한 값을 초기값으로(d,x) 잡고, 거꾸로 계산한다.\n",
    "a,b,v=map(int,input().split())\n",
    "#(a-b)*(v//(a-b)) 이랑 (v-v%(a-b)) 이랑 같다\n",
    "d=v//(a-b)+1\n",
    "x=(a-b)*d\n",
    "#a가 중요하다. 거꾸로 갈 때 +b-a+b-a+...인데, a로 끝나면 day가 ?이어야 함.\n",
    "while x>=v:\n",
    "    x+=b\n",
    "    x-=a\n",
    "    d-=1\n",
    "print(d)\n",
    "#잠시만, 이것도 아닌듯.. a,b,v가 아주 큰 수이고 a-b은 작으면? 시간초과."
   ]
  },
  {
   "cell_type": "code",
   "execution_count": 6,
   "metadata": {},
   "outputs": [
    {
     "name": "stdout",
     "output_type": "stream",
     "text": [
      "2 1 5\n",
      "4\n"
     ]
    }
   ],
   "source": [
    "#a로만 먼저 올라가고 b를 날짜맞춰 계산한 뒤 위과정 하면 되겠네\n",
    "#시간초과\n",
    "a,b,v=map(int,input().split())\n",
    "d=v//a\n",
    "x=(a-b)*d+a\n",
    "d+=1\n",
    "while x<v:x-=b;x+=a;d+=1\n",
    "print(d)"
   ]
  },
  {
   "cell_type": "code",
   "execution_count": 7,
   "metadata": {},
   "outputs": [
    {
     "name": "stdout",
     "output_type": "stream",
     "text": [
      "2 1 5\n",
      "4\n"
     ]
    }
   ],
   "source": [
    "#초기값 a한번 설정, 후에 -b+a 반복\n",
    "#2869\n",
    "import math\n",
    "a,b,v=map(int,input().split())\n",
    "x=a;d=1\n",
    "if a<v:\n",
    "    d+=math.ceil((v-x)/(a-b))\n",
    "print(d)"
   ]
  },
  {
   "cell_type": "code",
   "execution_count": null,
   "metadata": {},
   "outputs": [],
   "source": [
    "#short code\n",
    "a,b,v=map(int,input().split())\n",
    "print(1-(a-v)//(a-b))"
   ]
  }
 ],
 "metadata": {
  "kernelspec": {
   "display_name": "Python 3",
   "language": "python",
   "name": "python3"
  },
  "language_info": {
   "codemirror_mode": {
    "name": "ipython",
    "version": 3
   },
   "file_extension": ".py",
   "mimetype": "text/x-python",
   "name": "python",
   "nbconvert_exporter": "python",
   "pygments_lexer": "ipython3",
   "version": "3.6.10"
  },
  "toc": {
   "base_numbering": 1,
   "nav_menu": {},
   "number_sections": false,
   "sideBar": true,
   "skip_h1_title": false,
   "title_cell": "Table of Contents",
   "title_sidebar": "Contents",
   "toc_cell": false,
   "toc_position": {},
   "toc_section_display": true,
   "toc_window_display": false
  }
 },
 "nbformat": 4,
 "nbformat_minor": 4
}
