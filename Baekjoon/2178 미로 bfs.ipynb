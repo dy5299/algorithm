{
 "cells": [
  {
   "cell_type": "markdown",
   "metadata": {},
   "source": [
    "### 입력"
   ]
  },
  {
   "cell_type": "code",
   "execution_count": null,
   "metadata": {},
   "outputs": [],
   "source": [
    "n,m=(4,6)\n",
    "# n행 m열\n",
    "inp=\"\"\"101111\n",
    "101010\n",
    "101011\n",
    "111011\"\"\"\n",
    "\n",
    "board=[]\n",
    "for i in inp.split(\"\\n\"):\n",
    "    board.append(list(map(int, i)))"
   ]
  },
  {
   "cell_type": "code",
   "execution_count": null,
   "metadata": {},
   "outputs": [],
   "source": [
    "n,m=map(int, input().split())\n",
    "board=[]\n",
    "for _ in range(n):\n",
    "    board.append(list(map(int, list(input()))))"
   ]
  },
  {
   "cell_type": "markdown",
   "metadata": {},
   "source": [
    "### 출력 틀림"
   ]
  },
  {
   "cell_type": "code",
   "execution_count": 13,
   "metadata": {},
   "outputs": [
    {
     "name": "stdout",
     "output_type": "stream",
     "text": [
      "15\n"
     ]
    }
   ],
   "source": [
    "from collections import deque\n",
    "dist=[[0]*m for i in range(n)]\n",
    "# dist[0][0]=1\n",
    "\n",
    "def bfs(ix,iy):\n",
    "    que=deque([])\n",
    "    que.append((ix,iy))\n",
    "    \n",
    "    while que:\n",
    "        dx=[1,0,-1,0]\n",
    "        dy=[0,1,0,-1]\n",
    "        x,y=que.popleft()\n",
    "        for i in range(4):\n",
    "            nx=x+dx[i]\n",
    "            ny=y+dy[i]\n",
    "            \n",
    "            if 0<=nx<n and 0<=ny<m and dist[nx][ny]<=0 and board[nx][ny]==1:\n",
    "                dist[nx][ny]=dist[x][y]+1\n",
    "                que.append((nx,ny))\n",
    "\n",
    "\n",
    "for ix in range(n):\n",
    "    for iy in range(m):\n",
    "        if dist[ix][iy]<=0 and board[ix][iy]==1:\n",
    "            bfs(ix,iy)\n",
    "\n",
    "print(max(map(max, dist))+1)"
   ]
  },
  {
   "cell_type": "markdown",
   "metadata": {},
   "source": [
    "### 정답"
   ]
  },
  {
   "cell_type": "code",
   "execution_count": 16,
   "metadata": {},
   "outputs": [
    {
     "name": "stdout",
     "output_type": "stream",
     "text": [
      "15\n"
     ]
    }
   ],
   "source": [
    "\n",
    "\n",
    "from collections import deque\n",
    "dist=[[0]*m for i in range(n)]\n",
    "\n",
    "def bfs(ix,iy):\n",
    "    que=deque([])\n",
    "    que.append((ix,iy))\n",
    "    \n",
    "    while que:\n",
    "        dx=[1,0,-1,0]\n",
    "        dy=[0,1,0,-1]\n",
    "        x,y=que.popleft()\n",
    "        for i in range(4):\n",
    "            nx=x+dx[i]\n",
    "            ny=y+dy[i]\n",
    "            \n",
    "            if 0<=nx<n and 0<=ny<m and dist[nx][ny]<=0 and board[nx][ny]==1:\n",
    "                dist[nx][ny]=dist[x][y]+1\n",
    "                que.append((nx,ny))\n",
    "\n",
    "for ix in range(n):\n",
    "    for iy in range(m):\n",
    "        if dist[ix][iy]<=0 and board[ix][iy]==1:\n",
    "            bfs(ix,iy)\n",
    "\n",
    "print(dist[-1][-1]+1)"
   ]
  },
  {
   "cell_type": "code",
   "execution_count": null,
   "metadata": {},
   "outputs": [],
   "source": []
  }
 ],
 "metadata": {
  "kernelspec": {
   "display_name": "Python 3",
   "language": "python",
   "name": "python3"
  },
  "language_info": {
   "codemirror_mode": {
    "name": "ipython",
    "version": 3
   },
   "file_extension": ".py",
   "mimetype": "text/x-python",
   "name": "python",
   "nbconvert_exporter": "python",
   "pygments_lexer": "ipython3",
   "version": "3.8.3"
  }
 },
 "nbformat": 4,
 "nbformat_minor": 4
}
