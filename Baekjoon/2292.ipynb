{
 "cells": [
  {
   "cell_type": "markdown",
   "metadata": {},
   "source": [
    "## 9.3. 벌집\n",
    "- 문제\n",
    "\n",
    "위의 그림과 같이 육각형으로 이루어진 벌집이 있다. 그림에서 보는 바와 같이 중앙의 방 1부터 시작해서 이웃하는 방에 돌아가면서 1씩 증가하는 번호를 주소로 매길 수 있다. 숫자 N이 주어졌을 때, 벌집의 중앙 1에서 N번 방까지 최소 개수의 방을 지나서 갈 때 몇 개의 방을 지나가는지(시작과 끝을 포함하여)를 계산하는 프로그램을 작성하시오. 예를 들면, 13까지는 3개, 58까지는 5개를 지난다.\n",
    "\n",
    "- 입력\n",
    "\n",
    "첫째 줄에 N(1 ≤ N ≤ 1,000,000,000)이 주어진다.\n",
    "\n",
    "- 출력\n",
    "\n",
    "입력으로 주어진 방까지 최소 개수의 방을 지나서 갈 때 몇 개의 방을 지나는지 출력한다.`"
   ]
  },
  {
   "cell_type": "code",
   "execution_count": 1,
   "metadata": {},
   "outputs": [
    {
     "name": "stdout",
     "output_type": "stream",
     "text": [
      "3\n"
     ]
    }
   ],
   "source": [
    "#1,2,8,20,38, ...수열.\n",
    "#a_1=1, a_n=3(n-2)(n-1)\n",
    "m=13\n",
    "def dis(m):\n",
    "    n=0\n",
    "    while True:\n",
    "        n+=1\n",
    "        if 3*(n-1)*(n-2)+1<=m<3*(n)*(n-1)+1:\n",
    "            return n\n",
    "print(dis(13))"
   ]
  },
  {
   "cell_type": "code",
   "execution_count": 2,
   "metadata": {},
   "outputs": [
    {
     "name": "stdout",
     "output_type": "stream",
     "text": [
      "58\n",
      "5\n"
     ]
    }
   ],
   "source": [
    "#위는 n=1,2 고려 안해서 틀린듯\n",
    "def dis(m):\n",
    "    n=0\n",
    "    if n==1:return 1\n",
    "    while True:\n",
    "        n+=1\n",
    "        if 3*(n)*(n-1)+1<=m<3*(n+1)*(n)+1:\n",
    "            return n+1\n",
    "print(dis(int(input())))"
   ]
  },
  {
   "cell_type": "code",
   "execution_count": 3,
   "metadata": {},
   "outputs": [
    {
     "name": "stdout",
     "output_type": "stream",
     "text": [
      "58\n",
      "5\n"
     ]
    }
   ],
   "source": [
    "#처음거 살려보자\n",
    "#처음거 범위쪽을 +1로해서 틀렸네 +2가 맞음\n",
    "#2292\n",
    "#64ms 195B\n",
    "def dis(m):\n",
    "    if m==1:return 1\n",
    "    elif m>=2:\n",
    "        n=2\n",
    "        while True:\n",
    "            if 3*(n-1)*(n-2)+2<=m<3*(n)*(n-1)+2:\n",
    "                return n\n",
    "            n+=1\n",
    "print(dis(int(input())))"
   ]
  },
  {
   "cell_type": "markdown",
   "metadata": {},
   "source": [
    "### 수열\n",
    "ai는 i번째 그룹의 마지막 원소이다."
   ]
  },
  {
   "cell_type": "code",
   "execution_count": 4,
   "metadata": {},
   "outputs": [
    {
     "name": "stdout",
     "output_type": "stream",
     "text": [
      "1\n",
      "1\n"
     ]
    }
   ],
   "source": [
    "#another code\n",
    "#s는 수열의 값, c는 수열의 index\n",
    "ai,i,n=1,1,int(input())\n",
    "while ai<n:\n",
    "    ai += 6*i\n",
    "    i+=1\n",
    "print(i)"
   ]
  },
  {
   "cell_type": "code",
   "execution_count": null,
   "metadata": {},
   "outputs": [],
   "source": []
  }
 ],
 "metadata": {
  "kernelspec": {
   "display_name": "Python 3",
   "language": "python",
   "name": "python3"
  },
  "language_info": {
   "codemirror_mode": {
    "name": "ipython",
    "version": 3
   },
   "file_extension": ".py",
   "mimetype": "text/x-python",
   "name": "python",
   "nbconvert_exporter": "python",
   "pygments_lexer": "ipython3",
   "version": "3.6.10"
  },
  "toc": {
   "base_numbering": 1,
   "nav_menu": {},
   "number_sections": false,
   "sideBar": true,
   "skip_h1_title": false,
   "title_cell": "Table of Contents",
   "title_sidebar": "Contents",
   "toc_cell": false,
   "toc_position": {},
   "toc_section_display": true,
   "toc_window_display": false
  }
 },
 "nbformat": 4,
 "nbformat_minor": 4
}
