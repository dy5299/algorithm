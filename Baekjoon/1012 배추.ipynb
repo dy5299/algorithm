{
 "cells": [
  {
   "cell_type": "code",
   "execution_count": null,
   "metadata": {},
   "outputs": [],
   "source": [
    "import numpy as np\n",
    "for _ in range(int()):\n",
    "    M,N,K=map(int, input().split())\n",
    "    cabbage=np.zeros((M,N))\n",
    "    \n",
    "    for _ in range(K):\n",
    "        x,y=map(int, input().split())\n",
    "        cabbage[x][y]=1\n",
    "\n",
    "cabbage"
   ]
  },
  {
   "cell_type": "code",
   "execution_count": 4,
   "metadata": {},
   "outputs": [
    {
     "data": {
      "text/plain": [
       "array([[0., 0., 0., 0., 0., 0., 0., 0., 0., 0.],\n",
       "       [0., 0., 0., 0., 0., 0., 0., 0., 0., 0.],\n",
       "       [0., 0., 0., 0., 0., 0., 0., 0., 0., 0.],\n",
       "       [0., 0., 0., 0., 0., 0., 0., 0., 0., 0.],\n",
       "       [0., 0., 0., 0., 0., 0., 0., 0., 0., 0.],\n",
       "       [0., 0., 0., 0., 0., 0., 0., 0., 0., 0.],\n",
       "       [0., 0., 0., 0., 1., 0., 0., 0., 0., 0.],\n",
       "       [0., 0., 0., 0., 0., 0., 0., 0., 0., 0.],\n",
       "       [0., 0., 0., 0., 0., 0., 0., 0., 0., 0.],\n",
       "       [0., 0., 0., 0., 0., 0., 0., 0., 0., 0.]])"
      ]
     },
     "execution_count": 4,
     "metadata": {},
     "output_type": "execute_result"
    }
   ],
   "source": [
    "import numpy as np\n",
    "for _ in range(int()):\n",
    "    M,N,K=map(int, input().split())\n",
    "    cabbage=np.zeros((M,N))\n",
    "    \n",
    "    y,x=(5,7)  # 입력받은 x값은 가로축이므로 열(column)이다.\n",
    "    cabbage[x-1][y-1]=1\n",
    "    \n",
    "    count=0\n",
    "    for i in range(len(cabbage)):\n",
    "        for j in range(i, len(cabbage)):\n",
    "            if cabbage[i][j]==0:\n",
    "                cabbage[i][j]=-1\n",
    "            else:\n",
    "                count+=1\n",
    "                dfs(cabbage,i,j)\n",
    "\n",
    "    def dfs(cabbage, i, j):\n",
    "        visited=[]\n",
    "\n",
    "        xy_dict={'top':(i-1,j), 'bottom':(i+1,j), 'left':(i,j-1), 'right':(i,j+1)}\n",
    "        for key,value in xy_dict.items():\n",
    "            if cabbage[value[0]][value[1]]==1:\n",
    "                count+=1\n",
    "                visited.append(value)\n",
    "                cabbage[value[0]][value[1]]=-1\n",
    "                \n",
    "    print()"
   ]
  },
  {
   "cell_type": "code",
   "execution_count": 6,
   "metadata": {},
   "outputs": [],
   "source": []
  },
  {
   "cell_type": "code",
   "execution_count": 9,
   "metadata": {},
   "outputs": [
    {
     "data": {
      "text/plain": [
       "0"
      ]
     },
     "execution_count": 9,
     "metadata": {},
     "output_type": "execute_result"
    }
   ],
   "source": [
    "count"
   ]
  },
  {
   "cell_type": "markdown",
   "metadata": {},
   "source": [
    "## Answer"
   ]
  },
  {
   "cell_type": "markdown",
   "metadata": {},
   "source": [
    "### 틀렸다해서"
   ]
  },
  {
   "cell_type": "code",
   "execution_count": 2,
   "metadata": {},
   "outputs": [
    {
     "name": "stdout",
     "output_type": "stream",
     "text": [
      "1\n",
      "5 3 6\n",
      "0 2\n",
      "1 2\n",
      "2 2\n",
      "3 2\n",
      "4 2\n",
      "4 0\n",
      "1\n"
     ]
    }
   ],
   "source": [
    "from collections import deque\n",
    "\n",
    "for _ in range(int(input())):\n",
    "    m,n,k=map(int, input().split())\n",
    "    \n",
    "    \n",
    "#     lis=[[0]*m for i in range(n)]  # 2차원 리스트 초기화\n",
    "    lis= [  [0]*m  ] * n\n",
    "    for _ in range(k):\n",
    "        x, y = map(int, input().split())\n",
    "        lis[y][x] = 1\n",
    "    count=0\n",
    "    \n",
    "    \n",
    "    def dfs(lis, i, j):\n",
    "        dx=[0, 0, 1, -1]  # 우, 좌, 하, 상\n",
    "        dy=[1,-1,0,0]\n",
    "        stack=[[i,j]]\n",
    "        \n",
    "        while stack:\n",
    "            a, b = stack.pop()\n",
    "            lis[a][b] = -1\n",
    "            for i in range(4):    # 우, 좌, 하, 상\n",
    "                x = a + dx[i]\n",
    "                y = b + dy[i]\n",
    "                if 0 <= x < n and 0 <= y < m and lis[x][y] == 1:\n",
    "                    lis[x][y] == -1\n",
    "                    stack.append([x,y])\n",
    "                    \n",
    "    for i in range(n):\n",
    "        for j in range(m):\n",
    "            if lis[i][j] <= 0:\n",
    "                lis[i][j] = -1\n",
    "            else:\n",
    "                count+=1\n",
    "                dfs(lis, i, j)\n",
    "    print(count)"
   ]
  },
  {
   "cell_type": "markdown",
   "metadata": {},
   "source": [
    "### C&P"
   ]
  },
  {
   "cell_type": "code",
   "execution_count": null,
   "metadata": {},
   "outputs": [],
   "source": [
    "import sys\n",
    "input = sys.stdin.readline\n",
    "from collections import deque\n",
    "\n",
    "for _ in range(int(input())):\n",
    "    m, n, k = map(int, input().split())\n",
    "\n",
    "    lis = [[0]*m for i in range(n)]\n",
    "    for _ in range(k):\n",
    "        x, y = map(int, input().split())\n",
    "        lis[y][x] = 1\n",
    "    count = 0\n",
    "\n",
    "    def dfs(lis, i, j):\n",
    "        dx = [0,0,1,-1]\n",
    "        dy = [1,-1,0,0] # 우, 좌, 하, 상\n",
    "        stack = [[i,j]]\n",
    "        \n",
    "        while stack:\n",
    "            a, b = stack.pop()\n",
    "            lis[a][b] = -1\n",
    "            for i in range(4):\n",
    "                x = a + dx[i]\n",
    "                y = b + dy[i]\n",
    "                if 0 <= x < n and 0 <= y < m and lis[x][y] == 1:\n",
    "                    lis[x][y] == -1\n",
    "                    stack.append([x,y])\n",
    "\n",
    "    \n",
    "    for i in range(n):\n",
    "        for j in range(m):\n",
    "            if lis[i][j] <= 0:\n",
    "                lis[i][j] = -1\n",
    "            else:\n",
    "                count += 1\n",
    "                dfs(lis, i, j)\n",
    "\n",
    "    print(count)"
   ]
  },
  {
   "cell_type": "code",
   "execution_count": null,
   "metadata": {},
   "outputs": [],
   "source": []
  }
 ],
 "metadata": {
  "kernelspec": {
   "display_name": "Python 3",
   "language": "python",
   "name": "python3"
  },
  "language_info": {
   "codemirror_mode": {
    "name": "ipython",
    "version": 3
   },
   "file_extension": ".py",
   "mimetype": "text/x-python",
   "name": "python",
   "nbconvert_exporter": "python",
   "pygments_lexer": "ipython3",
   "version": "3.8.3"
  }
 },
 "nbformat": 4,
 "nbformat_minor": 4
}
