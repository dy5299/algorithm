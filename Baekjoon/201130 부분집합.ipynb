{
 "cells": [
  {
   "cell_type": "code",
   "execution_count": null,
   "metadata": {},
   "outputs": [],
   "source": [
    "# 부분집합\n",
    "def printSet(n):\n",
    "    for i in range(n):\n",
    "        if A[i]==1:\n",
    "            print(data[i], end=\" \")\n",
    "    print()\n",
    "    \n",
    "# k는 A 배열의 k 인덱스의 포함 유무를 판별\n",
    "def powerset(k, n):\n",
    "    if n==k:\n",
    "        printSet(k)\n",
    "    else:\n",
    "        # 배열 A에 체크하고 다음 인덱스로 넘어간다\n",
    "        A[k]=1\n",
    "        powerset(k+1, n)\n",
    "        \n",
    "        # 재귀로 돌아와서 체크했던걸 다시 원상복귀시킨다.\n",
    "        A[k]=0\n",
    "        powerset(k+1, n)\n",
    "        \n",
    "data=\n",
    "n=len(data)\n",
    "A=[0]*n  #포함 유무를 체크할 리스트 (0이 미포함, 1이 포함)"
   ]
  },
  {
   "cell_type": "markdown",
   "metadata": {},
   "source": [
    "## N Queen"
   ]
  },
  {
   "cell_type": "code",
   "execution_count": null,
   "metadata": {},
   "outputs": [],
   "source": []
  },
  {
   "cell_type": "code",
   "execution_count": null,
   "metadata": {},
   "outputs": [],
   "source": []
  },
  {
   "cell_type": "code",
   "execution_count": null,
   "metadata": {},
   "outputs": [],
   "source": []
  }
 ],
 "metadata": {
  "kernelspec": {
   "display_name": "Python 3",
   "language": "python",
   "name": "python3"
  },
  "language_info": {
   "codemirror_mode": {
    "name": "ipython",
    "version": 3
   },
   "file_extension": ".py",
   "mimetype": "text/x-python",
   "name": "python",
   "nbconvert_exporter": "python",
   "pygments_lexer": "ipython3",
   "version": "3.8.3"
  }
 },
 "nbformat": 4,
 "nbformat_minor": 4
}
