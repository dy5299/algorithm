{
 "cells": [
  {
   "cell_type": "markdown",
   "metadata": {},
   "source": [
    "## 8.10. 그룹 단어 체커\n",
    "- 문제\n",
    "\n",
    "그룹 단어란 단어에 존재하는 모든 문자에 대해서, 각 문자가 연속해서 나타나는 경우만을 말한다. 예를 들면, ccazzzzbb는 c, a, z, b가 모두 연속해서 나타나고, kin도 k, i, n이 연속해서 나타나기 때문에 그룹 단어이지만, aabbbccb는 b가 떨어져서 나타나기 때문에 그룹 단어가 아니다.\n",
    "\n",
    "단어 N개를 입력으로 받아 그룹 단어의 개수를 출력하는 프로그램을 작성하시오.\n",
    "\n",
    "- 입력\n",
    "\n",
    "첫째 줄에 단어의 개수 N이 들어온다. N은 100보다 작거나 같은 자연수이다. 둘째 줄부터 N개의 줄에 단어가 들어온다. 단어는 알파벳 소문자로만 되어있고 중복되지 않으며, 길이는 최대 100이다.\n",
    "\n",
    "- 출력\n",
    "\n",
    "첫째 줄에 그룹 단어의 개수를 출력한다."
   ]
  },
  {
   "cell_type": "code",
   "execution_count": 25,
   "metadata": {},
   "outputs": [
    {
     "data": {
      "text/plain": [
       "'ab'"
      ]
     },
     "execution_count": 25,
     "metadata": {},
     "output_type": "execute_result"
    }
   ],
   "source": [
    "# new='a'\n",
    "''.join([new,'b'])"
   ]
  },
  {
   "cell_type": "code",
   "execution_count": 36,
   "metadata": {},
   "outputs": [
    {
     "name": "stdout",
     "output_type": "stream",
     "text": [
      "{1, 2} 2\n"
     ]
    }
   ],
   "source": [
    "txtset={1}\n",
    "txtset.add(2)\n",
    "print(txtset,len(txtset))"
   ]
  },
  {
   "cell_type": "code",
   "execution_count": 43,
   "metadata": {},
   "outputs": [
    {
     "name": "stdout",
     "output_type": "stream",
     "text": [
      "c\n"
     ]
    },
    {
     "data": {
      "text/plain": [
       "False"
      ]
     },
     "execution_count": 43,
     "metadata": {},
     "output_type": "execute_result"
    }
   ],
   "source": [
    "def isGrword(txt):\n",
    "    txtset=set({})\n",
    "    for idx,w in enumerate(txt):\n",
    "        before=len(txtset)\n",
    "        txtset.add(w)\n",
    "        \n",
    "        print(txt[idx-1])\n",
    "        \n",
    "        if before==len(txtset) :\n",
    "            continue\n",
    "        else:\n",
    "            return False\n",
    "    return True\n",
    "isGrword('abbbbcccc')"
   ]
  },
  {
   "cell_type": "code",
   "execution_count": 45,
   "metadata": {},
   "outputs": [
    {
     "name": "stdout",
     "output_type": "stream",
     "text": [
      "a\n",
      "b\n",
      "b\n",
      "b\n",
      "c\n",
      "c\n",
      "c\n",
      "c\n",
      "c\n"
     ]
    }
   ],
   "source": [
    "txt='abbbccccc'\n",
    "\n",
    "for idx,w in enumerate(txt):\n",
    "    print(txt[idx])"
   ]
  },
  {
   "cell_type": "code",
   "execution_count": 46,
   "metadata": {},
   "outputs": [
    {
     "name": "stdout",
     "output_type": "stream",
     "text": [
      "4\n",
      "aba\n",
      "abab\n",
      "abcabc\n",
      "1\n",
      "1\n"
     ]
    }
   ],
   "source": [
    "#solution1. 조잡하다\n",
    "def isGrword(txt):\n",
    "    txtset=set({txt[0]})\n",
    "    for idx,w in enumerate(txt):\n",
    "        if idx==0:\n",
    "            continue\n",
    "        else:\n",
    "            before=len(txtset)\n",
    "            txtset.add(w)\n",
    "            if before==len(txtset) and txt[idx-1]!=w:\n",
    "                return False\n",
    "            else:\n",
    "                continue\n",
    "    return True\n",
    "t=int(input())\n",
    "i=0\n",
    "for a in range(t):\n",
    "    if isGrword(input())==1:\n",
    "        i+=1\n",
    "print(i)"
   ]
  },
  {
   "cell_type": "code",
   "execution_count": 50,
   "metadata": {},
   "outputs": [
    {
     "data": {
      "text/plain": [
       "False"
      ]
     },
     "execution_count": 50,
     "metadata": {},
     "output_type": "execute_result"
    }
   ],
   "source": [
    "isGrword('abcabc')"
   ]
  },
  {
   "cell_type": "code",
   "execution_count": 49,
   "metadata": {},
   "outputs": [
    {
     "data": {
      "text/plain": [
       "{'a', 'h', 'p', 'y'}"
      ]
     },
     "execution_count": 49,
     "metadata": {},
     "output_type": "execute_result"
    }
   ],
   "source": [
    "zipword('happyhh')\n",
    "set(zipword('happyhh'))"
   ]
  },
  {
   "cell_type": "code",
   "execution_count": 51,
   "metadata": {},
   "outputs": [
    {
     "name": "stdout",
     "output_type": "stream",
     "text": [
      "4\n",
      "aba\n",
      "abab\n",
      "abcabc\n",
      "1\n",
      "1\n"
     ]
    }
   ],
   "source": [
    "#sol2. 뭔가더깔끔\n",
    "#1316\n",
    "def zipword(txt):\n",
    "    \n",
    "    for idx,w in enumerate(txt):\n",
    "        if idx==0:\n",
    "            before=w\n",
    "            continue\n",
    "        else:\n",
    "            if before==w:\n",
    "                txt=txt.replace(w*2,w)\n",
    "            before=w\n",
    "    return txt\n",
    "\n",
    "t=int(input())\n",
    "i=0\n",
    "\n",
    "for a in range(t):\n",
    "    temp=zipword(input())\n",
    "    if len(temp)==len(set(temp)):\n",
    "        i+=1\n",
    "print(i)"
   ]
  },
  {
   "cell_type": "code",
   "execution_count": null,
   "metadata": {},
   "outputs": [],
   "source": [
    "#another code\n",
    "count = 0\n",
    "\n",
    "for _ in range(int(input())) :\n",
    "    cur = [i for i in input()]\n",
    "    cri = len(set(cur))\n",
    "    temp = 0\n",
    "    for x in range(len(cur)-1, 0, -1) :\n",
    "        if cur[x-1] != cur [x] : \n",
    "            temp +=1\n",
    "    if temp == cri-1 :\n",
    "        count += 1\n",
    "        \n",
    "print (count)"
   ]
  },
  {
   "cell_type": "code",
   "execution_count": null,
   "metadata": {},
   "outputs": [],
   "source": [
    "#short code\n",
    "b=0\n",
    "for i in range(int(input())):\n",
    "    a = input()\n",
    "    if list(a)  == sorted(a,key=a.find):\n",
    "        b+=1\n",
    "print(b)"
   ]
  }
 ],
 "metadata": {
  "kernelspec": {
   "display_name": "Python 3",
   "language": "python",
   "name": "python3"
  },
  "language_info": {
   "codemirror_mode": {
    "name": "ipython",
    "version": 3
   },
   "file_extension": ".py",
   "mimetype": "text/x-python",
   "name": "python",
   "nbconvert_exporter": "python",
   "pygments_lexer": "ipython3",
   "version": "3.6.10"
  },
  "toc": {
   "base_numbering": 1,
   "nav_menu": {},
   "number_sections": false,
   "sideBar": true,
   "skip_h1_title": false,
   "title_cell": "Table of Contents",
   "title_sidebar": "Contents",
   "toc_cell": false,
   "toc_position": {},
   "toc_section_display": true,
   "toc_window_display": false
  }
 },
 "nbformat": 4,
 "nbformat_minor": 4
}
