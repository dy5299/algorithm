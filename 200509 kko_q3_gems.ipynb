{
 "cells": [
  {
   "cell_type": "code",
   "execution_count": null,
   "metadata": {},
   "outputs": [],
   "source": [
    "def solution(gems):\n",
    "    answer = []\n",
    "    return answer"
   ]
  },
  {
   "cell_type": "code",
   "execution_count": 28,
   "metadata": {},
   "outputs": [
    {
     "data": {
      "text/plain": [
       "4"
      ]
     },
     "execution_count": 28,
     "metadata": {},
     "output_type": "execute_result"
    }
   ],
   "source": [
    "total_min=total_max=0\n",
    "buy=set() #index값\n",
    "gems = [\"DIA\", \"RUBY\", \"RUBY\", \"DIA\", \"DIA\", \"EMERALD\", \"SAPPHIRE\", \"DIA\"]\n",
    "cates = set(gems)\n",
    "\n",
    "len(cates)"
   ]
  },
  {
   "cell_type": "code",
   "execution_count": 29,
   "metadata": {},
   "outputs": [
    {
     "data": {
      "text/plain": [
       "0"
      ]
     },
     "execution_count": 29,
     "metadata": {},
     "output_type": "execute_result"
    }
   ],
   "source": [
    "gems.index('DIA')"
   ]
  },
  {
   "cell_type": "code",
   "execution_count": 30,
   "metadata": {},
   "outputs": [
    {
     "data": {
      "text/plain": [
       "[0, 3, 4, 7]"
      ]
     },
     "execution_count": 30,
     "metadata": {},
     "output_type": "execute_result"
    }
   ],
   "source": [
    "[i for i, value in enumerate(gems) if value == 'DIA']"
   ]
  },
  {
   "cell_type": "code",
   "execution_count": 31,
   "metadata": {},
   "outputs": [
    {
     "data": {
      "text/plain": [
       "{'DIA': [0, 3, 4, 7], 'SAPPHIRE': [6], 'RUBY': [1, 2], 'EMERALD': [5]}"
      ]
     },
     "execution_count": 31,
     "metadata": {},
     "output_type": "execute_result"
    }
   ],
   "source": [
    "dict_pos = dict()\n",
    "for cate in cates:\n",
    "    dict_pos[cate] = [i for i, value in enumerate(gems) if value == cate]\n",
    "dict_pos"
   ]
  },
  {
   "cell_type": "code",
   "execution_count": 38,
   "metadata": {},
   "outputs": [
    {
     "name": "stdout",
     "output_type": "stream",
     "text": [
      "['SAPPHIRE', 'EMERALD']\n",
      "{'RUBY', 'DIA'}\n"
     ]
    }
   ],
   "source": [
    "# length가 minimum인 gems 추출\n",
    "start = [k for k in dict_pos.keys() if len(dict_pos.get(k))==min([len(n) for n in dict_pos.values()])]\n",
    "start_rest = dict_pos.keys() - start\n",
    "\n",
    "print(start)\n",
    "print(start_rest)"
   ]
  },
  {
   "cell_type": "code",
   "execution_count": 35,
   "metadata": {},
   "outputs": [
    {
     "data": {
      "text/plain": [
       "[6]"
      ]
     },
     "execution_count": 35,
     "metadata": {},
     "output_type": "execute_result"
    }
   ],
   "source": [
    "dict_pos[start[0]]"
   ]
  },
  {
   "cell_type": "code",
   "execution_count": 19,
   "metadata": {},
   "outputs": [
    {
     "name": "stdout",
     "output_type": "stream",
     "text": [
      "6\n",
      "6 \n",
      "\n",
      "5\n",
      "5 \n",
      "\n"
     ]
    }
   ],
   "source": [
    "for start_i in start:\n",
    "    print(dict_pos[start_i][0])\n",
    "    print(dict_pos[start_i][-1],'\\n')"
   ]
  },
  {
   "cell_type": "code",
   "execution_count": 36,
   "metadata": {},
   "outputs": [
    {
     "name": "stdout",
     "output_type": "stream",
     "text": [
      "5 6\n"
     ]
    }
   ],
   "source": [
    "#시작값 지정\n",
    "if len(dict_pos[start[0]]) == 1:\n",
    "    total_min=total_max=dict_pos[start[0]][0]\n",
    "else:\n",
    "    total_min=0\n",
    "    total_max=0\n",
    "\n",
    "\n",
    "for start_i in start:\n",
    "    total_min, total_max = findrange(total_min, total_max, dict_pos[start_i][0], dict_pos[start_i][-1])\n",
    "\n",
    "print(total_min, total_max)"
   ]
  },
  {
   "cell_type": "code",
   "execution_count": null,
   "metadata": {},
   "outputs": [],
   "source": [
    "for start_rest_i in start_rest:\n",
    "    input_min = dict_pos[start_rest_i][0]\n",
    "    input_max = dict_pos[start_rest_i][-1]\n",
    "    if input_max < total_min: #안 겹칠 때\n",
    "        total_min = input_max\n",
    "    elif total_max < input_min: #안 겹칠 때\n",
    "        total_max = input_min\n",
    "    elif total_min < input_min and input_max < total_max: #완전 포함될 때\n",
    "        continue\n",
    "    elif input_min < total_min < :\n",
    "        "
   ]
  },
  {
   "cell_type": "code",
   "execution_count": null,
   "metadata": {},
   "outputs": [],
   "source": []
  },
  {
   "cell_type": "code",
   "execution_count": null,
   "metadata": {},
   "outputs": [],
   "source": []
  },
  {
   "cell_type": "code",
   "execution_count": null,
   "metadata": {},
   "outputs": [],
   "source": []
  },
  {
   "cell_type": "code",
   "execution_count": null,
   "metadata": {},
   "outputs": [],
   "source": []
  },
  {
   "cell_type": "code",
   "execution_count": null,
   "metadata": {},
   "outputs": [],
   "source": []
  },
  {
   "cell_type": "code",
   "execution_count": null,
   "metadata": {},
   "outputs": [],
   "source": []
  },
  {
   "cell_type": "code",
   "execution_count": 22,
   "metadata": {},
   "outputs": [
    {
     "data": {
      "text/plain": [
       "(3, 6)"
      ]
     },
     "execution_count": 22,
     "metadata": {},
     "output_type": "execute_result"
    }
   ],
   "source": [
    "def findrange(total_min,total_max,input_min,input_max):\n",
    "    if input_min < total_min :\n",
    "        total_min = input_min\n",
    "    if total_max < input_max :\n",
    "        total_max = input_max\n",
    "    return total_min, total_max\n",
    "\n",
    "findrange(4,6,3,5)"
   ]
  }
 ],
 "metadata": {
  "kernelspec": {
   "display_name": "Python 3",
   "language": "python",
   "name": "python3"
  },
  "language_info": {
   "codemirror_mode": {
    "name": "ipython",
    "version": 3
   },
   "file_extension": ".py",
   "mimetype": "text/x-python",
   "name": "python",
   "nbconvert_exporter": "python",
   "pygments_lexer": "ipython3",
   "version": "3.6.10"
  }
 },
 "nbformat": 4,
 "nbformat_minor": 4
}
