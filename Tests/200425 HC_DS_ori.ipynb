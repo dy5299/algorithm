{
 "cells": [
  {
   "cell_type": "markdown",
   "metadata": {},
   "source": [
    "# 약품 처방 금액 예측\n",
    "\n",
    "### Data\n",
    "\n",
    "* 이 문제에 사용되는 데이터는 실제 국민건강보험의 처방내역을 바탕으로 합니다.\n",
    "* 처방번호, 약품코드, 가입자번호는 원본을 유추할 수 없도록 전처리되어있습니다.\n",
    "* 같이 처방된 약품은 처방 번호가 같은 개별 행으로 구분되어 주어집니다.\n",
    "    * 예를 들어 감기약, 해열제, 진해거담제, 위장약을 함께 처방받았다면 처방번호가 같은 row가 4개 생깁니다.\n",
    "    \n",
    "##### train.csv\n",
    "\n",
    "* 처방번호: 약의 처방 번호 입니다. 특정 지을 수 없도록 익명화되어 있습니다.\n",
    "* 약품코드: 개별 약품의 코드를 의미합니다. 약품을 특정 지을 수 없도록 익명화되어 있습니다.\n",
    "* 일련번호: 처방번호가 같은 처방에서의 일련번호 입니다. 같은 약품이 용량 등의 이유로 중복 처방되기도 하는데 이 값으로 구분합니다.\n",
    "* 가입자번호: 처방받은 사람의 국민건강보험 가입자번호로 익명화 되어 있습니다.\n",
    "* 성별코드: 1 = 남자, 2 = 여자를 의미합니다.\n",
    "* 연령대코드(5세단위): 5세 단위의 연령대코드 입니다.\n",
    "* 시도코드: 시도 단위 코드로 숫자로 되어 있습니다.\n",
    "* 요양개시일자: 요양개시일자로 연월일로 되어 있습니다.\n",
    "* 1회 투약량\n",
    "* 1일투약량\n",
    "* 총투여일수\n",
    "* 금액: 처방내역에 따른 금액입니다.\n",
    "\n",
    "##### test.csv\n",
    "\n",
    "* id 컬럼이 있으며, 금액 컬럼이 없습니다. \n",
    "* 그 외에는 train.csv에 있는 모든 컬럼이 동일하게 있습니다."
   ]
  },
  {
   "cell_type": "markdown",
   "metadata": {},
   "source": [
    "### 초기 코드 선택\n",
    "\n",
    "Python, R 중 본인의 선호 언어에 따라 초기 코드를 선택하세요. Python을 선호한다면 Python 초기 코드를, R을 선호한다면 R 초기 코드만 남기면 됩니다. 언어를 변경하는 방법이나 사용할 수 있는 라이브러리는 상단의 도움말 버튼에 나와있습니다."
   ]
  },
  {
   "cell_type": "code",
   "execution_count": null,
   "metadata": {},
   "outputs": [],
   "source": [
    "# 초기코드 - python\n",
    "import pandas as pd\n",
    "\n",
    "# 데이터 로드\n",
    "train = pd.read_csv('./data/train.csv')\n",
    "test = pd.read_csv('./data/test.csv', index_col='id')\n",
    "\n",
    "train.head()"
   ]
  },
  {
   "cell_type": "code",
   "execution_count": null,
   "metadata": {},
   "outputs": [],
   "source": [
    "# 초기코드 - R\n",
    "\n",
    "# 데이터 로드\n",
    "train <- read.csv('./data/train.csv')\n",
    "test <- read.csv('./data/test.csv')\n",
    "\n",
    "head(train)"
   ]
  },
  {
   "cell_type": "markdown",
   "metadata": {},
   "source": [
    "# 문제\n",
    "\n",
    "train 데이터를 활용해 test 데이터의 처방 금액을 예측하는 것이 이번 과제의 목표입니다.\n",
    "\n",
    "### 할 일\n",
    "\n",
    "train.csv 처방정보의 금액 정보를 바탕으로 나머지 test.csv 데이터의 처방 금액을 예측해 주세요.\n",
    "\n",
    "| id | 금액 |\n",
    "|----|------|\n",
    "| 0  | 0    |\n",
    "| 1  | 0    |\n",
    "| 2  | 0    |\n",
    "| 3  | 0    |\n",
    "| 4  | 0    |\n",
    "\n",
    "<br/>\n",
    "<center><예측 결과 예시></center>\n",
    "\n",
    "*주의* \n",
    "\n",
    "1. 보편적인 분석 과정에 입각하여 **데이터 전처리 - EDA - 피처 엔지니어링 - 모델링 - 평가** 순으로 코드를 작성해주세요. \n",
    "    * 작성하신 코드와 주석은 정성 평가 시 참고 자료로 활용됩니다.\n",
    "2. 예측 결과를 재현할 수 있도록 random seed 값을 고정시켜주세요.\n",
    "3. 면접관이 코드를 이해할 수 있도록 적절한 주석이나, 마크다운으로 설명을 작성해주세요."
   ]
  },
  {
   "cell_type": "code",
   "execution_count": null,
   "metadata": {},
   "outputs": [],
   "source": [
    "# 여기에 코드를 작성하세요.\n",
    "# 보편적인 분석 과정에 입각하여 **데이터 전처리 - EDA - 피처 엔지니어링 - 모델링 - 평가** 순으로 코드를 작성해주세요."
   ]
  },
  {
   "cell_type": "markdown",
   "metadata": {},
   "source": [
    "##### 2. 예측 결과 저장\n",
    "\n",
    "채점을 위해 위에서 예측한 데이터를 현재 파일과 같은 디렉토리(.ipynb 파일이 있는 디렉토리)에 `submission.csv`라는 이름으로 저장해주세요. 저장할 파일 포맷은 다음 표와 data 디렉토리의 `submission(sample).csv` 파일을 참고하세요.\n",
    "\n",
    "\n",
    "| id | 금액 |\n",
    "|----|------|\n",
    "| 0  | 0    |\n",
    "| 1  | 0    |\n",
    "| 2  | 0    |\n",
    "| 3  | 0    |\n",
    "| 4  | 0    |\n",
    "\n",
    "<br/>\n",
    "<center><파일 저장 예시></center>\n",
    "\n",
    "*주의* \n",
    "\n",
    "1. csv 파일의 컬럼은 반드시 id-금액 순이어야 합니다.\n",
    "2. id는 오름차 순으로 정렬되어있어야 합니다."
   ]
  },
  {
   "cell_type": "markdown",
   "metadata": {},
   "source": [
    "### 여기에 코드를 작성하세요."
   ]
  },
  {
   "cell_type": "code",
   "execution_count": null,
   "metadata": {},
   "outputs": [],
   "source": [
    "# csv 파일 저장 예시 - python\n",
    "test.to_csv('submission.csv')"
   ]
  },
  {
   "cell_type": "code",
   "execution_count": null,
   "metadata": {},
   "outputs": [],
   "source": [
    "# csv 파일 저장 예시 - R\n",
    "write.csv(test, file='submission.csv')"
   ]
  },
  {
   "cell_type": "markdown",
   "metadata": {},
   "source": [
    "# 축구 선수 체력 검사 자료를 이용한 포지션 예측\n",
    "\n",
    "* 본 자료는 가상의 데이터이므로 실제 축구 선수들과는 무관함을 밝혀둡니다.\n",
    "\n",
    "### Data\n",
    "\n",
    "##### train.csv\n",
    "\n",
    "* 각행은 축구선수의 체력검사 자료이며 모두 400명의 가상의 축구선수들의 데이터입니다.\n",
    "* 선수들은 각 포지션마다 체력검사 결과가 일정 부분 경향성으로 보입니다.\n",
    "* 여러분들이 해야 할 일은 이 선수들의 데이터를 학습시켜서 일부 선수들의 포지션도 예측하는 모델을 만드는 것입니다.\n",
    "* train set 은 다음의 데이터로 구성되어 있습니다.\n",
    "    * player_no          : 선수 고유번호\n",
    "    * Height[cm]         : 선수들의 신장 데이터\n",
    "    * Back_strengh[N]    : 선수들의 배근력 검사 데이터\n",
    "    * Sargent_jump[cm]   : 선수들의 제자리 높이뛰기 데이터\n",
    "    * Reaction_time[msec]: 선수들의 반응 속도 데이터\n",
    "    * Side_step[m/s]     : 선수들의 사이드 스텝 속도 데이터\n",
    "    * Flexibility[cm]    : 선수들의 유연성 데이터\n",
    "    * Positon            : 선수들의 포지션 (GoalKeeper, Midfield, Defender, Forward 중 하나)\n",
    "    \n",
    "    \n",
    " <table border=\"1\" class=\"dataframe\">\n",
    "  <thead>\n",
    "    <tr style=\"text-align: right;\">\n",
    "      <th></th>\n",
    "      <th>player_no</th>\n",
    "      <th>Height[cm]</th>\n",
    "      <th>Back_strengh[N]</th>\n",
    "      <th>Sargent_jump[cm]</th>\n",
    "      <th>Reaction_time[msec]</th>\n",
    "      <th>Side_step[m/s]</th>\n",
    "      <th>Flexibility[cm]</th>\n",
    "      <th>Position</th>\n",
    "    </tr>\n",
    "  </thead>\n",
    "  <tbody>\n",
    "    <tr>\n",
    "      <th>0</th>\n",
    "      <td>0</td>\n",
    "      <td>164.73</td>\n",
    "      <td>139.92</td>\n",
    "      <td>59.53</td>\n",
    "      <td>177.07</td>\n",
    "      <td>41.82</td>\n",
    "      <td>21.69</td>\n",
    "      <td>Midfield</td>\n",
    "    </tr>\n",
    "    <tr>\n",
    "      <th>1</th>\n",
    "      <td>1</td>\n",
    "      <td>164.78</td>\n",
    "      <td>105.77</td>\n",
    "      <td>65.46</td>\n",
    "      <td>217.62</td>\n",
    "      <td>38.94</td>\n",
    "      <td>11.03</td>\n",
    "      <td>Defender</td>\n",
    "    </tr>\n",
    "    <tr>\n",
    "      <th>2</th>\n",
    "      <td>2</td>\n",
    "      <td>166.03</td>\n",
    "      <td>123.22</td>\n",
    "      <td>56.50</td>\n",
    "      <td>203.20</td>\n",
    "      <td>39.11</td>\n",
    "      <td>8.17</td>\n",
    "      <td>Forward</td>\n",
    "    </tr>\n",
    "    <tr>\n",
    "      <th>3</th>\n",
    "      <td>3</td>\n",
    "      <td>167.06</td>\n",
    "      <td>111.32</td>\n",
    "      <td>65.91</td>\n",
    "      <td>211.16</td>\n",
    "      <td>40.51</td>\n",
    "      <td>24.18</td>\n",
    "      <td>Midfield</td>\n",
    "    </tr>\n",
    "    <tr>\n",
    "      <th>4</th>\n",
    "      <td>4</td>\n",
    "      <td>167.33</td>\n",
    "      <td>127.71</td>\n",
    "      <td>62.01</td>\n",
    "      <td>163.10</td>\n",
    "      <td>41.05</td>\n",
    "      <td>20.68</td>\n",
    "      <td>Midfield</td>\n",
    "    </tr>\n",
    "  </tbody>\n",
    "</table>\n",
    "    \n",
    "##### test.csv\n",
    "\n",
    "* test.csv 파일에는 train.csv에 있는 컬럼과 같은 내용의 컬럼이 있지만 Position이 없습니다."
   ]
  },
  {
   "cell_type": "markdown",
   "metadata": {},
   "source": [
    "### 초기 코드 선택\n",
    "\n",
    "Python, R 중 본인의 선호 언어에 따라 초기 코드를 선택하세요. Python을 선호한다면 Python 초기 코드를, R을 선호한다면 R 초기 코드만 남기면 됩니다. 언어를 변경하는 방법이나 사용할 수 있는 라이브러리는 상단의 도움말 버튼에 나와있습니다."
   ]
  },
  {
   "cell_type": "code",
   "execution_count": null,
   "metadata": {},
   "outputs": [],
   "source": [
    "# 초기코드 - python\n",
    "import pandas as pd\n",
    "\n",
    "# 데이터 로드\n",
    "train = pd.read_csv('./data/train.csv', index_col='player_no')\n",
    "test = pd.read_csv('./data/test.csv', index_col='player_no')\n",
    "\n",
    "test.head()"
   ]
  },
  {
   "cell_type": "code",
   "execution_count": null,
   "metadata": {},
   "outputs": [],
   "source": [
    "# 초기코드 - R\n",
    "\n",
    "# 데이터 로드\n",
    "train <- read.csv('./data/train.csv')\n",
    "test <- read.csv('./data/test.csv')\n",
    "\n",
    "head(train)"
   ]
  },
  {
   "cell_type": "markdown",
   "metadata": {},
   "source": [
    "# 과제\n",
    "\n",
    "train set의 선수들의 데이터를 이용해 test set의 선수들의 Position을 유추하는 것이 이번 과제의 목표입니다.\n",
    "\n",
    "### 할 일\n",
    "\n",
    "##### 1. 예측\n",
    "\n",
    "본 문제에는 train 데이터와 test 데이터가 주어집니다.\n",
    "\n",
    "1. train 데이터:\n",
    "    * data/train.csv\n",
    "2. test 데이터:\n",
    "    * data/test.csv\n",
    "\n",
    "train 데이터를 이용해 test 데이터에 있는 선수들의 Position을 유추해주세요. Position은 GoalKeeper, Midfield, Defender, Forward 중에 하나여야 합니다. 예를 들어, 다음과 같이 결과를 예측해주시면 됩니다.\n",
    "\n",
    "| player_no | Position |\n",
    "|-----------|----------|\n",
    "| 400       | Midfield |\n",
    "| 401       | Midfield |\n",
    "| 402       | Midfield |\n",
    "| 403       | Midfield |\n",
    "\n",
    "<br/>\n",
    "<center><예측 결과 예시, 모든 플레이어를 Midfield로 예측한 경우></center>\n",
    "\n",
    "*주의*\n",
    "\n",
    "1. 보편적인 분석 과정에 입각하여 코드와 주석을 작성해주세요(전처리, 피쳐 엔지니어링, 모델링, 평가 등)\n",
    "2. 예측 결과를 재현할 수 있도록 random seed 값을 고정시켜주세요.\n",
    "3. 면접관이 코드를 이해할 수 있도록 적절한 주석이나, 마크다운으로 설명을 작성해주세요."
   ]
  },
  {
   "cell_type": "code",
   "execution_count": null,
   "metadata": {},
   "outputs": [],
   "source": [
    "# 여기에 코드를 작성하세요.\n",
    "# 보편적인 분석 과정에 입각하여 코드와 주석을 작성해주세요(전처리, 피쳐 엔지니어링, 모델링, 평가 등)"
   ]
  },
  {
   "cell_type": "markdown",
   "metadata": {},
   "source": [
    "##### 2. 예측 결과 저장\n",
    "\n",
    "채점을 위해 위에서 예측한 데이터를 현재 파일과 같은 디렉토리(.ipynb 파일이 있는 디렉토리)에 `submission.csv`라는 이름으로 저장해주세요. 저장할 파일 포맷은 다음 표와 data 디렉토리의 `submission(sample).csv` 파일을 참고하세요.\n",
    "\n",
    "| player_no | Position |\n",
    "|-----------|----------|\n",
    "| 400       | Midfield |\n",
    "| 401       | Midfield |\n",
    "| 402       | Midfield  |\n",
    "| 403       | Midfield |\n",
    "\n",
    "<br/>\n",
    "<center><파일 저장 예시></center>\n",
    "\n",
    "*주의* \n",
    "\n",
    "1. csv 파일의 컬럼은 반드시 player_no-Position 순이어야 합니다.\n",
    "2. **index 순서(player_no)는 꼭 오름차 순이어야 합니다.**\n",
    "3. 대소문자나 띄어쓰기에 주의해주세요. 예를 들어 Midfield를 midfield와 같이 작성하면 점수를 얻을 수 없습니다."
   ]
  },
  {
   "cell_type": "code",
   "execution_count": null,
   "metadata": {},
   "outputs": [],
   "source": [
    "# 여기에 코드를 작성하세요."
   ]
  },
  {
   "cell_type": "code",
   "execution_count": null,
   "metadata": {},
   "outputs": [],
   "source": [
    "# csv 파일 저장 예시 - python\n",
    "test.to_csv('submission.csv')"
   ]
  },
  {
   "cell_type": "code",
   "execution_count": null,
   "metadata": {},
   "outputs": [],
   "source": [
    "# csv 파일 저장 예시 - R\n",
    "write.csv(test, file='submission.csv')"
   ]
  },
  {
   "cell_type": "code",
   "execution_count": null,
   "metadata": {},
   "outputs": [],
   "source": []
  }
 ],
 "metadata": {
  "kernelspec": {
   "display_name": "Python 3",
   "language": "python",
   "name": "python3"
  },
  "language_info": {
   "codemirror_mode": {
    "name": "ipython",
    "version": 3
   },
   "file_extension": ".py",
   "mimetype": "text/x-python",
   "name": "python",
   "nbconvert_exporter": "python",
   "pygments_lexer": "ipython3",
   "version": "3.6.10"
  }
 },
 "nbformat": 4,
 "nbformat_minor": 4
}
