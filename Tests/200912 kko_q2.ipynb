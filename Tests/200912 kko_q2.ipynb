{
 "cells": [
  {
   "cell_type": "code",
   "execution_count": null,
   "metadata": {},
   "outputs": [],
   "source": [
    "# another sol\n",
    "\n",
    "from itertools import permutations\n",
    "def solution(n):\n",
    "    a = set()\n",
    "    for i in range(len(n)):\n",
    "        a |= set(map(int, map(\"\".join, permutations(list(n), i + 1))))\n",
    "    a -= set(range(0, 2))\n",
    "    # 에라토스테네스 체\n",
    "    for i in range(2, int(max(a) ** 0.5) + 1):\n",
    "        a -= set(range(i * 2, max(a) + 1, i))  # i 자기 자신을 제외하고 배수를 모두 지움\n",
    "    return len(a)"
   ]
  },
  {
   "cell_type": "code",
   "execution_count": null,
   "metadata": {},
   "outputs": [],
   "source": [
    "def solution(orders, course):\n",
    "    answer = []\n",
    "    return answer\n",
    "    "
   ]
  },
  {
   "cell_type": "code",
   "execution_count": null,
   "metadata": {},
   "outputs": [],
   "source": []
  },
  {
   "cell_type": "code",
   "execution_count": null,
   "metadata": {},
   "outputs": [],
   "source": []
  },
  {
   "cell_type": "code",
   "execution_count": null,
   "metadata": {},
   "outputs": [],
   "source": []
  },
  {
   "cell_type": "code",
   "execution_count": 106,
   "metadata": {},
   "outputs": [],
   "source": [
    "# 2일 때 성공\n",
    "\n",
    "def isc(order,case):\n",
    "    result=set(case)-set(order)\n",
    "    if len(result)==0: return True\n",
    "    else: return False\n",
    "    \n",
    "\n",
    "def solution(orders, course):\n",
    "    from itertools import combinations\n",
    "    \n",
    "    alls=[]\n",
    "    _=[alls.extend(list(i)) for i in orders]\n",
    "    alls=set(alls)\n",
    "    \n",
    "#     for num in course:\n",
    "    temp=combinations(alls, 2)\n",
    "    temp=list(  map(''.join, map(sorted, temp))  )\n",
    "    cases=dict(zip(temp, [0]*len(temp)))\n",
    "    \n",
    "    for o in orders:\n",
    "        for c in cases:\n",
    "            if isc(o,c)==True:\n",
    "                cases[c]+=1\n",
    "    print(cases)\n",
    "#     cases=sorted(cases.items(), key=lambda item: item[1], reverse=True)\n",
    "    maxvalue = max(cases.values())\n",
    "#     top=max(cases.items(), key=lambda item: item[1])\n",
    "    \n",
    "    return [k for k,v in cases.items() if v==maxvalue]"
   ]
  },
  {
   "cell_type": "code",
   "execution_count": 108,
   "metadata": {
    "scrolled": true
   },
   "outputs": [
    {
     "name": "stdout",
     "output_type": "stream",
     "text": [
      "{'BF': 2, 'AF': 1, 'EF': 0, 'CF': 2, 'FG': 2, 'FH': 0, 'DF': 1, 'AB': 1, 'BE': 0, 'BC': 2, 'BG': 2, 'BH': 0, 'BD': 1, 'AE': 2, 'AC': 4, 'AG': 1, 'AH': 1, 'AD': 3, 'CE': 3, 'EG': 0, 'EH': 1, 'DE': 3, 'CG': 2, 'CH': 1, 'CD': 4, 'GH': 0, 'DG': 1, 'DH': 1}\n"
     ]
    },
    {
     "data": {
      "text/plain": [
       "['AC', 'CD']"
      ]
     },
     "execution_count": 108,
     "metadata": {},
     "output_type": "execute_result"
    }
   ],
   "source": [
    "solution([\"ABCDFG\", \"AC\", \"CDE\", \"ACDE\", \"BCFG\", \"ACDEH\"], [2,3,4])"
   ]
  },
  {
   "cell_type": "code",
   "execution_count": 42,
   "metadata": {
    "scrolled": true
   },
   "outputs": [
    {
     "data": {
      "text/plain": [
       "[['B', 'F'],\n",
       " ['A', 'F'],\n",
       " ['E', 'F'],\n",
       " ['C', 'F'],\n",
       " ['F', 'G'],\n",
       " ['F', 'H'],\n",
       " ['D', 'F'],\n",
       " ['A', 'B'],\n",
       " ['B', 'E'],\n",
       " ['B', 'C'],\n",
       " ['B', 'G'],\n",
       " ['B', 'H'],\n",
       " ['B', 'D'],\n",
       " ['A', 'E'],\n",
       " ['A', 'C'],\n",
       " ['A', 'G'],\n",
       " ['A', 'H'],\n",
       " ['A', 'D'],\n",
       " ['C', 'E'],\n",
       " ['E', 'G'],\n",
       " ['E', 'H'],\n",
       " ['D', 'E'],\n",
       " ['C', 'G'],\n",
       " ['C', 'H'],\n",
       " ['C', 'D'],\n",
       " ['G', 'H'],\n",
       " ['D', 'G'],\n",
       " ['D', 'H']]"
      ]
     },
     "execution_count": 42,
     "metadata": {},
     "output_type": "execute_result"
    }
   ],
   "source": [
    "test=[('F', 'B'), ('F', 'A'), ('F', 'E'), ('F', 'C'), ('F', 'G'), ('F', 'H'), ('F', 'D'), ('B', 'A'), ('B', 'E'), ('B', 'C'), ('B', 'G'), ('B', 'H'), ('B', 'D'), ('A', 'E'), ('A', 'C'), ('A', 'G'), ('A', 'H'), ('A', 'D'), ('E', 'C'), ('E', 'G'), ('E', 'H'), ('E', 'D'), ('C', 'G'), ('C', 'H'), ('C', 'D'), ('G', 'H'), ('G', 'D'), ('H', 'D')]\n",
    "list(map(sorted, test))"
   ]
  },
  {
   "cell_type": "code",
   "execution_count": 47,
   "metadata": {},
   "outputs": [
    {
     "ename": "TypeError",
     "evalue": "unhashable type: 'list'",
     "output_type": "error",
     "traceback": [
      "\u001b[1;31m---------------------------------------------------------------------------\u001b[0m",
      "\u001b[1;31mTypeError\u001b[0m                                 Traceback (most recent call last)",
      "\u001b[1;32m<ipython-input-47-b4659656b54c>\u001b[0m in \u001b[0;36m<module>\u001b[1;34m\u001b[0m\n\u001b[0;32m      1\u001b[0m \u001b[0mtest\u001b[0m\u001b[1;33m=\u001b[0m\u001b[1;33m[\u001b[0m\u001b[1;33m[\u001b[0m\u001b[1;34m'B'\u001b[0m\u001b[1;33m,\u001b[0m \u001b[1;34m'F'\u001b[0m\u001b[1;33m]\u001b[0m\u001b[1;33m,\u001b[0m \u001b[1;33m[\u001b[0m\u001b[1;34m'A'\u001b[0m\u001b[1;33m,\u001b[0m \u001b[1;34m'F'\u001b[0m\u001b[1;33m]\u001b[0m\u001b[1;33m,\u001b[0m \u001b[1;33m[\u001b[0m\u001b[1;34m'E'\u001b[0m\u001b[1;33m,\u001b[0m \u001b[1;34m'F'\u001b[0m\u001b[1;33m]\u001b[0m\u001b[1;33m,\u001b[0m \u001b[1;33m[\u001b[0m\u001b[1;34m'C'\u001b[0m\u001b[1;33m,\u001b[0m \u001b[1;34m'F'\u001b[0m\u001b[1;33m]\u001b[0m\u001b[1;33m,\u001b[0m \u001b[1;33m[\u001b[0m\u001b[1;34m'F'\u001b[0m\u001b[1;33m,\u001b[0m \u001b[1;34m'G'\u001b[0m\u001b[1;33m]\u001b[0m\u001b[1;33m,\u001b[0m \u001b[1;33m[\u001b[0m\u001b[1;34m'F'\u001b[0m\u001b[1;33m,\u001b[0m \u001b[1;34m'H'\u001b[0m\u001b[1;33m]\u001b[0m\u001b[1;33m,\u001b[0m \u001b[1;33m[\u001b[0m\u001b[1;34m'D'\u001b[0m\u001b[1;33m,\u001b[0m \u001b[1;34m'F'\u001b[0m\u001b[1;33m]\u001b[0m\u001b[1;33m,\u001b[0m \u001b[1;33m[\u001b[0m\u001b[1;34m'A'\u001b[0m\u001b[1;33m,\u001b[0m \u001b[1;34m'B'\u001b[0m\u001b[1;33m]\u001b[0m\u001b[1;33m,\u001b[0m \u001b[1;33m[\u001b[0m\u001b[1;34m'B'\u001b[0m\u001b[1;33m,\u001b[0m \u001b[1;34m'E'\u001b[0m\u001b[1;33m]\u001b[0m\u001b[1;33m,\u001b[0m \u001b[1;33m[\u001b[0m\u001b[1;34m'B'\u001b[0m\u001b[1;33m,\u001b[0m \u001b[1;34m'C'\u001b[0m\u001b[1;33m]\u001b[0m\u001b[1;33m,\u001b[0m \u001b[1;33m[\u001b[0m\u001b[1;34m'B'\u001b[0m\u001b[1;33m,\u001b[0m \u001b[1;34m'G'\u001b[0m\u001b[1;33m]\u001b[0m\u001b[1;33m,\u001b[0m \u001b[1;33m[\u001b[0m\u001b[1;34m'B'\u001b[0m\u001b[1;33m,\u001b[0m \u001b[1;34m'H'\u001b[0m\u001b[1;33m]\u001b[0m\u001b[1;33m,\u001b[0m \u001b[1;33m[\u001b[0m\u001b[1;34m'B'\u001b[0m\u001b[1;33m,\u001b[0m \u001b[1;34m'D'\u001b[0m\u001b[1;33m]\u001b[0m\u001b[1;33m,\u001b[0m \u001b[1;33m[\u001b[0m\u001b[1;34m'A'\u001b[0m\u001b[1;33m,\u001b[0m \u001b[1;34m'E'\u001b[0m\u001b[1;33m]\u001b[0m\u001b[1;33m,\u001b[0m \u001b[1;33m[\u001b[0m\u001b[1;34m'A'\u001b[0m\u001b[1;33m,\u001b[0m \u001b[1;34m'C'\u001b[0m\u001b[1;33m]\u001b[0m\u001b[1;33m,\u001b[0m \u001b[1;33m[\u001b[0m\u001b[1;34m'A'\u001b[0m\u001b[1;33m,\u001b[0m \u001b[1;34m'G'\u001b[0m\u001b[1;33m]\u001b[0m\u001b[1;33m,\u001b[0m \u001b[1;33m[\u001b[0m\u001b[1;34m'A'\u001b[0m\u001b[1;33m,\u001b[0m \u001b[1;34m'H'\u001b[0m\u001b[1;33m]\u001b[0m\u001b[1;33m,\u001b[0m \u001b[1;33m[\u001b[0m\u001b[1;34m'A'\u001b[0m\u001b[1;33m,\u001b[0m \u001b[1;34m'D'\u001b[0m\u001b[1;33m]\u001b[0m\u001b[1;33m,\u001b[0m \u001b[1;33m[\u001b[0m\u001b[1;34m'C'\u001b[0m\u001b[1;33m,\u001b[0m \u001b[1;34m'E'\u001b[0m\u001b[1;33m]\u001b[0m\u001b[1;33m,\u001b[0m \u001b[1;33m[\u001b[0m\u001b[1;34m'E'\u001b[0m\u001b[1;33m,\u001b[0m \u001b[1;34m'G'\u001b[0m\u001b[1;33m]\u001b[0m\u001b[1;33m,\u001b[0m \u001b[1;33m[\u001b[0m\u001b[1;34m'E'\u001b[0m\u001b[1;33m,\u001b[0m \u001b[1;34m'H'\u001b[0m\u001b[1;33m]\u001b[0m\u001b[1;33m,\u001b[0m \u001b[1;33m[\u001b[0m\u001b[1;34m'D'\u001b[0m\u001b[1;33m,\u001b[0m \u001b[1;34m'E'\u001b[0m\u001b[1;33m]\u001b[0m\u001b[1;33m,\u001b[0m \u001b[1;33m[\u001b[0m\u001b[1;34m'C'\u001b[0m\u001b[1;33m,\u001b[0m \u001b[1;34m'G'\u001b[0m\u001b[1;33m]\u001b[0m\u001b[1;33m,\u001b[0m \u001b[1;33m[\u001b[0m\u001b[1;34m'C'\u001b[0m\u001b[1;33m,\u001b[0m \u001b[1;34m'H'\u001b[0m\u001b[1;33m]\u001b[0m\u001b[1;33m,\u001b[0m \u001b[1;33m[\u001b[0m\u001b[1;34m'C'\u001b[0m\u001b[1;33m,\u001b[0m \u001b[1;34m'D'\u001b[0m\u001b[1;33m]\u001b[0m\u001b[1;33m,\u001b[0m \u001b[1;33m[\u001b[0m\u001b[1;34m'G'\u001b[0m\u001b[1;33m,\u001b[0m \u001b[1;34m'H'\u001b[0m\u001b[1;33m]\u001b[0m\u001b[1;33m,\u001b[0m \u001b[1;33m[\u001b[0m\u001b[1;34m'D'\u001b[0m\u001b[1;33m,\u001b[0m \u001b[1;34m'G'\u001b[0m\u001b[1;33m]\u001b[0m\u001b[1;33m,\u001b[0m \u001b[1;33m[\u001b[0m\u001b[1;34m'D'\u001b[0m\u001b[1;33m,\u001b[0m \u001b[1;34m'H'\u001b[0m\u001b[1;33m]\u001b[0m\u001b[1;33m]\u001b[0m\u001b[1;33m\u001b[0m\u001b[1;33m\u001b[0m\u001b[0m\n\u001b[1;32m----> 2\u001b[1;33m \u001b[0mdict\u001b[0m\u001b[1;33m(\u001b[0m\u001b[0mzip\u001b[0m\u001b[1;33m(\u001b[0m\u001b[0mtest\u001b[0m\u001b[1;33m,\u001b[0m\u001b[1;33m[\u001b[0m\u001b[1;36m0\u001b[0m\u001b[1;33m]\u001b[0m\u001b[1;33m*\u001b[0m\u001b[0mlen\u001b[0m\u001b[1;33m(\u001b[0m\u001b[0mtest\u001b[0m\u001b[1;33m)\u001b[0m\u001b[1;33m)\u001b[0m\u001b[1;33m)\u001b[0m\u001b[1;33m\u001b[0m\u001b[1;33m\u001b[0m\u001b[0m\n\u001b[0m",
      "\u001b[1;31mTypeError\u001b[0m: unhashable type: 'list'"
     ]
    }
   ],
   "source": [
    "# list는 dict의 key로 사용 불가 -> tuple로 바꿈\n",
    "test=[['B', 'F'], ['A', 'F'], ['E', 'F'], ['C', 'F'], ['F', 'G'], ['F', 'H'], ['D', 'F'], ['A', 'B'], ['B', 'E'], ['B', 'C'], ['B', 'G'], ['B', 'H'], ['B', 'D'], ['A', 'E'], ['A', 'C'], ['A', 'G'], ['A', 'H'], ['A', 'D'], ['C', 'E'], ['E', 'G'], ['E', 'H'], ['D', 'E'], ['C', 'G'], ['C', 'H'], ['C', 'D'], ['G', 'H'], ['D', 'G'], ['D', 'H']]\n",
    "dict(zip(test,[0]*len(test)))"
   ]
  },
  {
   "cell_type": "code",
   "execution_count": 41,
   "metadata": {},
   "outputs": [
    {
     "data": {
      "text/plain": [
       "['B', 'F']"
      ]
     },
     "execution_count": 41,
     "metadata": {},
     "output_type": "execute_result"
    }
   ],
   "source": [
    "sorted(('F', 'B'))"
   ]
  },
  {
   "cell_type": "code",
   "execution_count": 65,
   "metadata": {},
   "outputs": [
    {
     "data": {
      "text/plain": [
       "False"
      ]
     },
     "execution_count": 65,
     "metadata": {},
     "output_type": "execute_result"
    }
   ],
   "source": [
    "def isc(order,case):\n",
    "    result=set(case)-set(order)\n",
    "    if len(result)==0: return True\n",
    "    else: return False\n",
    "isc(\"ABCFG\",\"AB\")"
   ]
  },
  {
   "cell_type": "code",
   "execution_count": 66,
   "metadata": {},
   "outputs": [],
   "source": [
    "test={'BF': 0, 'AF': 0, 'EF': 0, 'CF': 0, 'FG': 0, 'FH': 0, 'DF': 0, 'AB': 0, 'BE': 0, 'BC': 0, 'BG': 0, 'BH': 0, 'BD': 0, 'AE': 0, 'AC': 0, 'AG': 0, 'AH': 0, 'AD': 0, 'CE': 0, 'EG': 0, 'EH': 0, 'DE': 0, 'CG': 0, 'CH': 0, 'CD': 0, 'GH': 0, 'DG': 0, 'DH': 0}"
   ]
  },
  {
   "cell_type": "code",
   "execution_count": 68,
   "metadata": {},
   "outputs": [],
   "source": [
    "test['AF']+=1"
   ]
  },
  {
   "cell_type": "code",
   "execution_count": 69,
   "metadata": {},
   "outputs": [
    {
     "data": {
      "text/plain": [
       "1"
      ]
     },
     "execution_count": 69,
     "metadata": {},
     "output_type": "execute_result"
    }
   ],
   "source": [
    "test['AF']"
   ]
  },
  {
   "cell_type": "code",
   "execution_count": null,
   "metadata": {},
   "outputs": [],
   "source": [
    "def isc(order,case):\n",
    "    result=set(case)-set(order)\n",
    "    if len(result)==0: return True\n",
    "    else: return False\n",
    "    \n",
    "\n",
    "def solution(orders, course):\n",
    "    from itertools import combinations\n",
    "    \n",
    "    alls=[]\n",
    "    _=[alls.extend(list(i)) for i in orders]\n",
    "    alls=set(alls)\n",
    "    \n",
    "#     for num in course:\n",
    "    temp=combinations(alls, 2)\n",
    "    temp=list(  map(''.join, map(sorted, temp))  )\n",
    "    cases=dict(zip(temp, [0]*len(temp)))\n",
    "    \n",
    "    for o in orders:\n",
    "        for c in cases:\n",
    "            if isc(o,c)==True:\n",
    "                cases[c]+=1\n",
    "    print(cases)\n",
    "#     cases=sorted(cases.items(), key=lambda item: item[1], reverse=True)\n",
    "    maxvalue = max(cases.values())\n",
    "#     top=max(cases.items(), key=lambda item: item[1])\n",
    "    \n",
    "    return [k for k,v in cases.items() if v==maxvalue]"
   ]
  },
  {
   "cell_type": "code",
   "execution_count": 159,
   "metadata": {},
   "outputs": [],
   "source": [
    "def isc(order,case):\n",
    "    if len(order)==0 or len(case)==0: return False\n",
    "    result=set(case)-set(order)\n",
    "    if len(result)==0: return True\n",
    "    else: return False\n",
    "    \n",
    "\n",
    "def solution(orders, course):\n",
    "    from itertools import combinations\n",
    "    \n",
    "    alls=[]\n",
    "    answer=[]\n",
    "    _=[alls.extend(list(i)) for i in orders]\n",
    "    alls=set(alls)\n",
    "    \n",
    "    for num in course:\n",
    "        temp=combinations(alls, num)\n",
    "        temp=list(  map(''.join, map(sorted, temp))  )\n",
    "        cases=dict(zip(temp, [0]*len(temp)))\n",
    "\n",
    "        for o in orders:\n",
    "            for c in cases:\n",
    "                if isc(o,c)==True:\n",
    "                    cases[c]+=1\n",
    "        \n",
    "        maxvalue = max(cases.values())\n",
    "        if maxvalue>1:\n",
    "            top=[k for k,v in cases.items() if v==maxvalue]\n",
    "            answer.append(top)\n",
    "        else:\n",
    "            continue\n",
    "        \n",
    "        \n",
    "#     from functools import reduce\n",
    "#     import operator\n",
    "#     answer=list(reduce(operator.add, answer))\n",
    "    answer=[y for x in answer for y in x]\n",
    "    \n",
    "    return sorted(answer)"
   ]
  },
  {
   "cell_type": "code",
   "execution_count": 160,
   "metadata": {},
   "outputs": [
    {
     "name": "stdout",
     "output_type": "stream",
     "text": [
      "[['AC'], ['CDE'], ['BCFG', 'ACDE']]\n"
     ]
    },
    {
     "data": {
      "text/plain": [
       "['AC', 'ACDE', 'BCFG', 'CDE']"
      ]
     },
     "execution_count": 160,
     "metadata": {},
     "output_type": "execute_result"
    }
   ],
   "source": [
    "solution([\"ABCFG\", \"AC\", \"CDE\", \"ACDE\", \"BCFG\", \"ACDEH\"], [2,3,4])"
   ]
  },
  {
   "cell_type": "code",
   "execution_count": 168,
   "metadata": {},
   "outputs": [
    {
     "name": "stdout",
     "output_type": "stream",
     "text": [
      "475 ns ± 12.4 ns per loop (mean ± std. dev. of 7 runs, 1000000 loops each)\n"
     ]
    }
   ],
   "source": [
    "test=[['AC'], ['CDE'], ['BCFG', 'ACDE']]\n",
    "\n",
    "from functools import reduce\n",
    "import operator\n",
    "%timeit list(reduce(operator.add, test))"
   ]
  },
  {
   "cell_type": "code",
   "execution_count": 166,
   "metadata": {},
   "outputs": [
    {
     "data": {
      "text/plain": [
       "array([list(['AC']), list(['CDE']), list(['BCFG', 'ACDE'])], dtype=object)"
      ]
     },
     "execution_count": 166,
     "metadata": {},
     "output_type": "execute_result"
    }
   ],
   "source": [
    "test=[['AC'], ['CDE'], ['BCFG', 'ACDE']]\n",
    "\n",
    "import numpy as np\n",
    "# np.array(test).reshape(1,-1).tolist()\n",
    "# np.array(test).flatten().flatten().tolist()\n",
    "# np.array(test).ravel()\n",
    "# np.ravel(test, order='C').tolist()\n",
    "test=np.array(test)\n",
    "test.reshape(-1)"
   ]
  },
  {
   "cell_type": "code",
   "execution_count": 170,
   "metadata": {},
   "outputs": [
    {
     "name": "stdout",
     "output_type": "stream",
     "text": [
      "414 ns ± 37.9 ns per loop (mean ± std. dev. of 7 runs, 1000000 loops each)\n"
     ]
    }
   ],
   "source": [
    "test=[['AC'], ['CDE'], ['BCFG', 'ACDE']]\n",
    "%timeit [y for x in test for y in x]"
   ]
  },
  {
   "cell_type": "code",
   "execution_count": null,
   "metadata": {},
   "outputs": [],
   "source": []
  },
  {
   "cell_type": "code",
   "execution_count": 141,
   "metadata": {},
   "outputs": [
    {
     "data": {
      "text/plain": [
       "['ACD', 'AD', 'ADE', 'CD', 'XYZ']"
      ]
     },
     "execution_count": 141,
     "metadata": {},
     "output_type": "execute_result"
    }
   ],
   "source": [
    "solution([\"ABCDE\", \"AB\", \"CD\", \"ADE\", \"XYZ\", \"XYZ\", \"ACD\"], [2, 3, 5])"
   ]
  },
  {
   "cell_type": "code",
   "execution_count": null,
   "metadata": {},
   "outputs": [],
   "source": []
  },
  {
   "cell_type": "code",
   "execution_count": null,
   "metadata": {},
   "outputs": [],
   "source": []
  },
  {
   "cell_type": "code",
   "execution_count": 191,
   "metadata": {},
   "outputs": [],
   "source": [
    "# deque\n",
    "\n",
    "def isc(order,case):\n",
    "    if len(order)==0 or len(case)==0: return False\n",
    "    result=set(case)-set(order)\n",
    "    if len(result)==0: return True\n",
    "    else: return False\n",
    "    \n",
    "\n",
    "def solution(orders, course):\n",
    "    from collections import deque\n",
    "    from itertools import combinations\n",
    "    \n",
    "    orders=deque(orders)\n",
    "    \n",
    "    alls=[]\n",
    "    answer=[]\n",
    "    _=[alls.extend(list(i)) for i in orders]\n",
    "    alls=set(alls)\n",
    "    \n",
    "    for num in course:\n",
    "        temp=combinations(alls, num)\n",
    "        temp=deque(  map(''.join, map(sorted, temp))  )\n",
    "        cases=dict(zip(temp, [0]*len(temp)))\n",
    "\n",
    "        for o in orders:\n",
    "            for c in cases:\n",
    "                if isc(o,c)==True:\n",
    "                    cases[c]+=1\n",
    "        \n",
    "        maxvalue = max(cases.values())\n",
    "        if maxvalue>1:\n",
    "            top=[k for k,v in cases.items() if v==maxvalue]\n",
    "            answer.append(top)\n",
    "        else:\n",
    "            continue\n",
    "            \n",
    "    answer=[y for x in answer for y in x]\n",
    "    \n",
    "    return sorted(answer)"
   ]
  },
  {
   "cell_type": "code",
   "execution_count": 192,
   "metadata": {},
   "outputs": [
    {
     "data": {
      "text/plain": [
       "['ACD', 'AD', 'ADE', 'CD', 'XYZ']"
      ]
     },
     "execution_count": 192,
     "metadata": {},
     "output_type": "execute_result"
    }
   ],
   "source": [
    "solution([\"ABCDE\", \"AB\", \"CD\", \"ADE\", \"XYZ\", \"XYZ\", \"ACD\"], [2, 3, 5])"
   ]
  },
  {
   "cell_type": "code",
   "execution_count": 190,
   "metadata": {},
   "outputs": [
    {
     "data": {
      "text/plain": [
       "deque([('b', 'a'), ('b', 'c'), ('a', 'c')])"
      ]
     },
     "execution_count": 190,
     "metadata": {},
     "output_type": "execute_result"
    }
   ],
   "source": [
    "from collections import deque\n",
    "from itertools import combinations\n",
    "deque(combinations({'a','b','c'}, 2))"
   ]
  },
  {
   "cell_type": "code",
   "execution_count": null,
   "metadata": {},
   "outputs": [],
   "source": []
  },
  {
   "cell_type": "code",
   "execution_count": null,
   "metadata": {},
   "outputs": [],
   "source": []
  },
  {
   "cell_type": "code",
   "execution_count": null,
   "metadata": {},
   "outputs": [],
   "source": []
  },
  {
   "cell_type": "code",
   "execution_count": 4,
   "metadata": {},
   "outputs": [],
   "source": [
    "# for문 반대로\n",
    "# test12 1461ms\n",
    "\n",
    "def isc(order,case):\n",
    "    if len(order)==0 or len(case)==0: return False\n",
    "    result=set(case)-set(order)\n",
    "    if len(result)==0: return True\n",
    "    else: return False\n",
    "    \n",
    "\n",
    "def solution(orders, course):\n",
    "    from itertools import combinations\n",
    "    \n",
    "    alls=[]\n",
    "    answer=[]\n",
    "    _=[alls.extend(list(i)) for i in orders]\n",
    "    alls=set(alls)\n",
    "    \n",
    "    for num in course:\n",
    "        temp=combinations(alls, num)\n",
    "        temp=list(  map(''.join, map(sorted, temp))  )\n",
    "        cases=dict(zip(temp, [0]*len(temp)))\n",
    "\n",
    "        for c in cases:\n",
    "            cases[c]=sum([isc(o,c) for o in orders])\n",
    "        maxvalue = max(cases.values())\n",
    "        \n",
    "        if maxvalue>1:\n",
    "            top=[k for k,v in cases.items() if v==maxvalue]\n",
    "            answer.append(top)\n",
    "        else:\n",
    "            continue\n",
    "            \n",
    "    answer=[y for x in answer for y in x]\n",
    "    \n",
    "    return sorted(answer)"
   ]
  },
  {
   "cell_type": "code",
   "execution_count": 5,
   "metadata": {},
   "outputs": [
    {
     "data": {
      "text/plain": [
       "['ACD', 'AD', 'ADE', 'CD', 'XYZ']"
      ]
     },
     "execution_count": 5,
     "metadata": {},
     "output_type": "execute_result"
    }
   ],
   "source": [
    "solution([\"ABCDE\", \"AB\", \"CD\", \"ADE\", \"XYZ\", \"XYZ\", \"ACD\"], [2, 3, 5])"
   ]
  },
  {
   "cell_type": "code",
   "execution_count": 207,
   "metadata": {},
   "outputs": [],
   "source": [
    "cases2= ['ABE', 'ABC', 'ABY', 'ABZ', 'ABX', 'ABD', 'BCE', 'BEY', 'BEZ', 'BEX', 'BDE', 'BCY', 'BCZ', 'BCX', 'BCD', 'BYZ', 'BXY', 'BDY', 'BXZ', 'BDZ', 'BDX', 'ACE', 'AEY', 'AEZ', 'AEX', 'ADE', 'ACY', 'ACZ', 'ACX', 'ACD', 'AYZ', 'AXY', 'ADY', 'AXZ', 'ADZ', 'ADX', 'CEY', 'CEZ', 'CEX', 'CDE', 'EYZ', 'EXY', 'DEY', 'EXZ', 'DEZ', 'DEX', 'CYZ', 'CXY', 'CDY', 'CXZ', 'CDZ', 'CDX', 'XYZ', 'DYZ', 'DXY', 'DXZ']\n",
    "order2=[\"ABCDE\", \"AB\", \"CD\", \"ADE\", \"XYZ\", \"XYZ\", \"ACD\"]"
   ]
  },
  {
   "cell_type": "code",
   "execution_count": 219,
   "metadata": {},
   "outputs": [
    {
     "ename": "TypeError",
     "evalue": "unsupported operand type(s) for +: 'int' and 'str'",
     "output_type": "error",
     "traceback": [
      "\u001b[1;31m---------------------------------------------------------------------------\u001b[0m",
      "\u001b[1;31mTypeError\u001b[0m                                 Traceback (most recent call last)",
      "\u001b[1;32m<ipython-input-219-0bf4bcb81fb6>\u001b[0m in \u001b[0;36m<module>\u001b[1;34m\u001b[0m\n\u001b[0;32m      1\u001b[0m \u001b[1;32mfor\u001b[0m \u001b[0mc\u001b[0m \u001b[1;32min\u001b[0m \u001b[0mcases2\u001b[0m\u001b[1;33m:\u001b[0m\u001b[1;33m\u001b[0m\u001b[1;33m\u001b[0m\u001b[0m\n\u001b[0;32m      2\u001b[0m     \u001b[0morder2\u001b[0m\u001b[1;33m.\u001b[0m\u001b[0mcount\u001b[0m\u001b[1;33m(\u001b[0m\u001b[0mc\u001b[0m\u001b[1;33m)\u001b[0m\u001b[1;33m\u001b[0m\u001b[1;33m\u001b[0m\u001b[0m\n\u001b[1;32m----> 3\u001b[1;33m     \u001b[0mprint\u001b[0m\u001b[1;33m(\u001b[0m\u001b[0msum\u001b[0m\u001b[1;33m(\u001b[0m\u001b[1;33m[\u001b[0m\u001b[0mo\u001b[0m \u001b[1;32mfor\u001b[0m \u001b[0mo\u001b[0m \u001b[1;32min\u001b[0m \u001b[0morder2\u001b[0m \u001b[1;32mif\u001b[0m \u001b[0misc\u001b[0m\u001b[1;33m(\u001b[0m\u001b[0mo\u001b[0m\u001b[1;33m,\u001b[0m \u001b[0mc\u001b[0m\u001b[1;33m)\u001b[0m\u001b[1;33m]\u001b[0m\u001b[1;33m)\u001b[0m\u001b[1;33m)\u001b[0m\u001b[1;33m\u001b[0m\u001b[1;33m\u001b[0m\u001b[0m\n\u001b[0m",
      "\u001b[1;31mTypeError\u001b[0m: unsupported operand type(s) for +: 'int' and 'str'"
     ]
    }
   ],
   "source": [
    "for c in cases2:\n",
    "    order2.count(c)\n",
    "    print(sum([o for o in order2 if isc(o, c)]))"
   ]
  },
  {
   "cell_type": "code",
   "execution_count": 223,
   "metadata": {
    "scrolled": true
   },
   "outputs": [
    {
     "name": "stdout",
     "output_type": "stream",
     "text": [
      "ABE 1\n",
      "ABC 1\n",
      "ABY 0\n",
      "ABZ 0\n",
      "ABX 0\n",
      "ABD 1\n",
      "BCE 1\n",
      "BEY 0\n",
      "BEZ 0\n",
      "BEX 0\n",
      "BDE 1\n",
      "BCY 0\n",
      "BCZ 0\n",
      "BCX 0\n",
      "BCD 1\n",
      "BYZ 0\n",
      "BXY 0\n",
      "BDY 0\n",
      "BXZ 0\n",
      "BDZ 0\n",
      "BDX 0\n",
      "ACE 1\n",
      "AEY 0\n",
      "AEZ 0\n",
      "AEX 0\n",
      "ADE 2\n",
      "ACY 0\n",
      "ACZ 0\n",
      "ACX 0\n",
      "ACD 2\n",
      "AYZ 0\n",
      "AXY 0\n",
      "ADY 0\n",
      "AXZ 0\n",
      "ADZ 0\n",
      "ADX 0\n",
      "CEY 0\n",
      "CEZ 0\n",
      "CEX 0\n",
      "CDE 1\n",
      "EYZ 0\n",
      "EXY 0\n",
      "DEY 0\n",
      "EXZ 0\n",
      "DEZ 0\n",
      "DEX 0\n",
      "CYZ 0\n",
      "CXY 0\n",
      "CDY 0\n",
      "CXZ 0\n",
      "CDZ 0\n",
      "CDX 0\n",
      "XYZ 2\n",
      "DYZ 0\n",
      "DXY 0\n",
      "DXZ 0\n"
     ]
    }
   ],
   "source": [
    "for c in cases2:\n",
    "    print(c,sum([isc(o,c) for o in order2]))"
   ]
  },
  {
   "cell_type": "code",
   "execution_count": 216,
   "metadata": {},
   "outputs": [
    {
     "data": {
      "text/plain": [
       "Counter({'A': 1, 'B': 1, 'C': 1, 'D': 1, 'E': 1})"
      ]
     },
     "execution_count": 216,
     "metadata": {},
     "output_type": "execute_result"
    }
   ],
   "source": [
    "from collections import Counter\n",
    "Counter(order2[0])"
   ]
  },
  {
   "cell_type": "code",
   "execution_count": 23,
   "metadata": {},
   "outputs": [],
   "source": [
    "# isc 바꿈 705ms 오!\n",
    "\n",
    "# def isc(order,case):\n",
    "#     if len(order)==0 or len(case)==0: return False\n",
    "#     result=set(case)-set(order)\n",
    "#     if len(result)==0: return True\n",
    "#     else: return False\n",
    "\n",
    "    \n",
    "def isc(order,case):\n",
    "    if len(order)==0 or len(case)==0: return False\n",
    "    \n",
    "    cnt=0\n",
    "    for c in case:\n",
    "        if c in order:\n",
    "            cnt+=1\n",
    "    if cnt==len(case): return True\n",
    "    \n",
    "    #위를 이렇게 바꾸니 1210ms\n",
    "#     if sum([1 if c in order else 0 for c in case])==len(case): return True\n",
    "    \n",
    "    else: return False\n",
    "    \n",
    "\n",
    "def solution(orders, course):\n",
    "    answer=[]\n",
    "    from itertools import combinations\n",
    "    \n",
    "    # 먼저..\n",
    "    order_str=''.join(orders)\n",
    "    from collections import Counter\n",
    "    cnt=Counter(order_str)\n",
    "    iwilldel=[k for k,v in list(cnt.items()) if v==1] #1번나온것 pick\n",
    "    \n",
    "    alls=set(order_str)-set(iwilldel) #12테 519ms\n",
    "    \n",
    "    for num in course:\n",
    "        temp=combinations(alls, num)\n",
    "        temp=list(  map(''.join, map(sorted, temp))  )\n",
    "        cases=dict(zip(temp, [0]*len(temp)))\n",
    "        \n",
    "        \n",
    "        # sum 풀어쓰니 -30ms\n",
    "        for c in cases:\n",
    "            for o in orders:\n",
    "                if isc(o,c)==True:\n",
    "                    cases[c]+=1\n",
    "                    \n",
    "        maxvalue = max(cases.values())\n",
    "        \n",
    "        if maxvalue>1:\n",
    "            top=[k for k,v in cases.items() if v==maxvalue]\n",
    "            answer.append(top)\n",
    "        else:\n",
    "            continue\n",
    "            \n",
    "    answer=[y for x in answer for y in x]\n",
    "    \n",
    "    return sorted(answer)"
   ]
  },
  {
   "cell_type": "code",
   "execution_count": 24,
   "metadata": {},
   "outputs": [
    {
     "name": "stdout",
     "output_type": "stream",
     "text": [
      "[]\n"
     ]
    },
    {
     "data": {
      "text/plain": [
       "['ACD', 'AD', 'ADE', 'CD', 'XYZ']"
      ]
     },
     "execution_count": 24,
     "metadata": {},
     "output_type": "execute_result"
    }
   ],
   "source": [
    "solution([\"ABCDE\", \"AB\", \"CD\", \"ADE\", \"XYZ\", \"XYZ\", \"ACD\"], [2, 3, 5])"
   ]
  },
  {
   "cell_type": "code",
   "execution_count": null,
   "metadata": {},
   "outputs": [],
   "source": []
  },
  {
   "cell_type": "code",
   "execution_count": null,
   "metadata": {},
   "outputs": [],
   "source": []
  },
  {
   "cell_type": "code",
   "execution_count": null,
   "metadata": {},
   "outputs": [],
   "source": [
    "# for 다른 방식-취소\n",
    "\n",
    "def isc(order,case):\n",
    "    if len(order)==0 or len(case)==0: return False\n",
    "    result=set(case)-set(order)\n",
    "    if len(result)==0: return True\n",
    "    else: return False\n",
    "    \n",
    "\n",
    "def solution(orders, course):\n",
    "    from itertools import combinations\n",
    "    \n",
    "    alls=[]\n",
    "    answer=[]\n",
    "    _=[alls.extend(list(i)) for i in orders if len(i)>1] # 조건추가하니 12텟 1524ms\n",
    "    alls=set(alls)\n",
    "    \n",
    "    for num in course:\n",
    "        if num==2:\n",
    "            order_temp=''.join(orders)\n",
    "            from collections import Counter\n",
    "            cnt=Counter(order_temp)\n",
    "            maxval=max(list(cnt.values()))\n",
    "            =[k for k in list(cnt.keys()) if k==maxval]\n",
    "            \n",
    "        \n",
    "        temp=combinations(alls, num)\n",
    "        temp=list(  map(''.join, map(sorted, temp))  )\n",
    "        cases=dict(zip(temp, [0]*len(temp)))\n",
    "\n",
    "        for c in cases:\n",
    "            cases[c]=sum([isc(o,c) for o in orders])\n",
    "        maxvalue = max(cases.values())\n",
    "        \n",
    "        if maxvalue>1:\n",
    "            top=[k for k,v in cases.items() if v==maxvalue]\n",
    "            answer.append(top)\n",
    "        else:\n",
    "            continue\n",
    "            \n",
    "    answer=[y for x in answer for y in x]\n",
    "    \n",
    "    return sorted(answer)"
   ]
  },
  {
   "cell_type": "code",
   "execution_count": 6,
   "metadata": {},
   "outputs": [],
   "source": [
    "order_temp=''.join([\"ABCFG\", \"AC\", \"CDE\", \"ACDE\", \"BCFG\", \"ACDEH\"])"
   ]
  },
  {
   "cell_type": "code",
   "execution_count": 7,
   "metadata": {},
   "outputs": [
    {
     "data": {
      "text/plain": [
       "'ABCFGACCDEACDEBCFGACDEH'"
      ]
     },
     "execution_count": 7,
     "metadata": {},
     "output_type": "execute_result"
    }
   ],
   "source": [
    "order_temp"
   ]
  },
  {
   "cell_type": "code",
   "execution_count": 16,
   "metadata": {},
   "outputs": [
    {
     "data": {
      "text/plain": [
       "['C']"
      ]
     },
     "execution_count": 16,
     "metadata": {},
     "output_type": "execute_result"
    }
   ],
   "source": [
    "from collections import Counter\n",
    "cnt=Counter(order_temp)\n",
    "maxval=max(list(cnt.values()))\n",
    "[k for k,v in list(cnt.items()) if v==maxval]"
   ]
  },
  {
   "cell_type": "code",
   "execution_count": 11,
   "metadata": {},
   "outputs": [
    {
     "data": {
      "text/plain": [
       "['A', 'B', 'C', 'F', 'G', 'D', 'E', 'H']"
      ]
     },
     "execution_count": 11,
     "metadata": {},
     "output_type": "execute_result"
    }
   ],
   "source": [
    "list(cnt.keys())"
   ]
  },
  {
   "cell_type": "code",
   "execution_count": 12,
   "metadata": {},
   "outputs": [
    {
     "data": {
      "text/plain": [
       "Counter({'A': 4, 'B': 2, 'C': 6, 'F': 2, 'G': 2, 'D': 3, 'E': 3, 'H': 1})"
      ]
     },
     "execution_count": 12,
     "metadata": {},
     "output_type": "execute_result"
    }
   ],
   "source": [
    "cnt"
   ]
  },
  {
   "cell_type": "code",
   "execution_count": 25,
   "metadata": {},
   "outputs": [],
   "source": [
    "# 문자 조합 다 검사하지 말고, 있는거에서 추가하자고!\n",
    "# 통과...\n",
    "\n",
    "    \n",
    "def isc(order,case):\n",
    "    if len(order)==0 or len(case)==0: return False\n",
    "    \n",
    "    cnt=0\n",
    "    for c in case:\n",
    "        if c in order:\n",
    "            cnt+=1\n",
    "    if cnt==len(case): return True\n",
    "    \n",
    "    else: return False\n",
    "    \n",
    "\n",
    "def solution(orders, course):\n",
    "    answer=[]\n",
    "    from itertools import combinations\n",
    "    \n",
    "    # 먼저..\n",
    "    order_str=''.join(orders)\n",
    "    from collections import Counter\n",
    "    cnt=Counter(order_str)\n",
    "#     iwilldel=[k for k,v in list(cnt.items()) if v==1] #1번나온것 pick\n",
    "    \n",
    "    alls=set(order_str)\n",
    "    \n",
    "    for num in course:\n",
    "        temp=combinations(alls, num)\n",
    "        temp=list(  map(''.join, map(sorted, temp))  )\n",
    "        cases=dict(zip(temp, [0]*len(temp)))\n",
    "        \n",
    "        \n",
    "        # sum 풀어쓰니 -30ms\n",
    "        for order in orders:\n",
    "            order_comb=combinations(order, num)\n",
    "            order_comb=list(  map(''.join, map(sorted, order_comb))  )\n",
    "            for oc in order_comb:\n",
    "#                 if isc(oc,c)==True:\n",
    "                cases[oc]+=1\n",
    "                    \n",
    "        maxvalue = max(cases.values())\n",
    "        \n",
    "        if maxvalue>1:\n",
    "            top=[k for k,v in cases.items() if v==maxvalue]\n",
    "            answer.append(top)\n",
    "        else:\n",
    "            continue\n",
    "            \n",
    "    answer=[y for x in answer for y in x]\n",
    "    \n",
    "    return sorted(answer)"
   ]
  },
  {
   "cell_type": "code",
   "execution_count": 26,
   "metadata": {},
   "outputs": [
    {
     "data": {
      "text/plain": [
       "['ACD', 'AD', 'ADE', 'CD', 'XYZ']"
      ]
     },
     "execution_count": 26,
     "metadata": {},
     "output_type": "execute_result"
    }
   ],
   "source": [
    "solution([\"ABCDE\", \"AB\", \"CD\", \"ADE\", \"XYZ\", \"XYZ\", \"ACD\"], [2, 3, 5])"
   ]
  },
  {
   "cell_type": "markdown",
   "metadata": {},
   "source": [
    "테스트 1 〉\t통과 (0.49ms, 9.73MB)\n",
    "테스트 2 〉\t통과 (0.33ms, 9.64MB)\n",
    "테스트 3 〉\t통과 (0.22ms, 9.78MB)\n",
    "테스트 4 〉\t통과 (1.00ms, 9.62MB)\n",
    "테스트 5 〉\t통과 (0.32ms, 9.71MB)\n",
    "테스트 6 〉\t통과 (0.51ms, 9.74MB)\n",
    "테스트 7 〉\t통과 (0.51ms, 9.71MB)\n",
    "테스트 8 〉\t통과 (3.14ms, 9.67MB)\n",
    "테스트 9 〉\t통과 (2.52ms, 9.7MB)\n",
    "테스트 10 〉\t통과 (35.74ms, 20.2MB)\n",
    "테스트 11 〉\t통과 (29.87ms, 17.6MB)\n",
    "테스트 12 〉\t통과 (38.14ms, 20.3MB)\n",
    "테스트 13 〉\t통과 (5065.74ms, 876MB)\n",
    "테스트 14 〉\t통과 (7163.79ms, 1.03GB)\n",
    "테스트 15 〉\t통과 (2621.59ms, 571MB)\n",
    "테스트 16 〉\t통과 (1.78ms, 9.85MB)\n",
    "테스트 17 〉\t통과 (8.51ms, 10.6MB)\n",
    "테스트 18 〉\t통과 (5.47ms, 10.4MB)\n",
    "테스트 19 〉\t통과 (0.16ms, 9.62MB)\n",
    "테스트 20 〉\t통과 (1.26ms, 9.72MB)"
   ]
  }
 ],
 "metadata": {
  "kernelspec": {
   "display_name": "Python 3",
   "language": "python",
   "name": "python3"
  },
  "toc": {
   "base_numbering": 1,
   "nav_menu": {},
   "number_sections": false,
   "sideBar": true,
   "skip_h1_title": false,
   "title_cell": "Table of Contents",
   "title_sidebar": "Contents",
   "toc_cell": false,
   "toc_position": {},
   "toc_section_display": true,
   "toc_window_display": false
  }
 },
 "nbformat": 4,
 "nbformat_minor": 4
}
