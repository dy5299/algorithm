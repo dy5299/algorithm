{
 "cells": [
  {
   "cell_type": "code",
   "execution_count": null,
   "metadata": {},
   "outputs": [],
   "source": [
    "#데이터의 열에 표현식이 존재하는경우만 반환\n",
    "\n",
    "def preprocessing(data, column, regression):\n",
    "    #print(regression, column)\n",
    "    if type(data[column][0]) == np.float64:\n",
    "        temp = data[column].fillna(-1).astype(int).astype(str)\n",
    "        flag = temp.str.contains(regression, regex=True).astype('bool')\n",
    "    else:\n",
    "        flag = data[column].fillna('X').str.contains(regression, regex=True).astype('bool')\n",
    "    print(column, regression, len(data[flag]))\n",
    "    return data[flag]\n",
    "    \n",
    "    "
   ]
  },
  {
   "cell_type": "code",
   "execution_count": null,
   "metadata": {},
   "outputs": [],
   "source": [
    "#정규표현식을 이용해 필요한 column이 다른값이 들어가는 경우를 제거한다. \n",
    "#위의 정규표현식을 수정하여 좀더 정교하게 \n",
    "\n",
    "new_call = call\n",
    "for i in range(len(reg)):\n",
    "    new_call = preprocessing(new_call, call.columns[i], reg[i])\n",
    "new_call"
   ]
  },
  {
   "cell_type": "code",
   "execution_count": null,
   "metadata": {},
   "outputs": [],
   "source": [
    "reg=['^[0-9]+$',]"
   ]
  },
  {
   "cell_type": "code",
   "execution_count": null,
   "metadata": {},
   "outputs": [],
   "source": []
  },
  {
   "cell_type": "code",
   "execution_count": null,
   "metadata": {},
   "outputs": [],
   "source": []
  },
  {
   "cell_type": "code",
   "execution_count": 48,
   "metadata": {},
   "outputs": [],
   "source": [
    "def dell(string):\n",
    "    import re\n",
    "#     return re.findall('[A-Za-z0-9\\.\\-_+]','',string)\n",
    "#     return re.compile(\"^[a-z][-a-z0-9\\._]*$\", string)\n",
    "    second=re.sub('[^a-zA-Z0-9_\\-.]', \"\", string).lower() # 2단계성공\n",
    "    return second"
   ]
  },
  {
   "cell_type": "code",
   "execution_count": 31,
   "metadata": {
    "scrolled": true
   },
   "outputs": [
    {
     "data": {
      "text/plain": [
       "'...bat..y.ab234cd_ef-ghijklm'"
      ]
     },
     "execution_count": 31,
     "metadata": {},
     "output_type": "execute_result"
    }
   ],
   "source": [
    "dell(\"...!@BaT#*..y.ab234cd_ef-ghijklm\")"
   ]
  },
  {
   "cell_type": "code",
   "execution_count": 32,
   "metadata": {},
   "outputs": [
    {
     "data": {
      "text/plain": [
       "'...bat..y.abcdefghijklm'"
      ]
     },
     "execution_count": 32,
     "metadata": {},
     "output_type": "execute_result"
    }
   ],
   "source": [
    "dell(\"...!@BaT#*..y.abcdefghijklm\")"
   ]
  },
  {
   "cell_type": "code",
   "execution_count": 99,
   "metadata": {},
   "outputs": [],
   "source": [
    "def dell(string):\n",
    "    import re\n",
    "    second=re.sub('[^a-zA-Z0-9_\\-.]', \"\", string).lower() # 2단계성공\n",
    "    return second\n",
    "#     return re.sub(' +',' ',second)"
   ]
  },
  {
   "cell_type": "code",
   "execution_count": 100,
   "metadata": {},
   "outputs": [
    {
     "data": {
      "text/plain": [
       "'...........bat..y.abcdefghijklm'"
      ]
     },
     "execution_count": 100,
     "metadata": {},
     "output_type": "execute_result"
    }
   ],
   "source": [
    "dell(\"...........!@BaT#*..y.abcdefghijklm\")"
   ]
  },
  {
   "cell_type": "code",
   "execution_count": 109,
   "metadata": {},
   "outputs": [],
   "source": [
    "def solution(new_id):\n",
    "    new_id=str(new_id)\n",
    "    import re\n",
    "    new_id=re.sub('[^a-zA-Z0-9_\\-.]', \"\", new_id).lower()\n",
    "#     print(\"2>>\",new_id)\n",
    "    \n",
    "    new_id='.'.join(new_id.replace('.',' ').split())\n",
    "#     print(\"3>>\",new_id)\n",
    "    \n",
    "    if new_id=='': new_id=\"a\"\n",
    "#     print(\"4>>\",new_id)\n",
    "    \n",
    "    if len(new_id)>=16:\n",
    "        new_id=new_id[:15]\n",
    "        if new_id[-1]=='.': new_id=new_id[:-1]\n",
    "#     print(\"5>>\",new_id)\n",
    "    \n",
    "    if len(new_id)<=2:\n",
    "        new_id=str(new_id+new_id[-1]*3)[:3]\n",
    "    \n",
    "    return new_id"
   ]
  },
  {
   "cell_type": "code",
   "execution_count": 110,
   "metadata": {},
   "outputs": [
    {
     "name": "stdout",
     "output_type": "stream",
     "text": [
      "2>> ...........bat..y.abcdefghijklm\n",
      "3>> bat.y.abcdefghijklm\n",
      "4>> bat.y.abcdefghijklm\n",
      "5>> bat.y.abcdefghi\n"
     ]
    },
    {
     "data": {
      "text/plain": [
       "'bat.y.abcdefghi'"
      ]
     },
     "execution_count": 110,
     "metadata": {},
     "output_type": "execute_result"
    }
   ],
   "source": [
    "solution(\"...........!@BaT#*..y.abcdefghijklm\")"
   ]
  },
  {
   "cell_type": "code",
   "execution_count": 111,
   "metadata": {},
   "outputs": [
    {
     "data": {
      "text/plain": [
       "'tes'"
      ]
     },
     "execution_count": 111,
     "metadata": {},
     "output_type": "execute_result"
    }
   ],
   "source": [
    "str(\"test\"*3)[:3]"
   ]
  },
  {
   "cell_type": "code",
   "execution_count": 113,
   "metadata": {},
   "outputs": [
    {
     "name": "stdout",
     "output_type": "stream",
     "text": [
      "2>> z-..\n",
      "3>> z-\n",
      "4>> z-\n",
      "5>> z-\n"
     ]
    },
    {
     "data": {
      "text/plain": [
       "'z-z'"
      ]
     },
     "execution_count": 113,
     "metadata": {},
     "output_type": "execute_result"
    }
   ],
   "source": [
    "solution(\"z-+.^.\")"
   ]
  },
  {
   "cell_type": "markdown",
   "metadata": {},
   "source": [
    "테스트 1 〉\t통과 (3.50ms, 9.96MB)\n",
    "테스트 2 〉\t통과 (5.25ms, 10.1MB)\n",
    "테스트 3 〉\t통과 (3.38ms, 10MB)\n",
    "테스트 4 〉\t통과 (3.71ms, 10.1MB)\n",
    "테스트 5 〉\t통과 (3.73ms, 10.1MB)\n",
    "테스트 6 〉\t통과 (3.41ms, 10.1MB)\n",
    "테스트 7 〉\t통과 (2.93ms, 9.96MB)\n",
    "테스트 8 〉\t통과 (3.43ms, 9.95MB)\n",
    "테스트 9 〉\t통과 (3.26ms, 9.99MB)\n",
    "테스트 10 〉\t통과 (3.81ms, 10MB)\n",
    "테스트 11 〉\t통과 (3.67ms, 10MB)\n",
    "테스트 12 〉\t통과 (3.13ms, 10.1MB)\n",
    "테스트 13 〉\t통과 (3.33ms, 10MB)\n",
    "테스트 14 〉\t통과 (2.99ms, 10.1MB)\n",
    "테스트 15 〉\t통과 (3.33ms, 9.96MB)\n",
    "테스트 16 〉\t통과 (3.42ms, 10.2MB)\n",
    "테스트 17 〉\t통과 (3.89ms, 10.1MB)\n",
    "테스트 18 〉\t통과 (3.68ms, 10.1MB)\n",
    "테스트 19 〉\t통과 (3.71ms, 10.1MB)\n",
    "테스트 20 〉\t통과 (3.57ms, 10MB)\n",
    "테스트 21 〉\t통과 (3.98ms, 10MB)\n",
    "테스트 22 〉\t통과 (3.36ms, 10MB)\n",
    "테스트 23 〉\t통과 (3.58ms, 10MB)\n",
    "테스트 24 〉\t통과 (3.59ms, 10.1MB)\n",
    "테스트 25 〉\t통과 (5.31ms, 10MB)\n",
    "테스트 26 〉\t통과 (3.72ms, 10MB)"
   ]
  }
 ],
 "metadata": {
  "kernelspec": {
   "display_name": "Python 3",
   "language": "python",
   "name": "python3"
  },
  "language_info": {
   "codemirror_mode": {
    "name": "ipython",
    "version": 3
   },
   "file_extension": ".py",
   "mimetype": "text/x-python",
   "name": "python",
   "nbconvert_exporter": "python",
   "pygments_lexer": "ipython3",
   "version": "3.6.10"
  },
  "toc": {
   "base_numbering": 1,
   "nav_menu": {},
   "number_sections": false,
   "sideBar": true,
   "skip_h1_title": false,
   "title_cell": "Table of Contents",
   "title_sidebar": "Contents",
   "toc_cell": false,
   "toc_position": {},
   "toc_section_display": true,
   "toc_window_display": false
  }
 },
 "nbformat": 4,
 "nbformat_minor": 4
}
