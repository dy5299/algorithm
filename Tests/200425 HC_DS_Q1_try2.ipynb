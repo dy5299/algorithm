{
 "cells": [
  {
   "cell_type": "code",
   "execution_count": null,
   "metadata": {},
   "outputs": [],
   "source": [
    "# 사용할 수 있는 라이브러리\n",
    "import pandas\n",
    "import matplotlib\n",
    "import scipy\n",
    "import seaborn\n",
    "import scikit-learn\n",
    "import numexpr\n",
    "import scikit-image\n",
    "import sympy\n",
    "import cython\n",
    "import pasty\n",
    "import statsmodel\n",
    "import cloudpickle\n",
    "import dill\n",
    "import numba\n",
    "import bokeh\n",
    "import sqlalchemy\n",
    "import hdf5\n",
    "import vincent\n",
    "import beautifulsoup\n",
    "import protobuf\n",
    "import xlrd package"
   ]
  },
  {
   "cell_type": "markdown",
   "metadata": {},
   "source": [
    "# 약품 처방 금액 예측\n",
    "\n",
    "### Data\n",
    "\n",
    "* 이 문제에 사용되는 데이터는 실제 국민건강보험의 처방내역을 바탕으로 합니다.\n",
    "* 처방번호, 약품코드, 가입자번호는 원본을 유추할 수 없도록 전처리되어있습니다.\n",
    "* 같이 처방된 약품은 처방 번호가 같은 개별 행으로 구분되어 주어집니다.\n",
    "    * 예를 들어 감기약, 해열제, 진해거담제, 위장약을 함께 처방받았다면 처방번호가 같은 row가 4개 생깁니다.\n",
    "    \n",
    "##### train.csv\n",
    "\n",
    "* 처방번호: 약의 처방 번호 입니다. 특정 지을 수 없도록 익명화되어 있습니다.\n",
    "* 약품코드: 개별 약품의 코드를 의미합니다. 약품을 특정 지을 수 없도록 익명화되어 있습니다.\n",
    "* 일련번호: 처방번호가 같은 처방에서의 일련번호 입니다. 같은 약품이 용량 등의 이유로 중복 처방되기도 하는데 이 값으로 구분합니다.\n",
    "* 가입자번호: 처방받은 사람의 국민건강보험 가입자번호로 익명화 되어 있습니다.\n",
    "* 성별코드: 1 = 남자, 2 = 여자를 의미합니다.\n",
    "* 연령대코드(5세단위): 5세 단위의 연령대코드 입니다.\n",
    "* 시도코드: 시도 단위 코드로 숫자로 되어 있습니다.\n",
    "* 요양개시일자: 요양개시일자로 연월일로 되어 있습니다.\n",
    "* 1회 투약량\n",
    "* 1일투약량\n",
    "* 총투여일수\n",
    "* 금액: 처방내역에 따른 금액입니다.\n",
    "\n",
    "##### test.csv\n",
    "\n",
    "* id 컬럼이 있으며, 금액 컬럼이 없습니다. \n",
    "* 그 외에는 train.csv에 있는 모든 컬럼이 동일하게 있습니다."
   ]
  },
  {
   "cell_type": "markdown",
   "metadata": {},
   "source": [
    "### 초기 코드 선택\n",
    "\n",
    "Python, R 중 본인의 선호 언어에 따라 초기 코드를 선택하세요. Python을 선호한다면 Python 초기 코드를, R을 선호한다면 R 초기 코드만 남기면 됩니다. 언어를 변경하는 방법이나 사용할 수 있는 라이브러리는 상단의 도움말 버튼에 나와있습니다."
   ]
  },
  {
   "cell_type": "code",
   "execution_count": 80,
   "metadata": {},
   "outputs": [
    {
     "name": "stdout",
     "output_type": "stream",
     "text": [
      "11951\n"
     ]
    },
    {
     "data": {
      "text/html": [
       "<div>\n",
       "<style scoped>\n",
       "    .dataframe tbody tr th:only-of-type {\n",
       "        vertical-align: middle;\n",
       "    }\n",
       "\n",
       "    .dataframe tbody tr th {\n",
       "        vertical-align: top;\n",
       "    }\n",
       "\n",
       "    .dataframe thead th {\n",
       "        text-align: right;\n",
       "    }\n",
       "</style>\n",
       "<table border=\"1\" class=\"dataframe\">\n",
       "  <thead>\n",
       "    <tr style=\"text-align: right;\">\n",
       "      <th></th>\n",
       "      <th>처방번호</th>\n",
       "      <th>약품코드</th>\n",
       "      <th>일련번호</th>\n",
       "      <th>가입자번호</th>\n",
       "      <th>성별코드</th>\n",
       "      <th>연령대코드(5세단위)</th>\n",
       "      <th>시도코드</th>\n",
       "      <th>요양개시일자</th>\n",
       "      <th>1회 투약량</th>\n",
       "      <th>1일투약량</th>\n",
       "      <th>총투여일수</th>\n",
       "      <th>금액</th>\n",
       "    </tr>\n",
       "  </thead>\n",
       "  <tbody>\n",
       "    <tr>\n",
       "      <th>0</th>\n",
       "      <td>0</td>\n",
       "      <td>0</td>\n",
       "      <td>7</td>\n",
       "      <td>0</td>\n",
       "      <td>1</td>\n",
       "      <td>17</td>\n",
       "      <td>41</td>\n",
       "      <td>20160102</td>\n",
       "      <td>1.0</td>\n",
       "      <td>1</td>\n",
       "      <td>30</td>\n",
       "      <td>2310</td>\n",
       "    </tr>\n",
       "    <tr>\n",
       "      <th>1</th>\n",
       "      <td>0</td>\n",
       "      <td>1</td>\n",
       "      <td>2</td>\n",
       "      <td>0</td>\n",
       "      <td>1</td>\n",
       "      <td>17</td>\n",
       "      <td>41</td>\n",
       "      <td>20160102</td>\n",
       "      <td>1.0</td>\n",
       "      <td>1</td>\n",
       "      <td>30</td>\n",
       "      <td>2100</td>\n",
       "    </tr>\n",
       "    <tr>\n",
       "      <th>2</th>\n",
       "      <td>0</td>\n",
       "      <td>2</td>\n",
       "      <td>1</td>\n",
       "      <td>0</td>\n",
       "      <td>1</td>\n",
       "      <td>17</td>\n",
       "      <td>41</td>\n",
       "      <td>20160102</td>\n",
       "      <td>1.0</td>\n",
       "      <td>1</td>\n",
       "      <td>30</td>\n",
       "      <td>5550</td>\n",
       "    </tr>\n",
       "    <tr>\n",
       "      <th>3</th>\n",
       "      <td>0</td>\n",
       "      <td>3</td>\n",
       "      <td>3</td>\n",
       "      <td>0</td>\n",
       "      <td>1</td>\n",
       "      <td>17</td>\n",
       "      <td>41</td>\n",
       "      <td>20160102</td>\n",
       "      <td>1.0</td>\n",
       "      <td>1</td>\n",
       "      <td>30</td>\n",
       "      <td>11880</td>\n",
       "    </tr>\n",
       "    <tr>\n",
       "      <th>4</th>\n",
       "      <td>0</td>\n",
       "      <td>4</td>\n",
       "      <td>6</td>\n",
       "      <td>0</td>\n",
       "      <td>1</td>\n",
       "      <td>17</td>\n",
       "      <td>41</td>\n",
       "      <td>20160102</td>\n",
       "      <td>1.0</td>\n",
       "      <td>1</td>\n",
       "      <td>30</td>\n",
       "      <td>73800</td>\n",
       "    </tr>\n",
       "  </tbody>\n",
       "</table>\n",
       "</div>"
      ],
      "text/plain": [
       "   처방번호  약품코드  일련번호  가입자번호  성별코드  연령대코드(5세단위)  시도코드    요양개시일자  1회 투약량  1일투약량  \\\n",
       "0     0     0     7      0     1           17    41  20160102     1.0      1   \n",
       "1     0     1     2      0     1           17    41  20160102     1.0      1   \n",
       "2     0     2     1      0     1           17    41  20160102     1.0      1   \n",
       "3     0     3     3      0     1           17    41  20160102     1.0      1   \n",
       "4     0     4     6      0     1           17    41  20160102     1.0      1   \n",
       "\n",
       "   총투여일수     금액  \n",
       "0     30   2310  \n",
       "1     30   2100  \n",
       "2     30   5550  \n",
       "3     30  11880  \n",
       "4     30  73800  "
      ]
     },
     "execution_count": 80,
     "metadata": {},
     "output_type": "execute_result"
    }
   ],
   "source": [
    "# 초기코드 - python\n",
    "import pandas as pd\n",
    "\n",
    "# 데이터 로드\n",
    "train = pd.read_csv('./data/train.csv')\n",
    "test = pd.read_csv('./data/test.csv', index_col='id')\n",
    "\n",
    "print(len(train))\n",
    "train.head()"
   ]
  },
  {
   "cell_type": "markdown",
   "metadata": {},
   "source": [
    "# 문제\n",
    "\n",
    "train 데이터를 활용해 test 데이터의 처방 금액을 예측하는 것이 이번 과제의 목표입니다.\n",
    "\n",
    "### 할 일\n",
    "\n",
    "train.csv 처방정보의 금액 정보를 바탕으로 나머지 test.csv 데이터의 처방 금액을 예측해 주세요.\n",
    "\n",
    "| id | 금액 |\n",
    "|----|------|\n",
    "| 0  | 0    |\n",
    "| 1  | 0    |\n",
    "| 2  | 0    |\n",
    "| 3  | 0    |\n",
    "| 4  | 0    |\n",
    "\n",
    "<br/>\n",
    "<center><예측 결과 예시></center>\n",
    "\n",
    "*주의* \n",
    "\n",
    "1. 보편적인 분석 과정에 입각하여 **데이터 전처리 - EDA - 피처 엔지니어링 - 모델링 - 평가** 순으로 코드를 작성해주세요. \n",
    "    * 작성하신 코드와 주석은 정성 평가 시 참고 자료로 활용됩니다.\n",
    "2. 예측 결과를 재현할 수 있도록 random seed 값을 고정시켜주세요.\n",
    "3. 면접관이 코드를 이해할 수 있도록 적절한 주석이나, 마크다운으로 설명을 작성해주세요."
   ]
  },
  {
   "cell_type": "code",
   "execution_count": 2,
   "metadata": {},
   "outputs": [],
   "source": [
    "import numpy as np\n",
    "import pandas as pd\n",
    "import matplotlib.pyplot as plt\n",
    "import seaborn as sns\n",
    "import sklearn"
   ]
  },
  {
   "cell_type": "code",
   "execution_count": 81,
   "metadata": {},
   "outputs": [
    {
     "data": {
      "text/html": [
       "<div>\n",
       "<style scoped>\n",
       "    .dataframe tbody tr th:only-of-type {\n",
       "        vertical-align: middle;\n",
       "    }\n",
       "\n",
       "    .dataframe tbody tr th {\n",
       "        vertical-align: top;\n",
       "    }\n",
       "\n",
       "    .dataframe thead th {\n",
       "        text-align: right;\n",
       "    }\n",
       "</style>\n",
       "<table border=\"1\" class=\"dataframe\">\n",
       "  <thead>\n",
       "    <tr style=\"text-align: right;\">\n",
       "      <th></th>\n",
       "      <th>rxnum</th>\n",
       "      <th>drugcode</th>\n",
       "      <th>serialnum</th>\n",
       "      <th>clientnum</th>\n",
       "      <th>sex</th>\n",
       "      <th>age</th>\n",
       "      <th>area</th>\n",
       "      <th>startdate</th>\n",
       "      <th>onedose</th>\n",
       "      <th>dailydose</th>\n",
       "      <th>period</th>\n",
       "      <th>price</th>\n",
       "    </tr>\n",
       "  </thead>\n",
       "  <tbody>\n",
       "    <tr>\n",
       "      <th>0</th>\n",
       "      <td>0</td>\n",
       "      <td>0</td>\n",
       "      <td>7</td>\n",
       "      <td>0</td>\n",
       "      <td>1</td>\n",
       "      <td>17</td>\n",
       "      <td>41</td>\n",
       "      <td>20160102</td>\n",
       "      <td>1.0</td>\n",
       "      <td>1</td>\n",
       "      <td>30</td>\n",
       "      <td>2310</td>\n",
       "    </tr>\n",
       "    <tr>\n",
       "      <th>1</th>\n",
       "      <td>0</td>\n",
       "      <td>1</td>\n",
       "      <td>2</td>\n",
       "      <td>0</td>\n",
       "      <td>1</td>\n",
       "      <td>17</td>\n",
       "      <td>41</td>\n",
       "      <td>20160102</td>\n",
       "      <td>1.0</td>\n",
       "      <td>1</td>\n",
       "      <td>30</td>\n",
       "      <td>2100</td>\n",
       "    </tr>\n",
       "    <tr>\n",
       "      <th>2</th>\n",
       "      <td>0</td>\n",
       "      <td>2</td>\n",
       "      <td>1</td>\n",
       "      <td>0</td>\n",
       "      <td>1</td>\n",
       "      <td>17</td>\n",
       "      <td>41</td>\n",
       "      <td>20160102</td>\n",
       "      <td>1.0</td>\n",
       "      <td>1</td>\n",
       "      <td>30</td>\n",
       "      <td>5550</td>\n",
       "    </tr>\n",
       "    <tr>\n",
       "      <th>3</th>\n",
       "      <td>0</td>\n",
       "      <td>3</td>\n",
       "      <td>3</td>\n",
       "      <td>0</td>\n",
       "      <td>1</td>\n",
       "      <td>17</td>\n",
       "      <td>41</td>\n",
       "      <td>20160102</td>\n",
       "      <td>1.0</td>\n",
       "      <td>1</td>\n",
       "      <td>30</td>\n",
       "      <td>11880</td>\n",
       "    </tr>\n",
       "    <tr>\n",
       "      <th>4</th>\n",
       "      <td>0</td>\n",
       "      <td>4</td>\n",
       "      <td>6</td>\n",
       "      <td>0</td>\n",
       "      <td>1</td>\n",
       "      <td>17</td>\n",
       "      <td>41</td>\n",
       "      <td>20160102</td>\n",
       "      <td>1.0</td>\n",
       "      <td>1</td>\n",
       "      <td>30</td>\n",
       "      <td>73800</td>\n",
       "    </tr>\n",
       "  </tbody>\n",
       "</table>\n",
       "</div>"
      ],
      "text/plain": [
       "   rxnum  drugcode  serialnum  clientnum  sex  age  area  startdate  onedose  \\\n",
       "0      0         0          7          0    1   17    41   20160102      1.0   \n",
       "1      0         1          2          0    1   17    41   20160102      1.0   \n",
       "2      0         2          1          0    1   17    41   20160102      1.0   \n",
       "3      0         3          3          0    1   17    41   20160102      1.0   \n",
       "4      0         4          6          0    1   17    41   20160102      1.0   \n",
       "\n",
       "   dailydose  period  price  \n",
       "0          1      30   2310  \n",
       "1          1      30   2100  \n",
       "2          1      30   5550  \n",
       "3          1      30  11880  \n",
       "4          1      30  73800  "
      ]
     },
     "execution_count": 81,
     "metadata": {},
     "output_type": "execute_result"
    }
   ],
   "source": [
    "train=train.rename(columns={\n",
    "    '처방번호':'rxnum','약품코드':'drugcode','일련번호':'serialnum','가입자번호':'clientnum',\n",
    "    '성별코드':'sex','연령대코드(5세단위)':'age', '시도코드':'area','요양개시일자':'startdate',\n",
    "    '1회 투약량':'onedose','1일투약량':'dailydose','총투여일수':'period','금액':'price'})\n",
    "train.head()"
   ]
  },
  {
   "cell_type": "code",
   "execution_count": 82,
   "metadata": {
    "scrolled": true
   },
   "outputs": [
    {
     "name": "stdout",
     "output_type": "stream",
     "text": [
      "<class 'pandas.core.frame.DataFrame'>\n",
      "RangeIndex: 11951 entries, 0 to 11950\n",
      "Data columns (total 12 columns):\n",
      "rxnum        11951 non-null int64\n",
      "drugcode     11951 non-null int64\n",
      "serialnum    11951 non-null int64\n",
      "clientnum    11951 non-null int64\n",
      "sex          11951 non-null int64\n",
      "age          11951 non-null int64\n",
      "area         11951 non-null int64\n",
      "startdate    11951 non-null int64\n",
      "onedose      11951 non-null float64\n",
      "dailydose    11951 non-null int64\n",
      "period       11951 non-null int64\n",
      "price        11951 non-null int64\n",
      "dtypes: float64(1), int64(11)\n",
      "memory usage: 1.1 MB\n"
     ]
    }
   ],
   "source": [
    "train.info()"
   ]
  },
  {
   "cell_type": "code",
   "execution_count": 83,
   "metadata": {},
   "outputs": [],
   "source": [
    "# 데이터 타입\n",
    "# 범주형 변수들의 타입을 object로 변환한다.\n",
    "train['rxnum'] = train['rxnum'].astype(object)\n",
    "train['drugcode'] = train['drugcode'].astype(object)\n",
    "train['serialnum'] = train['serialnum'].astype(object)\n",
    "train['clientnum'] = train['clientnum'].astype(object)\n",
    "train['sex'] = train['sex'].astype(object)\n",
    "train['area'] = train['area'].astype(object)\n",
    "train['startdate'] = train['startdate'].astype(object)"
   ]
  },
  {
   "cell_type": "code",
   "execution_count": 84,
   "metadata": {
    "scrolled": true
   },
   "outputs": [
    {
     "name": "stdout",
     "output_type": "stream",
     "text": [
      "<class 'pandas.core.frame.DataFrame'>\n",
      "RangeIndex: 11951 entries, 0 to 11950\n",
      "Data columns (total 12 columns):\n",
      "rxnum        11951 non-null object\n",
      "drugcode     11951 non-null object\n",
      "serialnum    11951 non-null object\n",
      "clientnum    11951 non-null object\n",
      "sex          11951 non-null object\n",
      "age          11951 non-null int64\n",
      "area         11951 non-null object\n",
      "startdate    11951 non-null object\n",
      "onedose      11951 non-null float64\n",
      "dailydose    11951 non-null int64\n",
      "period       11951 non-null int64\n",
      "price        11951 non-null int64\n",
      "dtypes: float64(1), int64(4), object(7)\n",
      "memory usage: 1.1+ MB\n"
     ]
    }
   ],
   "source": [
    "train.info()"
   ]
  },
  {
   "cell_type": "code",
   "execution_count": 65,
   "metadata": {
    "scrolled": false
   },
   "outputs": [
    {
     "data": {
      "text/plain": [
       "rxnum        0\n",
       "drugcode     0\n",
       "serialnum    0\n",
       "clientnum    0\n",
       "sex          0\n",
       "age          0\n",
       "area         0\n",
       "startdate    0\n",
       "onedose      0\n",
       "dailydose    0\n",
       "period       0\n",
       "price        0\n",
       "unitprice    0\n",
       "dtype: int64"
      ]
     },
     "execution_count": 65,
     "metadata": {},
     "output_type": "execute_result"
    }
   ],
   "source": [
    "# ----------- data 전처리 시작\n",
    "# Null data 체크\n",
    "train.isnull().sum()"
   ]
  },
  {
   "cell_type": "markdown",
   "metadata": {},
   "source": [
    "# 범주형 변수 분포 확인"
   ]
  },
  {
   "cell_type": "code",
   "execution_count": 66,
   "metadata": {},
   "outputs": [
    {
     "data": {
      "text/plain": [
       "['rxnum',\n",
       " 'drugcode',\n",
       " 'serialnum',\n",
       " 'clientnum',\n",
       " 'sex',\n",
       " 'age',\n",
       " 'area',\n",
       " 'startdate']"
      ]
     },
     "execution_count": 66,
     "metadata": {},
     "output_type": "execute_result"
    }
   ],
   "source": [
    "# 범주형 변수\n",
    "category_features_2 = [col for col in train.columns if train[col].dtypes == \"object\"]\n",
    "category_features_2"
   ]
  },
  {
   "cell_type": "code",
   "execution_count": 76,
   "metadata": {},
   "outputs": [],
   "source": [
    "category_features = ['sex', 'area']"
   ]
  },
  {
   "cell_type": "code",
   "execution_count": 77,
   "metadata": {},
   "outputs": [
    {
     "data": {
      "image/png": "[encoded data removed]",
      "text/plain": [
       "<Figure size 432x288 with 1 Axes>"
      ]
     },
     "metadata": {
      "needs_background": "light"
     },
     "output_type": "display_data"
    },
    {
     "data": {
      "image/png": "[encoded data removed]",
      "text/plain": [
       "<Figure size 432x288 with 1 Axes>"
      ]
     },
     "metadata": {
      "needs_background": "light"
     },
     "output_type": "display_data"
    }
   ],
   "source": [
    "for col in category_features:\n",
    "    train[col].value_counts().plot(kind='bar')\n",
    "    plt.title(col)\n",
    "    plt.show()"
   ]
  },
  {
   "cell_type": "markdown",
   "metadata": {},
   "source": [
    "# 수치형 변수 분포 확인"
   ]
  },
  {
   "cell_type": "code",
   "execution_count": 78,
   "metadata": {},
   "outputs": [],
   "source": [
    "numerical_features = ['onedose','dailydose','period', 'age']"
   ]
  },
  {
   "cell_type": "code",
   "execution_count": 85,
   "metadata": {
    "scrolled": true
   },
   "outputs": [
    {
     "data": {
      "image/png": "[encoded data removed]",
      "text/plain": [
       "<Figure size 432x288 with 1 Axes>"
      ]
     },
     "metadata": {
      "needs_background": "light"
     },
     "output_type": "display_data"
    },
    {
     "data": {
      "image/png": "[encoded data removed]",
      "text/plain": [
       "<Figure size 432x288 with 1 Axes>"
      ]
     },
     "metadata": {
      "needs_background": "light"
     },
     "output_type": "display_data"
    },
    {
     "data": {
      "image/png": "[encoded data removed]",
      "text/plain": [
       "<Figure size 432x288 with 1 Axes>"
      ]
     },
     "metadata": {
      "needs_background": "light"
     },
     "output_type": "display_data"
    },
    {
     "data": {
      "image/png": "[encoded data removed]",
      "text/plain": [
       "<Figure size 432x288 with 1 Axes>"
      ]
     },
     "metadata": {
      "needs_background": "light"
     },
     "output_type": "display_data"
    }
   ],
   "source": [
    "for col in numerical_features:\n",
    "    sns.distplot(train.loc[train[col].notnull(), col])\n",
    "    plt.title(col)\n",
    "    plt.show()"
   ]
  },
  {
   "cell_type": "markdown",
   "metadata": {},
   "source": [
    "# 단위금액 계산\n",
    "1회 투약량 계산. 처방번호 같고 약품코드 같은데 일련번호 다를 때. 계산해야하나?"
   ]
  },
  {
   "cell_type": "code",
   "execution_count": 87,
   "metadata": {
    "scrolled": true
   },
   "outputs": [
    {
     "data": {
      "image/png": "[encoded data removed]",
      "text/plain": [
       "<Figure size 432x288 with 1 Axes>"
      ]
     },
     "metadata": {
      "needs_background": "light"
     },
     "output_type": "display_data"
    }
   ],
   "source": [
    "plt.hist(train['onedose'])\n",
    "plt.show()"
   ]
  },
  {
   "cell_type": "code",
   "execution_count": 88,
   "metadata": {
    "scrolled": true
   },
   "outputs": [
    {
     "data": {
      "image/png": "[encoded data removed]",
      "text/plain": [
       "<Figure size 432x288 with 1 Axes>"
      ]
     },
     "metadata": {
      "needs_background": "light"
     },
     "output_type": "display_data"
    }
   ],
   "source": [
    "plt.hist(train['onedose'], range(0,10), rwidth=0.9)\n",
    "plt.show()"
   ]
  },
  {
   "cell_type": "code",
   "execution_count": 89,
   "metadata": {},
   "outputs": [
    {
     "data": {
      "image/png": "[encoded data removed]",
      "text/plain": [
       "<Figure size 432x288 with 1 Axes>"
      ]
     },
     "metadata": {
      "needs_background": "light"
     },
     "output_type": "display_data"
    }
   ],
   "source": [
    "plt.hist(train['dailydose'])\n",
    "plt.show()"
   ]
  },
  {
   "cell_type": "code",
   "execution_count": 90,
   "metadata": {},
   "outputs": [
    {
     "data": {
      "text/html": [
       "<div>\n",
       "<style scoped>\n",
       "    .dataframe tbody tr th:only-of-type {\n",
       "        vertical-align: middle;\n",
       "    }\n",
       "\n",
       "    .dataframe tbody tr th {\n",
       "        vertical-align: top;\n",
       "    }\n",
       "\n",
       "    .dataframe thead th {\n",
       "        text-align: right;\n",
       "    }\n",
       "</style>\n",
       "<table border=\"1\" class=\"dataframe\">\n",
       "  <thead>\n",
       "    <tr style=\"text-align: right;\">\n",
       "      <th></th>\n",
       "      <th>rxnum</th>\n",
       "      <th>drugcode</th>\n",
       "      <th>serialnum</th>\n",
       "      <th>clientnum</th>\n",
       "      <th>sex</th>\n",
       "      <th>age</th>\n",
       "      <th>area</th>\n",
       "      <th>startdate</th>\n",
       "      <th>onedose</th>\n",
       "      <th>dailydose</th>\n",
       "      <th>period</th>\n",
       "      <th>price</th>\n",
       "      <th>unitprice</th>\n",
       "    </tr>\n",
       "  </thead>\n",
       "  <tbody>\n",
       "    <tr>\n",
       "      <th>0</th>\n",
       "      <td>0</td>\n",
       "      <td>0</td>\n",
       "      <td>7</td>\n",
       "      <td>0</td>\n",
       "      <td>1</td>\n",
       "      <td>17</td>\n",
       "      <td>41</td>\n",
       "      <td>20160102</td>\n",
       "      <td>1.0</td>\n",
       "      <td>1</td>\n",
       "      <td>30</td>\n",
       "      <td>2310</td>\n",
       "      <td>77.0</td>\n",
       "    </tr>\n",
       "    <tr>\n",
       "      <th>1</th>\n",
       "      <td>0</td>\n",
       "      <td>1</td>\n",
       "      <td>2</td>\n",
       "      <td>0</td>\n",
       "      <td>1</td>\n",
       "      <td>17</td>\n",
       "      <td>41</td>\n",
       "      <td>20160102</td>\n",
       "      <td>1.0</td>\n",
       "      <td>1</td>\n",
       "      <td>30</td>\n",
       "      <td>2100</td>\n",
       "      <td>70.0</td>\n",
       "    </tr>\n",
       "    <tr>\n",
       "      <th>2</th>\n",
       "      <td>0</td>\n",
       "      <td>2</td>\n",
       "      <td>1</td>\n",
       "      <td>0</td>\n",
       "      <td>1</td>\n",
       "      <td>17</td>\n",
       "      <td>41</td>\n",
       "      <td>20160102</td>\n",
       "      <td>1.0</td>\n",
       "      <td>1</td>\n",
       "      <td>30</td>\n",
       "      <td>5550</td>\n",
       "      <td>185.0</td>\n",
       "    </tr>\n",
       "    <tr>\n",
       "      <th>3</th>\n",
       "      <td>0</td>\n",
       "      <td>3</td>\n",
       "      <td>3</td>\n",
       "      <td>0</td>\n",
       "      <td>1</td>\n",
       "      <td>17</td>\n",
       "      <td>41</td>\n",
       "      <td>20160102</td>\n",
       "      <td>1.0</td>\n",
       "      <td>1</td>\n",
       "      <td>30</td>\n",
       "      <td>11880</td>\n",
       "      <td>396.0</td>\n",
       "    </tr>\n",
       "    <tr>\n",
       "      <th>4</th>\n",
       "      <td>0</td>\n",
       "      <td>4</td>\n",
       "      <td>6</td>\n",
       "      <td>0</td>\n",
       "      <td>1</td>\n",
       "      <td>17</td>\n",
       "      <td>41</td>\n",
       "      <td>20160102</td>\n",
       "      <td>1.0</td>\n",
       "      <td>1</td>\n",
       "      <td>30</td>\n",
       "      <td>73800</td>\n",
       "      <td>2460.0</td>\n",
       "    </tr>\n",
       "  </tbody>\n",
       "</table>\n",
       "</div>"
      ],
      "text/plain": [
       "  rxnum drugcode serialnum clientnum sex  age area startdate  onedose  \\\n",
       "0     0        0         7         0   1   17   41  20160102      1.0   \n",
       "1     0        1         2         0   1   17   41  20160102      1.0   \n",
       "2     0        2         1         0   1   17   41  20160102      1.0   \n",
       "3     0        3         3         0   1   17   41  20160102      1.0   \n",
       "4     0        4         6         0   1   17   41  20160102      1.0   \n",
       "\n",
       "   dailydose  period  price  unitprice  \n",
       "0          1      30   2310       77.0  \n",
       "1          1      30   2100       70.0  \n",
       "2          1      30   5550      185.0  \n",
       "3          1      30  11880      396.0  \n",
       "4          1      30  73800     2460.0  "
      ]
     },
     "execution_count": 90,
     "metadata": {},
     "output_type": "execute_result"
    }
   ],
   "source": [
    "train['unitprice'] = train['price']/train['onedose']/train['dailydose']/train['period']\n",
    "train.head()"
   ]
  },
  {
   "cell_type": "code",
   "execution_count": 91,
   "metadata": {
    "scrolled": true
   },
   "outputs": [
    {
     "data": {
      "image/png": "[encoded data removed]",
      "text/plain": [
       "<Figure size 432x288 with 2 Axes>"
      ]
     },
     "metadata": {
      "needs_background": "light"
     },
     "output_type": "display_data"
    },
    {
     "data": {
      "image/png": "[encoded data removed]",
      "text/plain": [
       "<Figure size 432x288 with 2 Axes>"
      ]
     },
     "metadata": {
      "needs_background": "light"
     },
     "output_type": "display_data"
    },
    {
     "data": {
      "image/png": "[encoded data removed]",
      "text/plain": [
       "<Figure size 432x288 with 2 Axes>"
      ]
     },
     "metadata": {
      "needs_background": "light"
     },
     "output_type": "display_data"
    },
    {
     "data": {
      "image/png": "[encoded data removed]",
      "text/plain": [
       "<Figure size 432x288 with 2 Axes>"
      ]
     },
     "metadata": {
      "needs_background": "light"
     },
     "output_type": "display_data"
    }
   ],
   "source": [
    "# 사전 상관분석\n",
    "for col in numerical_features:\n",
    "    Var_Corr = train[[col,'unitprice']].corr()\n",
    "    sns.heatmap(Var_Corr, annot=True)\n",
    "    plt.title(col)\n",
    "    plt.show()"
   ]
  },
  {
   "cell_type": "code",
   "execution_count": 62,
   "metadata": {},
   "outputs": [
    {
     "data": {
      "image/png": "[encoded data removed]",
      "text/plain": [
       "<Figure size 864x432 with 1 Axes>"
      ]
     },
     "metadata": {
      "needs_background": "light"
     },
     "output_type": "display_data"
    }
   ],
   "source": [
    "#unique_list = train['age'].unique()\n",
    " \n",
    "plt.figure(figsize=(12,6))\n",
    "sns.boxplot(x='area', y='unitprice', data=train)\n",
    "plt.title(\"area - {}\".format('unitprice'))\n",
    "plt.show()"
   ]
  },
  {
   "cell_type": "code",
   "execution_count": 94,
   "metadata": {},
   "outputs": [
    {
     "data": {
      "image/png": "[encoded data removed]",
      "text/plain": [
       "<Figure size 864x432 with 1 Axes>"
      ]
     },
     "metadata": {
      "needs_background": "light"
     },
     "output_type": "display_data"
    }
   ],
   "source": [
    "#unique_list = train['age'].unique()\n",
    " \n",
    "plt.figure(figsize=(12,6))\n",
    "sns.boxplot(x='sex', y='unitprice', data=train)\n",
    "plt.title(\"sex - {}\".format('unitprice'))\n",
    "plt.show()"
   ]
  },
  {
   "cell_type": "code",
   "execution_count": 112,
   "metadata": {},
   "outputs": [
    {
     "data": {
      "text/plain": [
       "<matplotlib.axes._subplots.AxesSubplot at 0x7f5c32a8acd0>"
      ]
     },
     "execution_count": 112,
     "metadata": {},
     "output_type": "execute_result"
    },
    {
     "data": {
      "image/png": "[encoded data removed]",
      "text/plain": [
       "<Figure size 432x288 with 1 Axes>"
      ]
     },
     "metadata": {
      "needs_background": "light"
     },
     "output_type": "display_data"
    }
   ],
   "source": [
    "train.plot.scatter(x='age',y='unitprice')"
   ]
  },
  {
   "cell_type": "code",
   "execution_count": 115,
   "metadata": {},
   "outputs": [],
   "source": [
    "# 회귀분석\n",
    "import statsmodels.formula.api as sm\n",
    "from statsmodels.sandbox.regression.predstd import wls_prediction_std"
   ]
  },
  {
   "cell_type": "code",
   "execution_count": 116,
   "metadata": {
    "scrolled": true
   },
   "outputs": [
    {
     "data": {
      "text/html": [
       "<table class=\"simpletable\">\n",
       "<caption>OLS Regression Results</caption>\n",
       "<tr>\n",
       "  <th>Dep. Variable:</th>        <td>unitprice</td>    <th>  R-squared:         </th>  <td>   0.002</td>  \n",
       "</tr>\n",
       "<tr>\n",
       "  <th>Model:</th>                   <td>OLS</td>       <th>  Adj. R-squared:    </th>  <td>   0.001</td>  \n",
       "</tr>\n",
       "<tr>\n",
       "  <th>Method:</th>             <td>Least Squares</td>  <th>  F-statistic:       </th>  <td>   1.590</td>  \n",
       "</tr>\n",
       "<tr>\n",
       "  <th>Date:</th>             <td>Sat, 25 Apr 2020</td> <th>  Prob (F-statistic):</th>   <td>0.0535</td>   \n",
       "</tr>\n",
       "<tr>\n",
       "  <th>Time:</th>                 <td>11:55:03</td>     <th>  Log-Likelihood:    </th> <td>-1.0563e+05</td>\n",
       "</tr>\n",
       "<tr>\n",
       "  <th>No. Observations:</th>      <td> 11951</td>      <th>  AIC:               </th>  <td>2.113e+05</td> \n",
       "</tr>\n",
       "<tr>\n",
       "  <th>Df Residuals:</th>          <td> 11932</td>      <th>  BIC:               </th>  <td>2.114e+05</td> \n",
       "</tr>\n",
       "<tr>\n",
       "  <th>Df Model:</th>              <td>    18</td>      <th>                     </th>      <td> </td>     \n",
       "</tr>\n",
       "<tr>\n",
       "  <th>Covariance Type:</th>      <td>nonrobust</td>    <th>                     </th>      <td> </td>     \n",
       "</tr>\n",
       "</table>\n",
       "<table class=\"simpletable\">\n",
       "<tr>\n",
       "       <td></td>         <th>coef</th>     <th>std err</th>      <th>t</th>      <th>P>|t|</th>  <th>[0.025</th>    <th>0.975]</th>  \n",
       "</tr>\n",
       "<tr>\n",
       "  <th>Intercept</th>  <td>  384.7610</td> <td>   99.350</td> <td>    3.873</td> <td> 0.000</td> <td>  190.020</td> <td>  579.502</td>\n",
       "</tr>\n",
       "<tr>\n",
       "  <th>sex[T.2]</th>   <td>   26.0679</td> <td>   31.306</td> <td>    0.833</td> <td> 0.405</td> <td>  -35.297</td> <td>   87.433</td>\n",
       "</tr>\n",
       "<tr>\n",
       "  <th>area[T.26]</th> <td>   15.8267</td> <td>   65.868</td> <td>    0.240</td> <td> 0.810</td> <td> -113.286</td> <td>  144.939</td>\n",
       "</tr>\n",
       "<tr>\n",
       "  <th>area[T.27]</th> <td>  150.7312</td> <td>   79.623</td> <td>    1.893</td> <td> 0.058</td> <td>   -5.342</td> <td>  306.804</td>\n",
       "</tr>\n",
       "<tr>\n",
       "  <th>area[T.28]</th> <td>   52.0127</td> <td>   70.148</td> <td>    0.741</td> <td> 0.458</td> <td>  -85.489</td> <td>  189.514</td>\n",
       "</tr>\n",
       "<tr>\n",
       "  <th>area[T.29]</th> <td>  176.1633</td> <td>  103.037</td> <td>    1.710</td> <td> 0.087</td> <td>  -25.806</td> <td>  378.133</td>\n",
       "</tr>\n",
       "<tr>\n",
       "  <th>area[T.30]</th> <td>  293.6065</td> <td>  102.980</td> <td>    2.851</td> <td> 0.004</td> <td>   91.748</td> <td>  495.465</td>\n",
       "</tr>\n",
       "<tr>\n",
       "  <th>area[T.31]</th> <td>  -87.7644</td> <td>  100.848</td> <td>   -0.870</td> <td> 0.384</td> <td> -285.443</td> <td>  109.914</td>\n",
       "</tr>\n",
       "<tr>\n",
       "  <th>area[T.36]</th> <td> -134.4132</td> <td>  235.211</td> <td>   -0.571</td> <td> 0.568</td> <td> -595.465</td> <td>  326.639</td>\n",
       "</tr>\n",
       "<tr>\n",
       "  <th>area[T.41]</th> <td>    2.5934</td> <td>   53.405</td> <td>    0.049</td> <td> 0.961</td> <td> -102.090</td> <td>  107.277</td>\n",
       "</tr>\n",
       "<tr>\n",
       "  <th>area[T.42]</th> <td>  -47.2196</td> <td>   92.432</td> <td>   -0.511</td> <td> 0.609</td> <td> -228.401</td> <td>  133.962</td>\n",
       "</tr>\n",
       "<tr>\n",
       "  <th>area[T.43]</th> <td>  246.8546</td> <td>  106.489</td> <td>    2.318</td> <td> 0.020</td> <td>   38.119</td> <td>  455.591</td>\n",
       "</tr>\n",
       "<tr>\n",
       "  <th>area[T.44]</th> <td>  105.9114</td> <td>   80.834</td> <td>    1.310</td> <td> 0.190</td> <td>  -52.537</td> <td>  264.359</td>\n",
       "</tr>\n",
       "<tr>\n",
       "  <th>area[T.45]</th> <td>  -36.6611</td> <td>   77.469</td> <td>   -0.473</td> <td> 0.636</td> <td> -188.514</td> <td>  115.191</td>\n",
       "</tr>\n",
       "<tr>\n",
       "  <th>area[T.46]</th> <td>    5.2014</td> <td>   74.018</td> <td>    0.070</td> <td> 0.944</td> <td> -139.886</td> <td>  150.289</td>\n",
       "</tr>\n",
       "<tr>\n",
       "  <th>area[T.47]</th> <td>   49.8923</td> <td>   74.176</td> <td>    0.673</td> <td> 0.501</td> <td>  -95.504</td> <td>  195.288</td>\n",
       "</tr>\n",
       "<tr>\n",
       "  <th>area[T.48]</th> <td>   61.7385</td> <td>   69.969</td> <td>    0.882</td> <td> 0.378</td> <td>  -75.413</td> <td>  198.890</td>\n",
       "</tr>\n",
       "<tr>\n",
       "  <th>area[T.49]</th> <td>   42.6646</td> <td>  168.277</td> <td>    0.254</td> <td> 0.800</td> <td> -287.185</td> <td>  372.515</td>\n",
       "</tr>\n",
       "<tr>\n",
       "  <th>age</th>        <td>   10.8020</td> <td>    6.798</td> <td>    1.589</td> <td> 0.112</td> <td>   -2.524</td> <td>   24.128</td>\n",
       "</tr>\n",
       "</table>\n",
       "<table class=\"simpletable\">\n",
       "<tr>\n",
       "  <th>Omnibus:</th>       <td>22831.029</td> <th>  Durbin-Watson:     </th>   <td>   1.948</td>  \n",
       "</tr>\n",
       "<tr>\n",
       "  <th>Prob(Omnibus):</th>  <td> 0.000</td>   <th>  Jarque-Bera (JB):  </th> <td>40737983.898</td>\n",
       "</tr>\n",
       "<tr>\n",
       "  <th>Skew:</th>           <td>14.950</td>   <th>  Prob(JB):          </th>   <td>    0.00</td>  \n",
       "</tr>\n",
       "<tr>\n",
       "  <th>Kurtosis:</th>       <td>287.457</td>  <th>  Cond. No.          </th>   <td>    218.</td>  \n",
       "</tr>\n",
       "</table><br/><br/>Warnings:<br/>[1] Standard Errors assume that the covariance matrix of the errors is correctly specified."
      ],
      "text/plain": [
       "<class 'statsmodels.iolib.summary.Summary'>\n",
       "\"\"\"\n",
       "                            OLS Regression Results                            \n",
       "==============================================================================\n",
       "Dep. Variable:              unitprice   R-squared:                       0.002\n",
       "Model:                            OLS   Adj. R-squared:                  0.001\n",
       "Method:                 Least Squares   F-statistic:                     1.590\n",
       "Date:                Sat, 25 Apr 2020   Prob (F-statistic):             0.0535\n",
       "Time:                        11:55:03   Log-Likelihood:            -1.0563e+05\n",
       "No. Observations:               11951   AIC:                         2.113e+05\n",
       "Df Residuals:                   11932   BIC:                         2.114e+05\n",
       "Df Model:                          18                                         \n",
       "Covariance Type:            nonrobust                                         \n",
       "==============================================================================\n",
       "                 coef    std err          t      P>|t|      [0.025      0.975]\n",
       "------------------------------------------------------------------------------\n",
       "Intercept    384.7610     99.350      3.873      0.000     190.020     579.502\n",
       "sex[T.2]      26.0679     31.306      0.833      0.405     -35.297      87.433\n",
       "area[T.26]    15.8267     65.868      0.240      0.810    -113.286     144.939\n",
       "area[T.27]   150.7312     79.623      1.893      0.058      -5.342     306.804\n",
       "area[T.28]    52.0127     70.148      0.741      0.458     -85.489     189.514\n",
       "area[T.29]   176.1633    103.037      1.710      0.087     -25.806     378.133\n",
       "area[T.30]   293.6065    102.980      2.851      0.004      91.748     495.465\n",
       "area[T.31]   -87.7644    100.848     -0.870      0.384    -285.443     109.914\n",
       "area[T.36]  -134.4132    235.211     -0.571      0.568    -595.465     326.639\n",
       "area[T.41]     2.5934     53.405      0.049      0.961    -102.090     107.277\n",
       "area[T.42]   -47.2196     92.432     -0.511      0.609    -228.401     133.962\n",
       "area[T.43]   246.8546    106.489      2.318      0.020      38.119     455.591\n",
       "area[T.44]   105.9114     80.834      1.310      0.190     -52.537     264.359\n",
       "area[T.45]   -36.6611     77.469     -0.473      0.636    -188.514     115.191\n",
       "area[T.46]     5.2014     74.018      0.070      0.944    -139.886     150.289\n",
       "area[T.47]    49.8923     74.176      0.673      0.501     -95.504     195.288\n",
       "area[T.48]    61.7385     69.969      0.882      0.378     -75.413     198.890\n",
       "area[T.49]    42.6646    168.277      0.254      0.800    -287.185     372.515\n",
       "age           10.8020      6.798      1.589      0.112      -2.524      24.128\n",
       "==============================================================================\n",
       "Omnibus:                    22831.029   Durbin-Watson:                   1.948\n",
       "Prob(Omnibus):                  0.000   Jarque-Bera (JB):         40737983.898\n",
       "Skew:                          14.950   Prob(JB):                         0.00\n",
       "Kurtosis:                     287.457   Cond. No.                         218.\n",
       "==============================================================================\n",
       "\n",
       "Warnings:\n",
       "[1] Standard Errors assume that the covariance matrix of the errors is correctly specified.\n",
       "\"\"\""
      ]
     },
     "execution_count": 116,
     "metadata": {},
     "output_type": "execute_result"
    }
   ],
   "source": [
    "result = sm.ols(formula = 'unitprice ~ sex + age + area', data = train).fit()\n",
    "result.summary()"
   ]
  },
  {
   "cell_type": "code",
   "execution_count": 119,
   "metadata": {},
   "outputs": [
    {
     "data": {
      "text/plain": [
       "LinearRegression(copy_X=True, fit_intercept=True, n_jobs=None,\n",
       "         normalize=False)"
      ]
     },
     "execution_count": 119,
     "metadata": {},
     "output_type": "execute_result"
    }
   ],
   "source": [
    "#다중선형회귀분석\n",
    "from sklearn.linear_model import LinearRegression\n",
    "mlr = LinearRegression()\n",
    "mlr.fit(train[['area','sex','age']], train[['unitprice']]) "
   ]
  },
  {
   "cell_type": "code",
   "execution_count": null,
   "metadata": {},
   "outputs": [],
   "source": [
    "test"
   ]
  },
  {
   "cell_type": "markdown",
   "metadata": {},
   "source": [
    "##### 2. 예측 결과 저장\n",
    "\n",
    "채점을 위해 위에서 예측한 데이터를 현재 파일과 같은 디렉토리(.ipynb 파일이 있는 디렉토리)에 `submission.csv`라는 이름으로 저장해주세요. 저장할 파일 포맷은 다음 표와 data 디렉토리의 `submission(sample).csv` 파일을 참고하세요.\n",
    "\n",
    "\n",
    "| id | 금액 |\n",
    "|----|------|\n",
    "| 0  | 0    |\n",
    "| 1  | 0    |\n",
    "| 2  | 0    |\n",
    "| 3  | 0    |\n",
    "| 4  | 0    |\n",
    "\n",
    "<br/>\n",
    "<center><파일 저장 예시></center>\n",
    "\n",
    "*주의* \n",
    "\n",
    "1. csv 파일의 컬럼은 반드시 id-금액 순이어야 합니다.\n",
    "2. id는 오름차 순으로 정렬되어있어야 합니다."
   ]
  },
  {
   "cell_type": "markdown",
   "metadata": {},
   "source": [
    "### 여기에 코드를 작성하세요."
   ]
  },
  {
   "cell_type": "code",
   "execution_count": null,
   "metadata": {},
   "outputs": [],
   "source": [
    "# csv 파일 저장 예시 - python\n",
    "test.to_csv('submission.csv')"
   ]
  },
  {
   "cell_type": "code",
   "execution_count": null,
   "metadata": {},
   "outputs": [],
   "source": [
    "# csv 파일 저장 예시 - R\n",
    "write.csv(test, file='submission.csv')"
   ]
  },
  {
   "cell_type": "code",
   "execution_count": null,
   "metadata": {},
   "outputs": [],
   "source": []
  }
 ],
 "metadata": {
  "kernelspec": {
   "display_name": "Python 3",
   "language": "python",
   "name": "python3"
  },
  "language_info": {
   "codemirror_mode": {
    "name": "ipython",
    "version": 3
   },
   "file_extension": ".py",
   "mimetype": "text/x-python",
   "name": "python",
   "nbconvert_exporter": "python",
   "pygments_lexer": "ipython3",
   "version": "3.6.10"
  }
 },
 "nbformat": 4,
 "nbformat_minor": 4
}
