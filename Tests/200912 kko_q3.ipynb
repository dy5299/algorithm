{
 "cells": [
  {
   "cell_type": "code",
   "execution_count": null,
   "metadata": {},
   "outputs": [],
   "source": [
    "def solution(info, query):\n",
    "    answer = []\n",
    "    return answer"
   ]
  },
  {
   "cell_type": "code",
   "execution_count": 41,
   "metadata": {},
   "outputs": [
    {
     "name": "stdout",
     "output_type": "stream",
     "text": [
      "N\n"
     ]
    }
   ],
   "source": [
    "test='구리'=='-'\n",
    "if test:\n",
    "    print(\"Y\")\n",
    "else:\n",
    "    print(\"N\")"
   ]
  },
  {
   "cell_type": "code",
   "execution_count": null,
   "metadata": {},
   "outputs": [],
   "source": [
    "def conds(inf, quer):\n",
    "    inf=inf.split()\n",
    "    quer=quer.replace(\"and\",\" \").split()\n",
    "    \n",
    "    isequal=inf[i]==quer[i]\n",
    "    ispass=quer[i]=='-'\n",
    "    \n",
    "    if  or :\n",
    "        if inf[1]==quer[1] or quer[1]=='-':\n",
    "            if inf[2]==quer[2] or quer[2]=='-':\n",
    "                if inf[3]==quer[3] or quer[3]=='-':\n",
    "                    if inf[4]>=quer[4] or quer[4]=='-':\n",
    "                        print(inf, quer)\n",
    "                        return True\n",
    "    else:\n",
    "        return False"
   ]
  },
  {
   "cell_type": "code",
   "execution_count": 51,
   "metadata": {},
   "outputs": [
    {
     "data": {
      "text/plain": [
       "['-', '-', '-', '-', '150']"
      ]
     },
     "execution_count": 51,
     "metadata": {},
     "output_type": "execute_result"
    }
   ],
   "source": [
    "\"- and - and - and - 150\".replace(\"and\",\" \").split()"
   ]
  },
  {
   "cell_type": "code",
   "execution_count": 54,
   "metadata": {
    "code_folding": []
   },
   "outputs": [],
   "source": [
    "# 완탐\n",
    "\n",
    "def conds(inf, quer):\n",
    "    inf=inf.split()\n",
    "    quer=quer.replace(\"and\",\" \").split()\n",
    "    \n",
    "    if inf[0]==quer[0] or quer[0]=='-':\n",
    "        if inf[1]==quer[1] or quer[1]=='-':\n",
    "            if inf[2]==quer[2] or quer[2]=='-':\n",
    "                if inf[3]==quer[3] or quer[3]=='-':\n",
    "                    if quer[4]=='-':\n",
    "                        return True\n",
    "                    elif int(inf[4])>=int(quer[4]):\n",
    "                        return True\n",
    "    else:\n",
    "        return False\n",
    "    \n",
    "\n",
    "def solution(info, query):\n",
    "    answer=[0]*len(query)\n",
    "    \n",
    "    for q,quer in enumerate(query):\n",
    "        for inf in info:\n",
    "            if conds(inf, quer)==1:\n",
    "                answer[q]+=1\n",
    "    return answer"
   ]
  },
  {
   "cell_type": "markdown",
   "metadata": {},
   "source": [
    "채점을 시작합니다.\n",
    "정확성  테스트\n",
    "테스트 1 〉\t통과 (0.31ms, 9.69MB)\n",
    "테스트 2 〉\t통과 (0.27ms, 9.86MB)\n",
    "테스트 3 〉\t통과 (2.06ms, 9.67MB)\n",
    "테스트 4 〉\t통과 (16.63ms, 9.86MB)\n",
    "테스트 5 〉\t통과 (79.89ms, 9.86MB)\n",
    "테스트 6 〉\t통과 (197.39ms, 9.8MB)\n",
    "테스트 7 〉\t통과 (80.89ms, 10MB)\n",
    "테스트 8 〉\t통과 (399.04ms, 10.1MB)\n",
    "테스트 9 〉\t통과 (394.83ms, 10.1MB)\n",
    "테스트 10 〉\t통과 (404.45ms, 10.2MB)\n",
    "테스트 11 〉\t통과 (79.58ms, 9.66MB)\n",
    "테스트 12 〉\t통과 (186.34ms, 9.97MB)\n",
    "테스트 13 〉\t통과 (81.83ms, 10MB)\n",
    "테스트 14 〉\t통과 (1976.12ms, 10.2MB)\n",
    "테스트 15 〉\t통과 (392.67ms, 10MB)\n",
    "테스트 16 〉\t통과 (82.79ms, 9.69MB)\n",
    "테스트 17 〉\t통과 (198.36ms, 9.83MB)\n",
    "테스트 18 〉\t통과 (389.24ms, 10.1MB)\n",
    "\n",
    "효율성  테스트\n",
    "테스트 1 〉\t실패 (시간 초과)\n",
    "테스트 2 〉\t실패 (시간 초과)\n",
    "테스트 3 〉\t실패 (시간 초과)\n",
    "테스트 4 〉\t실패 (시간 초과)"
   ]
  },
  {
   "cell_type": "code",
   "execution_count": 55,
   "metadata": {},
   "outputs": [
    {
     "data": {
      "text/plain": [
       "[1, 1, 1, 1, 2, 4]"
      ]
     },
     "execution_count": 55,
     "metadata": {},
     "output_type": "execute_result"
    }
   ],
   "source": [
    "solution([\"java backend junior pizza 150\",\"python frontend senior chicken 210\",\"python frontend senior chicken 150\",\"cpp backend senior pizza 260\",\"java backend junior chicken 80\",\"python backend senior chicken 50\"],\n",
    "        [\"java and backend and junior and pizza 100\",\"python and frontend and senior and chicken 200\",\"cpp and - and senior and pizza 250\",\"- and backend and senior and - 150\",\"- and - and - and chicken 100\",\"- and - and - and - 150\"])"
   ]
  },
  {
   "cell_type": "code",
   "execution_count": 25,
   "metadata": {},
   "outputs": [
    {
     "data": {
      "text/plain": [
       "['cpp', '-', 'senior', 'pizza', '250']"
      ]
     },
     "execution_count": 25,
     "metadata": {},
     "output_type": "execute_result"
    }
   ],
   "source": [
    "\"cpp and - and senior and pizza 250\".replace(\"and\",\" \").split()"
   ]
  },
  {
   "cell_type": "code",
   "execution_count": 23,
   "metadata": {},
   "outputs": [
    {
     "data": {
      "text/plain": [
       "['cpp', '', '', '-', '', '', 'senior', '', '', 'pizza', '250']"
      ]
     },
     "execution_count": 23,
     "metadata": {},
     "output_type": "execute_result"
    }
   ],
   "source": [
    "import re\n",
    "re.split(\" |and\", \"cpp and - and senior and pizza 250\")"
   ]
  },
  {
   "cell_type": "code",
   "execution_count": 31,
   "metadata": {},
   "outputs": [],
   "source": [
    "def conds(inf, quer):\n",
    "    inf=inf.split()\n",
    "    quer=quer.replace(\"and\",\" \").split()\n",
    "    \n",
    "    for idx in range(len(quer)):\n",
    "        if quer[idx]=='-':\n",
    "            quer[idx]=inf[idx]\n",
    "    print(inf)\n",
    "    print(quer)\n",
    "    \n",
    "    if inf[0]==quer[0] and inf[1]==quer[1] and inf[2]==quer[2] and inf[3]==quer[3] and inf[4]>=quer[4]:\n",
    "        return True\n",
    "    else:\n",
    "        return False"
   ]
  },
  {
   "cell_type": "code",
   "execution_count": 45,
   "metadata": {},
   "outputs": [],
   "source": [
    "def conds(inf, quer):\n",
    "    inf=inf.split()\n",
    "    quer=quer.replace(\"and\",\" \").split()\n",
    "    \n",
    "    if inf[0]==quer[0] or quer[0]=='-':\n",
    "        print(inf[0],quer[0])\n",
    "        if inf[1]==quer[1] or quer[1]=='-':\n",
    "            if inf[2]==quer[2] or quer[2]=='-':\n",
    "                if inf[3]==quer[3] or quer[3]=='-':\n",
    "                    if inf[4]>=quer[4] or quer[4]=='-':\n",
    "                        print(inf[4],quer[4])\n",
    "                        print(inf, quer)\n",
    "                        return True\n",
    "    else:\n",
    "        return False"
   ]
  },
  {
   "cell_type": "code",
   "execution_count": 46,
   "metadata": {},
   "outputs": [
    {
     "name": "stdout",
     "output_type": "stream",
     "text": [
      "python -\n",
      "50 150\n",
      "['python', 'backend', 'senior', 'chicken', '50'] ['-', '-', '-', '-', '150']\n"
     ]
    },
    {
     "data": {
      "text/plain": [
       "True"
      ]
     },
     "execution_count": 46,
     "metadata": {},
     "output_type": "execute_result"
    }
   ],
   "source": [
    "conds(\"python backend senior chicken 50\",\"- and - and - and - 150\")"
   ]
  },
  {
   "cell_type": "code",
   "execution_count": null,
   "metadata": {},
   "outputs": [],
   "source": [
    "['python', 'backend', 'senior', 'chicken', '50'] ['-', '-', '-', '-', '150']"
   ]
  },
  {
   "cell_type": "code",
   "execution_count": null,
   "metadata": {},
   "outputs": [],
   "source": [
    "# conds에 F 다 추가 - 위와 비슷함\n",
    "def conds(inf, quer):\n",
    "    inf=inf.split()\n",
    "    quer=quer.replace(\"and\",\" \").split()\n",
    "    \n",
    "    if inf[0]==quer[0] or quer[0]=='-':\n",
    "        if inf[1]==quer[1] or quer[1]=='-':\n",
    "            if inf[2]==quer[2] or quer[2]=='-':\n",
    "                if inf[3]==quer[3] or quer[3]=='-':\n",
    "                    if quer[4]=='-':\n",
    "                        return True\n",
    "                    elif int(inf[4])>=int(quer[4]):\n",
    "                        return True\n",
    "                    else:\n",
    "                        return False\n",
    "                else:\n",
    "                    return False\n",
    "            else:\n",
    "                return False\n",
    "        else:\n",
    "            return False\n",
    "    else:\n",
    "        return False\n",
    "    \n",
    "\n",
    "def solution(info, query):\n",
    "    answer=[0]*len(query)\n",
    "    \n",
    "    for q,quer in enumerate(query):\n",
    "        for inf in info:\n",
    "            if conds(inf, quer)==1:\n",
    "                answer[q]+=1\n",
    "    return answer"
   ]
  },
  {
   "cell_type": "markdown",
   "metadata": {},
   "source": [
    "정확성  테스트\n",
    "테스트 1 〉\t통과 (0.32ms, 9.76MB)\n",
    "테스트 2 〉\t통과 (0.67ms, 9.79MB)\n",
    "테스트 3 〉\t통과 (1.72ms, 9.8MB)\n",
    "테스트 4 〉\t통과 (15.85ms, 9.85MB)\n",
    "테스트 5 〉\t통과 (79.82ms, 9.87MB)\n",
    "테스트 6 〉\t통과 (186.69ms, 9.75MB)\n",
    "테스트 7 〉\t통과 (79.52ms, 9.87MB)\n",
    "테스트 8 〉\t통과 (356.30ms, 10.1MB)\n",
    "테스트 9 〉\t통과 (395.50ms, 10MB)\n",
    "테스트 10 〉\t통과 (400.01ms, 10.2MB)\n",
    "테스트 11 〉\t통과 (79.63ms, 9.94MB)\n",
    "테스트 12 〉\t통과 (197.27ms, 9.83MB)\n",
    "테스트 13 〉\t통과 (79.44ms, 10MB)\n",
    "테스트 14 〉\t통과 (2044.70ms, 10MB)\n",
    "테스트 15 〉\t통과 (392.15ms, 10MB)\n",
    "테스트 16 〉\t통과 (78.71ms, 9.88MB)\n",
    "테스트 17 〉\t통과 (196.90ms, 9.84MB)\n",
    "테스트 18 〉\t통과 (387.45ms, 10.1MB)\n",
    "효율성  테스트\n",
    "테스트 1 〉\t실패 (시간 초과)\n",
    "테스트 2 〉\t실패 (시간 초과)\n",
    "테스트 3 〉\t실패 (시간 초과)\n",
    "테스트 4 〉\t실패 (시간 초과)"
   ]
  },
  {
   "cell_type": "code",
   "execution_count": null,
   "metadata": {},
   "outputs": [],
   "source": [
    "# info 순서바꿈 - 위와비슷\n",
    "\n",
    "def conds(inf, quer):\n",
    "    inf=inf.split()\n",
    "    quer=quer.replace(\"and\",\" \").split()\n",
    "    \n",
    "    if inf[0]==quer[0] or quer[0]=='-':\n",
    "        if inf[1]==quer[1] or quer[1]=='-':\n",
    "            if inf[2]==quer[2] or quer[2]=='-':\n",
    "                if inf[3]==quer[3] or quer[3]=='-':\n",
    "                    if quer[4]=='-':\n",
    "                        return True\n",
    "                    elif int(inf[4])>=int(quer[4]):\n",
    "                        return True\n",
    "                    else:\n",
    "                        return False\n",
    "                else:\n",
    "                    return False\n",
    "            else:\n",
    "                return False\n",
    "        else:\n",
    "            return False\n",
    "    else:\n",
    "        return False\n",
    "    \n",
    "def solution(info, query):\n",
    "    answer=[0]*len(query)\n",
    "    \n",
    "    \n",
    "    for inf in info:\n",
    "        for q,quer in enumerate(query):\n",
    "            if conds(inf, quer)==1:\n",
    "                answer[q]+=1\n",
    "    return answer"
   ]
  },
  {
   "cell_type": "markdown",
   "metadata": {},
   "source": [
    "정확성  테스트\n",
    "테스트 1 〉\t통과 (0.33ms, 9.87MB)\n",
    "테스트 2 〉\t통과 (0.31ms, 9.81MB)\n",
    "테스트 3 〉\t통과 (2.27ms, 9.77MB)\n",
    "테스트 4 〉\t통과 (18.57ms, 9.85MB)\n",
    "테스트 5 〉\t통과 (86.49ms, 9.8MB)\n",
    "테스트 6 〉\t통과 (229.08ms, 9.86MB)\n",
    "테스트 7 〉\t통과 (88.69ms, 10MB)\n",
    "테스트 8 〉\t통과 (422.04ms, 10.1MB)\n",
    "테스트 9 〉\t통과 (403.11ms, 10.1MB)\n",
    "테스트 10 〉\t통과 (435.77ms, 10.1MB)\n",
    "테스트 11 〉\t통과 (88.55ms, 9.84MB)\n",
    "테스트 12 〉\t통과 (217.82ms, 9.89MB)\n",
    "테스트 13 〉\t통과 (82.67ms, 9.97MB)\n",
    "테스트 14 〉\t통과 (2028.51ms, 10.1MB)\n",
    "테스트 15 〉\t통과 (427.54ms, 10.1MB)\n",
    "테스트 16 〉\t통과 (87.12ms, 9.77MB)\n",
    "테스트 17 〉\t통과 (218.89ms, 9.92MB)\n",
    "테스트 18 〉\t통과 (426.36ms, 10.1MB)"
   ]
  },
  {
   "cell_type": "code",
   "execution_count": null,
   "metadata": {},
   "outputs": [],
   "source": []
  },
  {
   "cell_type": "code",
   "execution_count": null,
   "metadata": {},
   "outputs": [],
   "source": []
  },
  {
   "cell_type": "code",
   "execution_count": null,
   "metadata": {},
   "outputs": [],
   "source": [
    "def conds(inf, quer):\n",
    "    inf=inf.split()\n",
    "    quer=quer.replace(\"and\",\" \").split()\n",
    "    \n",
    "    if inf[0]==quer[0] or quer[0]=='-':\n",
    "        if inf[1]==quer[1] or quer[1]=='-':\n",
    "            if inf[2]==quer[2] or quer[2]=='-':\n",
    "                if inf[3]==quer[3] or quer[3]=='-':\n",
    "                    if quer[4]=='-':\n",
    "                        return True\n",
    "                    elif int(inf[4])>=int(quer[4]):\n",
    "                        return True\n",
    "                    else:\n",
    "                        return False\n",
    "                else:\n",
    "                    return False\n",
    "            else:\n",
    "                return False\n",
    "        else:\n",
    "            return False\n",
    "    else:\n",
    "        return False\n",
    "    \n",
    "def solution(info, query):\n",
    "    answer=[0]*len(query)\n",
    "    \n",
    "    \n",
    "    for inf in info:\n",
    "        for q,quer in enumerate(query):\n",
    "            if conds(inf, quer)==1:\n",
    "                answer[q]+=1\n",
    "    return answer"
   ]
  },
  {
   "cell_type": "code",
   "execution_count": null,
   "metadata": {},
   "outputs": [],
   "source": []
  },
  {
   "cell_type": "code",
   "execution_count": null,
   "metadata": {},
   "outputs": [],
   "source": []
  },
  {
   "cell_type": "code",
   "execution_count": null,
   "metadata": {},
   "outputs": [],
   "source": []
  },
  {
   "cell_type": "code",
   "execution_count": 146,
   "metadata": {},
   "outputs": [],
   "source": [
    "# pandas\n",
    "\n",
    "def solution(info, query):\n",
    "    import pandas as pd\n",
    "    import numpy as np\n",
    "    \n",
    "    info=pd.Series(info)\n",
    "    info=pd.DataFrame(info.str.split().tolist(), columns=['언어','직군','경력','소울푸드','점수'])\n",
    "    info.점수=info.점수.astype('int')\n",
    "    \n",
    "    answer=[]\n",
    "    \n",
    "    for q,quer in enumerate(query):\n",
    "        temp=info\n",
    "        quer=quer.replace(\"and\",\" \").split()\n",
    "#         quer=map(replace(\"-\",\"\"), quer)\n",
    "        sit=np.where(np.array(quer)=='-')[0]\n",
    "        if q not in sit:\n",
    "            temp=temp[temp[[q]]==q]\n",
    "        \n",
    "        print(temp)\n",
    "    \n",
    "#         if quer[0]=='-': cond0=True\n",
    "#         else: cond0=info.언어==quer[0]\n",
    "#         if quer[1]=='-': cond1=True\n",
    "#         else: cond1=info.직군==quer[1]\n",
    "#         if quer[2]=='-': cond2=True\n",
    "#         else: cond2=info.경력==quer[2]\n",
    "#         if quer[3]=='-': cond3=True\n",
    "#         else: cond3=info.소울푸드==quer[3]\n",
    "#         if quer[4]=='-': cond4=True\n",
    "#         else: cond4=int(quer[4])>=info.점수\n",
    "            \n",
    "#         cond=cond0 and cond1 and cond2 and cond3 and cond4\n",
    "#         cond=cond0=info.언어==quer[0]\n",
    "#         print(info[cond])\n",
    "#         answer.append(len(info[cond]))\n",
    "#         if conds(inf, quer)==1:\n",
    "#             answer[q]+=1\n",
    "    return answer"
   ]
  },
  {
   "cell_type": "code",
   "execution_count": 185,
   "metadata": {},
   "outputs": [
    {
     "name": "stdout",
     "output_type": "stream",
     "text": [
      "0 java\n",
      "1 backend\n",
      "2 junior\n",
      "3 pizza\n",
      "4 100\n",
      "Empty DataFrame\n",
      "Columns: [0, 1, 2, 3, 4]\n",
      "Index: []\n",
      "0 python\n",
      "1 frontend\n",
      "2 senior\n",
      "3 chicken\n",
      "4 200\n",
      "Empty DataFrame\n",
      "Columns: [0, 1, 2, 3, 4]\n",
      "Index: []\n",
      "0 cpp\n",
      "2 senior\n",
      "3 pizza\n",
      "4 250\n",
      "Empty DataFrame\n",
      "Columns: [0, 1, 2, 3, 4]\n",
      "Index: []\n",
      "1 backend\n",
      "2 senior\n",
      "4 150\n",
      "Empty DataFrame\n",
      "Columns: [0, 1, 2, 3, 4]\n",
      "Index: []\n",
      "3 chicken\n",
      "4 100\n",
      "Empty DataFrame\n",
      "Columns: [0, 1, 2, 3, 4]\n",
      "Index: []\n",
      "4 150\n",
      "Empty DataFrame\n",
      "Columns: [0, 1, 2, 3, 4]\n",
      "Index: []\n"
     ]
    },
    {
     "name": "stderr",
     "output_type": "stream",
     "text": [
      "C:\\Anaconda3\\envs\\py36\\lib\\site-packages\\pandas\\core\\ops\\array_ops.py:253: FutureWarning: elementwise comparison failed; returning scalar instead, but in the future will perform elementwise comparison\n",
      "  res_values = method(rvalues)\n",
      "C:\\Anaconda3\\envs\\py36\\lib\\site-packages\\pandas\\core\\ops\\array_ops.py:253: FutureWarning: elementwise comparison failed; returning scalar instead, but in the future will perform elementwise comparison\n",
      "  res_values = method(rvalues)\n",
      "C:\\Anaconda3\\envs\\py36\\lib\\site-packages\\pandas\\core\\ops\\array_ops.py:253: FutureWarning: elementwise comparison failed; returning scalar instead, but in the future will perform elementwise comparison\n",
      "  res_values = method(rvalues)\n",
      "C:\\Anaconda3\\envs\\py36\\lib\\site-packages\\pandas\\core\\ops\\array_ops.py:253: FutureWarning: elementwise comparison failed; returning scalar instead, but in the future will perform elementwise comparison\n",
      "  res_values = method(rvalues)\n",
      "C:\\Anaconda3\\envs\\py36\\lib\\site-packages\\pandas\\core\\ops\\array_ops.py:253: FutureWarning: elementwise comparison failed; returning scalar instead, but in the future will perform elementwise comparison\n",
      "  res_values = method(rvalues)\n",
      "C:\\Anaconda3\\envs\\py36\\lib\\site-packages\\pandas\\core\\ops\\array_ops.py:253: FutureWarning: elementwise comparison failed; returning scalar instead, but in the future will perform elementwise comparison\n",
      "  res_values = method(rvalues)\n"
     ]
    }
   ],
   "source": [
    "info=[\"java backend junior pizza 150\",\"python frontend senior chicken 210\",\"python frontend senior chicken 150\",\"cpp backend senior pizza 260\",\"java backend junior chicken 80\",\"python backend senior chicken 50\"]\n",
    "query=[\"java and backend and junior and pizza 100\",\"python and frontend and senior and chicken 200\",\"cpp and - and senior and pizza 250\",\"- and backend and senior and - 150\",\"- and - and - and chicken 100\",\"- and - and - and - 150\"]\n",
    "\n",
    "import pandas as pd\n",
    "import numpy as np\n",
    "\n",
    "info=pd.Series(info)\n",
    "info=pd.DataFrame(info.str.split().tolist())\n",
    "# , columns=['언어','직군','경력','소울푸드','점수']\n",
    "info[4]=info[4].astype('int')\n",
    "\n",
    "answer=[]\n",
    "\n",
    "for quer in query:\n",
    "    temp=info.copy()\n",
    "    quer=quer.replace(\"and\",\" \").split()\n",
    "    sit=np.where(np.array(quer)=='-')[0].tolist()\n",
    "    \n",
    "    #쿼리하나\n",
    "    for q in range(len(quer)):\n",
    "        if q in sit:\n",
    "            continue\n",
    "        else:\n",
    "            print(q,quer[q])\n",
    "            temp=temp[temp[q]==quer[q]]\n",
    "    print(temp)"
   ]
  },
  {
   "cell_type": "code",
   "execution_count": 147,
   "metadata": {
    "scrolled": true
   },
   "outputs": [
    {
     "ename": "KeyError",
     "evalue": "\"None of [Int64Index([0], dtype='int64')] are in the [columns]\"",
     "output_type": "error",
     "traceback": [
      "\u001b[1;31m---------------------------------------------------------------------------\u001b[0m",
      "\u001b[1;31mKeyError\u001b[0m                                  Traceback (most recent call last)",
      "\u001b[1;32m<ipython-input-147-9937ba7c8709>\u001b[0m in \u001b[0;36m<module>\u001b[1;34m\u001b[0m\n\u001b[0;32m      1\u001b[0m solution([\"java backend junior pizza 150\",\"python frontend senior chicken 210\",\"python frontend senior chicken 150\",\"cpp backend senior pizza 260\",\"java backend junior chicken 80\",\"python backend senior chicken 50\"],\n\u001b[1;32m----> 2\u001b[1;33m         [\"java and backend and junior and pizza 100\",\"python and frontend and senior and chicken 200\",\"cpp and - and senior and pizza 250\",\"- and backend and senior and - 150\",\"- and - and - and chicken 100\",\"- and - and - and - 150\"])\n\u001b[0m",
      "\u001b[1;32m<ipython-input-146-c49783d39f11>\u001b[0m in \u001b[0;36msolution\u001b[1;34m(info, query)\u001b[0m\n\u001b[0;32m     17\u001b[0m         \u001b[0msit\u001b[0m\u001b[1;33m=\u001b[0m\u001b[0mnp\u001b[0m\u001b[1;33m.\u001b[0m\u001b[0mwhere\u001b[0m\u001b[1;33m(\u001b[0m\u001b[0mnp\u001b[0m\u001b[1;33m.\u001b[0m\u001b[0marray\u001b[0m\u001b[1;33m(\u001b[0m\u001b[0mquer\u001b[0m\u001b[1;33m)\u001b[0m\u001b[1;33m==\u001b[0m\u001b[1;34m'-'\u001b[0m\u001b[1;33m)\u001b[0m\u001b[1;33m[\u001b[0m\u001b[1;36m0\u001b[0m\u001b[1;33m]\u001b[0m\u001b[1;33m\u001b[0m\u001b[1;33m\u001b[0m\u001b[0m\n\u001b[0;32m     18\u001b[0m         \u001b[1;32mif\u001b[0m \u001b[0mq\u001b[0m \u001b[1;32mnot\u001b[0m \u001b[1;32min\u001b[0m \u001b[0msit\u001b[0m\u001b[1;33m:\u001b[0m\u001b[1;33m\u001b[0m\u001b[1;33m\u001b[0m\u001b[0m\n\u001b[1;32m---> 19\u001b[1;33m             \u001b[0mtemp\u001b[0m\u001b[1;33m=\u001b[0m\u001b[0mtemp\u001b[0m\u001b[1;33m[\u001b[0m\u001b[0mtemp\u001b[0m\u001b[1;33m[\u001b[0m\u001b[1;33m[\u001b[0m\u001b[0mq\u001b[0m\u001b[1;33m]\u001b[0m\u001b[1;33m]\u001b[0m\u001b[1;33m==\u001b[0m\u001b[0mq\u001b[0m\u001b[1;33m]\u001b[0m\u001b[1;33m\u001b[0m\u001b[1;33m\u001b[0m\u001b[0m\n\u001b[0m\u001b[0;32m     20\u001b[0m \u001b[1;33m\u001b[0m\u001b[0m\n\u001b[0;32m     21\u001b[0m         \u001b[0mprint\u001b[0m\u001b[1;33m(\u001b[0m\u001b[0mtemp\u001b[0m\u001b[1;33m)\u001b[0m\u001b[1;33m\u001b[0m\u001b[1;33m\u001b[0m\u001b[0m\n",
      "\u001b[1;32mC:\\Anaconda3\\envs\\py36\\lib\\site-packages\\pandas\\core\\frame.py\u001b[0m in \u001b[0;36m__getitem__\u001b[1;34m(self, key)\u001b[0m\n\u001b[0;32m   2804\u001b[0m             \u001b[1;32mif\u001b[0m \u001b[0mis_iterator\u001b[0m\u001b[1;33m(\u001b[0m\u001b[0mkey\u001b[0m\u001b[1;33m)\u001b[0m\u001b[1;33m:\u001b[0m\u001b[1;33m\u001b[0m\u001b[1;33m\u001b[0m\u001b[0m\n\u001b[0;32m   2805\u001b[0m                 \u001b[0mkey\u001b[0m \u001b[1;33m=\u001b[0m \u001b[0mlist\u001b[0m\u001b[1;33m(\u001b[0m\u001b[0mkey\u001b[0m\u001b[1;33m)\u001b[0m\u001b[1;33m\u001b[0m\u001b[1;33m\u001b[0m\u001b[0m\n\u001b[1;32m-> 2806\u001b[1;33m             \u001b[0mindexer\u001b[0m \u001b[1;33m=\u001b[0m \u001b[0mself\u001b[0m\u001b[1;33m.\u001b[0m\u001b[0mloc\u001b[0m\u001b[1;33m.\u001b[0m\u001b[0m_get_listlike_indexer\u001b[0m\u001b[1;33m(\u001b[0m\u001b[0mkey\u001b[0m\u001b[1;33m,\u001b[0m \u001b[0maxis\u001b[0m\u001b[1;33m=\u001b[0m\u001b[1;36m1\u001b[0m\u001b[1;33m,\u001b[0m \u001b[0mraise_missing\u001b[0m\u001b[1;33m=\u001b[0m\u001b[1;32mTrue\u001b[0m\u001b[1;33m)\u001b[0m\u001b[1;33m[\u001b[0m\u001b[1;36m1\u001b[0m\u001b[1;33m]\u001b[0m\u001b[1;33m\u001b[0m\u001b[1;33m\u001b[0m\u001b[0m\n\u001b[0m\u001b[0;32m   2807\u001b[0m \u001b[1;33m\u001b[0m\u001b[0m\n\u001b[0;32m   2808\u001b[0m         \u001b[1;31m# take() does not accept boolean indexers\u001b[0m\u001b[1;33m\u001b[0m\u001b[1;33m\u001b[0m\u001b[1;33m\u001b[0m\u001b[0m\n",
      "\u001b[1;32mC:\\Anaconda3\\envs\\py36\\lib\\site-packages\\pandas\\core\\indexing.py\u001b[0m in \u001b[0;36m_get_listlike_indexer\u001b[1;34m(self, key, axis, raise_missing)\u001b[0m\n\u001b[0;32m   1551\u001b[0m \u001b[1;33m\u001b[0m\u001b[0m\n\u001b[0;32m   1552\u001b[0m         self._validate_read_indexer(\n\u001b[1;32m-> 1553\u001b[1;33m             \u001b[0mkeyarr\u001b[0m\u001b[1;33m,\u001b[0m \u001b[0mindexer\u001b[0m\u001b[1;33m,\u001b[0m \u001b[0mo\u001b[0m\u001b[1;33m.\u001b[0m\u001b[0m_get_axis_number\u001b[0m\u001b[1;33m(\u001b[0m\u001b[0maxis\u001b[0m\u001b[1;33m)\u001b[0m\u001b[1;33m,\u001b[0m \u001b[0mraise_missing\u001b[0m\u001b[1;33m=\u001b[0m\u001b[0mraise_missing\u001b[0m\u001b[1;33m\u001b[0m\u001b[1;33m\u001b[0m\u001b[0m\n\u001b[0m\u001b[0;32m   1554\u001b[0m         )\n\u001b[0;32m   1555\u001b[0m         \u001b[1;32mreturn\u001b[0m \u001b[0mkeyarr\u001b[0m\u001b[1;33m,\u001b[0m \u001b[0mindexer\u001b[0m\u001b[1;33m\u001b[0m\u001b[1;33m\u001b[0m\u001b[0m\n",
      "\u001b[1;32mC:\\Anaconda3\\envs\\py36\\lib\\site-packages\\pandas\\core\\indexing.py\u001b[0m in \u001b[0;36m_validate_read_indexer\u001b[1;34m(self, key, indexer, axis, raise_missing)\u001b[0m\n\u001b[0;32m   1638\u001b[0m             \u001b[1;32mif\u001b[0m \u001b[0mmissing\u001b[0m \u001b[1;33m==\u001b[0m \u001b[0mlen\u001b[0m\u001b[1;33m(\u001b[0m\u001b[0mindexer\u001b[0m\u001b[1;33m)\u001b[0m\u001b[1;33m:\u001b[0m\u001b[1;33m\u001b[0m\u001b[1;33m\u001b[0m\u001b[0m\n\u001b[0;32m   1639\u001b[0m                 \u001b[0maxis_name\u001b[0m \u001b[1;33m=\u001b[0m \u001b[0mself\u001b[0m\u001b[1;33m.\u001b[0m\u001b[0mobj\u001b[0m\u001b[1;33m.\u001b[0m\u001b[0m_get_axis_name\u001b[0m\u001b[1;33m(\u001b[0m\u001b[0maxis\u001b[0m\u001b[1;33m)\u001b[0m\u001b[1;33m\u001b[0m\u001b[1;33m\u001b[0m\u001b[0m\n\u001b[1;32m-> 1640\u001b[1;33m                 \u001b[1;32mraise\u001b[0m \u001b[0mKeyError\u001b[0m\u001b[1;33m(\u001b[0m\u001b[1;34mf\"None of [{key}] are in the [{axis_name}]\"\u001b[0m\u001b[1;33m)\u001b[0m\u001b[1;33m\u001b[0m\u001b[1;33m\u001b[0m\u001b[0m\n\u001b[0m\u001b[0;32m   1641\u001b[0m \u001b[1;33m\u001b[0m\u001b[0m\n\u001b[0;32m   1642\u001b[0m             \u001b[1;31m# We (temporarily) allow for some missing keys with .loc, except in\u001b[0m\u001b[1;33m\u001b[0m\u001b[1;33m\u001b[0m\u001b[1;33m\u001b[0m\u001b[0m\n",
      "\u001b[1;31mKeyError\u001b[0m: \"None of [Int64Index([0], dtype='int64')] are in the [columns]\""
     ]
    }
   ],
   "source": [
    "solution([\"java backend junior pizza 150\",\"python frontend senior chicken 210\",\"python frontend senior chicken 150\",\"cpp backend senior pizza 260\",\"java backend junior chicken 80\",\"python backend senior chicken 50\"],\n",
    "        [\"java and backend and junior and pizza 100\",\"python and frontend and senior and chicken 200\",\"cpp and - and senior and pizza 250\",\"- and backend and senior and - 150\",\"- and - and - and chicken 100\",\"- and - and - and - 150\"])"
   ]
  },
  {
   "cell_type": "code",
   "execution_count": 164,
   "metadata": {
    "scrolled": true
   },
   "outputs": [
    {
     "data": {
      "text/html": [
       "<div>\n",
       "<style scoped>\n",
       "    .dataframe tbody tr th:only-of-type {\n",
       "        vertical-align: middle;\n",
       "    }\n",
       "\n",
       "    .dataframe tbody tr th {\n",
       "        vertical-align: top;\n",
       "    }\n",
       "\n",
       "    .dataframe thead th {\n",
       "        text-align: right;\n",
       "    }\n",
       "</style>\n",
       "<table border=\"1\" class=\"dataframe\">\n",
       "  <thead>\n",
       "    <tr style=\"text-align: right;\">\n",
       "      <th></th>\n",
       "      <th>0</th>\n",
       "      <th>1</th>\n",
       "      <th>2</th>\n",
       "      <th>3</th>\n",
       "      <th>4</th>\n",
       "    </tr>\n",
       "  </thead>\n",
       "  <tbody>\n",
       "    <tr>\n",
       "      <th>0</th>\n",
       "      <td>java</td>\n",
       "      <td>backend</td>\n",
       "      <td>junior</td>\n",
       "      <td>pizza</td>\n",
       "      <td>150</td>\n",
       "    </tr>\n",
       "    <tr>\n",
       "      <th>1</th>\n",
       "      <td>python</td>\n",
       "      <td>frontend</td>\n",
       "      <td>senior</td>\n",
       "      <td>chicken</td>\n",
       "      <td>210</td>\n",
       "    </tr>\n",
       "    <tr>\n",
       "      <th>2</th>\n",
       "      <td>python</td>\n",
       "      <td>frontend</td>\n",
       "      <td>senior</td>\n",
       "      <td>chicken</td>\n",
       "      <td>150</td>\n",
       "    </tr>\n",
       "    <tr>\n",
       "      <th>3</th>\n",
       "      <td>cpp</td>\n",
       "      <td>backend</td>\n",
       "      <td>senior</td>\n",
       "      <td>pizza</td>\n",
       "      <td>260</td>\n",
       "    </tr>\n",
       "    <tr>\n",
       "      <th>4</th>\n",
       "      <td>java</td>\n",
       "      <td>backend</td>\n",
       "      <td>junior</td>\n",
       "      <td>chicken</td>\n",
       "      <td>80</td>\n",
       "    </tr>\n",
       "    <tr>\n",
       "      <th>5</th>\n",
       "      <td>python</td>\n",
       "      <td>backend</td>\n",
       "      <td>senior</td>\n",
       "      <td>chicken</td>\n",
       "      <td>50</td>\n",
       "    </tr>\n",
       "  </tbody>\n",
       "</table>\n",
       "</div>"
      ],
      "text/plain": [
       "        0         1       2        3    4\n",
       "0    java   backend  junior    pizza  150\n",
       "1  python  frontend  senior  chicken  210\n",
       "2  python  frontend  senior  chicken  150\n",
       "3     cpp   backend  senior    pizza  260\n",
       "4    java   backend  junior  chicken   80\n",
       "5  python   backend  senior  chicken   50"
      ]
     },
     "execution_count": 164,
     "metadata": {},
     "output_type": "execute_result"
    }
   ],
   "source": [
    "temp"
   ]
  },
  {
   "cell_type": "code",
   "execution_count": 161,
   "metadata": {},
   "outputs": [
    {
     "name": "stdout",
     "output_type": "stream",
     "text": [
      "<class 'pandas.core.frame.DataFrame'>\n",
      "RangeIndex: 6 entries, 0 to 5\n",
      "Data columns (total 5 columns):\n",
      " #   Column  Non-Null Count  Dtype \n",
      "---  ------  --------------  ----- \n",
      " 0   0       6 non-null      object\n",
      " 1   1       6 non-null      object\n",
      " 2   2       6 non-null      object\n",
      " 3   3       6 non-null      object\n",
      " 4   4       6 non-null      int32 \n",
      "dtypes: int32(1), object(4)\n",
      "memory usage: 344.0+ bytes\n"
     ]
    }
   ],
   "source": [
    "temp.info()"
   ]
  },
  {
   "cell_type": "code",
   "execution_count": 168,
   "metadata": {},
   "outputs": [
    {
     "name": "stdout",
     "output_type": "stream",
     "text": [
      "0      java\n",
      "1    python\n",
      "2    python\n",
      "3       cpp\n",
      "4      java\n",
      "5    python\n",
      "Name: 0, dtype: object\n",
      "0     backend\n",
      "1    frontend\n",
      "2    frontend\n",
      "3     backend\n",
      "4     backend\n",
      "5     backend\n",
      "Name: 1, dtype: object\n",
      "0    junior\n",
      "1    senior\n",
      "2    senior\n",
      "3    senior\n",
      "4    junior\n",
      "5    senior\n",
      "Name: 2, dtype: object\n",
      "0      pizza\n",
      "1    chicken\n",
      "2    chicken\n",
      "3      pizza\n",
      "4    chicken\n",
      "5    chicken\n",
      "Name: 3, dtype: object\n",
      "0    150\n",
      "1    210\n",
      "2    150\n",
      "3    260\n",
      "4     80\n",
      "5     50\n",
      "Name: 4, dtype: int32\n"
     ]
    }
   ],
   "source": [
    "for i in range(5):\n",
    "    print(temp[i])"
   ]
  },
  {
   "cell_type": "code",
   "execution_count": null,
   "metadata": {},
   "outputs": [],
   "source": []
  }
 ],
 "metadata": {
  "kernelspec": {
   "display_name": "Python 3",
   "language": "python",
   "name": "python3"
  },
  "language_info": {
   "codemirror_mode": {
    "name": "ipython",
    "version": 3
   },
   "file_extension": ".py",
   "mimetype": "text/x-python",
   "name": "python",
   "nbconvert_exporter": "python",
   "pygments_lexer": "ipython3",
   "version": "3.6.10"
  },
  "toc": {
   "base_numbering": 1,
   "nav_menu": {},
   "number_sections": false,
   "sideBar": true,
   "skip_h1_title": false,
   "title_cell": "Table of Contents",
   "title_sidebar": "Contents",
   "toc_cell": false,
   "toc_position": {},
   "toc_section_display": true,
   "toc_window_display": false
  }
 },
 "nbformat": 4,
 "nbformat_minor": 4
}
