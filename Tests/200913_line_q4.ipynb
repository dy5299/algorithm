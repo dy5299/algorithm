{
 "cells": [
  {
   "cell_type": "code",
   "execution_count": null,
   "metadata": {},
   "outputs": [],
   "source": [
    "def solution(maze):\n",
    "    answer = 0\n",
    "    return answer"
   ]
  },
  {
   "cell_type": "code",
   "execution_count": 2,
   "metadata": {},
   "outputs": [],
   "source": [
    "maze=[[0, 1, 0, 1], [0, 1, 0, 0], [0, 0, 0, 0], [1, 0, 1, 0]]"
   ]
  },
  {
   "cell_type": "code",
   "execution_count": 17,
   "metadata": {},
   "outputs": [],
   "source": [
    "import numpy as np\n",
    "\n",
    "nsize=len(maze)\n",
    "maze=np.array(maze)\n",
    "present=np.array([0,0])\n",
    "count=[]"
   ]
  },
  {
   "cell_type": "code",
   "execution_count": 18,
   "metadata": {
    "scrolled": true
   },
   "outputs": [
    {
     "data": {
      "text/plain": [
       "array([[0, 1, 0, 1],\n",
       "       [0, 1, 0, 0],\n",
       "       [0, 0, 0, 0],\n",
       "       [1, 0, 1, 0]])"
      ]
     },
     "execution_count": 18,
     "metadata": {},
     "output_type": "execute_result"
    }
   ],
   "source": [
    "maze"
   ]
  },
  {
   "cell_type": "code",
   "execution_count": 19,
   "metadata": {},
   "outputs": [
    {
     "data": {
      "text/plain": [
       "1"
      ]
     },
     "execution_count": 19,
     "metadata": {},
     "output_type": "execute_result"
    }
   ],
   "source": [
    "maze[0,1]"
   ]
  },
  {
   "cell_type": "code",
   "execution_count": 20,
   "metadata": {},
   "outputs": [
    {
     "data": {
      "text/plain": [
       "0"
      ]
     },
     "execution_count": 20,
     "metadata": {},
     "output_type": "execute_result"
    }
   ],
   "source": [
    "maze[1,0]"
   ]
  },
  {
   "cell_type": "code",
   "execution_count": 25,
   "metadata": {},
   "outputs": [
    {
     "name": "stdout",
     "output_type": "stream",
     "text": [
      "[0 0]\n",
      "[1 0]\n"
     ]
    }
   ],
   "source": [
    "present=np.array([0,0])\n",
    "print(present)\n",
    "present[0]+=1\n",
    "print(present)"
   ]
  },
  {
   "cell_type": "code",
   "execution_count": 27,
   "metadata": {},
   "outputs": [
    {
     "data": {
      "text/plain": [
       "array([1, 0])"
      ]
     },
     "execution_count": 27,
     "metadata": {},
     "output_type": "execute_result"
    }
   ],
   "source": [
    "present"
   ]
  },
  {
   "cell_type": "code",
   "execution_count": 28,
   "metadata": {},
   "outputs": [
    {
     "data": {
      "text/plain": [
       "array([[0, 1, 0, 1],\n",
       "       [0, 1, 0, 0],\n",
       "       [0, 0, 0, 0],\n",
       "       [1, 0, 1, 0]])"
      ]
     },
     "execution_count": 28,
     "metadata": {},
     "output_type": "execute_result"
    }
   ],
   "source": [
    "maze"
   ]
  },
  {
   "cell_type": "code",
   "execution_count": 31,
   "metadata": {},
   "outputs": [
    {
     "data": {
      "text/plain": [
       "1"
      ]
     },
     "execution_count": 31,
     "metadata": {},
     "output_type": "execute_result"
    }
   ],
   "source": [
    "maze[present[0],present[1]+1]"
   ]
  },
  {
   "cell_type": "code",
   "execution_count": null,
   "metadata": {},
   "outputs": [],
   "source": []
  },
  {
   "cell_type": "code",
   "execution_count": 5,
   "metadata": {},
   "outputs": [],
   "source": [
    "if maze[1,0]==1:\n",
    "    direction='right'\n",
    "elif maze[0,1]==1:\n",
    "    direction='down'\n",
    "\n"
   ]
  },
  {
   "cell_type": "code",
   "execution_count": null,
   "metadata": {},
   "outputs": [],
   "source": [
    "direcarr=['down','right','up','left']\n",
    "# 움직이는 방향 우선순위\n",
    "\n",
    "while present != [nsize, nsize]:\n",
    "    # elif direc=='right':\n",
    "    #     # 위 있으면 오른쪽\n",
    "    #         # 오른쪽도 있으면 아래\n",
    "    #             #아래도 있으면 왼쪽\n",
    "    #     #이렇게 네 가지 다 고려해야 함\n",
    "    #\n",
    "    #     if maze[  present[0]-1, present[1]  ]!=1:  # 위 없으면 위로\n",
    "    #         direc, present, count = up(direc, present, count)\n",
    "    #     elif maze[  present[0], present[1]+1  ]!=1:  # 오른쪽 없으면 오른\n",
    "    #         direc,present,count = right(direc,present,count)\n",
    "    #     elif maze[  present[0]+1, present[1]  ]!=1:  # 아래 없으면 아래\n",
    "    #         direc, present, count = down(direc, present, count)\n",
    "    #     elif maze[  present[0], present[1]-1  ]!=1:  #왼 없으면 왼\n",
    "    #         direc, present, count = left(direc, present, count)\n"
   ]
  },
  {
   "cell_type": "code",
   "execution_count": 33,
   "metadata": {},
   "outputs": [
    {
     "data": {
      "text/plain": [
       "array([[0, 1, 0, 1],\n",
       "       [0, 1, 0, 0],\n",
       "       [0, 0, 0, 0],\n",
       "       [1, 0, 1, 0]])"
      ]
     },
     "execution_count": 33,
     "metadata": {},
     "output_type": "execute_result"
    }
   ],
   "source": [
    "maze"
   ]
  },
  {
   "cell_type": "code",
   "execution_count": 50,
   "metadata": {},
   "outputs": [],
   "source": [
    "maze=[[0, 1, 0, 1], [0, 1, 0, 0], [0, 0, 0, 0], [1, 0, 1, 0]]\n",
    "maze=np.append(maze, np.ones((1, nsize), dtype=int), 0)\n",
    "maze=np.append(maze, np.ones((nsize+1,1), dtype=int), 1)"
   ]
  },
  {
   "cell_type": "code",
   "execution_count": 51,
   "metadata": {},
   "outputs": [
    {
     "data": {
      "text/plain": [
       "array([[0, 1, 0, 1, 1],\n",
       "       [0, 1, 0, 0, 1],\n",
       "       [0, 0, 0, 0, 1],\n",
       "       [1, 0, 1, 0, 1],\n",
       "       [1, 1, 1, 1, 1]])"
      ]
     },
     "execution_count": 51,
     "metadata": {},
     "output_type": "execute_result"
    }
   ],
   "source": [
    "maze"
   ]
  },
  {
   "cell_type": "code",
   "execution_count": 58,
   "metadata": {},
   "outputs": [],
   "source": [
    "maze=[[0, 1, 0, 1], [0, 1, 0, 0], [0, 0, 0, 0], [1, 0, 1, 0]]\n",
    "temp=np.ones((nsize+2,nsize+2), dtype=int)\n",
    "temp[1:-1, 1:-1]=maze\n",
    "maze=temp"
   ]
  },
  {
   "cell_type": "code",
   "execution_count": 59,
   "metadata": {},
   "outputs": [
    {
     "data": {
      "text/plain": [
       "array([[1, 1, 1, 1, 1, 1],\n",
       "       [1, 0, 1, 0, 1, 1],\n",
       "       [1, 0, 1, 0, 0, 1],\n",
       "       [1, 0, 0, 0, 0, 1],\n",
       "       [1, 1, 0, 1, 0, 1],\n",
       "       [1, 1, 1, 1, 1, 1]])"
      ]
     },
     "execution_count": 59,
     "metadata": {},
     "output_type": "execute_result"
    }
   ],
   "source": [
    "maze"
   ]
  },
  {
   "cell_type": "code",
   "execution_count": 34,
   "metadata": {},
   "outputs": [
    {
     "data": {
      "text/plain": [
       "array([[0, 1, 0, 1],\n",
       "       [0, 1, 0, 0],\n",
       "       [0, 0, 0, 0],\n",
       "       [1, 0, 1, 0]])"
      ]
     },
     "execution_count": 34,
     "metadata": {},
     "output_type": "execute_result"
    }
   ],
   "source": [
    "maze"
   ]
  },
  {
   "cell_type": "code",
   "execution_count": 6,
   "metadata": {},
   "outputs": [
    {
     "name": "stdout",
     "output_type": "stream",
     "text": [
      "present>>[3 1], direc:down, count:2\n",
      "present>>[3 2], direc:right, count:3\n",
      "present>>[3 3], direc:right, count:4\n",
      "present>>[2 3], direc:up, count:5\n",
      "present>>[1 3], direc:up, count:6\n",
      "present>>[2 3], direc:down, count:7\n",
      "present>>[2 4], direc:right, count:8\n",
      "present>>[3 4], direc:down, count:9\n",
      "present>>[4 4], direc:down, count:10\n"
     ]
    }
   ],
   "source": [
    "import numpy as np\n",
    "\n",
    "maze=[[0, 1, 0, 1], [0, 1, 0, 0], [0, 0, 0, 0], [1, 0, 1, 0]]\n",
    "nsize=len(maze)\n",
    "temp=np.ones((nsize+2,nsize+2), dtype=int)\n",
    "temp[1:-1, 1:-1]=maze\n",
    "maze=temp\n",
    "\n",
    "\n",
    "maze=np.array(maze)\n",
    "present=np.array([1,1])\n",
    "count=0\n",
    "\n",
    "# 처음\n",
    "if maze[1, 2] == 1:\n",
    "    direc = 'down'\n",
    "    present[0]+=1\n",
    "    count+=1\n",
    "elif maze[2, 1] == 1:\n",
    "    direc = 'right'\n",
    "    present[1]+=1\n",
    "    count+=1\n",
    "\n",
    "\n",
    "def right(direc,present,count):\n",
    "    direc='right'\n",
    "    present[1] += 1\n",
    "    count += 1\n",
    "    return direc,present, count\n",
    "\n",
    "def left(direc,present,count):\n",
    "    direc='right'\n",
    "    present[1] -= 1\n",
    "    count += 1\n",
    "    return direc,present, count\n",
    "\n",
    "def down(direc,present,count):\n",
    "    direc='down'\n",
    "    present[0] += 1\n",
    "    count += 1\n",
    "    return direc,present, count\n",
    "\n",
    "def up(direc,present,count):\n",
    "    direc='up'\n",
    "    present[0] -= 1\n",
    "    count += 1\n",
    "    return direc,present, count\n",
    "\n",
    "\n",
    "direcarr=['down','right','up','left']\n",
    "# 움직이는 방향은 다 가능. 왼쪽손에 막혔냐 안 막혔냐\n",
    "\n",
    "\n",
    "while True:\n",
    "    if present[0]==nsize and present[1]==nsize:\n",
    "        break\n",
    "        \n",
    "    if direc=='down':\n",
    "        if maze[  present[0], present[1]+1  ]!=1:  # 오른쪽 없으면 오른\n",
    "            direc,present,count = right(direc,present,count)\n",
    "        elif maze[  present[0]+1, present[1]  ]!=1:  # 아래 없으면 아래\n",
    "            direc, present, count = down(direc, present, count)\n",
    "        elif maze[  present[0], present[1]-1  ]!=1:  #왼 없으면 왼\n",
    "            direc, present, count = left(direc, present, count)\n",
    "        elif maze[  present[0]-1, present[1]  ]!=1:  # 위 없으면 위\n",
    "            direc, present, count = up(direc, present, count)\n",
    "\n",
    "    elif direc=='right':\n",
    "        if maze[  present[0]-1, present[1]  ]!=1:  # 위 없으면 위로\n",
    "            direc, present, count = up(direc, present, count)\n",
    "        elif maze[  present[0], present[1]+1  ]!=1:  # 오른 없으면 오른\n",
    "            direc,present,count = right(direc,present,count)\n",
    "        elif maze[  present[0]+1, present[1]  ]!=1:  # 아래 없으면 아래\n",
    "            direc, present, count = down(direc, present, count)\n",
    "        elif maze[present[0], present[1] - 1] != 1:  # 왼 없으면 왼\n",
    "            direc, present, count = left(direc, present, count)\n",
    "\n",
    "\n",
    "    elif direc=='up':\n",
    "        if maze[present[0], present[1] - 1] != 1:  # 왼 없으면 왼\n",
    "            direc, present, count = left(direc, present, count)\n",
    "        elif maze[  present[0]-1, present[1]  ]!=1:  # 위 없으면 위로\n",
    "            direc, present, count = up(direc, present, count)\n",
    "        elif maze[  present[0], present[1]+1  ]!=1:  # 오른 없으면 오른\n",
    "            direc,present,count = right(direc,present,count)\n",
    "        elif maze[  present[0]+1, present[1]  ]!=1:  # 아래 없으면 아래\n",
    "            direc, present, count = down(direc, present, count)\n",
    "\n",
    "\n",
    "    elif direc=='left':\n",
    "        if maze[  present[0]+1, present[1]  ]!=1:  # 아래 없으면 아래\n",
    "            direc, present, count = down(direc, present, count)\n",
    "        elif maze[present[0], present[1] - 1] != 1:  # 왼 없으면 왼\n",
    "            direc, present, count = left(direc, present, count)\n",
    "        elif maze[  present[0]-1, present[1]  ]!=1:  # 위 없으면 위로\n",
    "            direc, present, count = up(direc, present, count)\n",
    "        elif maze[  present[0], present[1]+1  ]!=1:  # 오른 없으면 오른\n",
    "            direc,present,count = right(direc,present,count)\n",
    "    print(\"present>>{}, direc:{}, count:{}\".format(present,direc,count))"
   ]
  },
  {
   "cell_type": "code",
   "execution_count": 15,
   "metadata": {},
   "outputs": [],
   "source": [
    "def solution(maze):\n",
    "    import numpy as np\n",
    "    nsize=len(maze)\n",
    "    maze=np.array(maze)\n",
    "    temp=np.ones((nsize+2,nsize+2), dtype=int)\n",
    "    temp[1:-1, 1:-1]=maze\n",
    "    maze=temp\n",
    "    \n",
    "    present=np.array([1,1])\n",
    "    count=0\n",
    "    \n",
    "    # 처음\n",
    "    if maze[1, 2] == 1:\n",
    "        direc = 'down'\n",
    "        present[0]+=1\n",
    "        count+=1\n",
    "    elif maze[2, 1] == 1:\n",
    "        direc = 'right'\n",
    "        present[1]+=1\n",
    "        count+=1\n",
    "    \n",
    "    \n",
    "    def right(direc,present,count):\n",
    "        direc='right'\n",
    "        present[1] += 1\n",
    "        count += 1\n",
    "        return direc,present, count\n",
    "    \n",
    "    def left(direc,present,count):\n",
    "        direc='left'\n",
    "        present[1] -= 1\n",
    "        count += 1\n",
    "        return direc,present, count\n",
    "    \n",
    "    def down(direc,present,count):\n",
    "        direc='down'\n",
    "        present[0] += 1\n",
    "        count += 1\n",
    "        return direc,present, count\n",
    "    \n",
    "    def up(direc,present,count):\n",
    "        direc='up'\n",
    "        present[0] -= 1\n",
    "        count += 1\n",
    "        return direc,present, count\n",
    "    \n",
    "    \n",
    "    direcarr=['down','right','up','left']\n",
    "    # 움직이는 방향은 다 가능. 왼쪽손에 막혔냐 안 막혔냐\n",
    "    \n",
    "    while True:\n",
    "        if present[0]==nsize and present[1]==nsize:\n",
    "            break\n",
    "\n",
    "        if direc=='down':\n",
    "            if maze[  present[0], present[1]+1  ]!=1:  # 오른쪽 없으면 오른\n",
    "                direc,present,count = right(direc,present,count)\n",
    "            elif maze[  present[0]+1, present[1]  ]!=1:  # 아래 없으면 아래\n",
    "                direc, present, count = down(direc, present, count)\n",
    "            elif maze[  present[0], present[1]-1  ]!=1:  #왼 없으면 왼\n",
    "                direc, present, count = left(direc, present, count)\n",
    "            elif maze[  present[0]-1, present[1]  ]!=1:  # 위 없으면 위\n",
    "                direc, present, count = up(direc, present, count)\n",
    "    \n",
    "        elif direc=='right':\n",
    "            if maze[  present[0]-1, present[1]  ]!=1:  # 위 없으면 위로\n",
    "                direc, present, count = up(direc, present, count)\n",
    "            elif maze[  present[0], present[1]+1  ]!=1:  # 오른 없으면 오른\n",
    "                direc,present,count = right(direc,present,count)\n",
    "            elif maze[  present[0]+1, present[1]  ]!=1:  # 아래 없으면 아래\n",
    "                direc, present, count = down(direc, present, count)\n",
    "            elif maze[present[0], present[1] - 1] != 1:  # 왼 없으면 왼\n",
    "                direc, present, count = left(direc, present, count)\n",
    "    \n",
    "    \n",
    "        elif direc=='up':\n",
    "            if maze[present[0], present[1] - 1] != 1:  # 왼 없으면 왼\n",
    "                direc, present, count = left(direc, present, count)\n",
    "            elif maze[  present[0]-1, present[1]  ]!=1:  # 위 없으면 위로\n",
    "                direc, present, count = up(direc, present, count)\n",
    "            elif maze[  present[0], present[1]+1  ]!=1:  # 오른 없으면 오른\n",
    "                direc,present,count = right(direc,present,count)\n",
    "            elif maze[  present[0]+1, present[1]  ]!=1:  # 아래 없으면 아래\n",
    "                direc, present, count = down(direc, present, count)\n",
    "    \n",
    "    \n",
    "        elif direc=='left':\n",
    "            if maze[  present[0]+1, present[1]  ]!=1:  # 아래 없으면 아래\n",
    "                direc, present, count = down(direc, present, count)\n",
    "            elif maze[present[0], present[1] - 1] != 1:  # 왼 없으면 왼\n",
    "                direc, present, count = left(direc, present, count)\n",
    "            elif maze[  present[0]-1, present[1]  ]!=1:  # 위 없으면 위로\n",
    "                direc, present, count = up(direc, present, count)\n",
    "            elif maze[  present[0], present[1]+1  ]!=1:  # 오른 없으면 오른\n",
    "                direc,present,count = right(direc,present,count)\n",
    "\n",
    "        print(\"present>>{}, direc:{}, count:{}\".format(present,direc,count))\n",
    "    answer = count\n",
    "    return answer"
   ]
  },
  {
   "cell_type": "code",
   "execution_count": 16,
   "metadata": {},
   "outputs": [
    {
     "name": "stdout",
     "output_type": "stream",
     "text": [
      "present>>[3 1], direc:down, count:2\n",
      "present>>[3 2], direc:right, count:3\n",
      "present>>[3 3], direc:right, count:4\n",
      "present>>[2 3], direc:up, count:5\n",
      "present>>[1 3], direc:up, count:6\n",
      "present>>[2 3], direc:down, count:7\n",
      "present>>[2 4], direc:right, count:8\n",
      "present>>[3 4], direc:down, count:9\n",
      "present>>[4 4], direc:down, count:10\n"
     ]
    },
    {
     "data": {
      "text/plain": [
       "10"
      ]
     },
     "execution_count": 16,
     "metadata": {},
     "output_type": "execute_result"
    }
   ],
   "source": [
    "solution([[0, 1, 0, 1], [0, 1, 0, 0], [0, 0, 0, 0], [1, 0, 1, 0]])"
   ]
  },
  {
   "cell_type": "code",
   "execution_count": 17,
   "metadata": {},
   "outputs": [
    {
     "name": "stdout",
     "output_type": "stream",
     "text": [
      "present>>[3 1], direc:down, count:2\n",
      "present>>[4 1], direc:down, count:3\n",
      "present>>[5 1], direc:down, count:4\n",
      "present>>[6 1], direc:down, count:5\n",
      "present>>[6 2], direc:right, count:6\n",
      "present>>[6 3], direc:right, count:7\n",
      "present>>[5 3], direc:up, count:8\n",
      "present>>[5 4], direc:right, count:9\n",
      "present>>[5 5], direc:right, count:10\n",
      "present>>[5 6], direc:right, count:11\n",
      "present>>[4 6], direc:up, count:12\n",
      "present>>[3 6], direc:up, count:13\n",
      "present>>[2 6], direc:up, count:14\n",
      "present>>[1 6], direc:up, count:15\n",
      "present>>[1 5], direc:left, count:16\n",
      "present>>[1 4], direc:left, count:17\n",
      "present>>[1 3], direc:left, count:18\n",
      "present>>[2 3], direc:down, count:19\n",
      "present>>[3 3], direc:down, count:20\n",
      "present>>[3 4], direc:right, count:21\n",
      "present>>[3 3], direc:left, count:22\n",
      "present>>[2 3], direc:up, count:23\n",
      "present>>[1 3], direc:up, count:24\n",
      "present>>[1 4], direc:right, count:25\n",
      "present>>[1 5], direc:right, count:26\n",
      "present>>[1 6], direc:right, count:27\n",
      "present>>[2 6], direc:down, count:28\n",
      "present>>[3 6], direc:down, count:29\n",
      "present>>[4 6], direc:down, count:30\n",
      "present>>[5 6], direc:down, count:31\n",
      "present>>[6 6], direc:down, count:32\n"
     ]
    },
    {
     "data": {
      "text/plain": [
       "32"
      ]
     },
     "execution_count": 17,
     "metadata": {},
     "output_type": "execute_result"
    }
   ],
   "source": [
    "solution([[0, 1, 0, 0, 0, 0], [0, 1, 0, 1, 1, 0], [0, 1, 0, 0, 1, 0], [0, 1, 1, 1, 1, 0], [0, 1, 0, 0, 0, 0], [0, 0, 0, 1, 1, 0]])"
   ]
  },
  {
   "cell_type": "code",
   "execution_count": 18,
   "metadata": {},
   "outputs": [
    {
     "name": "stdout",
     "output_type": "stream",
     "text": [
      "present>>[2 2], direc:right, count:2\n",
      "present>>[3 2], direc:down, count:3\n",
      "present>>[3 3], direc:right, count:4\n",
      "present>>[4 3], direc:down, count:5\n",
      "present>>[4 4], direc:right, count:6\n",
      "present>>[5 4], direc:down, count:7\n",
      "present>>[5 5], direc:right, count:8\n",
      "present>>[5 6], direc:right, count:9\n",
      "present>>[4 6], direc:up, count:10\n",
      "present>>[3 6], direc:up, count:11\n",
      "present>>[3 5], direc:left, count:12\n",
      "present>>[2 5], direc:up, count:13\n",
      "present>>[2 4], direc:left, count:14\n",
      "present>>[1 4], direc:up, count:15\n",
      "present>>[1 3], direc:left, count:16\n",
      "present>>[1 4], direc:right, count:17\n",
      "present>>[1 5], direc:right, count:18\n",
      "present>>[1 6], direc:right, count:19\n",
      "present>>[2 6], direc:down, count:20\n",
      "present>>[3 6], direc:down, count:21\n",
      "present>>[4 6], direc:down, count:22\n",
      "present>>[5 6], direc:down, count:23\n",
      "present>>[6 6], direc:down, count:24\n"
     ]
    },
    {
     "data": {
      "text/plain": [
       "24"
      ]
     },
     "execution_count": 18,
     "metadata": {},
     "output_type": "execute_result"
    }
   ],
   "source": [
    "solution([[0, 1, 0, 0, 0, 0], [0, 0, 1, 0, 0, 0], [0, 0, 0, 1, 0, 0], [0, 0, 0, 0, 1, 0], [0, 0, 0, 0, 0, 0], [1, 1, 1, 1, 1, 0]])"
   ]
  },
  {
   "cell_type": "code",
   "execution_count": 19,
   "metadata": {},
   "outputs": [
    {
     "name": "stdout",
     "output_type": "stream",
     "text": [
      "present>>[1 3], direc:right, count:2\n",
      "present>>[1 4], direc:right, count:3\n",
      "present>>[1 5], direc:right, count:4\n",
      "present>>[1 6], direc:right, count:5\n",
      "present>>[1 5], direc:left, count:6\n",
      "present>>[1 4], direc:left, count:7\n",
      "present>>[2 4], direc:down, count:8\n",
      "present>>[3 4], direc:down, count:9\n",
      "present>>[3 5], direc:right, count:10\n",
      "present>>[3 6], direc:right, count:11\n",
      "present>>[3 5], direc:left, count:12\n",
      "present>>[3 4], direc:left, count:13\n",
      "present>>[3 3], direc:left, count:14\n",
      "present>>[3 2], direc:left, count:15\n",
      "present>>[4 2], direc:down, count:16\n",
      "present>>[5 2], direc:down, count:17\n",
      "present>>[5 3], direc:right, count:18\n",
      "present>>[5 4], direc:right, count:19\n",
      "present>>[5 5], direc:right, count:20\n",
      "present>>[5 6], direc:right, count:21\n",
      "present>>[6 6], direc:down, count:22\n"
     ]
    },
    {
     "data": {
      "text/plain": [
       "22"
      ]
     },
     "execution_count": 19,
     "metadata": {},
     "output_type": "execute_result"
    }
   ],
   "source": [
    "solution([[0, 0, 0, 0, 0, 0], [1, 1, 1, 0, 1, 1], [0, 0, 0, 0, 0, 0], [1, 0, 1, 1, 1, 1], [0, 0, 0, 0, 0, 0], [1, 1, 0, 1, 1, 0]])"
   ]
  },
  {
   "cell_type": "code",
   "execution_count": null,
   "metadata": {},
   "outputs": [],
   "source": []
  }
 ],
 "metadata": {
  "kernelspec": {
   "display_name": "Python 3",
   "language": "python",
   "name": "python3"
  },
  "toc": {
   "base_numbering": 1,
   "nav_menu": {},
   "number_sections": false,
   "sideBar": true,
   "skip_h1_title": false,
   "title_cell": "Table of Contents",
   "title_sidebar": "Contents",
   "toc_cell": false,
   "toc_position": {},
   "toc_section_display": true,
   "toc_window_display": false
  }
 },
 "nbformat": 4,
 "nbformat_minor": 4
}
