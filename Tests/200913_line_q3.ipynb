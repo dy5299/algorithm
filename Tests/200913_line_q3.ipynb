{
 "cells": [
  {
   "cell_type": "code",
   "execution_count": null,
   "metadata": {},
   "outputs": [],
   "source": [
    "def solution(n):\n",
    "    answer = []\n",
    "    return answer"
   ]
  },
  {
   "cell_type": "code",
   "execution_count": 1,
   "metadata": {},
   "outputs": [],
   "source": [
    "n=73425"
   ]
  },
  {
   "cell_type": "code",
   "execution_count": 3,
   "metadata": {},
   "outputs": [],
   "source": [
    "n=str(n)"
   ]
  },
  {
   "cell_type": "code",
   "execution_count": 4,
   "metadata": {},
   "outputs": [
    {
     "data": {
      "text/plain": [
       "5"
      ]
     },
     "execution_count": 4,
     "metadata": {},
     "output_type": "execute_result"
    }
   ],
   "source": [
    "len(n)"
   ]
  },
  {
   "cell_type": "code",
   "execution_count": 15,
   "metadata": {},
   "outputs": [],
   "source": [
    "def cutting(n):\n",
    "    n=str(n)\n",
    "    if len(n)%2==0: #자리수 짝수라면\n",
    "        cut=len(n)//2\n",
    "        a=n[:cut]\n",
    "        b=n[cut:]\n",
    "        ans=[int(a)+int(b)]\n",
    "        return ans\n",
    "    else:\n",
    "        ans=[]\n",
    "        \n",
    "        cut=len(n)//2\n",
    "        a=n[:cut]\n",
    "        b=n[cut:]\n",
    "        test1=int(a)+int(b)\n",
    "        test1len=len(str(test1))\n",
    "        \n",
    "        cut=len(n)//2+1\n",
    "        a=n[:cut]\n",
    "        b=n[cut:]\n",
    "        test2=int(a)+int(b)\n",
    "        test2len=len(str(test2))\n",
    "        \n",
    "        if test1len > test2len:\n",
    "            return [test1]\n",
    "        elif test1len < test2len:\n",
    "            return [test2]\n",
    "        else:\n",
    "            return [test1, test2]"
   ]
  },
  {
   "cell_type": "code",
   "execution_count": null,
   "metadata": {},
   "outputs": [],
   "source": [
    "def solution(n):\n",
    "    while True:\n",
    "        temp=cutting(n)\n",
    "        \n",
    "        if temp==1:\n",
    "            temp=cutting(temp[0])\n",
    "        else:\n",
    "            a=cutting(temp[0])\n",
    "            b=cutting(temp[1])"
   ]
  },
  {
   "cell_type": "code",
   "execution_count": 16,
   "metadata": {},
   "outputs": [
    {
     "data": {
      "text/plain": [
       "[498, 759]"
      ]
     },
     "execution_count": 16,
     "metadata": {},
     "output_type": "execute_result"
    }
   ],
   "source": [
    "cutting(73425)"
   ]
  },
  {
   "cell_type": "code",
   "execution_count": null,
   "metadata": {},
   "outputs": [],
   "source": [
    "c=0\n",
    "while c<30:\n",
    "    c+=1\n",
    "    \n",
    "    temp=cutting(n)\n",
    "    "
   ]
  },
  {
   "cell_type": "code",
   "execution_count": null,
   "metadata": {},
   "outputs": [],
   "source": [
    "def cutting(n, cut):\n",
    "    n=str(n)\n",
    "    \n",
    "    if len(n)%2==0: #자리수 짝수라면\n",
    "        cut=len(n)//2\n",
    "        \n",
    "    if n[cut-1]==0 or n[cut]==0:\n",
    "        \n",
    "    a=n[:cut]\n",
    "    b=n[cut:]\n",
    "    if len(a)+len(b)<len(n):\n",
    "        cut\n",
    "    \n",
    "    ans=[int(a)+int(b)]\n",
    "    return ans\n",
    "\n",
    "def test(n):\n",
    "    n=str(n)\n",
    "    if len(n)%2==0: #자리수 짝수라면\n",
    "        cut=len(n)//2\n",
    "        \n",
    "    else:\n",
    "        ans=[]\n",
    "        \n",
    "        cut=len(n)//2\n",
    "        a=n[:cut]\n",
    "        b=n[cut:]\n",
    "        test1=int(a)+int(b)\n",
    "        test1len=len(str(test1))\n",
    "        \n",
    "        cut=len(n)//2+1\n",
    "        a=n[:cut]\n",
    "        b=n[cut:]\n",
    "        test2=int(a)+int(b)\n",
    "        test2len=len(str(test2))\n",
    "        \n",
    "        if test1len > test2len:\n",
    "            return [test1]\n",
    "        elif test1len < test2len:\n",
    "            return [test2]\n",
    "        else:\n",
    "            return [test1, test2]"
   ]
  }
 ],
 "metadata": {
  "kernelspec": {
   "display_name": "Python 3",
   "language": "python",
   "name": "python3"
  },
  "toc": {
   "base_numbering": 1,
   "nav_menu": {},
   "number_sections": false,
   "sideBar": true,
   "skip_h1_title": false,
   "title_cell": "Table of Contents",
   "title_sidebar": "Contents",
   "toc_cell": false,
   "toc_position": {},
   "toc_section_display": true,
   "toc_window_display": false
  }
 },
 "nbformat": 4,
 "nbformat_minor": 4
}
