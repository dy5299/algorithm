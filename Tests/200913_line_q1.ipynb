{
 "cells": [
  {
   "cell_type": "code",
   "execution_count": 4,
   "metadata": {},
   "outputs": [
    {
     "data": {
      "text/plain": [
       "True"
      ]
     },
     "execution_count": 4,
     "metadata": {},
     "output_type": "execute_result"
    }
   ],
   "source": [
    "list(reversed([1,2]))==[2,1]"
   ]
  },
  {
   "cell_type": "code",
   "execution_count": null,
   "metadata": {},
   "outputs": [],
   "source": [
    "# 취소. 상호교환이니 하나겹치는거니 구분할 필요가 없었음 -> 하나로 합쳐\n",
    "def solution(boxes):\n",
    "    box_num=len(boxes)\n",
    "    rest=boxes\n",
    "    \n",
    "    # 상호교환 먼저\n",
    "    try:\n",
    "        for i in range(len(boxes)):\n",
    "            try:\n",
    "                targetidx=boxes[i+1:].index(  list(reversed(boxes[i]))  )\n",
    "                boxes.pop(i)\n",
    "                boxes.pop(targetidx)\n",
    "            except:\n",
    "                pass\n",
    "    except IndexError:\n",
    "        pass\n",
    "\n",
    "    if len(boxes)==0:\n",
    "        return answer\n",
    "    else:\n",
    "        # 하나 겹치는거 검출\n",
    "        try:\n",
    "            for i in range(len(boxes)):\n",
    "                try:\n",
    "                    index(  boxes[i][0]  )\n",
    "        except IndexError:\n",
    "            pass\n",
    "\n",
    "    return answer"
   ]
  },
  {
   "cell_type": "code",
   "execution_count": 5,
   "metadata": {},
   "outputs": [],
   "source": [
    "test=[[1, 2], [2, 1], [3, 3], [4, 5], [5, 6], [7, 8]]"
   ]
  },
  {
   "cell_type": "code",
   "execution_count": 12,
   "metadata": {},
   "outputs": [
    {
     "data": {
      "text/plain": [
       "[1, 1, 2, 2, 3, 3, 4, 5, 5, 6, 7, 8]"
      ]
     },
     "execution_count": 12,
     "metadata": {},
     "output_type": "execute_result"
    }
   ],
   "source": [
    "import numpy as np\n",
    "np.sort(np.array(test).flatten()).tolist()"
   ]
  },
  {
   "cell_type": "code",
   "execution_count": 38,
   "metadata": {},
   "outputs": [],
   "source": []
  },
  {
   "cell_type": "code",
   "execution_count": 43,
   "metadata": {},
   "outputs": [
    {
     "name": "stdout",
     "output_type": "stream",
     "text": [
      "two\n",
      "c>> 1\n",
      "len>> 10\n",
      "two\n",
      "c>> 1\n",
      "len>> 8\n",
      "two\n",
      "c>> 1\n",
      "len>> 6\n",
      "three\n",
      "c>> 2\n",
      "len>> 6\n",
      "two\n",
      "c>> 2\n",
      "len>> 4\n",
      "three\n",
      "c>> 3\n",
      "len>> 4\n",
      "three\n",
      "c>> 4\n",
      "len>> 4\n"
     ]
    }
   ],
   "source": [
    "boxes=[[1, 2], [2, 1], [3, 3], [4, 5], [5, 6], [7, 8]]\n",
    "\n",
    "import numpy as np\n",
    "\n",
    "# 합쳐\n",
    "flatten=np.array(boxes).flatten()\n",
    "boxes=np.sort(flatten).tolist()\n",
    "\n",
    "c=1\n",
    "while boxes:\n",
    "    try:\n",
    "        if len(boxes)<c: \n",
    "            print('one')\n",
    "            break\n",
    "\n",
    "        if boxes[c-1]==boxes[c]:\n",
    "            print('two')\n",
    "            boxes.pop(c)\n",
    "            boxes.pop(c-1)\n",
    "        else:\n",
    "            print('three')\n",
    "            c+=1\n",
    "        print('c>>',c)\n",
    "        print('len>>',len(boxes))\n",
    "    except IndexError:\n",
    "        break"
   ]
  },
  {
   "cell_type": "code",
   "execution_count": 44,
   "metadata": {},
   "outputs": [
    {
     "data": {
      "text/plain": [
       "[4, 6, 7, 8]"
      ]
     },
     "execution_count": 44,
     "metadata": {},
     "output_type": "execute_result"
    }
   ],
   "source": [
    "boxes"
   ]
  },
  {
   "cell_type": "code",
   "execution_count": 27,
   "metadata": {},
   "outputs": [
    {
     "data": {
      "text/plain": [
       "1"
      ]
     },
     "execution_count": 27,
     "metadata": {},
     "output_type": "execute_result"
    }
   ],
   "source": [
    "c"
   ]
  },
  {
   "cell_type": "code",
   "execution_count": null,
   "metadata": {},
   "outputs": [],
   "source": []
  }
 ],
 "metadata": {
  "kernelspec": {
   "display_name": "Python 3",
   "language": "python",
   "name": "python3"
  },
  "language_info": {
   "codemirror_mode": {
    "name": "ipython",
    "version": 3
   },
   "file_extension": ".py",
   "mimetype": "text/x-python",
   "name": "python",
   "nbconvert_exporter": "python",
   "pygments_lexer": "ipython3",
   "version": "3.6.10"
  },
  "toc": {
   "base_numbering": 1,
   "nav_menu": {},
   "number_sections": false,
   "sideBar": true,
   "skip_h1_title": false,
   "title_cell": "Table of Contents",
   "title_sidebar": "Contents",
   "toc_cell": false,
   "toc_position": {},
   "toc_section_display": true,
   "toc_window_display": false
  }
 },
 "nbformat": 4,
 "nbformat_minor": 4
}
