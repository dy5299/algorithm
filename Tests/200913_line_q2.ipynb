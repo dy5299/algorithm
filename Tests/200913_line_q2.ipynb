{
 "cells": [
  {
   "cell_type": "code",
   "execution_count": 1,
   "metadata": {},
   "outputs": [],
   "source": [
    "ball=[11, 2, 9, 13, 24]"
   ]
  },
  {
   "cell_type": "code",
   "execution_count": 2,
   "metadata": {},
   "outputs": [],
   "source": [
    "from collections import deque"
   ]
  },
  {
   "cell_type": "code",
   "execution_count": 3,
   "metadata": {},
   "outputs": [],
   "source": [
    "ball=deque(ball)"
   ]
  },
  {
   "cell_type": "code",
   "execution_count": 5,
   "metadata": {},
   "outputs": [
    {
     "data": {
      "text/plain": [
       "deque([11, 2, 9, 13, 24])"
      ]
     },
     "execution_count": 5,
     "metadata": {},
     "output_type": "execute_result"
    }
   ],
   "source": [
    "ball"
   ]
  },
  {
   "cell_type": "code",
   "execution_count": 7,
   "metadata": {},
   "outputs": [
    {
     "data": {
      "text/plain": [
       "24"
      ]
     },
     "execution_count": 7,
     "metadata": {},
     "output_type": "execute_result"
    }
   ],
   "source": [
    "ball[-1]"
   ]
  },
  {
   "cell_type": "code",
   "execution_count": 33,
   "metadata": {},
   "outputs": [],
   "source": [
    "def solution(ball, order):\n",
    "    from collections import deque\n",
    "    ball=deque(ball)\n",
    "    qu=[]\n",
    "    answer = []\n",
    "\n",
    "    # for o in order:\n",
    "    # c=0\n",
    "    for o in order:\n",
    "        if len(ball) == 0: break\n",
    "\n",
    "        first=ball[0]\n",
    "        last=ball[-1]\n",
    "        print('o>>',o,first,last)\n",
    "        print('qu>>',qu)\n",
    "\n",
    "        if len(qu)>0:\n",
    "            if first in qu:\n",
    "                answer.append(ball.popleft())\n",
    "                qu.remove(first)\n",
    "            elif last in qu:\n",
    "                answer.append(ball.pop())\n",
    "                qu.remove(last)\n",
    "\n",
    "\n",
    "        if o==first:\n",
    "            answer.append(ball.popleft())\n",
    "        elif o==last:\n",
    "            answer.append(ball.pop())\n",
    "        else:\n",
    "            qu.append(o)\n",
    "\n",
    "\n",
    "    return answer"
   ]
  },
  {
   "cell_type": "code",
   "execution_count": 95,
   "metadata": {},
   "outputs": [],
   "source": [
    "def solution(ball, order):\n",
    "    from collections import deque\n",
    "    ball=deque(ball)\n",
    "    qu=[]\n",
    "    answer = []\n",
    "\n",
    "    # for o in order:\n",
    "    c=0\n",
    "    # for o in order:\n",
    "    while len(ball) > 0:\n",
    "#         try:\n",
    "        first=ball[0]\n",
    "        last=ball[-1]\n",
    "        print('c:{}, order[c]:{}, first:{}, last:{}'.format(c,order[c],first,last))\n",
    "\n",
    "        if len(qu)>0:\n",
    "            firsttest=first in qu\n",
    "            lasttest=last in qu\n",
    "            if firsttest and lasttest:\n",
    "                if qu.index(first)>qu.index(last):\n",
    "                    answer.append(ball.popleft())\n",
    "                    qu.remove(first)\n",
    "                    continue\n",
    "                else:\n",
    "                    answer.append(ball.pop())\n",
    "                    qu.remove(last)\n",
    "                    continue\n",
    "\n",
    "            elif firsttest:\n",
    "                answer.append(ball.popleft())\n",
    "                qu.remove(first)\n",
    "                continue\n",
    "            elif lasttest:\n",
    "                answer.append(ball.pop())\n",
    "                qu.remove(last)\n",
    "                continue\n",
    "\n",
    "\n",
    "        if len(order)>=c:\n",
    "            if order[c]==first:\n",
    "                answer.append(ball.popleft())\n",
    "                c+=1\n",
    "            elif order[c]==last:\n",
    "                answer.append(ball.pop())\n",
    "                c+=1\n",
    "            else:\n",
    "                qu.append(order[c])\n",
    "                c+=1\n",
    "\n",
    "\n",
    "        print('ball:{}, qu:{}, answer:{}'.format(ball,qu,answer))\n",
    "#         except IndexError:\n",
    "#             print('INDEXERROR c>>',c)\n",
    "#             break\n",
    "    \n",
    "        print('\\n')\n",
    "\n",
    "    return answer"
   ]
  },
  {
   "cell_type": "code",
   "execution_count": 96,
   "metadata": {},
   "outputs": [
    {
     "name": "stdout",
     "output_type": "stream",
     "text": [
      "c:0, order[c]:6, first:1, last:6\n",
      "ball:deque([1, 2, 3, 4, 5]), qu:[], answer:[6]\n",
      "\n",
      "\n",
      "c:1, order[c]:2, first:1, last:5\n",
      "ball:deque([1, 2, 3, 4, 5]), qu:[2], answer:[6]\n",
      "\n",
      "\n",
      "c:2, order[c]:5, first:1, last:5\n",
      "ball:deque([1, 2, 3, 4]), qu:[2], answer:[6, 5]\n",
      "\n",
      "\n",
      "c:3, order[c]:1, first:1, last:4\n",
      "ball:deque([2, 3, 4]), qu:[2], answer:[6, 5, 1]\n",
      "\n",
      "\n",
      "c:4, order[c]:4, first:2, last:4\n",
      "c:4, order[c]:4, first:3, last:4\n",
      "ball:deque([3]), qu:[], answer:[6, 5, 1, 2, 4]\n",
      "\n",
      "\n",
      "c:5, order[c]:3, first:3, last:3\n",
      "ball:deque([]), qu:[], answer:[6, 5, 1, 2, 4, 3]\n",
      "\n",
      "\n"
     ]
    },
    {
     "data": {
      "text/plain": [
       "[6, 5, 1, 2, 4, 3]"
      ]
     },
     "execution_count": 96,
     "metadata": {},
     "output_type": "execute_result"
    }
   ],
   "source": [
    "solution([1, 2, 3, 4, 5, 6],[6, 2, 5, 1, 4, 3])"
   ]
  },
  {
   "cell_type": "code",
   "execution_count": 97,
   "metadata": {},
   "outputs": [
    {
     "name": "stdout",
     "output_type": "stream",
     "text": [
      "c:0, order[c]:9, first:11, last:24\n",
      "ball:deque([11, 2, 9, 13, 24]), qu:[9], answer:[]\n",
      "\n",
      "\n",
      "c:1, order[c]:2, first:11, last:24\n",
      "ball:deque([11, 2, 9, 13, 24]), qu:[9, 2], answer:[]\n",
      "\n",
      "\n",
      "c:2, order[c]:13, first:11, last:24\n",
      "ball:deque([11, 2, 9, 13, 24]), qu:[9, 2, 13], answer:[]\n",
      "\n",
      "\n",
      "c:3, order[c]:24, first:11, last:24\n",
      "ball:deque([11, 2, 9, 13]), qu:[9, 2, 13], answer:[24]\n",
      "\n",
      "\n",
      "c:4, order[c]:11, first:11, last:13\n",
      "c:4, order[c]:11, first:11, last:9\n",
      "c:4, order[c]:11, first:11, last:2\n",
      "c:4, order[c]:11, first:11, last:11\n",
      "ball:deque([]), qu:[], answer:[24, 13, 9, 2, 11]\n",
      "\n",
      "\n"
     ]
    },
    {
     "data": {
      "text/plain": [
       "[24, 13, 9, 2, 11]"
      ]
     },
     "execution_count": 97,
     "metadata": {},
     "output_type": "execute_result"
    }
   ],
   "source": [
    "solution([11, 2, 9, 13, 24], [9, 2, 13, 24, 11])"
   ]
  },
  {
   "cell_type": "code",
   "execution_count": null,
   "metadata": {},
   "outputs": [],
   "source": [
    "# indexerror 있는 버전\n",
    "def solution(ball, order):\n",
    "    from collections import deque\n",
    "    ball=deque(ball)\n",
    "    qu=[]\n",
    "    answer = []\n",
    "\n",
    "    # for o in order:\n",
    "    c=0\n",
    "    # for o in order:\n",
    "    while len(ball) > 0:\n",
    "        try:\n",
    "            first=ball[0]\n",
    "            last=ball[-1]\n",
    "\n",
    "            if len(qu)>0:\n",
    "                firsttest=first in qu\n",
    "                lasttest=last in qu\n",
    "                if firsttest and lasttest:\n",
    "                    if qu.index(first)>qu.index(last):\n",
    "                        answer.append(ball.popleft())\n",
    "                        qu.remove(first)\n",
    "                        continue\n",
    "                    else:\n",
    "                        answer.append(ball.pop())\n",
    "                        qu.remove(last)\n",
    "                        continue\n",
    "\n",
    "                elif firsttest:\n",
    "                    answer.append(ball.popleft())\n",
    "                    qu.remove(first)\n",
    "                    continue\n",
    "                elif lasttest:\n",
    "                    answer.append(ball.pop())\n",
    "                    qu.remove(last)\n",
    "                    continue\n",
    "\n",
    "            if len(order)>=c:\n",
    "                if order[c]==first:\n",
    "                    answer.append(ball.popleft())\n",
    "                    c+=1\n",
    "                elif order[c]==last:\n",
    "                    answer.append(ball.pop())\n",
    "                    c+=1\n",
    "                else:\n",
    "                    qu.append(order[c])\n",
    "                    c+=1\n",
    "\n",
    "        except IndexError:\n",
    "            break\n",
    "\n",
    "\n",
    "    return answer"
   ]
  },
  {
   "cell_type": "code",
   "execution_count": null,
   "metadata": {},
   "outputs": [],
   "source": [
    "# indexerror 없는 버전\n",
    "def solution(ball, order):\n",
    "    from collections import deque\n",
    "    ball=deque(ball)\n",
    "    qu=[]\n",
    "    answer = []\n",
    "\n",
    "    # for o in order:\n",
    "    c=0\n",
    "    # for o in order:\n",
    "    while len(ball) > 0:\n",
    "        first=ball[0]\n",
    "        last=ball[-1]\n",
    "\n",
    "        if len(qu)>0:\n",
    "            firsttest=first in qu\n",
    "            lasttest=last in qu\n",
    "            if firsttest and lasttest:\n",
    "                if qu.index(first)>qu.index(last):\n",
    "                    answer.append(ball.popleft())\n",
    "                    qu.remove(first)\n",
    "                    continue\n",
    "                else:\n",
    "                    answer.append(ball.pop())\n",
    "                    qu.remove(last)\n",
    "                    continue\n",
    "\n",
    "            elif firsttest:\n",
    "                answer.append(ball.popleft())\n",
    "                qu.remove(first)\n",
    "                continue\n",
    "            elif lasttest:\n",
    "                answer.append(ball.pop())\n",
    "                qu.remove(last)\n",
    "                continue\n",
    "\n",
    "        if len(order)>=c:\n",
    "            if order[c]==first:\n",
    "                answer.append(ball.popleft())\n",
    "                c+=1\n",
    "            elif order[c]==last:\n",
    "                answer.append(ball.pop())\n",
    "                c+=1\n",
    "            else:\n",
    "                qu.append(order[c])\n",
    "                c+=1\n",
    "\n",
    "\n",
    "\n",
    "    return answer"
   ]
  }
 ],
 "metadata": {
  "kernelspec": {
   "display_name": "Python 3",
   "language": "python",
   "name": "python3"
  },
  "language_info": {
   "codemirror_mode": {
    "name": "ipython",
    "version": 3
   },
   "file_extension": ".py",
   "mimetype": "text/x-python",
   "name": "python",
   "nbconvert_exporter": "python",
   "pygments_lexer": "ipython3",
   "version": "3.6.10"
  },
  "toc": {
   "base_numbering": 1,
   "nav_menu": {},
   "number_sections": false,
   "sideBar": true,
   "skip_h1_title": false,
   "title_cell": "Table of Contents",
   "title_sidebar": "Contents",
   "toc_cell": false,
   "toc_position": {},
   "toc_section_display": true,
   "toc_window_display": false
  }
 },
 "nbformat": 4,
 "nbformat_minor": 4
}
