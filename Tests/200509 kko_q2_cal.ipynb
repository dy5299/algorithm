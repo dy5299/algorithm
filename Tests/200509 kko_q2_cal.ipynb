{
 "cells": [
  {
   "cell_type": "markdown",
   "metadata": {},
   "source": [
    "# q2"
   ]
  },
  {
   "cell_type": "code",
   "execution_count": 6,
   "metadata": {},
   "outputs": [
    {
     "data": {
      "text/plain": [
       "24"
      ]
     },
     "execution_count": 6,
     "metadata": {},
     "output_type": "execute_result"
    }
   ],
   "source": [
    "# 팩토리얼\n",
    "def factorial(n):\n",
    "    if n==1:\n",
    "        return 1\n",
    "    else:\n",
    "        return n*factorial(n-1)\n",
    "\n",
    "factorial(4)"
   ]
  },
  {
   "cell_type": "code",
   "execution_count": 44,
   "metadata": {},
   "outputs": [],
   "source": [
    "# print라 못 써\n",
    "def permutation(arr, r):\n",
    "    # 1.\n",
    "    used = [0 for _ in range(len(arr))]\n",
    "\n",
    "    def generate(chosen, used):\n",
    "        # 2.\n",
    "        if len(chosen) == r:\n",
    "            print(chosen)\n",
    "            return\n",
    "\n",
    "        # 3.\n",
    "        for i in range(len(arr)):\n",
    "            if not used[i]:\n",
    "                chosen.append(arr[i])\n",
    "                used[i] = 1\n",
    "                generate(chosen, used)\n",
    "                used[i] = 0\n",
    "                chosen.pop()\n",
    "    generate([], used)"
   ]
  },
  {
   "cell_type": "code",
   "execution_count": 52,
   "metadata": {},
   "outputs": [
    {
     "data": {
      "text/plain": [
       "[['*', '+', '-'],\n",
       " ['+', '*', '-'],\n",
       " ['+', '-', '*'],\n",
       " ['*', '-', '+'],\n",
       " ['-', '*', '+'],\n",
       " ['-', '+', '*']]"
      ]
     },
     "execution_count": 52,
     "metadata": {},
     "output_type": "execute_result"
    }
   ],
   "source": [
    "def perms(elements):\n",
    "    if len(elements) <=1:\n",
    "        yield elements\n",
    "    else:\n",
    "        for perm in perms(elements[1:]):\n",
    "            for i in range(len(elements)):\n",
    "                # nb elements[0:1] works in both string and list contexts\n",
    "                yield perm[:i] + elements[0:1] + perm[i:]\n",
    "list(perms(['*', '+', '-']))"
   ]
  },
  {
   "cell_type": "code",
   "execution_count": 31,
   "metadata": {},
   "outputs": [
    {
     "data": {
      "text/plain": [
       "['100', '-', '200', '*', '300', '-', '500', '+', '20']"
      ]
     },
     "execution_count": 31,
     "metadata": {},
     "output_type": "execute_result"
    }
   ],
   "source": [
    "expression = \"100-200*300-500+20\"\n",
    "expression = expression.replace('+',' + ').replace('-',' - ').replace('*',' * ')\n",
    "expression_list = expression.split()\n",
    "\n",
    "expression_list"
   ]
  },
  {
   "cell_type": "code",
   "execution_count": 32,
   "metadata": {},
   "outputs": [],
   "source": [
    "def cal(operator,pre,suf):\n",
    "    pre = int(pre)\n",
    "    suf = int(suf)\n",
    "    if operator=='+':\n",
    "        return pre+suf\n",
    "    if operator=='-':\n",
    "        return pre-suf\n",
    "    if operator=='*':\n",
    "        return pre*suf"
   ]
  },
  {
   "cell_type": "code",
   "execution_count": 34,
   "metadata": {},
   "outputs": [
    {
     "data": {
      "text/plain": [
       "['*', '+', '-']"
      ]
     },
     "execution_count": 34,
     "metadata": {},
     "output_type": "execute_result"
    }
   ],
   "source": [
    "#사용된 연산자 종류 찾기\n",
    "operators=[]\n",
    "\n",
    "if expression_list.count('+')>0 : operators.append('+')\n",
    "if expression_list.count('-')>0 : operators.append('-')\n",
    "if expression_list.count('*')>0 : operators.append('*')\n",
    "\n",
    "operators_set = list(set(operators))\n",
    "\n",
    "operators_set"
   ]
  },
  {
   "cell_type": "code",
   "execution_count": 54,
   "metadata": {},
   "outputs": [
    {
     "data": {
      "text/plain": [
       "[['*', '+', '-'],\n",
       " ['+', '*', '-'],\n",
       " ['+', '-', '*'],\n",
       " ['*', '-', '+'],\n",
       " ['-', '*', '+'],\n",
       " ['-', '+', '*']]"
      ]
     },
     "execution_count": 54,
     "metadata": {},
     "output_type": "execute_result"
    }
   ],
   "source": [
    "#연산자 순열\n",
    "case_of_oper = list(perms(operators_set))\n",
    "\n",
    "case_of_oper"
   ]
  },
  {
   "cell_type": "code",
   "execution_count": 55,
   "metadata": {},
   "outputs": [
    {
     "data": {
      "text/plain": [
       "6"
      ]
     },
     "execution_count": 55,
     "metadata": {},
     "output_type": "execute_result"
    }
   ],
   "source": [
    "len(list(case_of_oper))"
   ]
  },
  {
   "cell_type": "code",
   "execution_count": 67,
   "metadata": {},
   "outputs": [
    {
     "data": {
      "text/plain": [
       "[[294], [294], [300], [294], [300], [300]]"
      ]
     },
     "execution_count": 67,
     "metadata": {},
     "output_type": "execute_result"
    }
   ],
   "source": [
    "expression = \"50*6-3*2\"\n",
    "expression = expression.replace('+',' + ').replace('-',' - ').replace('*',' * ')\n",
    "expression_list = expression.split()\n",
    "\n",
    "result = []\n",
    "if len(case_of_oper)==1:\n",
    "    op = operators_set[0]\n",
    "    #해당 연산자에 한하여 계산\n",
    "    for i, e in enumerate(expression_list):\n",
    "        if e == op: #우선순위인 연산자일 때에만\n",
    "            temp = cal(op,expression_list[i-1],expression_list[i+1])\n",
    "            expression_list[i-1] = ''\n",
    "            expression_list[i] = ''\n",
    "            expression_list[i+1] = temp  #연속계산하려면 맨뒤에 저장해야만 함.\n",
    "    result = expression_list\n",
    "\n",
    "else:\n",
    "    for ops in range(len(case_of_oper)): #연산자 우선순위 경우의 수\n",
    "        for op in case_of_oper[ops]:    #우선순위에 따라, 계산할 연산자 선택\n",
    "\n",
    "            #해당 연산자에 한하여 계산\n",
    "            for i, e in enumerate(expression_list):\n",
    "                if e == op: #우선순위인 연산자일 때에만\n",
    "                    temp = cal(op,expression_list[i-1],expression_list[i+1])\n",
    "                    expression_list[i-1] = ''\n",
    "                    expression_list[i] = ''\n",
    "                    expression_list[i+1] = temp  #연속계산하려면 맨뒤에 저장해야만 함.\n",
    "\n",
    "            #빈 원소 제거\n",
    "            expression_list = list(filter(None, expression_list))\n",
    "        result.append(expression_list)\n",
    "        #초기화 for 다음 케이스\n",
    "        expression_list = expression.split()\n",
    "result"
   ]
  },
  {
   "cell_type": "markdown",
   "metadata": {},
   "source": [
    "COMPLETE\n",
    "\n",
    "모아보기"
   ]
  },
  {
   "cell_type": "code",
   "execution_count": 7,
   "metadata": {},
   "outputs": [
    {
     "name": "stdout",
     "output_type": "stream",
     "text": [
      "[22000, 18000, 20020, 60420, 60420, 60380]\n"
     ]
    },
    {
     "data": {
      "text/plain": [
       "60420"
      ]
     },
     "execution_count": 7,
     "metadata": {},
     "output_type": "execute_result"
    }
   ],
   "source": [
    "def factorial(n):\n",
    "    if n==1:\n",
    "        return 1\n",
    "    else:\n",
    "        return n*factorial(n-1)\n",
    "\n",
    "    \n",
    "def perms(elements):\n",
    "    if len(elements) <=1:\n",
    "        yield elements\n",
    "    else:\n",
    "        for perm in perms(elements[1:]):\n",
    "            for i in range(len(elements)):\n",
    "                # nb elements[0:1] works in both string and list contexts\n",
    "                yield perm[:i] + elements[0:1] + perm[i:]\n",
    "\n",
    "def cal(operator,pre,suf):\n",
    "    pre = int(pre)\n",
    "    suf = int(suf)\n",
    "    if operator=='+':\n",
    "        return pre+suf\n",
    "    if operator=='-':\n",
    "        return pre-suf\n",
    "    if operator=='*':\n",
    "        return pre*suf\n",
    "\n",
    "expression = \"100-200*300-500+20\"\n",
    "expression = expression.replace('+',' + ').replace('-',' - ').replace('*',' * ')\n",
    "expression_list = expression.split()\n",
    "\n",
    "\n",
    "#사용된 연산자 종류 찾기\n",
    "operators=[]\n",
    "if expression_list.count('+')>0 : operators.append('+')\n",
    "if expression_list.count('-')>0 : operators.append('-')\n",
    "if expression_list.count('*')>0 : operators.append('*')\n",
    "operators_set = list(set(operators))\n",
    "\n",
    "\n",
    "#연산자 순열\n",
    "case_of_oper = list(perms(operators_set))\n",
    "\n",
    "\n",
    "result = []\n",
    "if len(case_of_oper)==1:\n",
    "    op = operators_set[0]\n",
    "    #해당 연산자에 한하여 계산\n",
    "    for i, e in enumerate(expression_list):\n",
    "        if e == op: #우선순위인 연산자일 때에만\n",
    "            temp = cal(op,expression_list[i-1],expression_list[i+1])\n",
    "            expression_list[i-1] = ''\n",
    "            expression_list[i] = ''\n",
    "            expression_list[i+1] = temp  #연속계산하려면 맨뒤에 저장해야만 함.\n",
    "    #빈 원소 제거\n",
    "    expression_list = list(filter(None, expression_list))\n",
    "    \n",
    "    result = expression_list\n",
    "\n",
    "else:\n",
    "    for ops in range(len(case_of_oper)): #연산자 우선순위 경우의 수\n",
    "        for op in case_of_oper[ops]:    #우선순위에 따라, 계산할 연산자 선택\n",
    "\n",
    "            #해당 연산자에 한하여 계산\n",
    "            for i, e in enumerate(expression_list):\n",
    "                if e == op: #우선순위인 연산자일 때에만\n",
    "                    temp = cal(op,expression_list[i-1],expression_list[i+1])\n",
    "                    expression_list[i-1] = ''\n",
    "                    expression_list[i] = ''\n",
    "                    expression_list[i+1] = temp  #연속계산하려면 맨뒤에 저장해야만 함.\n",
    "\n",
    "            #빈 원소 제거\n",
    "            expression_list = list(filter(None, expression_list))\n",
    "        if len(expression_list)==1 : expression_list = expression_list[0]\n",
    "        result.append(abs(expression_list))\n",
    "        #초기화 for 다음 케이스\n",
    "        expression_list = expression.split()\n",
    "\n",
    "print(result)\n",
    "max(result)"
   ]
  },
  {
   "cell_type": "code",
   "execution_count": 8,
   "metadata": {},
   "outputs": [
    {
     "name": "stdout",
     "output_type": "stream",
     "text": [
      "[60420, 60380, 60420, 22000, 20020, 18000]\n"
     ]
    },
    {
     "data": {
      "text/plain": [
       "60420"
      ]
     },
     "execution_count": 8,
     "metadata": {},
     "output_type": "execute_result"
    }
   ],
   "source": [
    "# factorial 없애기\n",
    "\n",
    "def cal(operator,pre,suf):\n",
    "    pre = int(pre)\n",
    "    suf = int(suf)\n",
    "    if operator=='+':\n",
    "        return pre+suf\n",
    "    if operator=='-':\n",
    "        return pre-suf\n",
    "    if operator=='*':\n",
    "        return pre*suf\n",
    "\n",
    "expression = \"100-200*300-500+20\"\n",
    "expression = expression.replace('+',' + ').replace('-',' - ').replace('*',' * ')\n",
    "expression_list = expression.split()\n",
    "\n",
    "\n",
    "#사용된 연산자 종류 찾기\n",
    "operators=[]\n",
    "if expression_list.count('+')>0 : operators.append('+')\n",
    "if expression_list.count('-')>0 : operators.append('-')\n",
    "if expression_list.count('*')>0 : operators.append('*')\n",
    "operators_set = list(set(operators))\n",
    "\n",
    "\n",
    "#연산자 순열\n",
    "case_of_oper = [['*', '+', '-'],\n",
    " ['*', '-', '+'],\n",
    " ['+', '*', '-'],\n",
    " ['+', '-', '*'],\n",
    " ['-', '*', '+'],\n",
    " ['-', '+', '*']]\n",
    "\n",
    "result = []\n",
    "if len(operators_set)==1:\n",
    "    op = operators_set[0]\n",
    "    #해당 연산자에 한하여 계산\n",
    "    for i, e in enumerate(expression_list):\n",
    "        if e == op: #우선순위인 연산자일 때에만\n",
    "            temp = cal(op,expression_list[i-1],expression_list[i+1])\n",
    "            expression_list[i-1] = ''\n",
    "            expression_list[i] = ''\n",
    "            expression_list[i+1] = temp  #연속계산하려면 맨뒤에 저장해야만 함.\n",
    "    #빈 원소 제거\n",
    "    expression_list = list(filter(None, expression_list))\n",
    "    \n",
    "    result = expression_list\n",
    "\n",
    "else:\n",
    "    for ops in range(len(case_of_oper)): #연산자 우선순위 경우의 수\n",
    "        for op in case_of_oper[ops]:    #우선순위에 따라, 계산할 연산자 선택\n",
    "\n",
    "            #해당 연산자에 한하여 계산\n",
    "            for i, e in enumerate(expression_list):\n",
    "                if e == op: #우선순위인 연산자일 때에만\n",
    "                    temp = cal(op,expression_list[i-1],expression_list[i+1])\n",
    "                    expression_list[i-1] = ''\n",
    "                    expression_list[i] = ''\n",
    "                    expression_list[i+1] = temp  #연속계산하려면 맨뒤에 저장해야만 함.\n",
    "\n",
    "            #빈 원소 제거\n",
    "            expression_list = list(filter(None, expression_list))\n",
    "        if len(expression_list)==1 : expression_list = expression_list[0]\n",
    "        result.append(abs(expression_list))\n",
    "        #초기화 for 다음 케이스\n",
    "        expression_list = expression.split()\n",
    "\n",
    "print(result)\n",
    "max(result)"
   ]
  },
  {
   "cell_type": "markdown",
   "metadata": {},
   "source": [
    "factorial, permutation 없애기"
   ]
  },
  {
   "cell_type": "code",
   "execution_count": 9,
   "metadata": {},
   "outputs": [],
   "source": [
    "def cal(operator,pre,suf):\n",
    "    pre = int(pre)\n",
    "    suf = int(suf)\n",
    "    if operator=='+':\n",
    "        return pre+suf\n",
    "    if operator=='-':\n",
    "        return pre-suf\n",
    "    if operator=='*':\n",
    "        return pre*suf\n",
    "\n",
    "def solution(expression):\n",
    "    expression = expression.replace('+',' + ').replace('-',' - ').replace('*',' * ')\n",
    "    expression_list = expression.split()\n",
    "\n",
    "\n",
    "    #사용된 연산자 종류 찾기\n",
    "    operators=[]\n",
    "    if expression_list.count('+')>0 : operators.append('+')\n",
    "    if expression_list.count('-')>0 : operators.append('-')\n",
    "    if expression_list.count('*')>0 : operators.append('*')\n",
    "    operators_set = list(set(operators))\n",
    "\n",
    "\n",
    "    #연산자 순열\n",
    "    case_of_oper = [['*', '+', '-'],\n",
    "     ['*', '-', '+'],\n",
    "     ['+', '*', '-'],\n",
    "     ['+', '-', '*'],\n",
    "     ['-', '*', '+'],\n",
    "     ['-', '+', '*']]\n",
    "\n",
    "    result = []\n",
    "    if len(operators_set)==1:\n",
    "        op = operators_set[0]\n",
    "        #해당 연산자에 한하여 계산\n",
    "        for i, e in enumerate(expression_list):\n",
    "            if e == op: #우선순위인 연산자일 때에만\n",
    "                temp = cal(op,expression_list[i-1],expression_list[i+1])\n",
    "                expression_list[i-1] = ''\n",
    "                expression_list[i] = ''\n",
    "                expression_list[i+1] = temp  #연속계산하려면 맨뒤에 저장해야만 함.\n",
    "        #빈 원소 제거\n",
    "        expression_list = list(filter(None, expression_list))\n",
    "\n",
    "        result = expression_list\n",
    "\n",
    "    else:\n",
    "        for ops in range(len(case_of_oper)): #연산자 우선순위 경우의 수\n",
    "            for op in case_of_oper[ops]:    #우선순위에 따라, 계산할 연산자 선택\n",
    "\n",
    "                #해당 연산자에 한하여 계산\n",
    "                for i, e in enumerate(expression_list):\n",
    "                    if e == op: #우선순위인 연산자일 때에만\n",
    "                        temp = cal(op,expression_list[i-1],expression_list[i+1])\n",
    "                        expression_list[i-1] = ''\n",
    "                        expression_list[i] = ''\n",
    "                        expression_list[i+1] = temp  #연속계산하려면 맨뒤에 저장해야만 함.\n",
    "\n",
    "                #빈 원소 제거\n",
    "                expression_list = list(filter(None, expression_list))\n",
    "            if len(expression_list)==1 : expression_list = expression_list[0]\n",
    "            result.append(abs(expression_list))\n",
    "            #초기화 for 다음 케이스\n",
    "            expression_list = expression.split()\n",
    "    return max(result)"
   ]
  },
  {
   "cell_type": "markdown",
   "metadata": {},
   "source": [
    "COMPLETE\n",
    "def solution"
   ]
  },
  {
   "cell_type": "code",
   "execution_count": 10,
   "metadata": {},
   "outputs": [
    {
     "data": {
      "text/plain": [
       "60420"
      ]
     },
     "execution_count": 10,
     "metadata": {},
     "output_type": "execute_result"
    }
   ],
   "source": [
    "solution('100-200*300-500+20')"
   ]
  },
  {
   "cell_type": "code",
   "execution_count": 11,
   "metadata": {},
   "outputs": [
    {
     "data": {
      "text/plain": [
       "300"
      ]
     },
     "execution_count": 11,
     "metadata": {},
     "output_type": "execute_result"
    }
   ],
   "source": [
    "solution(\"50*6-3*2\")"
   ]
  },
  {
   "cell_type": "code",
   "execution_count": 12,
   "metadata": {},
   "outputs": [
    {
     "data": {
      "text/plain": [
       "81"
      ]
     },
     "execution_count": 12,
     "metadata": {},
     "output_type": "execute_result"
    }
   ],
   "source": [
    "solution(\"50+2+4+6+9+10\")"
   ]
  },
  {
   "cell_type": "code",
   "execution_count": 14,
   "metadata": {},
   "outputs": [
    {
     "data": {
      "text/plain": [
       "15500000000000"
      ]
     },
     "execution_count": 14,
     "metadata": {},
     "output_type": "execute_result"
    }
   ],
   "source": [
    "solution(\"50*10000000000*2+4+6+9+10\")"
   ]
  },
  {
   "cell_type": "code",
   "execution_count": null,
   "metadata": {},
   "outputs": [],
   "source": []
  }
 ],
 "metadata": {
  "kernelspec": {
   "display_name": "Python 3",
   "language": "python",
   "name": "python3"
  },
  "language_info": {
   "codemirror_mode": {
    "name": "ipython",
    "version": 3
   },
   "file_extension": ".py",
   "mimetype": "text/x-python",
   "name": "python",
   "nbconvert_exporter": "python",
   "pygments_lexer": "ipython3",
   "version": "3.6.10"
  }
 },
 "nbformat": 4,
 "nbformat_minor": 4
}
