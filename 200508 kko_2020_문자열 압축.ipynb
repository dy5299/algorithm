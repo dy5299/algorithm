{
 "cells": [
  {
   "cell_type": "markdown",
   "metadata": {},
   "source": [
    "## 문자열 압축\n",
    "### 문제 설명\n",
    "\n",
    "데이터 처리 전문가가 되고 싶은 **어피치**는 문자열을 압축하는 방법에 대해 공부를 하고 있습니다. 최근에 대량의 데이터 처리를 위한 간단한 비손실 압축 방법에 대해 공부를 하고 있는데, 문자열에서 같은 값이 연속해서 나타나는 것을 그 문자의 개수와 반복되는 값으로 표현하여 더 짧은 문자열로 줄여서 표현하는 알고리즘을 공부하고 있습니다.\n",
    "간단한 예로 aabbaccc의 경우 2a2ba3c(문자가 반복되지 않아 한번만 나타난 경우 1은 생략함)와 같이 표현할 수 있는데, 이러한 방식은 반복되는 문자가 적은 경우 압축률이 낮다는 단점이 있습니다. 예를 들면, abcabcdede와 같은 문자열은 전혀 압축되지 않습니다. 어피치는 이러한 단점을 해결하기 위해 문자열을 1개 이상의 단위로 잘라서 압축하여 더 짧은 문자열로 표현할 수 있는지 방법을 찾아보려고 합니다.\n",
    "\n",
    "예를 들어, ababcdcdababcdcd의 경우 문자를 1개 단위로 자르면 전혀 압축되지 않지만, 2개 단위로 잘라서 압축한다면 2ab2cd2ab2cd로 표현할 수 있습니다. 다른 방법으로 8개 단위로 잘라서 압축한다면 2ababcdcd로 표현할 수 있으며, 이때가 가장 짧게 압축하여 표현할 수 있는 방법입니다.\n",
    "\n",
    "다른 예로, abcabcdede와 같은 경우, 문자를 2개 단위로 잘라서 압축하면 abcabc2de가 되지만, 3개 단위로 자른다면 2abcdede가 되어 3개 단위가 가장 짧은 압축 방법이 됩니다. 이때 3개 단위로 자르고 마지막에 남는 문자열은 그대로 붙여주면 됩니다.\n",
    "\n",
    "압축할 문자열 s가 매개변수로 주어질 때, 위에 설명한 방법으로 1개 이상 단위로 문자열을 잘라 압축하여 표현한 문자열 중 가장 짧은 것의 길이를 return 하도록 solution 함수를 완성해주세요.\n",
    "\n",
    "### 제한사항\n",
    "\n",
    "- s의 길이는 1 이상 1,000 이하입니다.\n",
    "- s는 알파벳 소문자로만 이루어져 있습니다.\n",
    "\n",
    "##### 입출력 예\n",
    "\n",
    "| s                            | result |\n",
    "| ---------------------------- | ------ |\n",
    "| `\"aabbaccc\"`                 | 7      |\n",
    "| `\"ababcdcdababcdcd\"`         | 9      |\n",
    "| `\"abcabcdede\"`               | 8      |\n",
    "| `\"abcabcabcabcdededededede\"` | 14     |\n",
    "| `\"xababcdcdababcdcd\"`        | 17     |\n",
    "\n",
    "### 입출력 예에 대한 설명\n",
    "\n",
    "**입출력 예 #1**\n",
    "\n",
    "문자열을 1개 단위로 잘라 압축했을 때 가장 짧습니다.\n",
    "\n",
    "**입출력 예 #2**\n",
    "\n",
    "문자열을 8개 단위로 잘라 압축했을 때 가장 짧습니다.\n",
    "\n",
    "**입출력 예 #3**\n",
    "\n",
    "문자열을 3개 단위로 잘라 압축했을 때 가장 짧습니다.\n",
    "\n",
    "**입출력 예 #4**\n",
    "\n",
    "문자열을 2개 단위로 자르면 abcabcabcabc6de 가 됩니다.\n",
    "문자열을 3개 단위로 자르면 4abcdededededede 가 됩니다.\n",
    "문자열을 4개 단위로 자르면 abcabcabcabc3dede 가 됩니다.\n",
    "문자열을 6개 단위로 자를 경우 2abcabc2dedede가 되며, 이때의 길이가 14로 가장 짧습니다.\n",
    "\n",
    "**입출력 예 #5**\n",
    "\n",
    "문자열은 제일 앞부터 정해진 길이만큼 잘라야 합니다.\n",
    "따라서 주어진 문자열을 x / ababcdcd / ababcdcd 로 자르는 것은 불가능 합니다.\n",
    "이 경우 어떻게 문자열을 잘라도 압축되지 않으므로 가장 짧은 길이는 17이 됩니다."
   ]
  },
  {
   "cell_type": "code",
   "execution_count": 11,
   "metadata": {},
   "outputs": [
    {
     "data": {
      "text/plain": [
       "[1, 2, 5]"
      ]
     },
     "execution_count": 11,
     "metadata": {},
     "output_type": "execute_result"
    }
   ],
   "source": [
    "# 약수\n",
    "s='abcabcdede'\n",
    "units=[u for u in range(1,len(s)//2+1) if len(s)%u==0]\n",
    "units"
   ]
  },
  {
   "cell_type": "markdown",
   "metadata": {},
   "source": [
    "#### 연속된 문자열 중 가장 많이 사용된 문자의 갯수를 구하는 코드"
   ]
  },
  {
   "cell_type": "code",
   "execution_count": 22,
   "metadata": {},
   "outputs": [
    {
     "data": {
      "text/plain": [
       "2"
      ]
     },
     "execution_count": 22,
     "metadata": {},
     "output_type": "execute_result"
    }
   ],
   "source": [
    "#연속된 문자열 중 가장 많이 사용된 문자의 갯수를 구하는 코드\n",
    "from itertools import groupby\n",
    "def rep(input):\n",
    "    return max([len(list(g)) for k, g in groupby(input)], default=0)\n",
    "rep('abcabc**')"
   ]
  },
  {
   "cell_type": "code",
   "execution_count": 33,
   "metadata": {},
   "outputs": [
    {
     "data": {
      "text/plain": [
       "[('a', ['a']),\n",
       " ('b', ['b']),\n",
       " ('c', ['c']),\n",
       " ('a', ['a']),\n",
       " ('b', ['b']),\n",
       " ('c', ['c']),\n",
       " ('*', ['*', '*'])]"
      ]
     },
     "execution_count": 33,
     "metadata": {},
     "output_type": "execute_result"
    }
   ],
   "source": [
    "input = 'abcabc**'\n",
    "[(k,list(g)) for k, g in groupby(input)]"
   ]
  },
  {
   "cell_type": "code",
   "execution_count": 36,
   "metadata": {},
   "outputs": [
    {
     "data": {
      "text/plain": [
       "2"
      ]
     },
     "execution_count": 36,
     "metadata": {},
     "output_type": "execute_result"
    }
   ],
   "source": [
    "[len(list(g)) for k, g in groupby(input) if k=='*'][0]"
   ]
  },
  {
   "cell_type": "code",
   "execution_count": 43,
   "metadata": {
    "scrolled": true
   },
   "outputs": [
    {
     "name": "stdout",
     "output_type": "stream",
     "text": [
      "units [1, 2, 5]\n",
      "repeat 1\n",
      "qq 0 \n",
      " unit a \n",
      " ss *bc*bcdede  \n",
      "\n",
      "repeat 1\n",
      "qq 1 \n",
      " unit b \n",
      " ss a*ca*cdede  \n",
      "\n",
      "repeat 1\n",
      "qq 2 \n",
      " unit c \n",
      " ss ab*ab*dede  \n",
      "\n",
      "repeat 1\n",
      "qq 3 \n",
      " unit a \n",
      " ss *bc*bcdede  \n",
      "\n",
      "repeat 1\n",
      "qq 4 \n",
      " unit b \n",
      " ss a*ca*cdede  \n",
      "\n",
      "repeat 1\n",
      "qq 5 \n",
      " unit c \n",
      " ss ab*ab*dede  \n",
      "\n",
      "repeat 1\n",
      "qq 6 \n",
      " unit d \n",
      " ss abcabc*e*e  \n",
      "\n",
      "repeat 1\n",
      "qq 7 \n",
      " unit e \n",
      " ss abcabcd*d*  \n",
      "\n",
      "repeat 1\n",
      "qq 8 \n",
      " unit d \n",
      " ss abcabc*e*e  \n",
      "\n",
      "repeat 1\n",
      "qq 9 \n",
      " unit e \n",
      " ss abcabcd*d*  \n",
      "\n",
      "repeat 1\n",
      "qq 0 \n",
      " unit ab \n",
      " ss *c*cdede  \n",
      "\n",
      "repeat 1\n",
      "qq 1 \n",
      " unit ca \n",
      " ss ab*bcdede  \n",
      "\n",
      "repeat 1\n",
      "qq 2 \n",
      " unit bc \n",
      " ss a*a*dede  \n",
      "\n",
      "repeat 2\n",
      "qq 3 \n",
      " unit de \n",
      " ss abcabc**  \n",
      "\n",
      "repeat 2\n",
      "qq 4 \n",
      " unit de \n",
      " ss abcabc**  \n",
      "\n",
      "repeat 1\n",
      "qq 0 \n",
      " unit abcab \n",
      " ss *cdede  \n",
      "\n",
      "repeat 1\n",
      "qq 1 \n",
      " unit cdede \n",
      " ss abcab*  \n",
      "\n"
     ]
    }
   ],
   "source": [
    "#s = input()\n",
    "s = 'abcabcdede'\n",
    "\n",
    "# 약수\n",
    "units=[u for u in range(1,len(s)//2+1) if len(s)%u==0]\n",
    "print('units',units)\n",
    "\n",
    "maxlen=0\n",
    "for unitlen in units:\n",
    "    qlen=int(len(s)/unitlen)\n",
    "    \n",
    "    \n",
    "    for qq in range(qlen):\n",
    "        unit = s[qq*unitlen:qq*unitlen+unitlen]\n",
    "        ss = s.replace(unit,'*')\n",
    "        print('repeat',[len(list(g)) for k, g in groupby(ss) if k=='*'][0])\n",
    "#        templen = ss.count('*')\n",
    "        print('qq',qq,'\\n unit',unit,'\\n ss',ss,' \\n')\n",
    "        if maxlen < templen : maxlen = templen"
   ]
  },
  {
   "cell_type": "code",
   "execution_count": 45,
   "metadata": {},
   "outputs": [
    {
     "data": {
      "text/plain": [
       "{'abc', 'ded', 'e'}"
      ]
     },
     "execution_count": 45,
     "metadata": {},
     "output_type": "execute_result"
    }
   ],
   "source": [
    "# 문자열 나누기\n",
    "s = 'abcabcdede'\n",
    "length = 3\n",
    "set([s[i:i+length] for i in range(0, len(s), length)])"
   ]
  },
  {
   "cell_type": "code",
   "execution_count": 23,
   "metadata": {
    "scrolled": true
   },
   "outputs": [
    {
     "name": "stdout",
     "output_type": "stream",
     "text": [
      "initial len: 24\n",
      "\n",
      "\n",
      " qqs: ['a', 'b', 'c', 'a', 'b', 'c', 'a', 'b', 'c', 'a', 'b', 'c', 'd', 'e', 'd', 'e', 'd', 'e', 'd', 'e', 'd', 'e', 'd', 'e']\n",
      "\n",
      " unit: e \n",
      " s2: abcabcabcabcd*d*d*d*d*d*\n",
      "\n",
      " unit: c \n",
      " s2: ab*ab*ab*ab*dededededede\n",
      "\n",
      " unit: d \n",
      " s2: abcabcabcabc*e*e*e*e*e*e\n",
      "\n",
      " unit: a \n",
      " s2: *bc*bc*bc*bcdededededede\n",
      "\n",
      " unit: b \n",
      " s2: a*ca*ca*ca*cdededededede\n",
      "\n",
      "\n",
      " qqs: ['ab', 'ca', 'bc', 'ab', 'ca', 'bc', 'de', 'de', 'de', 'de', 'de', 'de']\n",
      "\n",
      " unit: ca \n",
      " s2: ab*bcab*bcdededededede\n",
      "\n",
      " unit: ab \n",
      " s2: *cabc*cabcdededededede\n",
      "\n",
      " starlen: 6 \n",
      " unit: de \n",
      " s2: abcabcabcabc****** \n",
      " s3: abcabcabcabc6de \n",
      " templen: 15\n",
      "\n",
      " unit: bc \n",
      " s2: abca*abca*dededededede\n",
      "\n",
      "\n",
      " qqs: ['abc', 'abc', 'abc', 'abc', 'ded', 'ede', 'ded', 'ede']\n",
      "\n",
      " unit: ede \n",
      " s2: abcabcabcabcded*ded*\n",
      "\n",
      " starlen: 4 \n",
      " unit: abc \n",
      " s2: ****dededededede \n",
      " s3: 4abcdededededede \n",
      " templen: 16\n",
      "\n",
      " unit: ded \n",
      " s2: abcabcabcabc*ede*ede\n",
      "\n",
      "\n",
      " qqs: ['abca', 'bcab', 'cabc', 'dede', 'dede', 'dede']\n",
      "\n",
      " unit: bcab \n",
      " s2: abca*cabcdededededede\n",
      "\n",
      " unit: cabc \n",
      " s2: abcabcab*dededededede\n",
      "\n",
      " starlen: 3 \n",
      " unit: dede \n",
      " s2: abcabcabcabc*** \n",
      " s3: abcabcabcabc3dede \n",
      " templen: 17\n",
      "\n",
      " unit: abca \n",
      " s2: *bcabcabcdededededede\n",
      "\n",
      "\n",
      " qqs: ['abcab', 'cabca', 'bcded', 'edede', 'dede']\n",
      "\n",
      " unit: abcab \n",
      " s2: *cabcabcdededededede\n",
      "\n",
      " unit: edede \n",
      " s2: abcabcabcabcded*dede\n",
      "\n",
      " unit: dede \n",
      " s2: abcabcabcabcdededede*\n",
      "\n",
      " unit: cabca \n",
      " s2: abcab*bcdededededede\n",
      "\n",
      " unit: bcded \n",
      " s2: abcabcabca*edededede\n",
      "\n",
      "\n",
      " qqs: ['abcabc', 'abcabc', 'dedede', 'dedede']\n",
      "\n",
      " starlen: 2 \n",
      " unit: dedede \n",
      " s2: abcabcabcabc** \n",
      " s3: abcabcabcabc2dedede \n",
      " templen: 19\n",
      "\n",
      " starlen: 2 \n",
      " unit: abcabc \n",
      " s2: **dededededede \n",
      " s3: 2abcabcdededededede \n",
      " templen: 19\n",
      "\n",
      "\n",
      " qqs: ['abcabca', 'bcabcde', 'dededed', 'ede']\n",
      "\n",
      " unit: abcabca \n",
      " s2: *bcabcdededededede\n",
      "\n",
      " unit: dededed \n",
      " s2: abcabcabcabcde*ede\n",
      "\n",
      " unit: ede \n",
      " s2: abcabcabcabcdedededed*\n",
      "\n",
      " unit: bcabcde \n",
      " s2: abcabca*dedededede\n",
      "\n",
      "\n",
      " qqs: ['abcabcab', 'cabcdede', 'dededede']\n",
      "\n",
      " unit: abcabcab \n",
      " s2: *cabcdededededede\n",
      "\n",
      " unit: dededede \n",
      " s2: abcabcabcabcdede*\n",
      "\n",
      " unit: cabcdede \n",
      " s2: abcabcab*dededede\n",
      "\n",
      "\n",
      " qqs: ['abcabcabc', 'abcdedede', 'dedede']\n",
      "\n",
      " unit: abcdedede \n",
      " s2: abcabcabc*dedede\n",
      "\n",
      " unit: dedede \n",
      " s2: abcabcabcabcdedede*\n",
      "\n",
      " unit: abcabcabc \n",
      " s2: *abcdededededede\n",
      "\n",
      "\n",
      " qqs: ['abcabcabca', 'bcdededede', 'dede']\n",
      "\n",
      " unit: dede \n",
      " s2: abcabcabcabcdededede*\n",
      "\n",
      " unit: bcdededede \n",
      " s2: abcabcabca*dede\n",
      "\n",
      " unit: abcabcabca \n",
      " s2: *bcdededededede\n",
      "\n",
      "\n",
      " qqs: ['abcabcabcab', 'cdedededede', 'de']\n",
      "\n",
      " unit: abcabcabcab \n",
      " s2: *cdededededede\n",
      "\n",
      " unit: cdedededede \n",
      " s2: abcabcabcab*de\n",
      "\n",
      " unit: de \n",
      " s2: abcabcabcabcdedededede*\n",
      "\n",
      "\n",
      " qqs: ['abcabcabcabc', 'dededededede']\n",
      "\n",
      " unit: abcabcabcabc \n",
      " s2: *dededededede\n",
      "\n",
      " unit: dededededede \n",
      " s2: abcabcabcabc*\n",
      "last minlen :  15\n"
     ]
    }
   ],
   "source": [
    "#s = input()\n",
    "s = 'abcabcabcabcdededededede'\n",
    "\n",
    "# 약수가 아니어도 되구나..\n",
    "\n",
    "minlen=len(s)\n",
    "print('initial len:',minlen)\n",
    "\n",
    "for unitlen in range(1, len(s)//2+1):\n",
    "#    qlen=int(len(s)/unitlen)\n",
    "    qqs = [s[i:i+unitlen] for i in range(0, len(s), unitlen)]\n",
    "    qq = list(set([s[i:i+unitlen] for i in range(0, len(s), unitlen)]))\n",
    "    print('\\n\\n qqs:',qqs)\n",
    "    \n",
    "    for unit in qq:    #문제점이. unit개수가 같으면 동시에 적용해도 되는데.. 이건 그걸 고려 안 함\n",
    "        templen = len(s)\n",
    "        #s2 = s.replace(unit,'*')  #이렇게하면 안 돼. 앞에서부터 잘라야하니까.. 그냥 step별 splite이어야 할 듯\n",
    "        s2 = ''.join(['*' if q==unit else q for q in qqs])    # list element replace\n",
    "        starlen = [len(list(g)) for k, g in groupby(s2) if k=='*'][0]\n",
    "        if starlen > 1:\n",
    "            s3 = s2.replace('*'*starlen,'{}{}'.format(starlen,unit))\n",
    "            templen = len(s3)\n",
    "            print('\\n starlen:',starlen, '\\n unit:',unit,'\\n s2:',s2,'\\n s3:',s3,'\\n templen:',templen)\n",
    "        else: print('\\n unit:',unit,'\\n s2:',s2)\n",
    "        if minlen > templen : minlen = templen\n",
    "print('last minlen : ',minlen)"
   ]
  },
  {
   "cell_type": "code",
   "execution_count": 51,
   "metadata": {},
   "outputs": [
    {
     "name": "stdout",
     "output_type": "stream",
     "text": [
      "['abcabc', 'dedede', 'dedede', 'abcabc', 'dedede', 'dedede', 'dedede']\n",
      "('dedede', 3)\n"
     ]
    },
    {
     "data": {
      "text/plain": [
       "('dedede', ['dedede', 'dedede', 'dedede'])"
      ]
     },
     "execution_count": 51,
     "metadata": {},
     "output_type": "execute_result"
    }
   ],
   "source": [
    "test = 'abcabcdedededededeabcabcdedededededededede'\n",
    "unitlen = 6\n",
    "qqs = [test[i:i+unitlen] for i in range(0, len(test), unitlen)]\n",
    "print(qqs)\n",
    "print(max([(k,len(list(g))) for k, g in groupby(qqs) if k=='dedede']))\n",
    "max([(k,list(g)) for k, g in groupby(qqs) if k=='dedede'])"
   ]
  },
  {
   "cell_type": "code",
   "execution_count": 53,
   "metadata": {
    "scrolled": true
   },
   "outputs": [
    {
     "name": "stdout",
     "output_type": "stream",
     "text": [
      "initial len: 24\n",
      "\n",
      "\n",
      " qqs: ['a', 'b', 'c', 'a', 'b', 'c', 'a', 'b', 'c', 'a', 'b', 'c', 'd', 'e', 'd', 'e', 'd', 'e', 'd', 'e', 'd', 'e', 'd', 'e']\n",
      "\n",
      " unit: b \n",
      " s2: abcabcabcabcdededededede \n",
      " templen: 24\n",
      "\n",
      "\n",
      " qqs: ['ab', 'ca', 'bc', 'ab', 'ca', 'bc', 'de', 'de', 'de', 'de', 'de', 'de']\n",
      "\n",
      " unit: bc \n",
      " s2: abcabcabcabc6de \n",
      " templen: 15\n",
      "\n",
      "\n",
      " qqs: ['abc', 'abc', 'abc', 'abc', 'ded', 'ede', 'ded', 'ede']\n",
      "\n",
      " unit: ded \n",
      " s2: 4abcdededededede \n",
      " templen: 16\n",
      "\n",
      "\n",
      " qqs: ['abca', 'bcab', 'cabc', 'dede', 'dede', 'dede']\n",
      "\n",
      " unit: abca \n",
      " s2: abcabcabcabc3dede \n",
      " templen: 17\n",
      "\n",
      "\n",
      " qqs: ['abcab', 'cabca', 'bcded', 'edede', 'dede']\n",
      "\n",
      " unit: bcded \n",
      " s2: abcabcabcabcdededededede \n",
      " templen: 24\n",
      "\n",
      "\n",
      " qqs: ['abcabc', 'abcabc', 'dedede', 'dedede']\n",
      "\n",
      " unit: abcabc \n",
      " s2: 2abcabc2dedede \n",
      " templen: 14\n",
      "\n",
      "\n",
      " qqs: ['abcabca', 'bcabcde', 'dededed', 'ede']\n",
      "\n",
      " unit: bcabcde \n",
      " s2: abcabcabcabcdededededede \n",
      " templen: 24\n",
      "\n",
      "\n",
      " qqs: ['abcabcab', 'cabcdede', 'dededede']\n",
      "\n",
      " unit: cabcdede \n",
      " s2: abcabcabcabcdededededede \n",
      " templen: 24\n",
      "\n",
      "\n",
      " qqs: ['abcabcabc', 'abcdedede', 'dedede']\n",
      "\n",
      " unit: abcabcabc \n",
      " s2: abcabcabcabcdededededede \n",
      " templen: 24\n",
      "\n",
      "\n",
      " qqs: ['abcabcabca', 'bcdededede', 'dede']\n",
      "\n",
      " unit: abcabcabca \n",
      " s2: abcabcabcabcdededededede \n",
      " templen: 24\n",
      "\n",
      "\n",
      " qqs: ['abcabcabcab', 'cdedededede', 'de']\n",
      "\n",
      " unit: de \n",
      " s2: abcabcabcabcdededededede \n",
      " templen: 24\n",
      "\n",
      "\n",
      " qqs: ['abcabcabcabc', 'dededededede']\n",
      "\n",
      " unit: dededededede \n",
      " s2: abcabcabcabcdededededede \n",
      " templen: 24\n",
      "last minlen :  14\n"
     ]
    }
   ],
   "source": [
    "#s = input()\n",
    "s = 'abcabcabcabcdededededede'\n",
    "\n",
    "minlen=len(s)\n",
    "print('initial len:',minlen)\n",
    "\n",
    "for unitlen in range(1, len(s)//2+1):\n",
    "    qqs = [s[i:i+unitlen] for i in range(0, len(s), unitlen)]\n",
    "    qq = list(set([s[i:i+unitlen] for i in range(0, len(s), unitlen)]))\n",
    "    print('\\n\\n qqs:',qqs)\n",
    "    \n",
    "    s2 = s #기본값\n",
    "    for unit in qq:    #문제점이. unit개수가 같으면 동시에 적용해도 되는데.. 이건 그걸 고려 안 함.\n",
    "                        # star로 바꾸는게 문제인듯.\n",
    "        templen = len(s)  #최댓값으로 초기화\n",
    "        star, starlen= max([(k,len(list(g))) for k, g in groupby(qqs) if k==unit], default=0)\n",
    "        if starlen > 1:\n",
    "            s2 = s2.replace(star*starlen, '{}{}'.format(starlen,star))\n",
    "    templen = len(s2)\n",
    "    print('\\n unit:',unit,'\\n s2:',s2, '\\n templen:',templen)\n",
    "    if minlen > templen : minlen = templen\n",
    "print('last minlen : ',minlen)"
   ]
  },
  {
   "cell_type": "code",
   "execution_count": 56,
   "metadata": {
    "scrolled": true
   },
   "outputs": [
    {
     "name": "stdout",
     "output_type": "stream",
     "text": [
      "xababcdcdababcdcd\n",
      "last minlen :  17\n"
     ]
    }
   ],
   "source": [
    "# COMPLETE\n",
    "s = input()\n",
    "\n",
    "minlen=len(s)\n",
    "\n",
    "for unitlen in range(1, len(s)//2+1):\n",
    "    qqs = [s[i:i+unitlen] for i in range(0, len(s), unitlen)]\n",
    "    qq = list(set([s[i:i+unitlen] for i in range(0, len(s), unitlen)]))\n",
    "    \n",
    "    s2 = s #기본값\n",
    "    for unit in qq:\n",
    "        templen = len(s)  #최댓값으로 초기화\n",
    "        star, starlen= max([(k,len(list(g))) for k, g in groupby(qqs) if k==unit], default=0)\n",
    "        if starlen > 1:\n",
    "            s2 = s2.replace(star*starlen, '{}{}'.format(starlen,star))\n",
    "    templen = len(s2)\n",
    "    if minlen > templen : minlen = templen\n",
    "print('last minlen : ',minlen)"
   ]
  },
  {
   "cell_type": "code",
   "execution_count": 57,
   "metadata": {},
   "outputs": [],
   "source": [
    "# COMPLETE and convert to def\n",
    "from itertools import groupby\n",
    "def solution(s):\n",
    "    minlen=len(s)\n",
    "\n",
    "    for unitlen in range(1, len(s)//2+1):\n",
    "        qqs = [s[i:i+unitlen] for i in range(0, len(s), unitlen)]\n",
    "        qq = list(set([s[i:i+unitlen] for i in range(0, len(s), unitlen)]))\n",
    "\n",
    "        s2 = s #기본값\n",
    "        for unit in qq:\n",
    "            templen = len(s)  #최댓값으로 초기화\n",
    "            star, starlen= max([(k,len(list(g))) for k, g in groupby(qqs) if k==unit], default=0)\n",
    "            if starlen > 1:\n",
    "                s2 = s2.replace(star*starlen, '{}{}'.format(starlen,star))\n",
    "        templen = len(s2)\n",
    "        if minlen > templen : minlen = templen\n",
    "        answer = minlen\n",
    "    return answer"
   ]
  },
  {
   "cell_type": "code",
   "execution_count": 58,
   "metadata": {},
   "outputs": [
    {
     "data": {
      "text/plain": [
       "7"
      ]
     },
     "execution_count": 58,
     "metadata": {},
     "output_type": "execute_result"
    }
   ],
   "source": [
    "solution('aabbaccc')"
   ]
  },
  {
   "cell_type": "code",
   "execution_count": 59,
   "metadata": {},
   "outputs": [
    {
     "data": {
      "text/plain": [
       "9"
      ]
     },
     "execution_count": 59,
     "metadata": {},
     "output_type": "execute_result"
    }
   ],
   "source": [
    "solution('ababcdcdababcdcd')"
   ]
  },
  {
   "cell_type": "code",
   "execution_count": 60,
   "metadata": {},
   "outputs": [
    {
     "data": {
      "text/plain": [
       "8"
      ]
     },
     "execution_count": 60,
     "metadata": {},
     "output_type": "execute_result"
    }
   ],
   "source": [
    "solution('abcabcdede')"
   ]
  },
  {
   "cell_type": "code",
   "execution_count": 61,
   "metadata": {},
   "outputs": [
    {
     "data": {
      "text/plain": [
       "14"
      ]
     },
     "execution_count": 61,
     "metadata": {},
     "output_type": "execute_result"
    }
   ],
   "source": [
    "solution('abcabcabcabcdededededede')"
   ]
  },
  {
   "cell_type": "code",
   "execution_count": 62,
   "metadata": {},
   "outputs": [
    {
     "data": {
      "text/plain": [
       "17"
      ]
     },
     "execution_count": 62,
     "metadata": {},
     "output_type": "execute_result"
    }
   ],
   "source": [
    "solution('xababcdcdababcdcd')"
   ]
  },
  {
   "cell_type": "markdown",
   "metadata": {},
   "source": [
    "96점. 테스트 케이스 하나가 런타임 에러..."
   ]
  },
  {
   "cell_type": "markdown",
   "metadata": {},
   "source": [
    "# re"
   ]
  },
  {
   "cell_type": "code",
   "execution_count": 3,
   "metadata": {},
   "outputs": [
    {
     "data": {
      "text/plain": [
       "''"
      ]
     },
     "execution_count": 3,
     "metadata": {},
     "output_type": "execute_result"
    }
   ],
   "source": [
    "def strzip(input):\n",
    "    lentotal = len(input)\n",
    "    answer = \"\"\n",
    "    for unit in range(1, lentotal//2):\n",
    "        print('unit:',unit)\n",
    "        for q in range(0,lentotal//unit+1,unit):\n",
    "            print('q:',q)\n",
    "            cnt = 1\n",
    "            for i in range(q):\n",
    "                if input[q:q+unit] == input[q+unit*(i+1):q+unit*(i+2)]:\n",
    "                    cnt += 1\n",
    "            print('cnt:',cnt)\n",
    "            if cnt > 1:\n",
    "                answer = answer + cnt + input[q:q+unit]\n",
    "            else:\n",
    "                answer = answer + input[q:q+unit]\n",
    "            print('answer:',answer)\n",
    "    return answer\n",
    "strzip('aa')"
   ]
  },
  {
   "cell_type": "code",
   "execution_count": 29,
   "metadata": {},
   "outputs": [
    {
     "name": "stdout",
     "output_type": "stream",
     "text": [
      "unit: 1\n",
      "\n",
      "\n",
      " q: 0\n",
      "cnt: 1\n",
      "answer: a\n",
      "\n",
      "\n",
      " q: 1\n",
      "cnt: 1\n",
      "answer: aa\n"
     ]
    }
   ],
   "source": [
    "import math\n",
    "\n",
    "input='aa'\n",
    "lentotal = len(input)\n",
    "answer = \"\"\n",
    "for unit in range(round(lentotal/2+0.5)):\n",
    "    if unit != 0:\n",
    "        print('unit:',unit)\n",
    "        \n",
    "        for q in range(math.ceil(lentotal/unit)):\n",
    "            print('\\n\\n q:',q)\n",
    "            cnt = 1\n",
    "            \n",
    "            for i in range(q):\n",
    "                if input[q+unit*(i):q+unit*(i+1)] == input[q+unit*(i+1):q+unit*(i+2)]:\n",
    "                    cnt += 1\n",
    "            print('cnt:',cnt)\n",
    "            if cnt > 1:\n",
    "                answer = answer + str(cnt) + input[q:q+unit]\n",
    "            else:\n",
    "                answer = answer + input[q:q+unit]\n",
    "            print('answer:',answer)\n"
   ]
  },
  {
   "cell_type": "code",
   "execution_count": 7,
   "metadata": {},
   "outputs": [],
   "source": [
    "for i in range(1,1):\n",
    "    print(i)"
   ]
  },
  {
   "cell_type": "code",
   "execution_count": 18,
   "metadata": {},
   "outputs": [
    {
     "data": {
      "text/plain": [
       "3"
      ]
     },
     "execution_count": 18,
     "metadata": {},
     "output_type": "execute_result"
    }
   ],
   "source": [
    "import math\n",
    "math.floor(3.7)"
   ]
  },
  {
   "cell_type": "code",
   "execution_count": 30,
   "metadata": {},
   "outputs": [],
   "source": [
    "def solution(s):\n",
    "    s_len = len(s)\n",
    "    answer = s_len  #최댓값 기본값으로\n",
    "    end = (s_len // 2) + 1\n",
    "    for i in range(1, end):  #유닛 길이\n",
    "        string = \"\"\n",
    "        num = 1 #반복횟수 초기화\n",
    "        first = s[0:i]  #비교 기준 문자열 첫번째\n",
    "        \n",
    "        \n",
    "        for j in range(i, s_len+i, i):\n",
    "            compare = s[j:j+i]  #비교 대상 문자열\n",
    "            \n",
    "            if len(first) != len(compare):  #제일 처음으로남는 문자열이 생기는 경우, 비교할 필요 없음\n",
    "#                if first == compare:\n",
    "#                    num += 1\n",
    "                if num > 1:\n",
    "                    string += str(num)\n",
    "                string += first\n",
    "                if compare != \"\":  #남는 문자열이 안 생길 경우\n",
    "                    string += compare\n",
    "                break  #마지막 비교 시 반복문 탈출\n",
    "\n",
    "            if first == compare:            #같은 경우\n",
    "                num += 1\n",
    "            else:                           #다른 경우\n",
    "                if num > 1:\n",
    "                    string += (str(num) + first)\n",
    "                else:\n",
    "                    string += first\n",
    "                \n",
    "                first = compare\n",
    "                num = 1\n",
    "                \n",
    "            first = s[j:j+i]                #다음 비교 기준 문자열\n",
    "\n",
    "        answer = min(len(string), answer)\n",
    "    return answer\n"
   ]
  },
  {
   "cell_type": "code",
   "execution_count": 31,
   "metadata": {},
   "outputs": [
    {
     "data": {
      "text/plain": [
       "17"
      ]
     },
     "execution_count": 31,
     "metadata": {},
     "output_type": "execute_result"
    }
   ],
   "source": [
    "solution('xababcdcdababcdcd')"
   ]
  },
  {
   "cell_type": "code",
   "execution_count": null,
   "metadata": {},
   "outputs": [],
   "source": [
    "#another code - wow\n",
    "\n",
    "def compress(text, tok_len):\n",
    "    words = [text[i:i+tok_len] for i in range(0, len(text), tok_len)]\n",
    "    res = []\n",
    "    cur_word = words[0]\n",
    "    cur_cnt = 1\n",
    "    for a, b in zip(words, words[1:] + ['']):\n",
    "        if a == b:\n",
    "            cur_cnt += 1\n",
    "        else:\n",
    "            res.append([cur_word, cur_cnt])\n",
    "            cur_word = b\n",
    "            cur_cnt = 1\n",
    "    return sum(len(word) + (len(str(cnt)) if cnt > 1 else 0) for word, cnt in res)\n",
    "\n",
    "def solution(text):\n",
    "    return min(compress(text, tok_len) for tok_len in list(range(1, int(len(text)/2) + 1)) + [len(text)])\n",
    "\n",
    "a = [\n",
    "    \"aabbaccc\",\n",
    "    \"ababcdcdababcdcd\",\n",
    "    \"abcabcdede\",\n",
    "    \"abcabcabcabcdededededede\",\n",
    "    \"xababcdcdababcdcd\",\n",
    "\n",
    "    'aaaaaa',\n",
    "]\n",
    "\n",
    "for x in a:\n",
    "    print(solution(x))"
   ]
  },
  {
   "cell_type": "code",
   "execution_count": null,
   "metadata": {},
   "outputs": [],
   "source": []
  }
 ],
 "metadata": {
  "kernelspec": {
   "display_name": "Python 3",
   "language": "python",
   "name": "python3"
  },
  "language_info": {
   "codemirror_mode": {
    "name": "ipython",
    "version": 3
   },
   "file_extension": ".py",
   "mimetype": "text/x-python",
   "name": "python",
   "nbconvert_exporter": "python",
   "pygments_lexer": "ipython3",
   "version": "3.6.10"
  }
 },
 "nbformat": 4,
 "nbformat_minor": 4
}
