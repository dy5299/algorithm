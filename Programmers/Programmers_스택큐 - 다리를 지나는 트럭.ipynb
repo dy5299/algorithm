{
 "cells": [
  {
   "cell_type": "markdown",
   "metadata": {},
   "source": [
    "# Programmers"
   ]
  },
  {
   "cell_type": "markdown",
   "metadata": {},
   "source": [
    "## 스택큐 - 다리를 지나는 트럭"
   ]
  },
  {
   "cell_type": "markdown",
   "metadata": {},
   "source": [
    "hard"
   ]
  },
  {
   "cell_type": "markdown",
   "metadata": {},
   "source": [
    "### numpy"
   ]
  },
  {
   "cell_type": "code",
   "execution_count": 2,
   "metadata": {},
   "outputs": [],
   "source": [
    "import numpy as np"
   ]
  },
  {
   "cell_type": "code",
   "execution_count": 12,
   "metadata": {},
   "outputs": [],
   "source": [
    "truck_weights = [7,4,5,6]\n",
    "queue = []\n",
    "t=0\n",
    "\n"
   ]
  },
  {
   "cell_type": "code",
   "execution_count": 1,
   "metadata": {},
   "outputs": [],
   "source": [
    "truck_weights = [7,4,5,6]\n",
    "bridge_length = 2\n",
    "weight = 10"
   ]
  },
  {
   "cell_type": "code",
   "execution_count": 10,
   "metadata": {},
   "outputs": [],
   "source": [
    "t=0\n",
    "# current = [truck_weights,[0]*len(truck_weights)]\n",
    "current = [[],[]]\n",
    "\n",
    "for i in range(len(truck_weights)):\n",
    "    myw = truck_weights[i]\n",
    "        while True:\n",
    "            #현재 트럭 전체\n",
    "            if np.sum(current, axis=1)[0] + myw <= weight:\n",
    "                current[0].append(myw)\n",
    "                current[1].append(0)\n",
    "                \n",
    "            if current[1][i] <= bridge_length:\n",
    "                current[0][i] = 0\n",
    "                current[1][i] +=1\n",
    "                t+=1\n",
    "            else:\n",
    "                    \n",
    "            else:\n",
    "                break"
   ]
  },
  {
   "cell_type": "code",
   "execution_count": 11,
   "metadata": {},
   "outputs": [
    {
     "name": "stdout",
     "output_type": "stream",
     "text": [
      "0\n"
     ]
    }
   ],
   "source": [
    "print(t)"
   ]
  },
  {
   "cell_type": "code",
   "execution_count": 13,
   "metadata": {},
   "outputs": [],
   "source": [
    "current = [[7,4,5,6],[0,1,2,3]]"
   ]
  },
  {
   "cell_type": "code",
   "execution_count": 21,
   "metadata": {},
   "outputs": [
    {
     "data": {
      "text/plain": [
       "array([22,  6])"
      ]
     },
     "execution_count": 21,
     "metadata": {},
     "output_type": "execute_result"
    }
   ],
   "source": [
    "np.sum(current, axis=1)"
   ]
  },
  {
   "cell_type": "code",
   "execution_count": null,
   "metadata": {},
   "outputs": [],
   "source": []
  },
  {
   "cell_type": "code",
   "execution_count": 22,
   "metadata": {},
   "outputs": [],
   "source": [
    "truck_weights = [7,4,5,6]\n",
    "bridge_length = 2\n",
    "weight = 10"
   ]
  },
  {
   "cell_type": "code",
   "execution_count": 43,
   "metadata": {},
   "outputs": [
    {
     "name": "stdout",
     "output_type": "stream",
     "text": [
      "[[0. 0.]\n",
      " [1. 0.]]\n"
     ]
    }
   ],
   "source": [
    "# numpy 사용\n",
    "\n",
    "table = np.zeros((1,bridge_length))\n",
    "\n",
    "t=0\n",
    "i=0\n",
    "# table = np.append(table, [[0]*bridge_length], axis=0)\n",
    "\n",
    "for i in range(len(truck_weights)):\n",
    "    while True:\n",
    "        myw = truck_weights[i]\n",
    "\n",
    "        if np.sum(table, axis=1)[-1]  + myw > weight:\n",
    "            t+=1\n",
    "            table = np.append(table, [[0]*bridge_length], axis=0); table[t,i] = myw\n",
    "\n",
    "        else :\n",
    "            t+=1\n",
    "            table = np.append(table, [[0]*bridge_length], axis=0); table[t,i] = myw\n",
    "            i+=1\n",
    "        print(table)\n",
    "        break"
   ]
  },
  {
   "cell_type": "code",
   "execution_count": 45,
   "metadata": {},
   "outputs": [
    {
     "data": {
      "text/plain": [
       "array([[1, 2],\n",
       "       [3, 4]])"
      ]
     },
     "execution_count": 45,
     "metadata": {},
     "output_type": "execute_result"
    }
   ],
   "source": [
    "aa = np.array([[1,2],[3,4]])\n",
    "aa"
   ]
  },
  {
   "cell_type": "code",
   "execution_count": 49,
   "metadata": {},
   "outputs": [
    {
     "data": {
      "text/plain": [
       "4"
      ]
     },
     "execution_count": 49,
     "metadata": {},
     "output_type": "execute_result"
    }
   ],
   "source": [
    "np.sum(aa,axis=0)[0]"
   ]
  },
  {
   "cell_type": "code",
   "execution_count": null,
   "metadata": {},
   "outputs": [],
   "source": []
  },
  {
   "cell_type": "code",
   "execution_count": 43,
   "metadata": {},
   "outputs": [],
   "source": [
    "# cache 사용"
   ]
  },
  {
   "cell_type": "code",
   "execution_count": 55,
   "metadata": {},
   "outputs": [],
   "source": [
    "t=0\n",
    "i=0\n",
    "# temp=np.array([])\n",
    "\n",
    "t+=1\n",
    "temp=np.array([truck_weights[t-1],1])\n",
    "\n",
    "i+=1"
   ]
  },
  {
   "cell_type": "code",
   "execution_count": 56,
   "metadata": {},
   "outputs": [
    {
     "data": {
      "text/plain": [
       "array([7, 1])"
      ]
     },
     "execution_count": 56,
     "metadata": {},
     "output_type": "execute_result"
    }
   ],
   "source": [
    "temp"
   ]
  },
  {
   "cell_type": "code",
   "execution_count": null,
   "metadata": {},
   "outputs": [],
   "source": [
    "# for idx, w in enumerate(truck_weights):\n",
    "while True:\n",
    "    myw = truck_weights[i]\n",
    "    if sum(temp)  + myw > weight:\n",
    "        t+=1\n",
    "    i+=1"
   ]
  },
  {
   "cell_type": "code",
   "execution_count": null,
   "metadata": {},
   "outputs": [],
   "source": []
  },
  {
   "cell_type": "code",
   "execution_count": null,
   "metadata": {},
   "outputs": [],
   "source": []
  },
  {
   "cell_type": "code",
   "execution_count": null,
   "metadata": {},
   "outputs": [],
   "source": []
  },
  {
   "cell_type": "code",
   "execution_count": 87,
   "metadata": {},
   "outputs": [],
   "source": [
    "truck_weights = [7,4,5,6]\n",
    "bridge_length = 2\n",
    "weight = 10"
   ]
  },
  {
   "cell_type": "code",
   "execution_count": 98,
   "metadata": {
    "scrolled": true
   },
   "outputs": [
    {
     "name": "stdout",
     "output_type": "stream",
     "text": [
      "q [7, 0]\n",
      "in 1 1\n",
      "q [0, 7]\n",
      "over 2 1\n",
      "q [4, 0]\n",
      "in 3 2\n",
      "q [5, 4]\n",
      "in 4 3\n",
      "q [0, 5]\n",
      "over 5 3\n",
      "q [6, 0]\n",
      "in 6 4\n",
      "q [0, 6]\n",
      "in 7 5\n",
      "q [0, 0]\n",
      "in 8 6\n",
      "time 8\n"
     ]
    }
   ],
   "source": [
    "i=0\n",
    "t=0\n",
    "queue = [0]*bridge_length\n",
    "\n",
    "while True:\n",
    "    if sum(queue)==0 and i>0:\n",
    "        print('time',t)\n",
    "        break\n",
    "    try:\n",
    "        myw = truck_weights[i]\n",
    "    except:\n",
    "        myw=0\n",
    "    \n",
    "    \n",
    "    \n",
    "    if sum(queue[:-1])+myw > weight:\n",
    "        queue[1:]=queue[:-1]\n",
    "        queue[0]=0\n",
    "        t+=1\n",
    "        print('q',queue)\n",
    "        print('over',t,i)\n",
    "    else:\n",
    "        queue[1:]=queue[:-1]\n",
    "        queue[0]=myw\n",
    "        t+=1\n",
    "        i+=1\n",
    "        print('q',queue)\n",
    "        print('in',t,i)"
   ]
  },
  {
   "cell_type": "code",
   "execution_count": null,
   "metadata": {},
   "outputs": [],
   "source": [
    "queue[1:]"
   ]
  },
  {
   "cell_type": "code",
   "execution_count": 69,
   "metadata": {},
   "outputs": [],
   "source": [
    "aa = [7,4,5,6]"
   ]
  },
  {
   "cell_type": "code",
   "execution_count": 70,
   "metadata": {},
   "outputs": [
    {
     "data": {
      "text/plain": [
       "[4, 5, 6]"
      ]
     },
     "execution_count": 70,
     "metadata": {},
     "output_type": "execute_result"
    }
   ],
   "source": [
    "aa[1:]"
   ]
  },
  {
   "cell_type": "code",
   "execution_count": 71,
   "metadata": {},
   "outputs": [
    {
     "data": {
      "text/plain": [
       "[7, 4, 5]"
      ]
     },
     "execution_count": 71,
     "metadata": {},
     "output_type": "execute_result"
    }
   ],
   "source": [
    "aa[:-1]"
   ]
  },
  {
   "cell_type": "markdown",
   "metadata": {},
   "source": [
    "### list"
   ]
  },
  {
   "cell_type": "code",
   "execution_count": null,
   "metadata": {},
   "outputs": [],
   "source": [
    "# array (queue) 이용"
   ]
  },
  {
   "cell_type": "code",
   "execution_count": 100,
   "metadata": {},
   "outputs": [],
   "source": [
    "import numpy as np\n",
    "\n",
    "def solution(bridge_length, weight, truck_weights):\n",
    "    i=t=0\n",
    "    queue = [0]*bridge_length\n",
    "    \n",
    "    while True:\n",
    "        if sum(queue)==0 and i>0:\n",
    "            return t\n",
    "        try:\n",
    "            myw = truck_weights[i]\n",
    "        except:\n",
    "            myw=0\n",
    "\n",
    "\n",
    "\n",
    "        if sum(queue[:-1])+myw > weight:\n",
    "            queue[1:]=queue[:-1]\n",
    "            queue[0]=0\n",
    "            t+=1\n",
    "        else:\n",
    "            queue[1:]=queue[:-1]\n",
    "            queue[0]=myw\n",
    "            t+=1\n",
    "            i+=1\n",
    "    return 0\n"
   ]
  },
  {
   "cell_type": "code",
   "execution_count": 102,
   "metadata": {},
   "outputs": [
    {
     "data": {
      "text/plain": [
       "8"
      ]
     },
     "execution_count": 102,
     "metadata": {},
     "output_type": "execute_result"
    }
   ],
   "source": [
    "solution(2,10,[7,4,5,6])"
   ]
  },
  {
   "cell_type": "code",
   "execution_count": 103,
   "metadata": {},
   "outputs": [
    {
     "data": {
      "text/plain": [
       "101"
      ]
     },
     "execution_count": 103,
     "metadata": {},
     "output_type": "execute_result"
    }
   ],
   "source": [
    "solution(100,100,[10])"
   ]
  },
  {
   "cell_type": "code",
   "execution_count": 105,
   "metadata": {},
   "outputs": [
    {
     "data": {
      "text/plain": [
       "110"
      ]
     },
     "execution_count": 105,
     "metadata": {},
     "output_type": "execute_result"
    }
   ],
   "source": [
    "solution(100,100,[10,10,10,10,10,10,10,10,10,10])"
   ]
  },
  {
   "cell_type": "markdown",
   "metadata": {},
   "source": [
    "결과\n",
    "\n",
    "테스트 1 〉\t통과 (90.03ms, 28.2MB)\n",
    "테스트 2 〉\t통과 (7224.39ms, 28.4MB)\n",
    "테스트 3 〉\t통과 (0.17ms, 28.5MB)\n",
    "테스트 4 〉\t통과 (1369.63ms, 28.3MB)\n",
    "테스트 5 〉\t실패 (시간 초과)\n",
    "테스트 6 〉\t통과 (6670.07ms, 28.3MB)\n",
    "테스트 7 〉\t통과 (30.03ms, 28.1MB)\n",
    "테스트 8 〉\t통과 (0.76ms, 28.5MB)\n",
    "테스트 9 〉\t통과 (14.35ms, 28.1MB)\n",
    "테스트 10 〉\t통과 (0.87ms, 28MB)\n",
    "테스트 11 〉\t통과 (0.07ms, 28.2MB)\n",
    "테스트 12 〉\t통과 (0.63ms, 28.3MB)\n",
    "테스트 13 〉\t통과 (5.68ms, 28.2MB)\n",
    "테스트 14 〉\t통과 (0.36ms, 28.4MB)"
   ]
  },
  {
   "cell_type": "code",
   "execution_count": null,
   "metadata": {},
   "outputs": [],
   "source": [
    "# sum 하나 줄임"
   ]
  },
  {
   "cell_type": "code",
   "execution_count": null,
   "metadata": {},
   "outputs": [],
   "source": [
    "import numpy as np\n",
    "\n",
    "def solution(bridge_length, weight, truck_weights):\n",
    "    i=t=0\n",
    "    queue = [0]*bridge_length\n",
    "    \n",
    "    while True:\n",
    "        qsum = sum(queue)\n",
    "        \n",
    "        if qsum==0 and i>0:\n",
    "            return t\n",
    "        \n",
    "        try:\n",
    "            myw = truck_weights[i]\n",
    "        except:\n",
    "            myw=0\n",
    "            \n",
    "            \n",
    "            \n",
    "        if qsum - queue[-1]+myw > weight:\n",
    "            queue[1:]=queue[:-1]\n",
    "            queue[0]=0\n",
    "            t+=1\n",
    "        else:\n",
    "            queue[1:]=queue[:-1]\n",
    "            queue[0]=myw\n",
    "            t+=1\n",
    "            i+=1\n",
    "    return 0\n"
   ]
  },
  {
   "cell_type": "markdown",
   "metadata": {},
   "source": [
    "테스트 1 〉\t통과 (51.87ms, 27.7MB)\n",
    "테스트 2 〉\t통과 (4136.03ms, 28.2MB)\n",
    "테스트 3 〉\t통과 (0.13ms, 28.2MB)\n",
    "테스트 4 〉\t통과 (786.07ms, 28.2MB)\n",
    "테스트 5 〉\t실패 (시간 초과)\n",
    "테스트 6 〉\t통과 (3828.89ms, 28.4MB)\n",
    "테스트 7 〉\t통과 (17.25ms, 28.1MB)\n",
    "테스트 8 〉\t통과 (0.51ms, 28MB)\n",
    "테스트 9 〉\t통과 (9.14ms, 28.1MB)\n",
    "테스트 10 〉\t통과 (0.57ms, 28.3MB)\n",
    "테스트 11 〉\t통과 (0.06ms, 28.1MB)\n",
    "테스트 12 〉\t통과 (0.46ms, 27.8MB)\n",
    "테스트 13 〉\t통과 (3.49ms, 28.3MB)\n",
    "테스트 14 〉\t통과 (0.25ms, 28.4MB)"
   ]
  },
  {
   "cell_type": "code",
   "execution_count": 106,
   "metadata": {},
   "outputs": [],
   "source": [
    "# 리스트 계산 조금 바꾼"
   ]
  },
  {
   "cell_type": "code",
   "execution_count": null,
   "metadata": {},
   "outputs": [],
   "source": [
    "import numpy as np\n",
    "\n",
    "def solution(bridge_length, weight, truck_weights):\n",
    "    i=t=0\n",
    "    queue = [0]*bridge_length\n",
    "    \n",
    "    while True:\n",
    "        qsum = sum(queue)\n",
    "        \n",
    "        if qsum==0 and i>0:\n",
    "            return t\n",
    "        \n",
    "        try:\n",
    "            myw = truck_weights[i]\n",
    "        except:\n",
    "            myw=0\n",
    "            \n",
    "            \n",
    "            \n",
    "        if qsum - queue[-1]+myw > weight:\n",
    "            queue = [0]+queue[:-1]\n",
    "            t+=1\n",
    "        else:\n",
    "            queue = [myw]+queue[:-1]\n",
    "            t+=1\n",
    "            i+=1\n",
    "    return 0"
   ]
  },
  {
   "cell_type": "markdown",
   "metadata": {},
   "source": [
    "테스트 1 〉\t통과 (53.24ms, 28.2MB)\n",
    "테스트 2 〉\t통과 (4218.55ms, 28.3MB)\n",
    "테스트 3 〉\t통과 (0.12ms, 28.4MB)\n",
    "테스트 4 〉\t통과 (803.02ms, 28.2MB)\n",
    "테스트 5 〉\t실패 (시간 초과)\n",
    "테스트 6 〉\t통과 (3899.01ms, 28MB)\n",
    "테스트 7 〉\t통과 (17.83ms, 27.9MB)\n",
    "테스트 8 〉\t통과 (0.48ms, 28.2MB)\n",
    "테스트 9 〉\t통과 (9.15ms, 28.2MB)\n",
    "테스트 10 〉\t통과 (0.55ms, 28.4MB)\n",
    "테스트 11 〉\t통과 (0.06ms, 28.3MB)\n",
    "테스트 12 〉\t통과 (0.43ms, 28.1MB)\n",
    "테스트 13 〉\t통과 (3.49ms, 28.5MB)\n",
    "테스트 14 〉\t통과 (0.28ms, 28MB)"
   ]
  },
  {
   "cell_type": "code",
   "execution_count": null,
   "metadata": {},
   "outputs": [],
   "source": [
    "# 리스트 계산 조금 바꾼2"
   ]
  },
  {
   "cell_type": "code",
   "execution_count": 107,
   "metadata": {},
   "outputs": [],
   "source": [
    "import numpy as np\n",
    "\n",
    "def solution(bridge_length, weight, truck_weights):\n",
    "    i=t=0\n",
    "    queue = [0]*bridge_length\n",
    "    \n",
    "    while True:\n",
    "        qsum = sum(queue)\n",
    "        \n",
    "        if qsum==0 and i>0:\n",
    "            return t\n",
    "        \n",
    "        try:\n",
    "            myw = truck_weights[i]\n",
    "        except:\n",
    "            myw=0\n",
    "            \n",
    "            \n",
    "            \n",
    "        if qsum - queue[-1]+myw > weight:\n",
    "            del queue[-1]\n",
    "            queue = [0]+queue\n",
    "            t+=1\n",
    "        else:\n",
    "            del queue[-1]\n",
    "            queue = [myw]+queue\n",
    "            t+=1\n",
    "            i+=1\n",
    "    return 0"
   ]
  },
  {
   "cell_type": "markdown",
   "metadata": {},
   "source": [
    "테스트 1 〉\t통과 (39.32ms, 28.1MB)\n",
    "테스트 2 〉\t통과 (3118.44ms, 28.6MB)\n",
    "테스트 3 〉\t통과 (0.12ms, 28.5MB)\n",
    "테스트 4 〉\t통과 (596.42ms, 28.2MB)\n",
    "테스트 5 〉\t실패 (시간 초과)\n",
    "테스트 6 〉\t통과 (2887.33ms, 28.3MB)\n",
    "테스트 7 〉\t통과 (13.40ms, 28MB)\n",
    "테스트 8 〉\t통과 (0.40ms, 28.3MB)\n",
    "테스트 9 〉\t통과 (7.73ms, 28MB)\n",
    "테스트 10 〉\t통과 (0.48ms, 28.2MB)\n",
    "테스트 11 〉\t통과 (0.06ms, 28.3MB)\n",
    "테스트 12 〉\t통과 (0.39ms, 28.3MB)\n",
    "테스트 13 〉\t통과 (2.77ms, 28.3MB)\n",
    "테스트 14 〉\t통과 (0.21ms, 28.1MB)"
   ]
  },
  {
   "cell_type": "code",
   "execution_count": 116,
   "metadata": {},
   "outputs": [
    {
     "data": {
      "text/plain": [
       "[3, 2, 1]"
      ]
     },
     "execution_count": 116,
     "metadata": {},
     "output_type": "execute_result"
    }
   ],
   "source": [
    "aa = [1,2,3,4,5]\n",
    "aa[:3][::-1]"
   ]
  },
  {
   "cell_type": "code",
   "execution_count": 122,
   "metadata": {},
   "outputs": [
    {
     "data": {
      "text/plain": [
       "[3, 4, 5]"
      ]
     },
     "execution_count": 122,
     "metadata": {},
     "output_type": "execute_result"
    }
   ],
   "source": [
    "aa[5-3:]"
   ]
  },
  {
   "cell_type": "code",
   "execution_count": null,
   "metadata": {},
   "outputs": [],
   "source": [
    "#잘못바꾼듯."
   ]
  },
  {
   "cell_type": "code",
   "execution_count": 123,
   "metadata": {},
   "outputs": [],
   "source": [
    "import numpy as np\n",
    "\n",
    "def solution(bridge_length, weight, truck_weights):\n",
    "    i=t=0\n",
    "    queue = [0]*bridge_length\n",
    "    \n",
    "    fst = len(truck_weights)//3\n",
    "    if sum(truck_weights[:fst]) < weight :\n",
    "        queue[len(queue)-fst:] = truck_weights[:fst][::-1]\n",
    "        i += fst\n",
    "    \n",
    "    \n",
    "    \n",
    "    while True:\n",
    "        qsum = sum(queue)\n",
    "        \n",
    "        if qsum==0 and i>0:\n",
    "            return t\n",
    "        \n",
    "        try:\n",
    "            myw = truck_weights[i]\n",
    "        except:\n",
    "            myw=0\n",
    "            \n",
    "            \n",
    "            \n",
    "        if qsum - queue[-1]+myw > weight:\n",
    "            del queue[-1]\n",
    "            queue = [0]+queue\n",
    "            t+=1\n",
    "        else:\n",
    "            del queue[-1]\n",
    "            queue = [myw]+queue\n",
    "            t+=1\n",
    "            i+=1\n",
    "    return 0"
   ]
  },
  {
   "cell_type": "markdown",
   "metadata": {},
   "source": [
    "### queue"
   ]
  },
  {
   "cell_type": "code",
   "execution_count": 124,
   "metadata": {},
   "outputs": [],
   "source": [
    "# queue FIFO"
   ]
  },
  {
   "cell_type": "code",
   "execution_count": 150,
   "metadata": {},
   "outputs": [],
   "source": [
    "from collections import deque\n",
    "qu = deque()"
   ]
  },
  {
   "cell_type": "code",
   "execution_count": 151,
   "metadata": {},
   "outputs": [],
   "source": [
    "qu.append(7)\n",
    "qu.append(6)"
   ]
  },
  {
   "cell_type": "code",
   "execution_count": 152,
   "metadata": {},
   "outputs": [
    {
     "data": {
      "text/plain": [
       "6"
      ]
     },
     "execution_count": 152,
     "metadata": {},
     "output_type": "execute_result"
    }
   ],
   "source": [
    "qu[-1]"
   ]
  },
  {
   "cell_type": "code",
   "execution_count": 154,
   "metadata": {},
   "outputs": [],
   "source": [
    "aa = qu.popleft()"
   ]
  },
  {
   "cell_type": "code",
   "execution_count": 155,
   "metadata": {},
   "outputs": [
    {
     "data": {
      "text/plain": [
       "deque([6])"
      ]
     },
     "execution_count": 155,
     "metadata": {},
     "output_type": "execute_result"
    }
   ],
   "source": [
    "qu"
   ]
  },
  {
   "cell_type": "code",
   "execution_count": 156,
   "metadata": {},
   "outputs": [
    {
     "data": {
      "text/plain": [
       "7"
      ]
     },
     "execution_count": 156,
     "metadata": {},
     "output_type": "execute_result"
    }
   ],
   "source": [
    "aa"
   ]
  },
  {
   "cell_type": "code",
   "execution_count": null,
   "metadata": {},
   "outputs": [],
   "source": []
  },
  {
   "cell_type": "code",
   "execution_count": 161,
   "metadata": {},
   "outputs": [
    {
     "data": {
      "text/plain": [
       "deque([0])"
      ]
     },
     "execution_count": 161,
     "metadata": {},
     "output_type": "execute_result"
    }
   ],
   "source": [
    "deque([0])"
   ]
  },
  {
   "cell_type": "code",
   "execution_count": 198,
   "metadata": {},
   "outputs": [],
   "source": [
    "from collections import deque\n",
    "\n",
    "def solution(bridge_length, weight, truck_weights):\n",
    "    i=t=0\n",
    "    qsum = 0\n",
    "    qu = deque([0]*bridge_length,maxlen=bridge_length)\n",
    "    \n",
    "    \n",
    "    \n",
    "    while True:\n",
    "        \n",
    "        if qsum==0 and i>0:\n",
    "            return t\n",
    "        \n",
    "        try:\n",
    "            myw = truck_weights[i]\n",
    "        except:\n",
    "            myw=0\n",
    "        \n",
    "        temp = qsum+myw-qu[0]\n",
    "        if temp > weight:\n",
    "            qsum=qsum+0-qu[0]\n",
    "            qu.append(0)\n",
    "            t+=1\n",
    "        else:\n",
    "            qsum=qsum+myw-qu[0]\n",
    "            qu.append(myw)\n",
    "            t+=1\n",
    "            i+=1\n",
    "    return 0"
   ]
  },
  {
   "cell_type": "code",
   "execution_count": 199,
   "metadata": {},
   "outputs": [
    {
     "data": {
      "text/plain": [
       "8"
      ]
     },
     "execution_count": 199,
     "metadata": {},
     "output_type": "execute_result"
    }
   ],
   "source": [
    "solution(2,10,[7,4,5,6])"
   ]
  },
  {
   "cell_type": "markdown",
   "metadata": {},
   "source": [
    "테스트 1 〉\t통과 (1.05ms, 10.8MB)\n",
    "테스트 2 〉\t통과 (12.29ms, 10.8MB)\n",
    "테스트 3 〉\t통과 (0.07ms, 10.7MB)\n",
    "테스트 4 〉\t통과 (8.81ms, 10.6MB)\n",
    "테스트 5 〉\t통과 (76.03ms, 10.8MB)\n",
    "테스트 6 〉\t통과 (23.83ms, 10.7MB)\n",
    "테스트 7 〉\t통과 (0.67ms, 10.8MB)\n",
    "테스트 8 〉\t통과 (0.16ms, 10.7MB)\n",
    "테스트 9 〉\t통과 (2.87ms, 10.8MB)\n",
    "테스트 10 〉\t통과 (0.16ms, 10.6MB)\n",
    "테스트 11 〉\t통과 (0.04ms, 10.6MB)\n",
    "테스트 12 〉\t통과 (0.23ms, 10.8MB)\n",
    "테스트 13 〉\t통과 (0.78ms, 10.7MB)\n",
    "테스트 14 〉\t통과 (0.08ms, 10.8MB)"
   ]
  }
 ],
 "metadata": {
  "kernelspec": {
   "display_name": "Python 3",
   "language": "python",
   "name": "python3"
  },
  "language_info": {
   "codemirror_mode": {
    "name": "ipython",
    "version": 3
   },
   "file_extension": ".py",
   "mimetype": "text/x-python",
   "name": "python",
   "nbconvert_exporter": "python",
   "pygments_lexer": "ipython3",
   "version": "3.6.10"
  },
  "toc": {
   "base_numbering": 1,
   "nav_menu": {},
   "number_sections": false,
   "sideBar": true,
   "skip_h1_title": false,
   "title_cell": "Table of Contents",
   "title_sidebar": "Contents",
   "toc_cell": false,
   "toc_position": {},
   "toc_section_display": true,
   "toc_window_display": false
  }
 },
 "nbformat": 4,
 "nbformat_minor": 4
}
