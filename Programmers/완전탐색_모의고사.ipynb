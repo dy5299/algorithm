{
 "cells": [
  {
   "cell_type": "code",
   "execution_count": 5,
   "metadata": {},
   "outputs": [
    {
     "data": {
      "text/plain": [
       "[5, 3, 2, 1]"
      ]
     },
     "execution_count": 5,
     "metadata": {},
     "output_type": "execute_result"
    }
   ],
   "source": [
    "rank=[1,5,2,3]\n",
    "rank.sort(reverse=True)\n",
    "rank"
   ]
  },
  {
   "cell_type": "code",
   "execution_count": 6,
   "metadata": {},
   "outputs": [
    {
     "data": {
      "text/plain": [
       "5"
      ]
     },
     "execution_count": 6,
     "metadata": {},
     "output_type": "execute_result"
    }
   ],
   "source": [
    "max(rank)"
   ]
  },
  {
   "cell_type": "code",
   "execution_count": null,
   "metadata": {},
   "outputs": [],
   "source": [
    "def solution(answers):\n",
    "    p1=[1,2,3,4,5]*8\n",
    "    p2=[2,1,2,3,2,4,2,5]*5\n",
    "    p3=[3,3,1,1,2,2,4,4,5,5]*4\n",
    "    a1=a2=a3=0\n",
    "    for idx, a in enumerate(answers):\n",
    "        idx=idx%40\n",
    "        if a==p1[idx]: a1+=1\n",
    "        if a==p2[idx]: a2+=1\n",
    "        if a==p3[idx]: a3+=1\n",
    "    \n",
    "    rank=[a1,a2,a3]\n",
    "    answer = []\n",
    "    temp=max(rank)\n",
    "    if a1==temp: answer.append(1)\n",
    "    if a2==temp: answer.append(2)\n",
    "    if a3==temp: answer.append(3)\n",
    "    \n",
    "    return answer"
   ]
  }
 ],
 "metadata": {
  "kernelspec": {
   "display_name": "Python 3",
   "language": "python",
   "name": "python3"
  },
  "language_info": {
   "codemirror_mode": {
    "name": "ipython",
    "version": 3
   },
   "file_extension": ".py",
   "mimetype": "text/x-python",
   "name": "python",
   "nbconvert_exporter": "python",
   "pygments_lexer": "ipython3",
   "version": "3.6.10"
  },
  "toc": {
   "base_numbering": 1,
   "nav_menu": {},
   "number_sections": false,
   "sideBar": true,
   "skip_h1_title": false,
   "title_cell": "Table of Contents",
   "title_sidebar": "Contents",
   "toc_cell": false,
   "toc_position": {},
   "toc_section_display": true,
   "toc_window_display": false
  }
 },
 "nbformat": 4,
 "nbformat_minor": 4
}
