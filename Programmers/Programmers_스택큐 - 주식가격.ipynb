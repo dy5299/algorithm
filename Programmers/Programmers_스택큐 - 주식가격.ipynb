{
 "cells": [
  {
   "cell_type": "markdown",
   "metadata": {},
   "source": [
    "# Programmers\n",
    "## 스택큐 - 주식가격"
   ]
  },
  {
   "cell_type": "code",
   "execution_count": null,
   "metadata": {},
   "outputs": [],
   "source": [
    "prices=[1,2,3,2,3]\n",
    "prices.reverse()\n",
    "prices"
   ]
  },
  {
   "cell_type": "code",
   "execution_count": 23,
   "metadata": {},
   "outputs": [],
   "source": [
    "# 틀\n",
    "def solution(prices):\n",
    "    prices.reverse()\n",
    "    answer = []\n",
    "\n",
    "    for idx in range(len(prices)):\n",
    "        cnt=0\n",
    "        for i in prices[:-1]:\n",
    "            if i>=prices[-1]:\n",
    "                cnt+=1\n",
    "            else:\n",
    "                break\n",
    "        answer.append(cnt)\n",
    "        prices.pop()\n",
    "    return answer"
   ]
  },
  {
   "cell_type": "code",
   "execution_count": 24,
   "metadata": {},
   "outputs": [
    {
     "data": {
      "text/plain": [
       "[4, 3, 1, 1, 0]"
      ]
     },
     "execution_count": 24,
     "metadata": {},
     "output_type": "execute_result"
    }
   ],
   "source": [
    "solution([1,2,3,2,3])"
   ]
  },
  {
   "cell_type": "code",
   "execution_count": 35,
   "metadata": {},
   "outputs": [],
   "source": [
    "# 틀\n",
    "def solution(prices):\n",
    "    prices.reverse()\n",
    "    answer = []\n",
    "    \n",
    "    for idx in range(len(prices)):\n",
    "        cnt=0\n",
    "        for i in reversed(prices[:-1]):\n",
    "            if i>=prices[-1]:\n",
    "                cnt+=1\n",
    "            else:\n",
    "                break\n",
    "        answer.append(cnt)\n",
    "        prices.pop()\n",
    "    return answer"
   ]
  },
  {
   "cell_type": "code",
   "execution_count": 36,
   "metadata": {
    "scrolled": true
   },
   "outputs": [
    {
     "data": {
      "text/plain": [
       "[4, 3, 0, 1, 0]"
      ]
     },
     "execution_count": 36,
     "metadata": {},
     "output_type": "execute_result"
    }
   ],
   "source": [
    "solution([1,2,3,2,3])"
   ]
  },
  {
   "cell_type": "markdown",
   "metadata": {},
   "source": [
    "- 채점 결과\n",
    "정확성: 66.7\n",
    "효율성: 33.3\n",
    "합계: 100.0 / 100.0"
   ]
  },
  {
   "cell_type": "code",
   "execution_count": 54,
   "metadata": {},
   "outputs": [],
   "source": [
    "def solution(prices):\n",
    "    answer=[]\n",
    "    from collections import deque\n",
    "    data=deque(prices)\n",
    "    \n",
    "    for idx in range(len(prices)):\n",
    "        temp=data.popleft()\n",
    "        cnt=0\n",
    "        for i in data:\n",
    "            cnt+=1\n",
    "            if i<temp: break\n",
    "        answer.append(cnt)\n",
    "    return answer"
   ]
  },
  {
   "cell_type": "code",
   "execution_count": 3,
   "metadata": {},
   "outputs": [],
   "source": [
    "# list도 pop(0) 가능한거 이제 알아서..\n",
    "def solution(prices):\n",
    "    answer=[]\n",
    "    \n",
    "    for idx in range(len(prices)):\n",
    "        temp=prices.pop(0)\n",
    "        cnt=0\n",
    "        for i in prices:\n",
    "            cnt+=1\n",
    "            if i<temp: break\n",
    "        answer.append(cnt)\n",
    "    return answer"
   ]
  },
  {
   "cell_type": "code",
   "execution_count": 55,
   "metadata": {},
   "outputs": [
    {
     "data": {
      "text/plain": [
       "[4, 3, 1, 1, 0]"
      ]
     },
     "execution_count": 55,
     "metadata": {},
     "output_type": "execute_result"
    }
   ],
   "source": [
    "solution([1,2,3,2,3])"
   ]
  },
  {
   "cell_type": "code",
   "execution_count": null,
   "metadata": {},
   "outputs": [],
   "source": [
    "# another code\n",
    "\n",
    "def solution(prices):\n",
    "    answer = [0] * len(prices)\n",
    "    for i in range(len(prices)):\n",
    "        for j in range(i+1, len(prices)):\n",
    "            if prices[i] <= prices[j]:\n",
    "                answer[i] += 1\n",
    "            else:\n",
    "                answer[i] += 1\n",
    "                break\n",
    "    return answer"
   ]
  },
  {
   "cell_type": "markdown",
   "metadata": {},
   "source": [
    "- enumerate()는 반복 자료형 내 원소를 하나씩 다 봐야하니까 O(n) 인 반면, range()는 O(1)인 걸로 알고 있습니다.\n",
    "- 이 코드는 O(N^2)입니다. 원소가 조금만 더 크면 시간 초과가 날 거예요."
   ]
  },
  {
   "cell_type": "code",
   "execution_count": null,
   "metadata": {},
   "outputs": [],
   "source": []
  }
 ],
 "metadata": {
  "kernelspec": {
   "display_name": "Python 3",
   "language": "python",
   "name": "python3"
  },
  "language_info": {
   "codemirror_mode": {
    "name": "ipython",
    "version": 3
   },
   "file_extension": ".py",
   "mimetype": "text/x-python",
   "name": "python",
   "nbconvert_exporter": "python",
   "pygments_lexer": "ipython3",
   "version": "3.6.10"
  },
  "toc": {
   "base_numbering": 1,
   "nav_menu": {},
   "number_sections": false,
   "sideBar": true,
   "skip_h1_title": false,
   "title_cell": "Table of Contents",
   "title_sidebar": "Contents",
   "toc_cell": false,
   "toc_position": {},
   "toc_section_display": true,
   "toc_window_display": false
  }
 },
 "nbformat": 4,
 "nbformat_minor": 4
}
