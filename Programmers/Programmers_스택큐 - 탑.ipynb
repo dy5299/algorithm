{
 "cells": [
  {
   "cell_type": "markdown",
   "metadata": {},
   "source": [
    "# Programmers"
   ]
  },
  {
   "cell_type": "markdown",
   "metadata": {},
   "source": [
    "## 스택큐 - 탑"
   ]
  },
  {
   "cell_type": "markdown",
   "metadata": {},
   "source": [
    "easy"
   ]
  },
  {
   "cell_type": "code",
   "execution_count": 14,
   "metadata": {},
   "outputs": [],
   "source": [
    "heights=[6,9,5,7,4]\n",
    "hlen=len(heights)"
   ]
  },
  {
   "cell_type": "code",
   "execution_count": 15,
   "metadata": {},
   "outputs": [],
   "source": [
    "ans=[0]*hlen"
   ]
  },
  {
   "cell_type": "code",
   "execution_count": 33,
   "metadata": {},
   "outputs": [
    {
     "name": "stdout",
     "output_type": "stream",
     "text": [
      "i=1,j=1, ans=4\n",
      "i=2,j=3, ans=3\n",
      "i=3,j=1, ans=2\n",
      "[0, 4, 4, 2, 4]\n"
     ]
    }
   ],
   "source": [
    "for i in range(1,hlen):\n",
    "    for j in range(1,hlen-i+1):\n",
    "        if heights[-(j+1)] > heights[-i]:    #왼이 수신, 오가 송신\n",
    "            ans[-i]=hlen-j    #송신순서에 수신인덱스 넣음\n",
    "            print('i={},j={}, ans={}'.format(i,j,hlen-i))\n",
    "            break\n",
    "\n",
    "print(ans)"
   ]
  },
  {
   "cell_type": "code",
   "execution_count": 19,
   "metadata": {},
   "outputs": [
    {
     "name": "stdout",
     "output_type": "stream",
     "text": [
      "4\n",
      "3\n",
      "2\n",
      "1\n",
      "0\n"
     ]
    }
   ],
   "source": [
    "hlen=5\n",
    "for i in range(1,hlen+1):\n",
    "    print(hlen-i)"
   ]
  },
  {
   "cell_type": "code",
   "execution_count": 24,
   "metadata": {
    "scrolled": true
   },
   "outputs": [
    {
     "name": "stdout",
     "output_type": "stream",
     "text": [
      "5\n",
      "4\n",
      "3\n",
      "2\n",
      "1\n"
     ]
    }
   ],
   "source": [
    "hlen=5\n",
    "for i in range(hlen,0,-1):\n",
    "    print(i)"
   ]
  },
  {
   "cell_type": "code",
   "execution_count": 29,
   "metadata": {},
   "outputs": [
    {
     "name": "stdout",
     "output_type": "stream",
     "text": [
      "1 i\n",
      "0\n",
      "1\n",
      "2\n",
      "3\n",
      "2 i\n",
      "0\n",
      "1\n",
      "2\n",
      "3 i\n",
      "0\n",
      "1\n",
      "4 i\n",
      "0\n"
     ]
    }
   ],
   "source": [
    "hlen=5\n",
    "for i in range(1,hlen):\n",
    "    print(i,'i')\n",
    "    for j in range(hlen-i):\n",
    "        print(j)"
   ]
  },
  {
   "cell_type": "code",
   "execution_count": 30,
   "metadata": {},
   "outputs": [
    {
     "data": {
      "text/plain": [
       "1"
      ]
     },
     "execution_count": 30,
     "metadata": {},
     "output_type": "execute_result"
    }
   ],
   "source": [
    "aa=[1,2,3,4,5]\n",
    "aa[-5]"
   ]
  },
  {
   "cell_type": "markdown",
   "metadata": {},
   "source": [
    "re"
   ]
  },
  {
   "cell_type": "code",
   "execution_count": 37,
   "metadata": {},
   "outputs": [
    {
     "name": "stdout",
     "output_type": "stream",
     "text": [
      "0 0\n",
      "0 1\n",
      "0 2\n",
      "0 3\n",
      "1 0\n",
      "1 1\n",
      "1 2\n",
      "2 0\n",
      "2 1\n",
      "3 0\n"
     ]
    }
   ],
   "source": [
    "for i in range(hlen):\n",
    "    for j in range(hlen-i-1):\n",
    "        print(i,j)"
   ]
  },
  {
   "cell_type": "code",
   "execution_count": 38,
   "metadata": {},
   "outputs": [],
   "source": [
    "heights=[6,9,5,7,4]\n",
    "hlen=len(heights)\n",
    "ans=[0]*hlen"
   ]
  },
  {
   "cell_type": "code",
   "execution_count": 49,
   "metadata": {},
   "outputs": [
    {
     "name": "stdout",
     "output_type": "stream",
     "text": [
      "0 0 4 7\n",
      "0 0 4 5\n",
      "0 0 4 9\n",
      "0 0 4 6\n",
      "1 0 7 5\n",
      "1 0 7 9\n",
      "1 0 7 6\n",
      "2 0 5 9\n",
      "2 0 5 6\n",
      "3 0 9 6\n"
     ]
    }
   ],
   "source": [
    "for i in range(hlen):\n",
    "    for k in range(hlen-i-1):\n",
    "        send=heights[-(i+1)]\n",
    "#         recept=heights[-(i+1)-(k+1)]\n",
    "        recept=heights[-(i+1+k+1)]\n",
    "        print(i,j,send,recept)"
   ]
  },
  {
   "cell_type": "code",
   "execution_count": 53,
   "metadata": {},
   "outputs": [],
   "source": [
    "heights=[6,9,5,7,4]\n",
    "hlen=len(heights)\n",
    "ans=[0]*hlen"
   ]
  },
  {
   "cell_type": "code",
   "execution_count": 54,
   "metadata": {},
   "outputs": [
    {
     "name": "stdout",
     "output_type": "stream",
     "text": [
      "0 0 4 7\n",
      "1 0 7 9\n",
      "2 0 5 9\n",
      "[0, 0, 2, 2, 4]\n"
     ]
    }
   ],
   "source": [
    "for i in range(hlen):\n",
    "    for k in range(hlen-i-1):\n",
    "        send=heights[-(i+1)]\n",
    "        recept=heights[-(i+1+k+1)]\n",
    "        if send<recept:\n",
    "            print(i,j,send,recept)\n",
    "            ans[-(i+1)]=hlen-(i+1+k+1)+1\n",
    "            break\n",
    "print(ans)"
   ]
  },
  {
   "cell_type": "code",
   "execution_count": null,
   "metadata": {},
   "outputs": [],
   "source": [
    "def solution(heights):\n",
    "    hlen=len(heights)\n",
    "    ans=[0]*hlen\n",
    "    for i in range(hlen):\n",
    "        for k in range(hlen-i-1):\n",
    "            send=heights[-(i+1)]\n",
    "            recept=heights[-(i+1+k+1)]\n",
    "            if send<recept:\n",
    "                ans[-(i+1)]=hlen-(i+1+k+1)+1\n",
    "                break\n",
    "    return(ans)"
   ]
  },
  {
   "cell_type": "markdown",
   "metadata": {},
   "source": [
    "### another sol"
   ]
  },
  {
   "cell_type": "code",
   "execution_count": 1,
   "metadata": {},
   "outputs": [],
   "source": [
    "def solution(h):\n",
    "    ans = [0] * len(h)\n",
    "    for i in range(len(h)-1, 0, -1):\n",
    "        for j in range(i-1, -1, -1):\n",
    "            if h[i] < h[j]:\n",
    "                ans[i] = j+1\n",
    "                break\n",
    "    return ans"
   ]
  },
  {
   "cell_type": "code",
   "execution_count": 2,
   "metadata": {},
   "outputs": [],
   "source": [
    "def solution(heights):\n",
    "    answer = [0]*len(heights)\n",
    "    stack = [] \n",
    "\n",
    "    for i in reversed(range(len(heights))):\n",
    "        while stack and stack[-1][1] < heights[i]:\n",
    "            idx, height = stack.pop()\n",
    "            answer[idx] = i+1\n",
    "        stack.append((i, heights[i]))\n",
    "\n",
    "    return answer"
   ]
  },
  {
   "cell_type": "code",
   "execution_count": null,
   "metadata": {},
   "outputs": [],
   "source": []
  }
 ],
 "metadata": {
  "kernelspec": {
   "display_name": "Python 3",
   "language": "python",
   "name": "python3"
  },
  "language_info": {
   "codemirror_mode": {
    "name": "ipython",
    "version": 3
   },
   "file_extension": ".py",
   "mimetype": "text/x-python",
   "name": "python",
   "nbconvert_exporter": "python",
   "pygments_lexer": "ipython3",
   "version": "3.6.10"
  },
  "toc": {
   "base_numbering": 1,
   "nav_menu": {},
   "number_sections": false,
   "sideBar": true,
   "skip_h1_title": false,
   "title_cell": "Table of Contents",
   "title_sidebar": "Contents",
   "toc_cell": false,
   "toc_position": {},
   "toc_section_display": true,
   "toc_window_display": false
  }
 },
 "nbformat": 4,
 "nbformat_minor": 4
}
