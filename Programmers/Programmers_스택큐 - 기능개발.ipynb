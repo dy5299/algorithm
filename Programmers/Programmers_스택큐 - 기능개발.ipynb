{
 "cells": [
  {
   "cell_type": "markdown",
   "metadata": {},
   "source": [
    "# Programmers\n",
    "## 스택큐 - 기능개발"
   ]
  },
  {
   "cell_type": "code",
   "execution_count": 22,
   "metadata": {},
   "outputs": [
    {
     "name": "stdout",
     "output_type": "stream",
     "text": [
      "lst>>> [7, 3, 9]\n"
     ]
    },
    {
     "data": {
      "text/plain": [
       "[]"
      ]
     },
     "execution_count": 22,
     "metadata": {},
     "output_type": "execute_result"
    }
   ],
   "source": [
    "# FAIL\n",
    "def solution(progresses, speeds):\n",
    "    import math\n",
    "    \n",
    "    lst=[]\n",
    "    answer = []\n",
    "    for i in range(len(progresses)):\n",
    "        lst.append(math.ceil((100-progresses[i])/speeds[i]))\n",
    "    print(\"lst>>>\",lst)\n",
    "    \n",
    "    for i in lst:\n",
    "        cnt=1\n",
    "        for j in lst[i+1:]:\n",
    "            print('>>>',i,j)\n",
    "            if i>=j:\n",
    "                cnt+=1\n",
    "            else:\n",
    "                break\n",
    "        answer.append(cnt)\n",
    "    return answer\n",
    "\n",
    "solution([93, 30, 55], [1, 30, 5])"
   ]
  },
  {
   "cell_type": "code",
   "execution_count": 31,
   "metadata": {},
   "outputs": [
    {
     "name": "stdout",
     "output_type": "stream",
     "text": [
      "lst>>> [7, 3, 9]\n"
     ]
    }
   ],
   "source": [
    "import math\n",
    "prr=[93, 30, 55]\n",
    "spp=[1, 30, 5]\n",
    "\n",
    "lst=[]\n",
    "answer = []\n",
    "for i in range(len(prr)):\n",
    "    lst.append(math.ceil((100-prr[i])/spp[i]))\n",
    "print(\"lst>>>\",lst)"
   ]
  },
  {
   "cell_type": "code",
   "execution_count": 32,
   "metadata": {},
   "outputs": [
    {
     "name": "stdout",
     "output_type": "stream",
     "text": [
      "[7, 7, 9]\n"
     ]
    }
   ],
   "source": [
    "for i in range(len(lst)-1):\n",
    "    if lst[i]>=lst[i+1]:\n",
    "        lst[i+1]=lst[i]\n",
    "\n",
    "print(lst)"
   ]
  },
  {
   "cell_type": "code",
   "execution_count": 35,
   "metadata": {},
   "outputs": [
    {
     "data": {
      "text/plain": [
       "Counter({7: 2, 9: 1})"
      ]
     },
     "execution_count": 35,
     "metadata": {},
     "output_type": "execute_result"
    }
   ],
   "source": [
    "from collections import Counter\n",
    "Counter(lst)"
   ]
  },
  {
   "cell_type": "code",
   "execution_count": 36,
   "metadata": {},
   "outputs": [
    {
     "data": {
      "text/plain": [
       "dict_values([2, 1])"
      ]
     },
     "execution_count": 36,
     "metadata": {},
     "output_type": "execute_result"
    }
   ],
   "source": [
    "Counter(lst).values()"
   ]
  },
  {
   "cell_type": "code",
   "execution_count": 3,
   "metadata": {},
   "outputs": [],
   "source": [
    "def solution(progresses, speeds):\n",
    "    import math\n",
    "    \n",
    "    lst=[]\n",
    "    answer = []\n",
    "    for i in range(len(progresses)):\n",
    "        lst.append(math.ceil((100-progresses[i])/speeds[i]))\n",
    "    \n",
    "    for i in range(len(lst)-1):\n",
    "        if lst[i]>=lst[i+1]:\n",
    "            lst[i+1]=lst[i]\n",
    "    \n",
    "    from collections import Counter\n",
    "    return list(Counter(lst).values())"
   ]
  },
  {
   "cell_type": "code",
   "execution_count": 4,
   "metadata": {
    "scrolled": false
   },
   "outputs": [
    {
     "name": "stdout",
     "output_type": "stream",
     "text": [
      "[5, 10, 1, 1, 20, 1]\n"
     ]
    },
    {
     "data": {
      "text/plain": [
       "[1, 3, 2]"
      ]
     },
     "execution_count": 4,
     "metadata": {},
     "output_type": "execute_result"
    }
   ],
   "source": [
    "solution([95, 90, 99, 99, 80, 99], [1, 1, 1, 1, 1, 1])"
   ]
  },
  {
   "cell_type": "code",
   "execution_count": null,
   "metadata": {},
   "outputs": [],
   "source": [
    "# another code\n",
    "def solution(progresses, speeds):\n",
    "    Q=[]\n",
    "    for p, s in zip(progresses, speeds):\n",
    "        if len(Q)==0 or Q[-1][0]<-((p-100)//s):\n",
    "            Q.append([-((p-100)//s),1])\n",
    "        else:\n",
    "            Q[-1][1]+=1\n",
    "    return [q[1] for q in Q]"
   ]
  },
  {
   "cell_type": "markdown",
   "metadata": {},
   "source": [
    "math.ceil 없이 올림을 쓰려고 한거 같네요. (p-100) => 음수, (p-100) // s => 내림한 음수(음수에서 내림은 절대값은 커짐), -((p-100)//s) => 올림한 양수"
   ]
  },
  {
   "cell_type": "code",
   "execution_count": null,
   "metadata": {},
   "outputs": [],
   "source": [
    "# another code 2\n",
    "def solution(progresses, speeds):\n",
    "    print(progresses)\n",
    "    print(speeds)\n",
    "    answer = []\n",
    "    time = 0\n",
    "    count = 0\n",
    "    while len(progresses)> 0:\n",
    "        if (progresses[0] + time*speeds[0]) >= 100:\n",
    "            progresses.pop(0)\n",
    "            speeds.pop(0)\n",
    "            count += 1\n",
    "        else:\n",
    "            if count > 0:\n",
    "                answer.append(count)\n",
    "                count = 0\n",
    "            time += 1\n",
    "    answer.append(count)\n",
    "    return answer"
   ]
  },
  {
   "cell_type": "code",
   "execution_count": null,
   "metadata": {},
   "outputs": [],
   "source": []
  }
 ],
 "metadata": {
  "kernelspec": {
   "display_name": "Python 3",
   "language": "python",
   "name": "python3"
  },
  "toc": {
   "base_numbering": 1,
   "nav_menu": {},
   "number_sections": false,
   "sideBar": true,
   "skip_h1_title": false,
   "title_cell": "Table of Contents",
   "title_sidebar": "Contents",
   "toc_cell": false,
   "toc_position": {},
   "toc_section_display": true,
   "toc_window_display": false
  }
 },
 "nbformat": 4,
 "nbformat_minor": 4
}
