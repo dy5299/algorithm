{
 "cells": [
  {
   "cell_type": "markdown",
   "metadata": {},
   "source": [
    "# Programmers\n",
    "## 스택큐 - 프린터"
   ]
  },
  {
   "cell_type": "code",
   "execution_count": 2,
   "metadata": {},
   "outputs": [
    {
     "name": "stdout",
     "output_type": "stream",
     "text": [
      "1\n"
     ]
    }
   ],
   "source": [
    "pri=[2,1,3,2]\n",
    "loc=2\n",
    "target=pri[loc]\n",
    "\n",
    "i=0\n",
    "answer=loc\n",
    "while True:\n",
    "    i+=1\n",
    "    if pri[0] > min(pri[1:]):\n",
    "        temp=pri.pop(0)\n",
    "        pri.append(temp)\n",
    "        i=0\n",
    "        answer-=1\n",
    "    if i>len(pri):\n",
    "        break\n",
    "        \n",
    "# print(pri.index(target))\n",
    "print(answer%len(pri))"
   ]
  },
  {
   "cell_type": "code",
   "execution_count": 25,
   "metadata": {},
   "outputs": [],
   "source": [
    "pri=[2,1,3,2]"
   ]
  },
  {
   "cell_type": "code",
   "execution_count": 26,
   "metadata": {},
   "outputs": [
    {
     "data": {
      "text/plain": [
       "2"
      ]
     },
     "execution_count": 26,
     "metadata": {},
     "output_type": "execute_result"
    }
   ],
   "source": [
    "pri[0]"
   ]
  },
  {
   "cell_type": "code",
   "execution_count": 27,
   "metadata": {},
   "outputs": [
    {
     "data": {
      "text/plain": [
       "1"
      ]
     },
     "execution_count": 27,
     "metadata": {},
     "output_type": "execute_result"
    }
   ],
   "source": [
    "min(pri[1:])"
   ]
  },
  {
   "cell_type": "code",
   "execution_count": 55,
   "metadata": {},
   "outputs": [],
   "source": [
    "def solution(priorities, location):\n",
    "    target=priorities[location]\n",
    "\n",
    "    i=0\n",
    "    while True:\n",
    "        # 우선순위가 아니면\n",
    "        if priorities[i] <= min(priorities[i+1:]) :\n",
    "            temp=priorities.pop(i)\n",
    "            priorities.append(temp)\n",
    "            i=0\n",
    "        else: i+=1\n",
    "            \n",
    "        if i>len(priorities):\n",
    "            print(priorities)\n",
    "            break\n",
    "    return priorities.index(target)"
   ]
  },
  {
   "cell_type": "code",
   "execution_count": 19,
   "metadata": {},
   "outputs": [],
   "source": [
    "# 이거는 최고순위 인쇄 후 재고려를 하지 않음..\n",
    "def solution(priorities, location):\n",
    "    i=0\n",
    "    answer=location\n",
    "    while True:\n",
    "        # 우선순위가 아니면\n",
    "        if priorities[0] < max(priorities[1:]) :\n",
    "            temp=priorities.pop(i)\n",
    "            priorities.append(temp)\n",
    "            print('temp>>',temp)\n",
    "            i=0\n",
    "            answer-=1\n",
    "        else: i+=1\n",
    "            \n",
    "        if i>len(priorities):\n",
    "            break\n",
    "    print('>>',priorities)\n",
    "    final=answer%len(priorities)+1\n",
    "    return final"
   ]
  },
  {
   "cell_type": "code",
   "execution_count": 59,
   "metadata": {},
   "outputs": [],
   "source": [
    "# 카운트할랬는데 안되겠다\n",
    "def solution(priorities, location):\n",
    "    priorities\n",
    "    \n",
    "    c=0\n",
    "    answer=location\n",
    "    for i in range(len(priorities)-1):\n",
    "        while True:\n",
    "            # 우선순위가 아니면\n",
    "            if priorities[i] < max(priorities[i+1:]) :\n",
    "                temp=priorities.pop(i)\n",
    "                priorities.append(temp)\n",
    "                print('pop',temp)\n",
    "                c=0\n",
    "                answer-=1\n",
    "                if answer<i\n",
    "                answer=(answer-1)%(len(priorities)-i)\n",
    "                \n",
    "                print(\">\",i,answer)\n",
    "            else: c+=1\n",
    "\n",
    "            if c>len(priorities):\n",
    "                break\n",
    "    print('>>',priorities)\n",
    "#     print(answer%len(priorities)+1)\n",
    "#     print(ans)\n",
    "#     final=answer%len(priorities)+1 + ans\n",
    "    print(answer+1)\n",
    "#     return final"
   ]
  },
  {
   "cell_type": "code",
   "execution_count": 1,
   "metadata": {
    "scrolled": true
   },
   "outputs": [
    {
     "name": "stdout",
     "output_type": "stream",
     "text": [
      "2 0\n",
      "3\n",
      "1 1\n",
      "3\n",
      "3 2\n",
      "3\n",
      "2 3\n",
      "3\n"
     ]
    }
   ],
   "source": [
    "pri=[2, 1, 3, 2]\n",
    "for i,j in zip(pri, range(len(pri))):\n",
    "    print(i,j)\n",
    "    print(max(pri))"
   ]
  },
  {
   "cell_type": "code",
   "execution_count": 2,
   "metadata": {},
   "outputs": [],
   "source": [
    "pri=list(zip(pri, range(len(pri))))"
   ]
  },
  {
   "cell_type": "code",
   "execution_count": 3,
   "metadata": {},
   "outputs": [
    {
     "data": {
      "text/plain": [
       "[(2, 0), (1, 1), (3, 2), (2, 3)]"
      ]
     },
     "execution_count": 3,
     "metadata": {},
     "output_type": "execute_result"
    }
   ],
   "source": [
    "pri"
   ]
  },
  {
   "cell_type": "code",
   "execution_count": 4,
   "metadata": {},
   "outputs": [
    {
     "data": {
      "text/plain": [
       "(3, 2)"
      ]
     },
     "execution_count": 4,
     "metadata": {},
     "output_type": "execute_result"
    }
   ],
   "source": [
    "max(pri)"
   ]
  },
  {
   "cell_type": "code",
   "execution_count": 72,
   "metadata": {},
   "outputs": [
    {
     "data": {
      "text/plain": [
       "[2, 1, 3, 2]"
      ]
     },
     "execution_count": 72,
     "metadata": {},
     "output_type": "execute_result"
    }
   ],
   "source": [
    "[i[0] for i in pri]"
   ]
  },
  {
   "cell_type": "code",
   "execution_count": 10,
   "metadata": {},
   "outputs": [],
   "source": [
    "# zip으로 묶자 -> 왜 런타임에러?\n",
    "def solution(priorities, location):\n",
    "    lst=list(zip(priorities, range(len(priorities))))\n",
    "    for p in range(len(priorities)-1):\n",
    "        while True:\n",
    "            # 우선순위가 아니면\n",
    "            if lst[p] < max(lst[p+1:]) :\n",
    "                temp=lst.pop(0)\n",
    "                lst.append(temp)\n",
    "                print('pop',temp)\n",
    "                c=0\n",
    "            else: c+=1\n",
    "\n",
    "            if c>len(lst):\n",
    "                break\n",
    "    print(lst)\n",
    "    final=[i[1] for i in lst].index(location)+1\n",
    "    return final"
   ]
  },
  {
   "cell_type": "code",
   "execution_count": 11,
   "metadata": {
    "scrolled": true
   },
   "outputs": [
    {
     "name": "stdout",
     "output_type": "stream",
     "text": [
      "pop (2, 0)\n",
      "pop (1, 1)\n",
      "[(3, 2), (2, 3), (2, 0), (1, 1)]\n"
     ]
    },
    {
     "data": {
      "text/plain": [
       "1"
      ]
     },
     "execution_count": 11,
     "metadata": {},
     "output_type": "execute_result"
    }
   ],
   "source": [
    "solution([2, 1, 3, 2],2)"
   ]
  },
  {
   "cell_type": "code",
   "execution_count": 12,
   "metadata": {},
   "outputs": [
    {
     "name": "stdout",
     "output_type": "stream",
     "text": [
      "pop (1, 0)\n",
      "pop (1, 1)\n",
      "pop (9, 2)\n",
      "pop (1, 3)\n",
      "pop (1, 4)\n",
      "pop (1, 5)\n",
      "pop (1, 0)\n",
      "pop (1, 1)\n",
      "pop (9, 2)\n",
      "pop (1, 3)\n",
      "pop (1, 4)\n",
      "pop (1, 5)\n",
      "pop (1, 0)\n",
      "pop (1, 1)\n",
      "pop (9, 2)\n",
      "pop (1, 3)\n",
      "[(1, 4), (1, 5), (1, 0), (1, 1), (9, 2), (1, 3)]\n"
     ]
    },
    {
     "data": {
      "text/plain": [
       "3"
      ]
     },
     "execution_count": 12,
     "metadata": {},
     "output_type": "execute_result"
    }
   ],
   "source": [
    "solution([1, 1, 9, 1, 1, 1],0)"
   ]
  },
  {
   "cell_type": "code",
   "execution_count": 13,
   "metadata": {},
   "outputs": [
    {
     "name": "stdout",
     "output_type": "stream",
     "text": [
      "pop (1, 0)\n",
      "pop (2, 1)\n",
      "pop (3, 2)\n",
      "pop (4, 3)\n",
      "pop (5, 4)\n",
      "pop (6, 5)\n",
      "pop (1, 0)\n",
      "pop (2, 1)\n",
      "pop (3, 2)\n",
      "pop (4, 3)\n",
      "pop (5, 4)\n",
      "pop (6, 5)\n",
      "pop (1, 0)\n",
      "pop (2, 1)\n",
      "pop (3, 2)\n",
      "pop (4, 3)\n",
      "pop (5, 4)\n",
      "pop (6, 5)\n",
      "pop (1, 0)\n",
      "pop (2, 1)\n",
      "pop (3, 2)\n",
      "pop (4, 3)\n",
      "pop (5, 4)\n",
      "pop (6, 5)\n",
      "pop (1, 0)\n",
      "[(2, 1), (3, 2), (4, 3), (5, 4), (6, 5), (1, 0)]\n"
     ]
    },
    {
     "data": {
      "text/plain": [
       "3"
      ]
     },
     "execution_count": 13,
     "metadata": {},
     "output_type": "execute_result"
    }
   ],
   "source": [
    "solution([1,2,3,4,5,6],3)"
   ]
  },
  {
   "cell_type": "code",
   "execution_count": 88,
   "metadata": {},
   "outputs": [
    {
     "data": {
      "text/plain": [
       "{0: 2, 1: 1, 2: 3, 3: 2}"
      ]
     },
     "execution_count": 88,
     "metadata": {},
     "output_type": "execute_result"
    }
   ],
   "source": [
    "test=dict(zip(range(len([2, 1, 3, 2])), [2, 1, 3, 2]))\n",
    "test"
   ]
  },
  {
   "cell_type": "code",
   "execution_count": 89,
   "metadata": {},
   "outputs": [
    {
     "data": {
      "text/plain": [
       "dict_keys([0, 1, 2, 3])"
      ]
     },
     "execution_count": 89,
     "metadata": {},
     "output_type": "execute_result"
    }
   ],
   "source": [
    "test.keys()"
   ]
  },
  {
   "cell_type": "code",
   "execution_count": 92,
   "metadata": {},
   "outputs": [
    {
     "data": {
      "text/plain": [
       "[2, 1, 3, 2]"
      ]
     },
     "execution_count": 92,
     "metadata": {},
     "output_type": "execute_result"
    }
   ],
   "source": [
    "list(test.values())"
   ]
  },
  {
   "cell_type": "code",
   "execution_count": null,
   "metadata": {},
   "outputs": [],
   "source": [
    "# zip dict는 근데.. pop 안 되지 않나.ㅠ\n",
    "def solution(priorities, location):\n",
    "    lst=dict(zip(range(len(priorities)), priorities))\n",
    "    for p in range(len(priorities)-1):\n",
    "        while True:\n",
    "            # 우선순위가 아니면\n",
    "            if list(lst.values())[p] < max(list(lst.values())[p+1:]) :\n",
    "                temp=lst.pop(0)\n",
    "                lst.append(temp)\n",
    "#                 print('pop',temp)\n",
    "                c=0\n",
    "            else: c+=1\n",
    "\n",
    "            if c>len(lst):\n",
    "                break\n",
    "    final=[i[1] for i in lst].index(location)+1\n",
    "    return final"
   ]
  },
  {
   "cell_type": "code",
   "execution_count": null,
   "metadata": {},
   "outputs": [],
   "source": [
    "# \n",
    "def solution(priorities, location):\n",
    "    priorities\n",
    "    \n",
    "    c=answer=0\n",
    "    for i in range(len(priorities)-1):\n",
    "        while True:\n",
    "            # 우선순위가 아니면\n",
    "            if priorities[i] < max(priorities[i+1:]) :\n",
    "                temp=priorities.pop(i)\n",
    "                priorities.append(temp)\n",
    "                print('pop',temp)\n",
    "                c=0\n",
    "                answer+=1\n",
    "                if answer<i\n",
    "                answer=(answer-1)%(len(priorities)-i)\n",
    "                \n",
    "                print(\">\",i,answer)\n",
    "            else: c+=1\n",
    "\n",
    "            if c>len(priorities):\n",
    "                break\n",
    "    print('>>',priorities)\n",
    "#     print(answer%len(priorities)+1)\n",
    "#     print(ans)\n",
    "#     final=answer%len(priorities)+1 + ans\n",
    "    print(answer+1)\n",
    "#     return final"
   ]
  },
  {
   "cell_type": "code",
   "execution_count": 40,
   "metadata": {},
   "outputs": [],
   "source": [
    "def solution(priorities, location):\n",
    "    cnt=location\n",
    "    answer=0\n",
    "    while len(priorities)>1:\n",
    "        if priorities[0] < max(priorities[1:]):\n",
    "            temp=priorities.pop(0)\n",
    "            priorities.append(temp)\n",
    "            cnt=(cnt-1)%len(priorities)\n",
    "            print('pop',temp)\n",
    "        else:\n",
    "            answer+=1\n",
    "            cnt=(cnt-1)%len(priorities)\n",
    "            priorities.pop(0)\n",
    "            \n",
    "            if cnt==0:\n",
    "                return answer+1\n",
    "        "
   ]
  },
  {
   "cell_type": "code",
   "execution_count": 41,
   "metadata": {},
   "outputs": [
    {
     "name": "stdout",
     "output_type": "stream",
     "text": [
      "pop 1\n",
      "pop 2\n",
      "pop 3\n",
      "pop 1\n",
      "pop 2\n",
      "pop 1\n"
     ]
    },
    {
     "data": {
      "text/plain": [
       "4"
      ]
     },
     "execution_count": 41,
     "metadata": {},
     "output_type": "execute_result"
    }
   ],
   "source": [
    "solution([1, 2, 3, 4],2)"
   ]
  },
  {
   "cell_type": "code",
   "execution_count": 42,
   "metadata": {},
   "outputs": [
    {
     "name": "stdout",
     "output_type": "stream",
     "text": [
      "pop 2\n",
      "pop 1\n"
     ]
    }
   ],
   "source": [
    "solution([2, 1, 3, 2],2)"
   ]
  },
  {
   "cell_type": "code",
   "execution_count": 43,
   "metadata": {},
   "outputs": [],
   "source": [
    "# answer\n",
    "\n",
    "def solution(priorities, location):\n",
    "    answer=0\n",
    "    \n",
    "    while len(priorities) != 0:\n",
    "        if priorities[0]==max(priorities):\n",
    "            answer+=1\n",
    "            priorities.pop(0)\n",
    "            if location==0:\n",
    "                return answer\n",
    "            else:\n",
    "                location-=1\n",
    "        else:\n",
    "            priorities.append(priorities.pop(0))\n",
    "            if location==0:\n",
    "                location=len(priorities)-1\n",
    "            else:\n",
    "                location-=1\n",
    "    return answer"
   ]
  },
  {
   "cell_type": "code",
   "execution_count": 44,
   "metadata": {},
   "outputs": [
    {
     "data": {
      "text/plain": [
       "1"
      ]
     },
     "execution_count": 44,
     "metadata": {},
     "output_type": "execute_result"
    }
   ],
   "source": [
    "solution([2, 1, 3, 2],2)"
   ]
  },
  {
   "cell_type": "code",
   "execution_count": null,
   "metadata": {},
   "outputs": [],
   "source": []
  }
 ],
 "metadata": {
  "kernelspec": {
   "display_name": "Python 3",
   "language": "python",
   "name": "python3"
  },
  "language_info": {
   "codemirror_mode": {
    "name": "ipython",
    "version": 3
   },
   "file_extension": ".py",
   "mimetype": "text/x-python",
   "name": "python",
   "nbconvert_exporter": "python",
   "pygments_lexer": "ipython3",
   "version": "3.6.10"
  },
  "toc": {
   "base_numbering": 1,
   "nav_menu": {},
   "number_sections": false,
   "sideBar": true,
   "skip_h1_title": false,
   "title_cell": "Table of Contents",
   "title_sidebar": "Contents",
   "toc_cell": false,
   "toc_position": {},
   "toc_section_display": true,
   "toc_window_display": false
  }
 },
 "nbformat": 4,
 "nbformat_minor": 4
}
